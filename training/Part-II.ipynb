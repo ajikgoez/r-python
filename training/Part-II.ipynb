{
 "cells": [
  {
   "cell_type": "markdown",
   "metadata": {},
   "source": [
    "# TEST: Analýza dat v prostředí R a Python - MG440P44\n",
    "\n",
    "**Datum**: 15. 2. 2017\n",
    "\n",
    "**Jméno**: [vyplňte Vaše jméno]"
   ]
  },
  {
   "cell_type": "code",
   "execution_count": null,
   "metadata": {},
   "outputs": [],
   "source": [
    "%pylab inline\n",
    "import pandas as pd"
   ]
  },
  {
   "cell_type": "markdown",
   "metadata": {},
   "source": [
    "## Instrukce\n",
    "\n",
    " * Test obsahuje 4 otázky\n",
    " * Vaše programy či výtvory pište to příkazových buněk pod otázkou\n",
    " * Komentáře k řešení můžete psát v příkazových buňkách za znakem #\n",
    " * Pravidelně ukládejte Váš progres..."
   ]
  },
  {
   "cell_type": "markdown",
   "metadata": {},
   "source": [
    "## 1. Python"
   ]
  },
  {
   "cell_type": "markdown",
   "metadata": {},
   "source": [
    "### Otázka 1\n",
    "Těleso vržené svisle vzhůru postupně zmenšuje velikost svojí rychlosti, v bodě $H$ se zastaví a poté začíná opět zrychlovat. Pro okamžitou výšku $y$ nad místem, z něhož bylo těleso vrženo, v čase $t$ platí: $y=v_0t-\\frac{1}{2}gt^2$, kde $v_0$ je počáteční rychlost vrhu a $g$ je gravitační zrychlení (použijte 9.81 m.s$^{-2}$). Nakreslete graf ukazující výšku $y$ v čase od $t$=0 do doby dopadu $t=\\frac{2v_0}{g}$. Počáteční rychlostí hodu je $v_0$=14 m.s$^{-1}$. Určete maximální dosaženou výšku $H$."
   ]
  },
  {
   "cell_type": "code",
   "execution_count": null,
   "metadata": {},
   "outputs": [],
   "source": []
  },
  {
   "cell_type": "markdown",
   "metadata": {},
   "source": [
    "### Otázka 2\n",
    "\n",
    "Soubor `VostokStation.txt` obsahuje data z ledového vrtného jádra za stanice Vostok. Každý řádek obsahuje stáří ledu v tisíckách let, teplotu při tvorbě ledu, koncentraci CO2 and koncentraci of metanu. Napište program, který načte datový soubor a vykreslí tři diagramy a) závislot teploty a stáří b) CO2 a stáří a c) CH4 a stáří.\n",
    "\n",
    "Náhled souboru `VostokStation.txt`:\n",
    "```\n",
    "   ice_age, temperature, CO2, CH4\n",
    "   5.06, -55.4533, 272.14, 666.93\n",
    "   5.45, -55.8133, 271.22, 653.54\n",
    "   5.85, -54.6283, 270.29, 640.15\n",
    "   6.27, -55.56, 268.39, 594.65\n",
    "```"
   ]
  },
  {
   "cell_type": "code",
   "execution_count": null,
   "metadata": {},
   "outputs": [],
   "source": []
  },
  {
   "cell_type": "markdown",
   "metadata": {},
   "source": [
    "Napište program, který nakreslí graf funkce:\n",
    "$$f(x, t) = e^{-(x-3t)^2} \\sin \\left( 3\\pi \\left( x-t \\right) \\right)$$\n",
    "\n",
    "pro $x$ v rozmezí (-3.0, 10) a tři hodnoty $t$ a) $t$=0.0, b) $t$=1.0 a c) $t$=2.0"
   ]
  },
  {
   "cell_type": "code",
   "execution_count": null,
   "metadata": {},
   "outputs": [],
   "source": []
  },
  {
   "cell_type": "markdown",
   "metadata": {
    "collapsed": true
   },
   "source": [
    "Soubor `brachiopods.csv` obsahuje měření délky a šířky brachipodů ze tří lokalit.\n",
    "\n",
    "### Otázka 3\n",
    "Spočtěte (a) průměrnou délku a šířku analyzovaných brachipodů, (b) průměrný poměr délky a šířky pro brachiopody z každé lokality a určete, na které lokalitě se hodnoty poměru nejvíc odchylují od průměrné hodnoty."
   ]
  },
  {
   "cell_type": "code",
   "execution_count": null,
   "metadata": {},
   "outputs": [],
   "source": []
  },
  {
   "cell_type": "markdown",
   "metadata": {},
   "source": [
    "### Otázka 4\n",
    "Vyneste histogram poměru délky a šířky pro všechny měřené brachiopody."
   ]
  },
  {
   "cell_type": "code",
   "execution_count": null,
   "metadata": {
    "collapsed": true
   },
   "outputs": [],
   "source": []
  }
 ],
 "metadata": {
  "kernelspec": {
   "display_name": "Python 3",
   "language": "python",
   "name": "python3"
  },
  "language_info": {
   "codemirror_mode": {
    "name": "ipython",
    "version": 3
   },
   "file_extension": ".py",
   "mimetype": "text/x-python",
   "name": "python",
   "nbconvert_exporter": "python",
   "pygments_lexer": "ipython3",
   "version": "3.6.3"
  }
 },
 "nbformat": 4,
 "nbformat_minor": 2
}
