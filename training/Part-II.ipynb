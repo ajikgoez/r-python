{
 "cells": [
  {
   "cell_type": "markdown",
   "metadata": {},
   "source": [
    "# Data analysis with Python"
   ]
  },
  {
   "cell_type": "code",
   "execution_count": 1,
   "metadata": {},
   "outputs": [
    {
     "name": "stdout",
     "output_type": "stream",
     "text": [
      "Populating the interactive namespace from numpy and matplotlib\n"
     ]
    }
   ],
   "source": [
    "%pylab inline\n",
    "import pandas as pd"
   ]
  },
  {
   "cell_type": "markdown",
   "metadata": {},
   "source": [
    "## 1. Python"
   ]
  },
  {
   "cell_type": "markdown",
   "metadata": {},
   "source": [
    "### Problem 1\n",
    "The body throw vertically upwards gradually decreases its velocity, stopping at $H$ and then starting to accelerate again. For the immediate height of $y$ above the point from which the body was throw, at $t$: $y = v_0t-\\frac{1} {2}gt^2$, where $v_0$ is the initial velocity and $g$ is gravitational acceleration (use 9.81 ms$^{-2}$). Draw a graph showing the height $y$ in time from $t$ = 0 to the time of $t = \\frac{2v_0}{g}$. The initial throw speed is $v_0$ = 14 m.s$^{- 1} $. Find the maximum reached height of $H$."
   ]
  },
  {
   "cell_type": "code",
   "execution_count": null,
   "metadata": {},
   "outputs": [],
   "source": []
  },
  {
   "cell_type": "markdown",
   "metadata": {},
   "source": [
    "### Problem 2\n",
    "\n",
    "Soubor `VostokStation.txt` obsahuje data z ledového vrtného jádra za stanice Vostok. Každý řádek obsahuje stáří ledu v tisíckách let, teplotu při tvorbě ledu, koncentraci CO2 and koncentraci of metanu. Napište program, který načte datový soubor a vykreslí tři diagramy a) závislot teploty a stáří b) CO2 a stáří a c) CH4 a stáří.\n",
    "\n",
    "The `VostokStation.txt` file contains data from the ice drilling core at Vostok Station. Each row contains the ice age in thousands of years, the temperature at ice formation, the concentration of CO$_2$ and the concentration of methane. Write a program that loads the data file and draws three diagrams a) temperature vs. age b) CO$_2$ vs. age and c) CH$_4$ vs. age.\n",
    "\n",
    "The preview of `VostokStation.txt`:\n",
    "```\n",
    "   ice_age, temperature, CO2, CH4\n",
    "   5.06, -55.4533, 272.14, 666.93\n",
    "   5.45, -55.8133, 271.22, 653.54\n",
    "   5.85, -54.6283, 270.29, 640.15\n",
    "   6.27, -55.56, 268.39, 594.65\n",
    "```"
   ]
  },
  {
   "cell_type": "code",
   "execution_count": null,
   "metadata": {},
   "outputs": [],
   "source": []
  },
  {
   "cell_type": "markdown",
   "metadata": {},
   "source": [
    "Write a program that draws a graph of the function:\n",
    "$$f(x, t) = e^{-(x-3t)^2} \\sin \\left( 3\\pi \\left( x-t \\right) \\right)$$\n",
    "\n",
    "for $x$ in range (-3.0, 10) and for three values of $t$ a) $t$=0.0, b) $t$=1.0 a c) $t$=2.0"
   ]
  },
  {
   "cell_type": "code",
   "execution_count": null,
   "metadata": {},
   "outputs": [],
   "source": []
  },
  {
   "cell_type": "markdown",
   "metadata": {
    "collapsed": true
   },
   "source": [
    "The `brachiopods.csv` file contains length and width measurements of brachipods from three locations.\n",
    "\n",
    "### Problem 3\n",
    "Calculate (a) the average length and width of the brachipods analyzed, (b) the average length / width ratio for brachiopods from each site, and (c) determine at which location the ratio values deviate most from their average value (i.e. compare standard deviations)."
   ]
  },
  {
   "cell_type": "code",
   "execution_count": null,
   "metadata": {},
   "outputs": [],
   "source": []
  },
  {
   "cell_type": "markdown",
   "metadata": {},
   "source": [
    "### Problem 4\n",
    "Plot a histogram of the length and width ratio for all measured brachiopods."
   ]
  },
  {
   "cell_type": "code",
   "execution_count": null,
   "metadata": {},
   "outputs": [],
   "source": []
  }
 ],
 "metadata": {
  "kernelspec": {
   "display_name": "Python 3",
   "language": "python",
   "name": "python3"
  },
  "language_info": {
   "codemirror_mode": {
    "name": "ipython",
    "version": 3
   },
   "file_extension": ".py",
   "mimetype": "text/x-python",
   "name": "python",
   "nbconvert_exporter": "python",
   "pygments_lexer": "ipython3",
   "version": "3.6.3"
  }
 },
 "nbformat": 4,
 "nbformat_minor": 2
}
