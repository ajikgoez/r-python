{
 "cells": [
  {
   "cell_type": "markdown",
   "metadata": {},
   "source": [
    "# TEST: Analýza dat v prostředí R a Python - MG440P44\n",
    "\n",
    "**Datum**: 18. 1. 2017\n",
    "\n",
    "**Jméno**: [vyplňte Vaše jméno]"
   ]
  },
  {
   "cell_type": "code",
   "execution_count": null,
   "metadata": {},
   "outputs": [],
   "source": [
    "%pylab inline\n",
    "import pandas as pd"
   ]
  },
  {
   "cell_type": "markdown",
   "metadata": {},
   "source": [
    "## Instrukce\n",
    "\n",
    " * Test obsahuje 4 otázky\n",
    " * Vaše programy či výtvory pište to příkazových buněk pod otázkou\n",
    " * Komentáře k řešení můžete psát v příkazových buňkách za znakem #\n",
    " * Pravidelně ukládejte Váš progres..."
   ]
  },
  {
   "cell_type": "markdown",
   "metadata": {},
   "source": [
    "## 1. Python"
   ]
  },
  {
   "cell_type": "markdown",
   "metadata": {},
   "source": [
    "### Question 1\n",
    "Find and fix 5 errors in following code. Comment each fix."
   ]
  },
  {
   "cell_type": "code",
   "execution_count": null,
   "metadata": {},
   "outputs": [],
   "source": [
    "from math import sin, cos\n",
    "x = pi / 4\n",
    "1_val = sin^2( x ) + cos^2( x )\n",
    "print 1_VAL"
   ]
  },
  {
   "cell_type": "markdown",
   "metadata": {},
   "source": [
    "### Question 2\n",
    "\n",
    "Write code which read data from file `seismic.csv`.\n",
    " * How many earthquakes has magnitude bigger than 6?\n",
    " * Plot epicenters as points. Use Longitude and Latitude as x, y coordinates."
   ]
  },
  {
   "cell_type": "code",
   "execution_count": null,
   "metadata": {},
   "outputs": [],
   "source": []
  },
  {
   "cell_type": "markdown",
   "metadata": {},
   "source": [
    "## 2. Python: Analýza dat\n",
    "\n",
    "Soubor `micro.csv` obsahuje výsledky mikrostrukturní tvarové analýzy vzorky ortoruly. Soubor obsahuje informace o zrnech křemenu, plagioklasu a draselného živce (`qtz, pl, kfs`), konkrétně plochu, obvod, délku dlouhé a krátké osy a orientaci dlouhé osy (`area, perimeter, la, sa, lao`)."
   ]
  },
  {
   "cell_type": "code",
   "execution_count": null,
   "metadata": {},
   "outputs": [],
   "source": []
  },
  {
   "cell_type": "markdown",
   "metadata": {},
   "source": [
    "## Otázky"
   ]
  },
  {
   "cell_type": "markdown",
   "metadata": {
    "collapsed": true
   },
   "source": [
    "### Otázka 3\n",
    "Spočtěte (a) průměrnou plochu a (b) průměrnou velikost zrna pro každý minerál. Velikost zrna vypočtěte podle vzorce: $d = 2\\cdot \\sqrt{\\frac{area}{\\pi }}$"
   ]
  },
  {
   "cell_type": "code",
   "execution_count": null,
   "metadata": {},
   "outputs": [],
   "source": []
  },
  {
   "cell_type": "markdown",
   "metadata": {},
   "source": [
    "### Otázka 4\n",
    "Vyneste histogram velikosti zrn plagioklasu. Velikost zrna vypočtěte podle vzorce: $d = 2\\cdot \\sqrt{\\frac{area}{\\pi }}$"
   ]
  },
  {
   "cell_type": "code",
   "execution_count": null,
   "metadata": {},
   "outputs": [],
   "source": []
  }
 ],
 "metadata": {
  "kernelspec": {
   "display_name": "Python 3",
   "language": "python",
   "name": "python3"
  },
  "language_info": {
   "codemirror_mode": {
    "name": "ipython",
    "version": 3
   },
   "file_extension": ".py",
   "mimetype": "text/x-python",
   "name": "python",
   "nbconvert_exporter": "python",
   "pygments_lexer": "ipython3",
   "version": "3.6.3"
  }
 },
 "nbformat": 4,
 "nbformat_minor": 2
}
