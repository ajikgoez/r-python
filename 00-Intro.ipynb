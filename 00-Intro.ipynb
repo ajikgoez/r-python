{
 "cells": [
  {
   "cell_type": "markdown",
   "metadata": {},
   "source": [
    "# Python-Lectures"
   ]
  },
  {
   "cell_type": "markdown",
   "metadata": {},
   "source": [
    "## Introduction"
   ]
  },
  {
   "cell_type": "markdown",
   "metadata": {},
   "source": [
    "Python is a modern, robust, high level programming language. It is very easy to pick up even if you are completely new to programming."
   ]
  },
  {
   "cell_type": "markdown",
   "metadata": {},
   "source": [
    "## Anaconda installation"
   ]
  },
  {
   "cell_type": "markdown",
   "metadata": {},
   "source": [
    "Download Anaconda from https://www.continuum.io/downloads\n",
    "\n",
    "Anaconda is completely free and includes more than 300 python packages. Both python 2.7 and 3.5 options are available, but this lecture series is baset on Python 3.5"
   ]
  },
  {
   "cell_type": "markdown",
   "metadata": {},
   "source": [
    "## Launching Jupyter Notebook"
   ]
  },
  {
   "cell_type": "markdown",
   "metadata": {},
   "source": [
    "Open the respective terminals and execute\n",
    "\n",
    "    jupyter notebook\n",
    "\n",
    "You can also use Anaconda Navigator to launch **Jupyter Notebook**"
   ]
  },
  {
   "cell_type": "markdown",
   "metadata": {},
   "source": [
    "## How to learn from this resource?"
   ]
  },
  {
   "cell_type": "markdown",
   "metadata": {},
   "source": [
    "Download all the ipython notebooks from this repository https://github.com/ondrolexa/r-python\n",
    "\n",
    "Launch jupyter notebook from the folder which contains the notebooks. Open each one of them\n",
    "\n",
    "    Cell > All Output > Clear\n",
    "    \n",
    "This will clear all the outputs and now you can understand each statement and learn interactively."
   ]
  },
  {
   "cell_type": "markdown",
   "metadata": {},
   "source": [
    "## Other resources"
   ]
  },
  {
   "cell_type": "markdown",
   "metadata": {},
   "source": [
    "There is a lot of online material you can use to lear Python. My favorites are:\n",
    "  * [Python Notes](http://www.thomas-cokelaer.info/tutorials/python/index.html)\n",
    "  * [Dive Into Python 3](http://www.diveintopython3.net/)\n",
    "  * [The Python Tutorial](https://docs.python.org/3/tutorial/index.html)"
   ]
  },
  {
   "cell_type": "code",
   "execution_count": 1,
   "metadata": {
    "collapsed": false
   },
   "outputs": [
    {
     "name": "stdout",
     "output_type": "stream",
     "text": [
      "Running using Python 3.5.2 |Continuum Analytics, Inc.| (default, Jul  2 2016, 17:53:06) \n",
      "[GCC 4.4.7 20120313 (Red Hat 4.4.7-1)]\n",
      "Testing Python version-> py3.5 OK\n",
      "Testing numpy...      -> numpy OK\n",
      "Testing scipy ...     -> scipy OK\n",
      "Testing matplotlib... -> pylab OK\n",
      "Testing sympy         -> sympy OK\n",
      "-----------------------------\n",
      "All the IPython Notebooks in this lecture series are available at:\n",
      "https://github.com/ondrolexa/r-python\n"
     ]
    }
   ],
   "source": [
    "!python scripts/footnote.py"
   ]
  }
 ],
 "metadata": {
  "kernelspec": {
   "display_name": "Python 3",
   "language": "python",
   "name": "python3"
  },
  "language_info": {
   "codemirror_mode": {
    "name": "ipython",
    "version": 3
   },
   "file_extension": ".py",
   "mimetype": "text/x-python",
   "name": "python",
   "nbconvert_exporter": "python",
   "pygments_lexer": "ipython3",
   "version": "3.5.2"
  }
 },
 "nbformat": 4,
 "nbformat_minor": 0
}
