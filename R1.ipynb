{
 "cells": [
  {
   "cell_type": "markdown",
   "metadata": {},
   "source": [
    "# R syntax in a nutshell – Part II\n"
   ]
  },
  {
   "cell_type": "markdown",
   "metadata": {
    "collapsed": false,
    "scrolled": true
   },
   "source": [
    "## 1.6\tArrays, matrices, data frames\n",
    "Several kinds of table-like objects exist in R. Data frames are data objects to be processed by statistics, with “observations” as columns (elements/oxides in geo-chemistry) and “cases” (samples) in rows. They can contain columns of any mode, even mixed modes; thus they are not meant for matrix operations.\n",
    "\n",
    "For such purpose, matrices should be used. All elements of a matrix can only be of a single mode (numeric, most commonly). Arrays are generalized matrices: they must have a single mode but can have any number of dimensions. Although superficially similar, these three types of objects must not be confused.\n",
    "\n",
    "Depending on the exact content of the file, many file reading operations (such as `read.table`) would generate a data frame: it is the user’s responsibility to convert it to a matrix if it is to be used for calculations."
   ]
  },
  {
   "cell_type": "markdown",
   "metadata": {},
   "source": [
    "#### matrix(data = NA, nrow = 1, ncol = 1, byrow = FALSE)\n",
    "This command defines a matrix of nrow rows and ncol columns, filled by the data (if data has several elements, they will be used down columns, unless an extra parameter `byrow=TRUE` is provided). For instance:\n"
   ]
  },
  {
   "cell_type": "code",
   "execution_count": 37,
   "metadata": {
    "collapsed": false
   },
   "outputs": [
    {
     "data": {
      "text/html": [
       "<table>\n",
       "<tbody>\n",
       "\t<tr><td> 1</td><td> 4</td><td> 7</td><td>10</td></tr>\n",
       "\t<tr><td> 2</td><td> 5</td><td> 8</td><td>11</td></tr>\n",
       "\t<tr><td> 3</td><td> 6</td><td> 9</td><td>12</td></tr>\n",
       "</tbody>\n",
       "</table>\n"
      ],
      "text/latex": [
       "\\begin{tabular}{llll}\n",
       "\t  1 &  4 &  7 & 10\\\\\n",
       "\t  2 &  5 &  8 & 11\\\\\n",
       "\t  3 &  6 &  9 & 12\\\\\n",
       "\\end{tabular}\n"
      ],
      "text/markdown": [
       "1. 1\n",
       "2. 2\n",
       "3. 3\n",
       "4. 4\n",
       "5. 5\n",
       "6. 6\n",
       "7. 7\n",
       "8. 8\n",
       "9. 9\n",
       "10. 10\n",
       "11. 11\n",
       "12. 12\n",
       "\n",
       "\n"
      ],
      "text/plain": [
       "     [,1] [,2] [,3] [,4]\n",
       "[1,]    1    4    7   10\n",
       "[2,]    2    5    8   11\n",
       "[3,]    3    6    9   12"
      ]
     },
     "execution_count": 37,
     "metadata": {},
     "output_type": "execute_result"
    }
   ],
   "source": [
    "x <- matrix(1:12,3,4)\n",
    "x"
   ]
  },
  {
   "cell_type": "code",
   "execution_count": 38,
   "metadata": {
    "collapsed": false
   },
   "outputs": [
    {
     "data": {
      "text/html": [
       "<table>\n",
       "<tbody>\n",
       "\t<tr><td>1</td><td>2</td><td>3</td><td>4</td></tr>\n",
       "\t<tr><td>5</td><td>6</td><td>7</td><td>8</td></tr>\n",
       "\t<tr><td> 9</td><td>10</td><td>11</td><td>12</td></tr>\n",
       "</tbody>\n",
       "</table>\n"
      ],
      "text/latex": [
       "\\begin{tabular}{llll}\n",
       "\t 1 & 2 & 3 & 4\\\\\n",
       "\t 5 & 6 & 7 & 8\\\\\n",
       "\t  9 & 10 & 11 & 12\\\\\n",
       "\\end{tabular}\n"
      ],
      "text/markdown": [
       "1. 1\n",
       "2. 5\n",
       "3. 9\n",
       "4. 2\n",
       "5. 6\n",
       "6. 10\n",
       "7. 3\n",
       "8. 7\n",
       "9. 11\n",
       "10. 4\n",
       "11. 8\n",
       "12. 12\n",
       "\n",
       "\n"
      ],
      "text/plain": [
       "     [,1] [,2] [,3] [,4]\n",
       "[1,]    1    2    3    4\n",
       "[2,]    5    6    7    8\n",
       "[3,]    9   10   11   12"
      ]
     },
     "execution_count": 38,
     "metadata": {},
     "output_type": "execute_result"
    }
   ],
   "source": [
    "x <- matrix(1:12,3,4,byrow=TRUE)\n",
    "x"
   ]
  },
  {
   "cell_type": "markdown",
   "metadata": {
    "collapsed": false
   },
   "source": [
    "The default behaviour for filling a matrix with data — as well as matrix division by a vector — proceeds along columns, not rows!\n",
    "array(data = NA, dim = length(data))\n",
    "Defines a new data array and fills it with data. The argument dim is a vector of length one or more, giving maximal dimensions in each of the directions. "
   ]
  },
  {
   "cell_type": "markdown",
   "metadata": {},
   "source": [
    "#### array(data = NA, dim = length(data))\n",
    "Defines a new data array and fills it with data. The argument dim is a vector of length one or more, giving maximal dimensions in each of the directions. \n"
   ]
  },
  {
   "cell_type": "markdown",
   "metadata": {},
   "source": [
    "### 1.6.1\tMatrix/data frame operations\n",
    "Matrices can be subject to scalar operations using the common operators (`+-*/^`). Similar to vectors, the shorter component is recycled as appropriate. Useful functions for matrix/data frame manipulations are summarized in Table:"
   ]
  },
  {
   "cell_type": "markdown",
   "metadata": {},
   "source": [
    "<table>\n",
    "    <tr>\n",
    "    <th>Function</th>\n",
    "    <th>Meaning</th>\n",
    "    </tr>\n",
    "    <tr><td>`nrow(x)`</td><td>number of rows</td></tr>\n",
    "    <tr><td>`ncol(x)`</td><td>number of columns</td></tr>\n",
    "    <tr><td>`rownames(x)` </td><td>row names</td></tr>\n",
    "    <tr><td>`colnames(x)`</td><td>column names</td></tr>\n",
    "    <tr><td>`rbind(x,y)`</td>\n",
    "        <td>binds two objects (matrices or data frames) of the same `ncol`\n",
    "        (or vectors of the same length) as rows\n",
    "        </td></tr>\n",
    "    <tr><td>`cbind(x,y)`</td>\n",
    "        <td>binds two objects (matrices or data frames) of the same nrow \n",
    "        (or vectors of the same length) as columns\n",
    "        </td></tr>\n",
    "    <tr><td>`t(x)` </td><td>transposition</td></tr>\n",
    "    <tr><td>`apply(X,MARGIN,FUN)` </td>\n",
    "    <td>applies function `FUN` (for vector manipulations) along the rows\n",
    "    (`MARGIN` = 1) or columns (`MARGIN` = 2) of a data matrix X</td></tr>\n",
    "    <tr><td>`x%*%y` </td>\n",
    "        <td>matrix multiplication (does not work on data frame!)</td></tr>\n",
    "    <tr><td>`solve(A)`</td><td>matrix inversion</td></tr>\n",
    "    <tr><td>`dix(x)`</td><td>diagonal elements of a matrix</td></tr>\n",
    "</table>"
   ]
  },
  {
   "cell_type": "markdown",
   "metadata": {},
   "source": [
    "It is worth noting that matrix multiplication is performed using the `%*%` operator. Of the functions presented in the table, some explanation is required for `apply`:\n",
    "#### apply(X, MARGIN, FUN,…)\n",
    "If `X` is a matrix, it is split into vectors along rows (if `MARGIN` = 1) or columns (if `MARGIN` = 2). To each of these vectors is applied the function `FUN` with optional parameters `…` passed to it. \n",
    "For instance, we can calculate row sums of a matrix:"
   ]
  },
  {
   "cell_type": "code",
   "execution_count": 39,
   "metadata": {
    "collapsed": false
   },
   "outputs": [
    {
     "data": {
      "text/html": [
       "<ol class=list-inline>\n",
       "\t<li>10</li>\n",
       "\t<li>26</li>\n",
       "\t<li>42</li>\n",
       "</ol>\n"
      ],
      "text/latex": [
       "\\begin{enumerate*}\n",
       "\\item 10\n",
       "\\item 26\n",
       "\\item 42\n",
       "\\end{enumerate*}\n"
      ],
      "text/markdown": [
       "1. 10\n",
       "2. 26\n",
       "3. 42\n",
       "\n",
       "\n"
      ],
      "text/plain": [
       "[1] 10 26 42"
      ]
     },
     "execution_count": 39,
     "metadata": {},
     "output_type": "execute_result"
    }
   ],
   "source": [
    "x <- matrix(1:12,3,4,byrow=TRUE)\n",
    "apply(x,1,sum)"
   ]
  },
  {
   "cell_type": "markdown",
   "metadata": {},
   "source": [
    "## 1.7\tIndexing/subsetting of vectors, arrays and data frames\n",
    "In real life, one often needs to select some elements of a vector or a matrix, fulfilling certain criteria. This data selection functionality can be achieved using logical conditions or logical variables placed in square brackets after the defined ob-ject name. Subsets can be also used on the left hand side of the assignments when replacement of selected elements by certain values is desired.  \n",
    "### 1.7.1\tVectors\n",
    "Subsets of a vector may be selected by appending to the name of the vector an index vector in square brackets. For example, first create a named vector:"
   ]
  },
  {
   "cell_type": "code",
   "execution_count": 40,
   "metadata": {
    "collapsed": false
   },
   "outputs": [
    {
     "data": {
      "text/html": [
       "<dl class=dl-horizontal>\n",
       "\t<dt>Pl</dt>\n",
       "\t\t<dd>1</dd>\n",
       "\t<dt>Bt</dt>\n",
       "\t\t<dd>12</dd>\n",
       "\t<dt>Mu</dt>\n",
       "\t\t<dd>15</dd>\n",
       "\t<dt>Q</dt>\n",
       "\t\t<dd>NA</dd>\n",
       "\t<dt>Kfs</dt>\n",
       "\t\t<dd>16</dd>\n",
       "\t<dt>Ky</dt>\n",
       "\t\t<dd>13</dd>\n",
       "\t<dt>Ol</dt>\n",
       "\t\t<dd>0</dd>\n",
       "\t<dt>Px</dt>\n",
       "\t\t<dd>NA</dd>\n",
       "\t<dt>C</dt>\n",
       "\t\t<dd>NA</dd>\n",
       "</dl>\n"
      ],
      "text/latex": [
       "\\begin{description*}\n",
       "\\item[Pl] 1\n",
       "\\item[Bt] 12\n",
       "\\item[Mu] 15\n",
       "\\item[Q] NA\n",
       "\\item[Kfs] 16\n",
       "\\item[Ky] 13\n",
       "\\item[Ol] 0\n",
       "\\item[Px] NA\n",
       "\\item[C] NA\n",
       "\\end{description*}\n"
      ],
      "text/markdown": [
       "Pl\n",
       ":   1Bt\n",
       ":   12Mu\n",
       ":   15Q\n",
       ":   NAKfs\n",
       ":   16Ky\n",
       ":   13Ol\n",
       ":   0Px\n",
       ":   NAC\n",
       ":   NA\n",
       "\n"
      ],
      "text/plain": [
       " Pl  Bt  Mu   Q Kfs  Ky  Ol  Px   C \n",
       "  1  12  15  NA  16  13   0  NA  NA "
      ]
     },
     "execution_count": 40,
     "metadata": {},
     "output_type": "execute_result"
    }
   ],
   "source": [
    "x <- c(1,12,15,NA,16,13,0,NA,NA)\n",
    "names(x) <- c(\"Pl\",\"Bt\",\"Mu\",\"Q\",\"Kfs\",\"Ky\",\"Ol\",\"Px\",\"C\") \n",
    "x"
   ]
  },
  {
   "cell_type": "markdown",
   "metadata": {},
   "source": [
    "Index vectors can be of several types: logical, numeric (with positive or negative values), and character:"
   ]
  },
  {
   "cell_type": "markdown",
   "metadata": {},
   "source": [
    "#### 1.\tLogical vector"
   ]
  },
  {
   "cell_type": "code",
   "execution_count": 41,
   "metadata": {
    "collapsed": false
   },
   "outputs": [
    {
     "data": {
      "text/html": [
       "<dl class=dl-horizontal>\n",
       "\t<dt>Bt</dt>\n",
       "\t\t<dd>12</dd>\n",
       "\t<dt>Mu</dt>\n",
       "\t\t<dd>15</dd>\n",
       "\t<dt>3</dt>\n",
       "\t\t<dd>NA</dd>\n",
       "\t<dt>Kfs</dt>\n",
       "\t\t<dd>16</dd>\n",
       "\t<dt>Ky</dt>\n",
       "\t\t<dd>13</dd>\n",
       "\t<dt>6</dt>\n",
       "\t\t<dd>NA</dd>\n",
       "\t<dt>7</dt>\n",
       "\t\t<dd>NA</dd>\n",
       "</dl>\n"
      ],
      "text/latex": [
       "\\begin{description*}\n",
       "\\item[Bt] 12\n",
       "\\item[Mu] 15\n",
       "\\item[3] NA\n",
       "\\item[Kfs] 16\n",
       "\\item[Ky] 13\n",
       "\\item[6] NA\n",
       "\\item[7] NA\n",
       "\\end{description*}\n"
      ],
      "text/markdown": [
       "Bt\n",
       ":   12Mu\n",
       ":   153\n",
       ":   NAKfs\n",
       ":   16Ky\n",
       ":   136\n",
       ":   NA7\n",
       ":   NA\n",
       "\n"
      ],
      "text/plain": [
       "  Bt   Mu <NA>  Kfs   Ky <NA> <NA> \n",
       "  12   15   NA   16   13   NA   NA "
      ]
     },
     "execution_count": 41,
     "metadata": {},
     "output_type": "execute_result"
    },
    {
     "data": {
      "text/html": [
       "<dl class=dl-horizontal>\n",
       "\t<dt>Pl</dt>\n",
       "\t\t<dd>1</dd>\n",
       "\t<dt>Bt</dt>\n",
       "\t\t<dd>12</dd>\n",
       "\t<dt>Mu</dt>\n",
       "\t\t<dd>15</dd>\n",
       "\t<dt>Kfs</dt>\n",
       "\t\t<dd>16</dd>\n",
       "\t<dt>Ky</dt>\n",
       "\t\t<dd>13</dd>\n",
       "\t<dt>Ol</dt>\n",
       "\t\t<dd>0</dd>\n",
       "</dl>\n"
      ],
      "text/latex": [
       "\\begin{description*}\n",
       "\\item[Pl] 1\n",
       "\\item[Bt] 12\n",
       "\\item[Mu] 15\n",
       "\\item[Kfs] 16\n",
       "\\item[Ky] 13\n",
       "\\item[Ol] 0\n",
       "\\end{description*}\n"
      ],
      "text/markdown": [
       "Pl\n",
       ":   1Bt\n",
       ":   12Mu\n",
       ":   15Kfs\n",
       ":   16Ky\n",
       ":   13Ol\n",
       ":   0\n",
       "\n"
      ],
      "text/plain": [
       " Pl  Bt  Mu Kfs  Ky  Ol \n",
       "  1  12  15  16  13   0 "
      ]
     },
     "execution_count": 41,
     "metadata": {},
     "output_type": "execute_result"
    }
   ],
   "source": [
    "x[x>10] # all elements of x higher than 10 (or NA)\n",
    "x[!is.na(x)] # all elements of x that are available"
   ]
  },
  {
   "cell_type": "markdown",
   "metadata": {},
   "source": [
    "#### 2.\tNumeric vector with positive values"
   ]
  },
  {
   "cell_type": "code",
   "execution_count": 42,
   "metadata": {
    "collapsed": false
   },
   "outputs": [
    {
     "data": {
      "text/html": [
       "<dl class=dl-horizontal>\n",
       "\t<dt>Pl</dt>\n",
       "\t\t<dd>1</dd>\n",
       "\t<dt>Bt</dt>\n",
       "\t\t<dd>12</dd>\n",
       "\t<dt>Mu</dt>\n",
       "\t\t<dd>15</dd>\n",
       "\t<dt>Q</dt>\n",
       "\t\t<dd>NA</dd>\n",
       "\t<dt>Kfs</dt>\n",
       "\t\t<dd>16</dd>\n",
       "</dl>\n"
      ],
      "text/latex": [
       "\\begin{description*}\n",
       "\\item[Pl] 1\n",
       "\\item[Bt] 12\n",
       "\\item[Mu] 15\n",
       "\\item[Q] NA\n",
       "\\item[Kfs] 16\n",
       "\\end{description*}\n"
      ],
      "text/markdown": [
       "Pl\n",
       ":   1Bt\n",
       ":   12Mu\n",
       ":   15Q\n",
       ":   NAKfs\n",
       ":   16\n",
       "\n"
      ],
      "text/plain": [
       " Pl  Bt  Mu   Q Kfs \n",
       "  1  12  15  NA  16 "
      ]
     },
     "execution_count": 42,
     "metadata": {},
     "output_type": "execute_result"
    },
    {
     "data": {
      "text/html": [
       "<dl class=dl-horizontal>\n",
       "\t<dt>Pl</dt>\n",
       "\t\t<dd>1</dd>\n",
       "\t<dt>Kfs</dt>\n",
       "\t\t<dd>16</dd>\n",
       "\t<dt>Ol</dt>\n",
       "\t\t<dd>0</dd>\n",
       "</dl>\n"
      ],
      "text/latex": [
       "\\begin{description*}\n",
       "\\item[Pl] 1\n",
       "\\item[Kfs] 16\n",
       "\\item[Ol] 0\n",
       "\\end{description*}\n"
      ],
      "text/markdown": [
       "Pl\n",
       ":   1Kfs\n",
       ":   16Ol\n",
       ":   0\n",
       "\n"
      ],
      "text/plain": [
       " Pl Kfs  Ol \n",
       "  1  16   0 "
      ]
     },
     "execution_count": 42,
     "metadata": {},
     "output_type": "execute_result"
    }
   ],
   "source": [
    "x[1:5] # the first five elements\n",
    "x[c(1,5,7)] # 1st, 5th and 7th elements"
   ]
  },
  {
   "cell_type": "markdown",
   "metadata": {},
   "source": [
    "#### 3.\tNumeric vector with negative values (specifies elements to be excluded)"
   ]
  },
  {
   "cell_type": "code",
   "execution_count": 43,
   "metadata": {
    "collapsed": false
   },
   "outputs": [
    {
     "data": {
      "text/html": [
       "<dl class=dl-horizontal>\n",
       "\t<dt>Ky</dt>\n",
       "\t\t<dd>13</dd>\n",
       "\t<dt>Ol</dt>\n",
       "\t\t<dd>0</dd>\n",
       "\t<dt>Px</dt>\n",
       "\t\t<dd>NA</dd>\n",
       "\t<dt>C</dt>\n",
       "\t\t<dd>NA</dd>\n",
       "</dl>\n"
      ],
      "text/latex": [
       "\\begin{description*}\n",
       "\\item[Ky] 13\n",
       "\\item[Ol] 0\n",
       "\\item[Px] NA\n",
       "\\item[C] NA\n",
       "\\end{description*}\n"
      ],
      "text/markdown": [
       "Ky\n",
       ":   13Ol\n",
       ":   0Px\n",
       ":   NAC\n",
       ":   NA\n",
       "\n"
      ],
      "text/plain": [
       "Ky Ol Px  C \n",
       "13  0 NA NA "
      ]
     },
     "execution_count": 43,
     "metadata": {},
     "output_type": "execute_result"
    }
   ],
   "source": [
    "x[-(1:5)] # all elements except for the first five"
   ]
  },
  {
   "cell_type": "markdown",
   "metadata": {
    "collapsed": false
   },
   "source": [
    "#### 4.\tCharacter vector (referring to the element names)"
   ]
  },
  {
   "cell_type": "code",
   "execution_count": 44,
   "metadata": {
    "collapsed": false
   },
   "outputs": [
    {
     "data": {
      "text/html": [
       "<dl class=dl-horizontal>\n",
       "\t<dt>Q</dt>\n",
       "\t\t<dd>NA</dd>\n",
       "\t<dt>Bt</dt>\n",
       "\t\t<dd>12</dd>\n",
       "\t<dt>Mu</dt>\n",
       "\t\t<dd>15</dd>\n",
       "</dl>\n"
      ],
      "text/latex": [
       "\\begin{description*}\n",
       "\\item[Q] NA\n",
       "\\item[Bt] 12\n",
       "\\item[Mu] 15\n",
       "\\end{description*}\n"
      ],
      "text/markdown": [
       "Q\n",
       ":   NABt\n",
       ":   12Mu\n",
       ":   15\n",
       "\n"
      ],
      "text/plain": [
       " Q Bt Mu \n",
       "NA 12 15 "
      ]
     },
     "execution_count": 44,
     "metadata": {},
     "output_type": "execute_result"
    }
   ],
   "source": [
    "x[c(\"Q\",\"Bt\",\"Mu\")]"
   ]
  },
  {
   "cell_type": "markdown",
   "metadata": {
    "collapsed": false
   },
   "source": [
    "### 1.7.2\tMatrices/data frames\n",
    "Elements of a matrix are presented in the order [row,column]. If nothing is given for a row or column, it means no restriction. For instance:\n",
    "```R\n",
    "x[1,] \t# (all columns) of the first row\n",
    "x[,c(1,3)] \t# (all rows) of the first and third columns\n",
    "x[1:3,-2] \t# all columns (apart from the 2nd) of rows 1–3\n",
    "```\n",
    "If the result is a single row or column, it is automatically converted to a vector. To prevent such a behaviour, one can supply an optional parameter `drop=F`, e.g.:\n",
    "```R\n",
    "x[1,,drop=F] \t# (all columns) of the 1st row, keep as matrix\n",
    "```\n",
    "\n",
    "Moreover, matrices can be manipulated using index arrays. This concept is best explained on an example. Let’s assume a matrix defined as:\n",
    "```R\n",
    "x <- matrix(1:20,4,5)\n",
    "```\n",
    "If the elements `[1,3]`, `[2,2]` and `[3,1]` in x are to be replaced by zeroes, create an  index array i containing the element coordinates:"
   ]
  },
  {
   "cell_type": "code",
   "execution_count": 45,
   "metadata": {
    "collapsed": false
   },
   "outputs": [
    {
     "data": {
      "text/html": [
       "<table>\n",
       "<tbody>\n",
       "\t<tr><td>1</td><td>3</td></tr>\n",
       "\t<tr><td>2</td><td>2</td></tr>\n",
       "\t<tr><td>3</td><td>1</td></tr>\n",
       "</tbody>\n",
       "</table>\n"
      ],
      "text/latex": [
       "\\begin{tabular}{ll}\n",
       "\t 1 & 3\\\\\n",
       "\t 2 & 2\\\\\n",
       "\t 3 & 1\\\\\n",
       "\\end{tabular}\n"
      ],
      "text/markdown": [
       "1. 1\n",
       "2. 2\n",
       "3. 3\n",
       "4. 3\n",
       "5. 2\n",
       "6. 1\n",
       "\n",
       "\n"
      ],
      "text/plain": [
       "     [,1] [,2]\n",
       "[1,]    1    3\n",
       "[2,]    2    2\n",
       "[3,]    3    1"
      ]
     },
     "execution_count": 45,
     "metadata": {},
     "output_type": "execute_result"
    }
   ],
   "source": [
    "x <- matrix(1:20,4,5)\n",
    "i <- matrix(c(1,2,3,3,2,1),3,2)\n",
    "i"
   ]
  },
  {
   "cell_type": "code",
   "execution_count": 46,
   "metadata": {
    "collapsed": false
   },
   "outputs": [
    {
     "data": {
      "text/html": [
       "<ol class=list-inline>\n",
       "\t<li>9</li>\n",
       "\t<li>6</li>\n",
       "\t<li>3</li>\n",
       "</ol>\n"
      ],
      "text/latex": [
       "\\begin{enumerate*}\n",
       "\\item 9\n",
       "\\item 6\n",
       "\\item 3\n",
       "\\end{enumerate*}\n"
      ],
      "text/markdown": [
       "1. 9\n",
       "2. 6\n",
       "3. 3\n",
       "\n",
       "\n"
      ],
      "text/plain": [
       "[1] 9 6 3"
      ]
     },
     "execution_count": 46,
     "metadata": {},
     "output_type": "execute_result"
    }
   ],
   "source": [
    "x[i]"
   ]
  },
  {
   "cell_type": "code",
   "execution_count": 47,
   "metadata": {
    "collapsed": false
   },
   "outputs": [
    {
     "data": {
      "text/html": [
       "<table>\n",
       "<tbody>\n",
       "\t<tr><td> 1</td><td> 5</td><td> 0</td><td>13</td><td>17</td></tr>\n",
       "\t<tr><td> 2</td><td> 0</td><td>10</td><td>14</td><td>18</td></tr>\n",
       "\t<tr><td> 0</td><td> 7</td><td>11</td><td>15</td><td>19</td></tr>\n",
       "\t<tr><td> 4</td><td> 8</td><td>12</td><td>16</td><td>20</td></tr>\n",
       "</tbody>\n",
       "</table>\n"
      ],
      "text/latex": [
       "\\begin{tabular}{lllll}\n",
       "\t  1 &  5 &  0 & 13 & 17\\\\\n",
       "\t  2 &  0 & 10 & 14 & 18\\\\\n",
       "\t  0 &  7 & 11 & 15 & 19\\\\\n",
       "\t  4 &  8 & 12 & 16 & 20\\\\\n",
       "\\end{tabular}\n"
      ],
      "text/markdown": [
       "1. 1\n",
       "2. 2\n",
       "3. 0\n",
       "4. 4\n",
       "5. 5\n",
       "6. 0\n",
       "7. 7\n",
       "8. 8\n",
       "9. 0\n",
       "10. 10\n",
       "11. 11\n",
       "12. 12\n",
       "13. 13\n",
       "14. 14\n",
       "15. 15\n",
       "16. 16\n",
       "17. 17\n",
       "18. 18\n",
       "19. 19\n",
       "20. 20\n",
       "\n",
       "\n"
      ],
      "text/plain": [
       "     [,1] [,2] [,3] [,4] [,5]\n",
       "[1,]    1    5    0   13   17\n",
       "[2,]    2    0   10   14   18\n",
       "[3,]    0    7   11   15   19\n",
       "[4,]    4    8   12   16   20"
      ]
     },
     "execution_count": 47,
     "metadata": {},
     "output_type": "execute_result"
    }
   ],
   "source": [
    "x[i] <- 0\n",
    "x"
   ]
  },
  {
   "cell_type": "markdown",
   "metadata": {},
   "source": [
    "The situation for multidimensional arrays is analogous—just the appropriate number of dimensions is different."
   ]
  },
  {
   "cell_type": "markdown",
   "metadata": {},
   "source": [
    "## 1.8\tLists\n",
    "Lists are ordered collections of other objects, known as components, which do not have to be of the same mode or type. Thus lists can be viewed as very loose groupings of R objects, involving various types of vectors, data frames, arrays, functions and even other lists. Components are numbered and hence can be addressed using their sequence number given in double square brackets, `x[[3]]`. \n",
    "Moreover, components may be named and referenced using an expression of the form list_name$component_name. Subsetting is similar to that of other objects, described above.\n",
    "#### list.name <- list (component_name_1=, component_name_2=…) \n",
    "Builds a list with the given components.\n",
    "\n",
    "Here is a simple real-life example of a list definition:"
   ]
  },
  {
   "cell_type": "code",
   "execution_count": 49,
   "metadata": {
    "collapsed": false
   },
   "outputs": [
    {
     "data": {
      "text/html": [
       "<dl>\n",
       "\t<dt>$ID</dt>\n",
       "\t\t<dd>\"Gbl-4\"</dd>\n",
       "\t<dt>$Locality</dt>\n",
       "\t\t<dd><ol class=list-inline>\n",
       "\t<li>\"Luckovice\"</li>\n",
       "\t<li>\"9 km E of Blatna\"</li>\n",
       "\t<li>\"disused quarry\"</li>\n",
       "</ol>\n",
       "</dd>\n",
       "\t<dt>$Rock</dt>\n",
       "\t\t<dd>\"melamonzonite\"</dd>\n",
       "\t<dt>$major</dt>\n",
       "\t\t<dd><dl class=dl-horizontal>\n",
       "\t<dt>SiO2</dt>\n",
       "\t\t<dd>47.31</dd>\n",
       "\t<dt>TiO2</dt>\n",
       "\t\t<dd>1.05</dd>\n",
       "\t<dt>Al2O3</dt>\n",
       "\t\t<dd>14.94</dd>\n",
       "\t<dt>FeO</dt>\n",
       "\t\t<dd>7.01</dd>\n",
       "\t<dt>MgO</dt>\n",
       "\t\t<dd>8.46</dd>\n",
       "\t<dt>CaO</dt>\n",
       "\t\t<dd>10.33</dd>\n",
       "</dl>\n",
       "</dd>\n",
       "</dl>\n"
      ],
      "text/latex": [
       "\\begin{description}\n",
       "\\item[\\$ID] \"Gbl-4\"\n",
       "\\item[\\$Locality] \\begin{enumerate*}\n",
       "\\item \"Luckovice\"\n",
       "\\item \"9 km E of Blatna\"\n",
       "\\item \"disused quarry\"\n",
       "\\end{enumerate*}\n",
       "\n",
       "\\item[\\$Rock] \"melamonzonite\"\n",
       "\\item[\\$major] \\begin{description*}\n",
       "\\item[SiO2] 47.31\n",
       "\\item[TiO2] 1.05\n",
       "\\item[Al2O3] 14.94\n",
       "\\item[FeO] 7.01\n",
       "\\item[MgO] 8.46\n",
       "\\item[CaO] 10.33\n",
       "\\end{description*}\n",
       "\n",
       "\\end{description}\n"
      ],
      "text/markdown": [
       "$ID\n",
       ":   \"Gbl-4\"\n",
       "$Locality\n",
       ":   1. \"Luckovice\"\n",
       "2. \"9 km E of Blatna\"\n",
       "3. \"disused quarry\"\n",
       "\n",
       "\n",
       "\n",
       "$Rock\n",
       ":   \"melamonzonite\"\n",
       "$major\n",
       ":   SiO2\n",
       ":   47.31TiO2\n",
       ":   1.05Al2O3\n",
       ":   14.94FeO\n",
       ":   7.01MgO\n",
       ":   8.46CaO\n",
       ":   10.33\n",
       "\n",
       "\n",
       "\n",
       "\n"
      ],
      "text/plain": [
       "$ID\n",
       "[1] \"Gbl-4\"\n",
       "\n",
       "$Locality\n",
       "[1] \"Luckovice\"        \"9 km E of Blatna\" \"disused quarry\"  \n",
       "\n",
       "$Rock\n",
       "[1] \"melamonzonite\"\n",
       "\n",
       "$major\n",
       " SiO2  TiO2 Al2O3   FeO   MgO   CaO \n",
       "47.31  1.05 14.94  7.01  8.46 10.33 \n"
      ]
     },
     "execution_count": 49,
     "metadata": {},
     "output_type": "execute_result"
    }
   ],
   "source": [
    "x1 <- c(\"Luckovice\",\"9 km E of Blatna\",\"disused quarry\")\n",
    "x2 <- \"melamonzonite\"\n",
    "x3 <- c(47.31,1.05,14.94,7.01,8.46,10.33)\n",
    "names(x3) <- c(\"SiO2\",\"TiO2\",\"Al2O3\",\"FeO\",\"MgO\",\"CaO\")\n",
    "luckovice <- list(ID=\"Gbl-4\",Locality=x1,Rock=x2,major=x3)\n",
    "luckovice"
   ]
  },
  {
   "cell_type": "markdown",
   "metadata": {},
   "source": [
    "As well as some examples of subsetting:"
   ]
  },
  {
   "cell_type": "code",
   "execution_count": 50,
   "metadata": {
    "collapsed": false
   },
   "outputs": [
    {
     "data": {
      "text/html": [
       "\"Gbl-4\""
      ],
      "text/latex": [
       "\"Gbl-4\""
      ],
      "text/markdown": [
       "\"Gbl-4\""
      ],
      "text/plain": [
       "[1] \"Gbl-4\""
      ]
     },
     "execution_count": 50,
     "metadata": {},
     "output_type": "execute_result"
    }
   ],
   "source": [
    "luckovice[[1]]"
   ]
  },
  {
   "cell_type": "code",
   "execution_count": 51,
   "metadata": {
    "collapsed": false
   },
   "outputs": [
    {
     "data": {
      "text/html": [
       "\"melamonzonite\""
      ],
      "text/latex": [
       "\"melamonzonite\""
      ],
      "text/markdown": [
       "\"melamonzonite\""
      ],
      "text/plain": [
       "[1] \"melamonzonite\""
      ]
     },
     "execution_count": 51,
     "metadata": {},
     "output_type": "execute_result"
    }
   ],
   "source": [
    "luckovice$Rock # or luckovice[[3]]"
   ]
  },
  {
   "cell_type": "code",
   "execution_count": 52,
   "metadata": {
    "collapsed": false
   },
   "outputs": [
    {
     "data": {
      "text/html": [
       "\"disused quarry\""
      ],
      "text/latex": [
       "\"disused quarry\""
      ],
      "text/markdown": [
       "\"disused quarry\""
      ],
      "text/plain": [
       "[1] \"disused quarry\""
      ]
     },
     "execution_count": 52,
     "metadata": {},
     "output_type": "execute_result"
    }
   ],
   "source": [
    "luckovice[[2]][3]"
   ]
  },
  {
   "cell_type": "code",
   "execution_count": 55,
   "metadata": {
    "collapsed": false
   },
   "outputs": [
    {
     "data": {
      "text/html": [
       "<dl class=dl-horizontal>\n",
       "\t<dt>SiO2</dt>\n",
       "\t\t<dd>47.31</dd>\n",
       "\t<dt>Al2O3</dt>\n",
       "\t\t<dd>14.94</dd>\n",
       "</dl>\n"
      ],
      "text/latex": [
       "\\begin{description*}\n",
       "\\item[SiO2] 47.31\n",
       "\\item[Al2O3] 14.94\n",
       "\\end{description*}\n"
      ],
      "text/markdown": [
       "SiO2\n",
       ":   47.31Al2O3\n",
       ":   14.94\n",
       "\n"
      ],
      "text/plain": [
       " SiO2 Al2O3 \n",
       "47.31 14.94 "
      ]
     },
     "execution_count": 55,
     "metadata": {},
     "output_type": "execute_result"
    }
   ],
   "source": [
    "luckovice$major[c(\"SiO2\",\"Al2O3\")]"
   ]
  },
  {
   "cell_type": "markdown",
   "metadata": {},
   "source": [
    "## 1.9\tCoercion of individual object types\n",
    "R is generally reasonably good at dealing seamlessly with data types, converting them on the fly when needed and being able to use the same operators on different data types. When necessary, there are a series of functions for testing the mode or type of an object:\n",
    "`is.numeric(x)`, `is.character(x)`, `is.logical(x)`, `is.matrix(x)`, `is.data.frame(x)`\n",
    "\n",
    "At times there is a need to explicitly convert between data types/modes using functions such as:\n",
    "`as.numeric(x)`, `as.character(x)`, `as.expression(x)`.\n",
    "\n",
    "Less straightforward are:\n",
    "`as.matrix(x)`, `as.data.frame(x)` \n",
    "which attempt to convert an object `x` to a matrix or data frame, respectively. A more user-friendly way of converting data frames to matrices is provided by the function data.matrix that converts all the variables in a data frame x to numeric mode and then binds them together as the columns of a matrix."
   ]
  },
  {
   "cell_type": "markdown",
   "metadata": {},
   "source": [
    "## 1.10\t Factors\n",
    "Factors are vector objects used for discrete classification (grouping) of compo-nents in other vectors of the same length, matrices or data frames. In statistical applications, these often serve as categorical variables. \n",
    "### 1.10.1\tBasic usage of factors\n",
    "#### factor(x)\n",
    "The (unordered) factors are set by the function factor where x is a vector of da-ta, usually containing a small number of discrete values (known as levels). In this case the levels are stored in alphabetical order. For instance:"
   ]
  },
  {
   "cell_type": "code",
   "execution_count": 61,
   "metadata": {
    "collapsed": false
   },
   "outputs": [
    {
     "data": {
      "text/html": [
       "<ol class=list-inline>\n",
       "\t<li>Pl</li>\n",
       "\t<li>Bt</li>\n",
       "\t<li>Pl</li>\n",
       "\t<li>Pl</li>\n",
       "\t<li>Kfs</li>\n",
       "\t<li>Pl</li>\n",
       "\t<li>Bt</li>\n",
       "\t<li>Pl</li>\n",
       "\t<li>NA</li>\n",
       "</ol>\n"
      ],
      "text/latex": [
       "\\begin{enumerate*}\n",
       "\\item Pl\n",
       "\\item Bt\n",
       "\\item Pl\n",
       "\\item Pl\n",
       "\\item Kfs\n",
       "\\item Pl\n",
       "\\item Bt\n",
       "\\item Pl\n",
       "\\item NA\n",
       "\\end{enumerate*}\n"
      ],
      "text/markdown": [
       "1. Pl\n",
       "2. Bt\n",
       "3. Pl\n",
       "4. Pl\n",
       "5. Kfs\n",
       "6. Pl\n",
       "7. Bt\n",
       "8. Pl\n",
       "9. NA\n",
       "\n",
       "\n"
      ],
      "text/plain": [
       "[1] Pl   Bt   Pl   Pl   Kfs  Pl   Bt   Pl   <NA>\n",
       "Levels: Bt Kfs Pl"
      ]
     },
     "execution_count": 61,
     "metadata": {},
     "output_type": "execute_result"
    }
   ],
   "source": [
    "x <- c(\"Pl\",\"Bt\",\"Pl\",\"Pl\",\"Kfs\",\"Pl\",\"Bt\",\"Pl\",NA)\n",
    "x.un <- factor(x)\n",
    "x.un"
   ]
  },
  {
   "cell_type": "markdown",
   "metadata": {},
   "source": [
    "### ordered(x, levels)\n",
    "This function defines a special type of factor in which the order of levels is speci-fied explicitly using the namesake parameter. Following the previous example:"
   ]
  },
  {
   "cell_type": "code",
   "execution_count": 62,
   "metadata": {
    "collapsed": false
   },
   "outputs": [
    {
     "data": {
      "text/html": [
       "<ol class=list-inline>\n",
       "\t<li>Pl</li>\n",
       "\t<li>Bt</li>\n",
       "\t<li>Pl</li>\n",
       "\t<li>Pl</li>\n",
       "\t<li>Kfs</li>\n",
       "\t<li>Pl</li>\n",
       "\t<li>Bt</li>\n",
       "\t<li>Pl</li>\n",
       "\t<li>NA</li>\n",
       "</ol>\n"
      ],
      "text/latex": [
       "\\begin{enumerate*}\n",
       "\\item Pl\n",
       "\\item Bt\n",
       "\\item Pl\n",
       "\\item Pl\n",
       "\\item Kfs\n",
       "\\item Pl\n",
       "\\item Bt\n",
       "\\item Pl\n",
       "\\item NA\n",
       "\\end{enumerate*}\n"
      ],
      "text/markdown": [
       "1. Pl\n",
       "2. Bt\n",
       "3. Pl\n",
       "4. Pl\n",
       "5. Kfs\n",
       "6. Pl\n",
       "7. Bt\n",
       "8. Pl\n",
       "9. NA\n",
       "\n",
       "\n"
      ],
      "text/plain": [
       "[1] Pl   Bt   Pl   Pl   Kfs  Pl   Bt   Pl   <NA>\n",
       "Levels: Pl < Kfs < Bt"
      ]
     },
     "execution_count": 62,
     "metadata": {},
     "output_type": "execute_result"
    }
   ],
   "source": [
    "x.or <- ordered(x,c(\"Pl\",\"Kfs\",\"Bt\"))\n",
    "x.or"
   ]
  },
  {
   "cell_type": "markdown",
   "metadata": {},
   "source": [
    "#### levels(x)\n",
    "Returns all possible values (levels) of the factor `x`. "
   ]
  },
  {
   "cell_type": "code",
   "execution_count": 63,
   "metadata": {
    "collapsed": false
   },
   "outputs": [
    {
     "data": {
      "text/html": [
       "<ol class=list-inline>\n",
       "\t<li>\"Bt\"</li>\n",
       "\t<li>\"Kfs\"</li>\n",
       "\t<li>\"Pl\"</li>\n",
       "</ol>\n"
      ],
      "text/latex": [
       "\\begin{enumerate*}\n",
       "\\item \"Bt\"\n",
       "\\item \"Kfs\"\n",
       "\\item \"Pl\"\n",
       "\\end{enumerate*}\n"
      ],
      "text/markdown": [
       "1. \"Bt\"\n",
       "2. \"Kfs\"\n",
       "3. \"Pl\"\n",
       "\n",
       "\n"
      ],
      "text/plain": [
       "[1] \"Bt\"  \"Kfs\" \"Pl\" "
      ]
     },
     "execution_count": 63,
     "metadata": {},
     "output_type": "execute_result"
    },
    {
     "data": {
      "text/html": [
       "<ol class=list-inline>\n",
       "\t<li>\"Pl\"</li>\n",
       "\t<li>\"Kfs\"</li>\n",
       "\t<li>\"Bt\"</li>\n",
       "</ol>\n"
      ],
      "text/latex": [
       "\\begin{enumerate*}\n",
       "\\item \"Pl\"\n",
       "\\item \"Kfs\"\n",
       "\\item \"Bt\"\n",
       "\\end{enumerate*}\n"
      ],
      "text/markdown": [
       "1. \"Pl\"\n",
       "2. \"Kfs\"\n",
       "3. \"Bt\"\n",
       "\n",
       "\n"
      ],
      "text/plain": [
       "[1] \"Pl\"  \"Kfs\" \"Bt\" "
      ]
     },
     "execution_count": 63,
     "metadata": {},
     "output_type": "execute_result"
    }
   ],
   "source": [
    "levels(x.un)\n",
    "levels(x.or)"
   ]
  },
  {
   "cell_type": "code",
   "execution_count": null,
   "metadata": {
    "collapsed": true
   },
   "outputs": [],
   "source": []
  }
 ],
 "metadata": {
  "kernelspec": {
   "display_name": "R",
   "language": "R",
   "name": "ir"
  },
  "language_info": {
   "codemirror_mode": "r",
   "file_extension": ".r",
   "mimetype": "text/x-r-source",
   "name": "R",
   "pygments_lexer": "r",
   "version": "3.2.1"
  }
 },
 "nbformat": 4,
 "nbformat_minor": 0
}
