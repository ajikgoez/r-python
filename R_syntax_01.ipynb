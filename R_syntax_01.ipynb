{
 "cells": [
  {
   "cell_type": "markdown",
   "metadata": {},
   "source": [
    "# Couse of R language syntax\n",
    "## (C) Vojtech Janousek 2016\n",
    "\n",
    "Here we give an overview of the syntax and basic usage of the R language. We describe how to start and stop an R session, obtain help and find documentation. An account of the main object types and their manipulation in direct (i.e. command line) mode is followed by text on arguably the strongest point—graphics. The short course is closed by a section on writing true R programs (batch mode). \n",
    "\n",
    "The text is largely adopted from Appendix A to the monograph on R modelling by Janoušek et al. (2016) that is, in turn, partly based on the pdf manual *An Introduction to R*, available from the `Help` menu.\n",
    "\n",
    "Apart from the help system and pdf manuals included with the R distribution, the reader can find additional information in an increasing number of books and web sites.\n",
    "\n",
    "Importantly, information concerning the current state of the R project, binaries, source codes and documentation are obtainable from the R project website (http://www.r-project.org) and the Comprehensive R Archive Network (CRAN) (http://cran.r-project.org). CRAN, which is mirrored at many servers worldwide, also provides a distribution channel for user-contributed packages that add new functionality to the core of the R system.\n",
    "\n",
    "#### References\n",
    "Adler J (2012) R in a nutshell. O’Reily, Sebastopol\n",
    "\n",
    "Crawley MJ (2007) The R book. John Wiley & Sons, Chichester\n",
    "\n",
    "Janoušek V, Moyen JF, Martin H, Erban V, Farrow C (2016) Geochemical Modelling of Igneous Processes – Principles and Recipes in R Language. Bringing the Power of R to a Geochemical Community. Springer-Verlag, Berlin (http:\\\\dx.doi.org/10.1007/978-3-662-46792-3)\n",
    "\n",
    "Murrell P (2005) R graphics. Chapman & Hall/CRC, London\n",
    "\n",
    "Maindonald J, Braun J (2003) Data analysis and graphics using R. Cambridge University Press, Cambridge"
   ]
  },
  {
   "cell_type": "markdown",
   "metadata": {},
   "source": [
    "# R syntax in a nutshell – Part I\n",
    "* 1.1 Basic operations\n",
    "* 1.2 Numeric objects of the R language\n",
    "* 1.3 Character vectors\n",
    "* 1.4 Logical vectors\n",
    "* 1.5 Character vectors"
   ]
  },
  {
   "cell_type": "markdown",
   "metadata": {
    "collapsed": false,
    "scrolled": true
   },
   "source": [
    "## 1.1 Basic operations\n",
    "### 1.1.1 Starting and terminating the R session\n",
    "In Windows, double clicking the file 'RGUI.EXE' or the associated shortcut opens the `R Console`, a text window for the entry of commands and display of textual output. The system prints a number of messages, the most important of which is the last line with a prompt, showing that the R environment is awaiting commands. Apart from the R Console, one or more windows for graphical output and help pages may be displayed.\n",
    "\n",
    "To end an R session, one can invoke the menu item `File|Exit` or type `q()`. Alternatively, one can terminate the session by closing the R Console window. "
   ]
  },
  {
   "cell_type": "markdown",
   "metadata": {},
   "source": [
    "### 1.1.2\tSeeking help and documentation\n",
    "The R environment provides help in several forms—including plain text (displayed in the Console) or HTML (viewed using a web browser). \n",
    "A browsable HTML help window can be obtained from the menu `Help|R language (html)` or by `help.start()`."
   ]
  },
  {
   "cell_type": "code",
   "execution_count": 1,
   "metadata": {
    "collapsed": false
   },
   "outputs": [],
   "source": [
    "# help(plot)    # text help on a function called ‘plot’\n",
    "# ?plot         # equivalent, a shortcut"
   ]
  },
  {
   "cell_type": "code",
   "execution_count": 2,
   "metadata": {
    "collapsed": false
   },
   "outputs": [
    {
     "data": {
      "text/html": [
       "<ol class=list-inline>\n",
       "\t<li>\".__C__recordedplot\"</li>\n",
       "\t<li>\"assocplot\"</li>\n",
       "\t<li>\"barplot\"</li>\n",
       "\t<li>\"barplot.default\"</li>\n",
       "\t<li>\"biplot\"</li>\n",
       "\t<li>\"boxplot\"</li>\n",
       "\t<li>\"boxplot.default\"</li>\n",
       "\t<li>\"boxplot.matrix\"</li>\n",
       "\t<li>\"boxplot.stats\"</li>\n",
       "\t<li>\"cdplot\"</li>\n",
       "\t<li>\"coplot\"</li>\n",
       "\t<li>\"fourfoldplot\"</li>\n",
       "\t<li>\"interaction.plot\"</li>\n",
       "\t<li>\"lag.plot\"</li>\n",
       "\t<li>\"matplot\"</li>\n",
       "\t<li>\"monthplot\"</li>\n",
       "\t<li>\"mosaicplot\"</li>\n",
       "\t<li>\"plot\"</li>\n",
       "\t<li>\"plot.default\"</li>\n",
       "\t<li>\"plot.design\"</li>\n",
       "\t<li>\"plot.ecdf\"</li>\n",
       "\t<li>\"plot.function\"</li>\n",
       "\t<li>\"plot.new\"</li>\n",
       "\t<li>\"plot.spec.coherency\"</li>\n",
       "\t<li>\"plot.spec.phase\"</li>\n",
       "\t<li>\"plot.stepfun\"</li>\n",
       "\t<li>\"plot.ts\"</li>\n",
       "\t<li>\"plot.window\"</li>\n",
       "\t<li>\"plot.xy\"</li>\n",
       "\t<li>\"preplot\"</li>\n",
       "\t<li>\"qqplot\"</li>\n",
       "\t<li>\"recordPlot\"</li>\n",
       "\t<li>\"replayPlot\"</li>\n",
       "\t<li>\"savePlot\"</li>\n",
       "\t<li>\"screeplot\"</li>\n",
       "\t<li>\"spineplot\"</li>\n",
       "\t<li>\"sunflowerplot\"</li>\n",
       "\t<li>\"termplot\"</li>\n",
       "\t<li>\"ts.plot\"</li>\n",
       "</ol>\n"
      ],
      "text/latex": [
       "\\begin{enumerate*}\n",
       "\\item \".\\_\\_C\\_\\_recordedplot\"\n",
       "\\item \"assocplot\"\n",
       "\\item \"barplot\"\n",
       "\\item \"barplot.default\"\n",
       "\\item \"biplot\"\n",
       "\\item \"boxplot\"\n",
       "\\item \"boxplot.default\"\n",
       "\\item \"boxplot.matrix\"\n",
       "\\item \"boxplot.stats\"\n",
       "\\item \"cdplot\"\n",
       "\\item \"coplot\"\n",
       "\\item \"fourfoldplot\"\n",
       "\\item \"interaction.plot\"\n",
       "\\item \"lag.plot\"\n",
       "\\item \"matplot\"\n",
       "\\item \"monthplot\"\n",
       "\\item \"mosaicplot\"\n",
       "\\item \"plot\"\n",
       "\\item \"plot.default\"\n",
       "\\item \"plot.design\"\n",
       "\\item \"plot.ecdf\"\n",
       "\\item \"plot.function\"\n",
       "\\item \"plot.new\"\n",
       "\\item \"plot.spec.coherency\"\n",
       "\\item \"plot.spec.phase\"\n",
       "\\item \"plot.stepfun\"\n",
       "\\item \"plot.ts\"\n",
       "\\item \"plot.window\"\n",
       "\\item \"plot.xy\"\n",
       "\\item \"preplot\"\n",
       "\\item \"qqplot\"\n",
       "\\item \"recordPlot\"\n",
       "\\item \"replayPlot\"\n",
       "\\item \"savePlot\"\n",
       "\\item \"screeplot\"\n",
       "\\item \"spineplot\"\n",
       "\\item \"sunflowerplot\"\n",
       "\\item \"termplot\"\n",
       "\\item \"ts.plot\"\n",
       "\\end{enumerate*}\n"
      ],
      "text/markdown": [
       "1. \".__C__recordedplot\"\n",
       "2. \"assocplot\"\n",
       "3. \"barplot\"\n",
       "4. \"barplot.default\"\n",
       "5. \"biplot\"\n",
       "6. \"boxplot\"\n",
       "7. \"boxplot.default\"\n",
       "8. \"boxplot.matrix\"\n",
       "9. \"boxplot.stats\"\n",
       "10. \"cdplot\"\n",
       "11. \"coplot\"\n",
       "12. \"fourfoldplot\"\n",
       "13. \"interaction.plot\"\n",
       "14. \"lag.plot\"\n",
       "15. \"matplot\"\n",
       "16. \"monthplot\"\n",
       "17. \"mosaicplot\"\n",
       "18. \"plot\"\n",
       "19. \"plot.default\"\n",
       "20. \"plot.design\"\n",
       "21. \"plot.ecdf\"\n",
       "22. \"plot.function\"\n",
       "23. \"plot.new\"\n",
       "24. \"plot.spec.coherency\"\n",
       "25. \"plot.spec.phase\"\n",
       "26. \"plot.stepfun\"\n",
       "27. \"plot.ts\"\n",
       "28. \"plot.window\"\n",
       "29. \"plot.xy\"\n",
       "30. \"preplot\"\n",
       "31. \"qqplot\"\n",
       "32. \"recordPlot\"\n",
       "33. \"replayPlot\"\n",
       "34. \"savePlot\"\n",
       "35. \"screeplot\"\n",
       "36. \"spineplot\"\n",
       "37. \"sunflowerplot\"\n",
       "38. \"termplot\"\n",
       "39. \"ts.plot\"\n",
       "\n",
       "\n"
      ],
      "text/plain": [
       " [1] \".__C__recordedplot\"  \"assocplot\"           \"barplot\"            \n",
       " [4] \"barplot.default\"     \"biplot\"              \"boxplot\"            \n",
       " [7] \"boxplot.default\"     \"boxplot.matrix\"      \"boxplot.stats\"      \n",
       "[10] \"cdplot\"              \"coplot\"              \"fourfoldplot\"       \n",
       "[13] \"interaction.plot\"    \"lag.plot\"            \"matplot\"            \n",
       "[16] \"monthplot\"           \"mosaicplot\"          \"plot\"               \n",
       "[19] \"plot.default\"        \"plot.design\"         \"plot.ecdf\"          \n",
       "[22] \"plot.function\"       \"plot.new\"            \"plot.spec.coherency\"\n",
       "[25] \"plot.spec.phase\"     \"plot.stepfun\"        \"plot.ts\"            \n",
       "[28] \"plot.window\"         \"plot.xy\"             \"preplot\"            \n",
       "[31] \"qqplot\"              \"recordPlot\"          \"replayPlot\"         \n",
       "[34] \"savePlot\"            \"screeplot\"           \"spineplot\"          \n",
       "[37] \"sunflowerplot\"       \"termplot\"            \"ts.plot\"            "
      ]
     },
     "execution_count": 2,
     "metadata": {},
     "output_type": "execute_result"
    }
   ],
   "source": [
    "apropos(\"plot\")   # Commands related to ‘plot’:"
   ]
  },
  {
   "cell_type": "code",
   "execution_count": 3,
   "metadata": {
    "collapsed": false
   },
   "outputs": [
    {
     "name": "stdout",
     "output_type": "stream",
     "text": [
      "\n",
      "plot> require(stats) # for lowess, rpois, rnorm\n",
      "\n",
      "plot> plot(cars)\n",
      "\n",
      "plot> lines(lowess(cars))\n",
      "\n",
      "plot> plot(sin, -pi, 2*pi) # see ?plot.function\n"
     ]
    },
    {
     "data": {
      "image/png": "[encoded data removed]",
      "image/svg+xml": [
       "<?xml version=\"1.0\" encoding=\"UTF-8\"?>\n",
       "<svg xmlns=\"http://www.w3.org/2000/svg\" xmlns:xlink=\"http://www.w3.org/1999/xlink\" width=\"504pt\" height=\"504pt\" viewBox=\"0 0 504 504\" version=\"1.1\">\n",
       "<defs>\n",
       "<g>\n",
       "<symbol overflow=\"visible\" id=\"glyph0-0\">\n",
       "<path style=\"stroke:none;\" d=\"M 0.519531 -2.34375 L 1.671875 -2.441406 C 1.753906 -1.875 1.953125 -1.453125 2.265625 -1.171875 C 2.574219 -0.890625 2.949219 -0.75 3.394531 -0.75 C 3.917969 -0.75 4.367188 -0.949219 4.734375 -1.347656 C 5.101563 -1.746094 5.285156 -2.273438 5.285156 -2.9375 C 5.285156 -3.558594 5.109375 -4.054688 4.757813 -4.417969 C 4.40625 -4.777344 3.945313 -4.957031 3.375 -4.960938 C 3.019531 -4.957031 2.699219 -4.875 2.414063 -4.71875 C 2.128906 -4.554688 1.90625 -4.347656 1.746094 -4.09375 L 0.714844 -4.230469 L 1.582031 -8.824219 L 6.03125 -8.824219 L 6.03125 -7.777344 L 2.460938 -7.777344 L 1.976563 -5.371094 C 2.507813 -5.742188 3.074219 -5.929688 3.667969 -5.933594 C 4.449219 -5.929688 5.105469 -5.660156 5.644531 -5.121094 C 6.179688 -4.578125 6.449219 -3.882813 6.453125 -3.035156 C 6.449219 -2.222656 6.214844 -1.519531 5.742188 -0.933594 C 5.167969 -0.207031 4.382813 0.152344 3.394531 0.152344 C 2.574219 0.152344 1.910156 -0.0742188 1.398438 -0.53125 C 0.882813 -0.984375 0.589844 -1.589844 0.519531 -2.34375 Z M 0.519531 -2.34375 \"/>\n",
       "</symbol>\n",
       "<symbol overflow=\"visible\" id=\"glyph0-1\">\n",
       "<path style=\"stroke:none;\" d=\"M 4.65625 0 L 3.558594 0 L 3.558594 -7 C 3.289063 -6.746094 2.941406 -6.492188 2.515625 -6.242188 C 2.085938 -5.988281 1.703125 -5.800781 1.359375 -5.675781 L 1.359375 -6.738281 C 1.972656 -7.027344 2.507813 -7.375 2.972656 -7.789063 C 3.429688 -8.195313 3.757813 -8.59375 3.949219 -8.984375 L 4.65625 -8.984375 Z M 4.65625 0 \"/>\n",
       "</symbol>\n",
       "<symbol overflow=\"visible\" id=\"glyph0-2\">\n",
       "<path style=\"stroke:none;\" d=\"M 0.519531 -4.414063 C 0.515625 -5.46875 0.625 -6.320313 0.84375 -6.964844 C 1.0625 -7.609375 1.386719 -8.105469 1.816406 -8.457031 C 2.246094 -8.804688 2.785156 -8.980469 3.4375 -8.984375 C 3.914063 -8.980469 4.335938 -8.886719 4.699219 -8.695313 C 5.058594 -8.5 5.355469 -8.21875 5.59375 -7.859375 C 5.828125 -7.492188 6.015625 -7.050781 6.152344 -6.527344 C 6.285156 -6.003906 6.351563 -5.296875 6.355469 -4.414063 C 6.351563 -3.359375 6.242188 -2.511719 6.03125 -1.871094 C 5.8125 -1.222656 5.492188 -0.726563 5.0625 -0.375 C 4.632813 -0.0234375 4.089844 0.152344 3.4375 0.152344 C 2.570313 0.152344 1.890625 -0.15625 1.402344 -0.773438 C 0.808594 -1.515625 0.515625 -2.726563 0.519531 -4.414063 Z M 1.648438 -4.414063 C 1.644531 -2.941406 1.816406 -1.964844 2.164063 -1.480469 C 2.503906 -0.992188 2.929688 -0.75 3.4375 -0.75 C 3.9375 -0.75 4.359375 -0.992188 4.707031 -1.480469 C 5.050781 -1.96875 5.226563 -2.945313 5.226563 -4.414063 C 5.226563 -5.882813 5.050781 -6.863281 4.707031 -7.347656 C 4.359375 -7.832031 3.933594 -8.074219 3.425781 -8.074219 C 2.917969 -8.074219 2.515625 -7.859375 2.214844 -7.433594 C 1.835938 -6.886719 1.644531 -5.878906 1.648438 -4.414063 Z M 1.648438 -4.414063 \"/>\n",
       "</symbol>\n",
       "<symbol overflow=\"visible\" id=\"glyph0-3\">\n",
       "<path style=\"stroke:none;\" d=\"M 6.292969 -1.054688 L 6.292969 0 L 0.378906 0 C 0.367188 -0.265625 0.410156 -0.519531 0.507813 -0.761719 C 0.65625 -1.164063 0.898438 -1.558594 1.230469 -1.953125 C 1.558594 -2.339844 2.035156 -2.792969 2.667969 -3.308594 C 3.636719 -4.101563 4.292969 -4.734375 4.636719 -5.203125 C 4.976563 -5.667969 5.148438 -6.105469 5.152344 -6.523438 C 5.148438 -6.957031 4.992188 -7.324219 4.683594 -7.625 C 4.371094 -7.921875 3.96875 -8.074219 3.46875 -8.074219 C 2.9375 -8.074219 2.511719 -7.914063 2.195313 -7.597656 C 1.878906 -7.277344 1.71875 -6.839844 1.714844 -6.28125 L 0.585938 -6.398438 C 0.664063 -7.238281 0.953125 -7.878906 1.457031 -8.320313 C 1.960938 -8.761719 2.640625 -8.980469 3.492188 -8.984375 C 4.347656 -8.980469 5.023438 -8.742188 5.527344 -8.269531 C 6.027344 -7.789063 6.28125 -7.199219 6.28125 -6.5 C 6.28125 -6.140625 6.207031 -5.789063 6.058594 -5.445313 C 5.910156 -5.09375 5.664063 -4.730469 5.328125 -4.351563 C 4.984375 -3.964844 4.421875 -3.441406 3.636719 -2.777344 C 2.976563 -2.222656 2.554688 -1.84375 2.367188 -1.648438 C 2.179688 -1.449219 2.023438 -1.253906 1.90625 -1.054688 Z M 6.292969 -1.054688 \"/>\n",
       "</symbol>\n",
       "<symbol overflow=\"visible\" id=\"glyph0-4\">\n",
       "<path style=\"stroke:none;\" d=\"M 0.382813 -1.933594 L 1.472656 -2.105469 C 1.527344 -1.667969 1.699219 -1.335938 1.980469 -1.105469 C 2.257813 -0.871094 2.644531 -0.753906 3.148438 -0.757813 C 3.648438 -0.753906 4.023438 -0.859375 4.273438 -1.066406 C 4.515625 -1.269531 4.640625 -1.507813 4.640625 -1.789063 C 4.640625 -2.03125 4.53125 -2.226563 4.316406 -2.375 C 4.164063 -2.46875 3.789063 -2.59375 3.191406 -2.746094 C 2.382813 -2.945313 1.824219 -3.121094 1.515625 -3.273438 C 1.203125 -3.417969 0.96875 -3.625 0.808594 -3.890625 C 0.644531 -4.152344 0.5625 -4.441406 0.566406 -4.761719 C 0.5625 -5.046875 0.628906 -5.3125 0.765625 -5.5625 C 0.894531 -5.804688 1.074219 -6.011719 1.304688 -6.175781 C 1.472656 -6.300781 1.707031 -6.40625 2.003906 -6.496094 C 2.300781 -6.582031 2.617188 -6.625 2.953125 -6.628906 C 3.460938 -6.625 3.90625 -6.550781 4.292969 -6.40625 C 4.675781 -6.257813 4.960938 -6.0625 5.144531 -5.8125 C 5.328125 -5.5625 5.453125 -5.226563 5.523438 -4.808594 L 4.449219 -4.664063 C 4.394531 -4.996094 4.253906 -5.253906 4.023438 -5.445313 C 3.789063 -5.628906 3.460938 -5.722656 3.035156 -5.726563 C 2.527344 -5.722656 2.164063 -5.640625 1.953125 -5.476563 C 1.734375 -5.308594 1.628906 -5.113281 1.628906 -4.890625 C 1.628906 -4.746094 1.671875 -4.617188 1.765625 -4.503906 C 1.851563 -4.382813 1.992188 -4.285156 2.183594 -4.210938 C 2.292969 -4.167969 2.617188 -4.074219 3.15625 -3.929688 C 3.929688 -3.722656 4.472656 -3.554688 4.78125 -3.421875 C 5.085938 -3.289063 5.324219 -3.09375 5.503906 -2.84375 C 5.675781 -2.585938 5.765625 -2.273438 5.769531 -1.90625 C 5.765625 -1.535156 5.65625 -1.191406 5.445313 -0.867188 C 5.226563 -0.542969 4.917969 -0.292969 4.519531 -0.117188 C 4.113281 0.0585938 3.660156 0.144531 3.15625 0.148438 C 2.308594 0.144531 1.664063 -0.0273438 1.226563 -0.375 C 0.78125 -0.726563 0.5 -1.246094 0.382813 -1.933594 Z M 0.382813 -1.933594 \"/>\n",
       "</symbol>\n",
       "<symbol overflow=\"visible\" id=\"glyph0-5\">\n",
       "<path style=\"stroke:none;\" d=\"M 0.824219 2.484375 L 0.824219 -6.480469 L 1.824219 -6.480469 L 1.824219 -5.640625 C 2.058594 -5.964844 2.328125 -6.210938 2.625 -6.378906 C 2.921875 -6.542969 3.28125 -6.625 3.703125 -6.628906 C 4.257813 -6.625 4.746094 -6.484375 5.167969 -6.199219 C 5.589844 -5.914063 5.910156 -5.511719 6.128906 -4.996094 C 6.34375 -4.476563 6.449219 -3.90625 6.453125 -3.289063 C 6.449219 -2.625 6.332031 -2.03125 6.09375 -1.5 C 5.855469 -0.96875 5.507813 -0.558594 5.054688 -0.277344 C 4.597656 0.0078125 4.121094 0.144531 3.625 0.148438 C 3.257813 0.144531 2.929688 0.0703125 2.640625 -0.0820313 C 2.347656 -0.238281 2.109375 -0.433594 1.921875 -0.671875 L 1.921875 2.484375 Z M 1.820313 -3.203125 C 1.816406 -2.367188 1.984375 -1.75 2.324219 -1.355469 C 2.660156 -0.953125 3.070313 -0.753906 3.550781 -0.757813 C 4.039063 -0.753906 4.457031 -0.960938 4.804688 -1.375 C 5.152344 -1.785156 5.324219 -2.425781 5.328125 -3.296875 C 5.324219 -4.121094 5.15625 -4.738281 4.816406 -5.152344 C 4.476563 -5.558594 4.070313 -5.765625 3.601563 -5.769531 C 3.128906 -5.765625 2.714844 -5.546875 2.359375 -5.113281 C 1.996094 -4.671875 1.816406 -4.035156 1.820313 -3.203125 Z M 1.820313 -3.203125 \"/>\n",
       "</symbol>\n",
       "<symbol overflow=\"visible\" id=\"glyph0-6\">\n",
       "<path style=\"stroke:none;\" d=\"M 5.261719 -2.085938 L 6.398438 -1.945313 C 6.21875 -1.28125 5.886719 -0.765625 5.402344 -0.402344 C 4.917969 -0.0351563 4.296875 0.144531 3.546875 0.148438 C 2.59375 0.144531 1.84375 -0.144531 1.289063 -0.726563 C 0.734375 -1.3125 0.457031 -2.132813 0.457031 -3.1875 C 0.457031 -4.273438 0.734375 -5.117188 1.296875 -5.722656 C 1.855469 -6.324219 2.585938 -6.625 3.484375 -6.628906 C 4.347656 -6.625 5.054688 -6.332031 5.609375 -5.742188 C 6.15625 -5.152344 6.433594 -4.320313 6.433594 -3.253906 C 6.433594 -3.183594 6.429688 -3.085938 6.425781 -2.960938 L 1.59375 -2.960938 C 1.632813 -2.242188 1.832031 -1.699219 2.195313 -1.324219 C 2.558594 -0.945313 3.011719 -0.753906 3.550781 -0.757813 C 3.953125 -0.753906 4.296875 -0.859375 4.582031 -1.074219 C 4.867188 -1.28125 5.09375 -1.621094 5.261719 -2.085938 Z M 1.652344 -3.863281 L 5.273438 -3.863281 C 5.222656 -4.402344 5.082031 -4.8125 4.859375 -5.089844 C 4.503906 -5.511719 4.050781 -5.722656 3.496094 -5.726563 C 2.992188 -5.722656 2.570313 -5.554688 2.226563 -5.21875 C 1.882813 -4.878906 1.691406 -4.425781 1.652344 -3.863281 Z M 1.652344 -3.863281 \"/>\n",
       "</symbol>\n",
       "<symbol overflow=\"visible\" id=\"glyph0-7\">\n",
       "<path style=\"stroke:none;\" d=\"M 5.03125 0 L 5.03125 -0.816406 C 4.617188 -0.171875 4.011719 0.144531 3.214844 0.148438 C 2.695313 0.144531 2.21875 0.0078125 1.789063 -0.277344 C 1.351563 -0.558594 1.015625 -0.957031 0.78125 -1.472656 C 0.539063 -1.980469 0.421875 -2.570313 0.425781 -3.234375 C 0.421875 -3.882813 0.53125 -4.46875 0.75 -4.996094 C 0.964844 -5.519531 1.285156 -5.921875 1.71875 -6.207031 C 2.148438 -6.484375 2.632813 -6.625 3.167969 -6.628906 C 3.554688 -6.625 3.902344 -6.542969 4.210938 -6.378906 C 4.511719 -6.210938 4.761719 -5.996094 4.957031 -5.738281 L 4.957031 -8.949219 L 6.046875 -8.949219 L 6.046875 0 Z M 1.554688 -3.234375 C 1.550781 -2.402344 1.726563 -1.78125 2.078125 -1.371094 C 2.425781 -0.960938 2.839844 -0.753906 3.320313 -0.757813 C 3.796875 -0.753906 4.203125 -0.949219 4.542969 -1.34375 C 4.875 -1.734375 5.042969 -2.335938 5.046875 -3.144531 C 5.042969 -4.027344 4.875 -4.675781 4.535156 -5.09375 C 4.191406 -5.507813 3.769531 -5.71875 3.273438 -5.71875 C 2.78125 -5.71875 2.371094 -5.519531 2.046875 -5.121094 C 1.714844 -4.722656 1.550781 -4.09375 1.554688 -3.234375 Z M 1.554688 -3.234375 \"/>\n",
       "</symbol>\n",
       "<symbol overflow=\"visible\" id=\"glyph1-0\">\n",
       "<path style=\"stroke:none;\" d=\"M -4.414063 -0.519531 C -5.46875 -0.515625 -6.320313 -0.625 -6.964844 -0.84375 C -7.609375 -1.0625 -8.105469 -1.386719 -8.457031 -1.816406 C -8.804688 -2.246094 -8.980469 -2.785156 -8.984375 -3.4375 C -8.980469 -3.914063 -8.886719 -4.335938 -8.695313 -4.699219 C -8.5 -5.058594 -8.21875 -5.355469 -7.859375 -5.59375 C -7.492188 -5.828125 -7.050781 -6.015625 -6.527344 -6.152344 C -6.003906 -6.285156 -5.296875 -6.351563 -4.414063 -6.355469 C -3.359375 -6.351563 -2.511719 -6.242188 -1.871094 -6.03125 C -1.222656 -5.8125 -0.726563 -5.492188 -0.375 -5.0625 C -0.0234375 -4.632813 0.152344 -4.089844 0.152344 -3.4375 C 0.152344 -2.570313 -0.15625 -1.890625 -0.773438 -1.402344 C -1.515625 -0.808594 -2.726563 -0.515625 -4.414063 -0.519531 Z M -4.414063 -1.648438 C -2.941406 -1.644531 -1.964844 -1.816406 -1.480469 -2.164063 C -0.992188 -2.503906 -0.75 -2.929688 -0.75 -3.4375 C -0.75 -3.9375 -0.992188 -4.359375 -1.480469 -4.707031 C -1.96875 -5.050781 -2.945313 -5.226563 -4.414063 -5.226563 C -5.882813 -5.226563 -6.863281 -5.050781 -7.347656 -4.707031 C -7.832031 -4.359375 -8.074219 -3.933594 -8.074219 -3.425781 C -8.074219 -2.917969 -7.859375 -2.515625 -7.433594 -2.214844 C -6.886719 -1.835938 -5.878906 -1.644531 -4.414063 -1.648438 Z M -4.414063 -1.648438 \"/>\n",
       "</symbol>\n",
       "<symbol overflow=\"visible\" id=\"glyph1-1\">\n",
       "<path style=\"stroke:none;\" d=\"M -1.054688 -6.292969 L 0 -6.292969 L 0 -0.378906 C -0.265625 -0.367188 -0.519531 -0.410156 -0.761719 -0.507813 C -1.164063 -0.65625 -1.558594 -0.898438 -1.953125 -1.230469 C -2.339844 -1.558594 -2.792969 -2.035156 -3.308594 -2.667969 C -4.101563 -3.636719 -4.734375 -4.292969 -5.203125 -4.636719 C -5.667969 -4.976563 -6.105469 -5.148438 -6.523438 -5.152344 C -6.957031 -5.148438 -7.324219 -4.992188 -7.625 -4.683594 C -7.921875 -4.371094 -8.074219 -3.96875 -8.074219 -3.46875 C -8.074219 -2.9375 -7.914063 -2.511719 -7.597656 -2.195313 C -7.277344 -1.878906 -6.839844 -1.71875 -6.28125 -1.714844 L -6.398438 -0.585938 C -7.238281 -0.664063 -7.878906 -0.953125 -8.320313 -1.457031 C -8.761719 -1.960938 -8.980469 -2.640625 -8.984375 -3.492188 C -8.980469 -4.347656 -8.742188 -5.023438 -8.269531 -5.527344 C -7.789063 -6.027344 -7.199219 -6.28125 -6.5 -6.28125 C -6.140625 -6.28125 -5.789063 -6.207031 -5.445313 -6.058594 C -5.09375 -5.910156 -4.730469 -5.664063 -4.351563 -5.328125 C -3.964844 -4.984375 -3.441406 -4.421875 -2.777344 -3.636719 C -2.222656 -2.976563 -1.84375 -2.554688 -1.648438 -2.367188 C -1.449219 -2.179688 -1.253906 -2.023438 -1.054688 -1.90625 Z M -1.054688 -6.292969 \"/>\n",
       "</symbol>\n",
       "<symbol overflow=\"visible\" id=\"glyph1-2\">\n",
       "<path style=\"stroke:none;\" d=\"M 0 -4.039063 L -2.140625 -4.039063 L -2.140625 -0.160156 L -3.148438 -0.160156 L -8.949219 -4.242188 L -8.949219 -5.140625 L -3.148438 -5.140625 L -3.148438 -6.347656 L -2.140625 -6.347656 L -2.140625 -5.140625 L 0 -5.140625 Z M -3.148438 -4.039063 L -7.183594 -4.039063 L -3.148438 -1.238281 Z M -3.148438 -4.039063 \"/>\n",
       "</symbol>\n",
       "<symbol overflow=\"visible\" id=\"glyph1-3\">\n",
       "<path style=\"stroke:none;\" d=\"M -6.757813 -6.21875 L -6.671875 -5.125 C -7.097656 -5.027344 -7.410156 -4.890625 -7.609375 -4.710938 C -7.921875 -4.414063 -8.078125 -4.046875 -8.082031 -3.613281 C -8.078125 -3.261719 -7.980469 -2.953125 -7.789063 -2.691406 C -7.53125 -2.339844 -7.164063 -2.066406 -6.683594 -1.871094 C -6.195313 -1.667969 -5.503906 -1.566406 -4.613281 -1.5625 C -5.011719 -1.824219 -5.3125 -2.148438 -5.511719 -2.53125 C -5.703125 -2.914063 -5.800781 -3.3125 -5.804688 -3.734375 C -5.800781 -4.464844 -5.53125 -5.089844 -4.996094 -5.605469 C -4.453125 -6.117188 -3.757813 -6.375 -2.90625 -6.378906 C -2.34375 -6.375 -1.820313 -6.253906 -1.339844 -6.015625 C -0.855469 -5.769531 -0.484375 -5.4375 -0.230469 -5.015625 C 0.0273438 -4.59375 0.152344 -4.113281 0.152344 -3.578125 C 0.152344 -2.660156 -0.183594 -1.914063 -0.855469 -1.335938 C -1.527344 -0.757813 -2.636719 -0.46875 -4.1875 -0.46875 C -5.914063 -0.46875 -7.171875 -0.789063 -7.960938 -1.429688 C -8.640625 -1.984375 -8.980469 -2.734375 -8.984375 -3.679688 C -8.980469 -4.382813 -8.785156 -4.957031 -8.390625 -5.410156 C -7.996094 -5.855469 -7.449219 -6.125 -6.757813 -6.21875 Z M -2.898438 -1.734375 C -2.519531 -1.734375 -2.15625 -1.8125 -1.8125 -1.972656 C -1.460938 -2.132813 -1.199219 -2.359375 -1.019531 -2.648438 C -0.839844 -2.9375 -0.75 -3.238281 -0.75 -3.558594 C -0.75 -4.019531 -0.9375 -4.417969 -1.3125 -4.753906 C -1.6875 -5.082031 -2.195313 -5.25 -2.839844 -5.253906 C -3.453125 -5.25 -3.941406 -5.085938 -4.300781 -4.757813 C -4.65625 -4.429688 -4.832031 -4.015625 -4.835938 -3.515625 C -4.832031 -3.015625 -4.65625 -2.59375 -4.300781 -2.25 C -3.941406 -1.90625 -3.472656 -1.734375 -2.898438 -1.734375 Z M -2.898438 -1.734375 \"/>\n",
       "</symbol>\n",
       "<symbol overflow=\"visible\" id=\"glyph1-4\">\n",
       "<path style=\"stroke:none;\" d=\"M -4.851563 -2.210938 C -5.015625 -1.75 -5.253906 -1.414063 -5.566406 -1.195313 C -5.875 -0.976563 -6.242188 -0.867188 -6.675781 -0.867188 C -7.324219 -0.867188 -7.871094 -1.097656 -8.316406 -1.566406 C -8.757813 -2.03125 -8.980469 -2.65625 -8.984375 -3.4375 C -8.980469 -4.214844 -8.753906 -4.84375 -8.304688 -5.320313 C -7.847656 -5.796875 -7.296875 -6.035156 -6.648438 -6.035156 C -6.230469 -6.035156 -5.867188 -5.925781 -5.5625 -5.707031 C -5.25 -5.488281 -5.015625 -5.15625 -4.851563 -4.71875 C -4.671875 -5.265625 -4.382813 -5.683594 -3.984375 -5.972656 C -3.585938 -6.253906 -3.109375 -6.398438 -2.558594 -6.402344 C -1.789063 -6.398438 -1.144531 -6.128906 -0.628906 -5.589844 C -0.105469 -5.046875 0.152344 -4.332031 0.152344 -3.453125 C 0.152344 -2.566406 -0.105469 -1.855469 -0.628906 -1.316406 C -1.148438 -0.773438 -1.800781 -0.503906 -2.585938 -0.507813 C -3.164063 -0.503906 -3.652344 -0.652344 -4.050781 -0.949219 C -4.441406 -1.242188 -4.710938 -1.660156 -4.851563 -2.210938 Z M -6.714844 -1.988281 C -6.289063 -1.984375 -5.941406 -2.121094 -5.675781 -2.398438 C -5.40625 -2.667969 -5.273438 -3.023438 -5.273438 -3.460938 C -5.273438 -3.878906 -5.40625 -4.226563 -5.671875 -4.5 C -5.9375 -4.769531 -6.261719 -4.902344 -6.652344 -4.90625 C -7.050781 -4.902344 -7.390625 -4.765625 -7.667969 -4.488281 C -7.941406 -4.207031 -8.078125 -3.859375 -8.082031 -3.449219 C -8.078125 -3.027344 -7.945313 -2.679688 -7.675781 -2.402344 C -7.40625 -2.125 -7.085938 -1.984375 -6.714844 -1.988281 Z M -2.582031 -1.636719 C -2.265625 -1.632813 -1.960938 -1.707031 -1.671875 -1.859375 C -1.375 -2.003906 -1.148438 -2.226563 -0.992188 -2.519531 C -0.828125 -2.8125 -0.75 -3.128906 -0.75 -3.46875 C -0.75 -3.992188 -0.917969 -4.421875 -1.257813 -4.765625 C -1.59375 -5.105469 -2.023438 -5.277344 -2.546875 -5.28125 C -3.074219 -5.277344 -3.511719 -5.101563 -3.855469 -4.75 C -4.199219 -4.394531 -4.371094 -3.953125 -4.375 -3.429688 C -4.371094 -2.910156 -4.199219 -2.484375 -3.863281 -2.144531 C -3.519531 -1.804688 -3.09375 -1.632813 -2.582031 -1.636719 Z M -2.582031 -1.636719 \"/>\n",
       "</symbol>\n",
       "<symbol overflow=\"visible\" id=\"glyph1-5\">\n",
       "<path style=\"stroke:none;\" d=\"M 0 -4.65625 L 0 -3.558594 L -7 -3.558594 C -6.746094 -3.289063 -6.492188 -2.941406 -6.242188 -2.515625 C -5.988281 -2.085938 -5.800781 -1.703125 -5.675781 -1.359375 L -6.738281 -1.359375 C -7.027344 -1.972656 -7.375 -2.507813 -7.789063 -2.972656 C -8.195313 -3.429688 -8.59375 -3.757813 -8.984375 -3.949219 L -8.984375 -4.65625 Z M 0 -4.65625 \"/>\n",
       "</symbol>\n",
       "<symbol overflow=\"visible\" id=\"glyph1-6\">\n",
       "<path style=\"stroke:none;\" d=\"M 0 -5.03125 L -0.816406 -5.03125 C -0.171875 -4.617188 0.144531 -4.011719 0.148438 -3.214844 C 0.144531 -2.695313 0.0078125 -2.21875 -0.277344 -1.789063 C -0.558594 -1.351563 -0.957031 -1.015625 -1.472656 -0.78125 C -1.980469 -0.539063 -2.570313 -0.421875 -3.234375 -0.425781 C -3.882813 -0.421875 -4.46875 -0.53125 -4.996094 -0.75 C -5.519531 -0.964844 -5.921875 -1.285156 -6.207031 -1.71875 C -6.484375 -2.148438 -6.625 -2.632813 -6.628906 -3.167969 C -6.625 -3.554688 -6.542969 -3.902344 -6.378906 -4.210938 C -6.210938 -4.511719 -5.996094 -4.761719 -5.738281 -4.957031 L -8.949219 -4.957031 L -8.949219 -6.046875 L 0 -6.046875 Z M -3.234375 -1.554688 C -2.402344 -1.550781 -1.78125 -1.726563 -1.371094 -2.078125 C -0.960938 -2.425781 -0.753906 -2.839844 -0.757813 -3.320313 C -0.753906 -3.796875 -0.949219 -4.203125 -1.34375 -4.542969 C -1.734375 -4.875 -2.335938 -5.042969 -3.144531 -5.046875 C -4.027344 -5.042969 -4.675781 -4.875 -5.09375 -4.535156 C -5.507813 -4.191406 -5.71875 -3.769531 -5.71875 -3.273438 C -5.71875 -2.78125 -5.519531 -2.371094 -5.121094 -2.046875 C -4.722656 -1.714844 -4.09375 -1.550781 -3.234375 -1.554688 Z M -3.234375 -1.554688 \"/>\n",
       "</symbol>\n",
       "<symbol overflow=\"visible\" id=\"glyph1-7\">\n",
       "<path style=\"stroke:none;\" d=\"M -7.683594 -0.828125 L -8.949219 -0.828125 L -8.949219 -1.929688 L -7.683594 -1.929688 Z M 0 -0.828125 L -6.480469 -0.828125 L -6.480469 -1.929688 L 0 -1.929688 Z M 0 -0.828125 \"/>\n",
       "</symbol>\n",
       "<symbol overflow=\"visible\" id=\"glyph1-8\">\n",
       "<path style=\"stroke:none;\" d=\"M -1.933594 -0.382813 L -2.105469 -1.472656 C -1.667969 -1.527344 -1.335938 -1.699219 -1.105469 -1.980469 C -0.871094 -2.257813 -0.753906 -2.644531 -0.757813 -3.148438 C -0.753906 -3.648438 -0.859375 -4.023438 -1.066406 -4.273438 C -1.269531 -4.515625 -1.507813 -4.640625 -1.789063 -4.640625 C -2.03125 -4.640625 -2.226563 -4.53125 -2.375 -4.316406 C -2.46875 -4.164063 -2.59375 -3.789063 -2.746094 -3.191406 C -2.945313 -2.382813 -3.121094 -1.824219 -3.273438 -1.515625 C -3.417969 -1.203125 -3.625 -0.96875 -3.890625 -0.808594 C -4.152344 -0.644531 -4.441406 -0.5625 -4.761719 -0.566406 C -5.046875 -0.5625 -5.3125 -0.628906 -5.5625 -0.765625 C -5.804688 -0.894531 -6.011719 -1.074219 -6.175781 -1.304688 C -6.300781 -1.472656 -6.40625 -1.707031 -6.496094 -2.003906 C -6.582031 -2.300781 -6.625 -2.617188 -6.628906 -2.953125 C -6.625 -3.460938 -6.550781 -3.90625 -6.40625 -4.292969 C -6.257813 -4.675781 -6.0625 -4.960938 -5.8125 -5.144531 C -5.5625 -5.328125 -5.226563 -5.453125 -4.808594 -5.523438 L -4.664063 -4.449219 C -4.996094 -4.394531 -5.253906 -4.253906 -5.445313 -4.023438 C -5.628906 -3.789063 -5.722656 -3.460938 -5.726563 -3.035156 C -5.722656 -2.527344 -5.640625 -2.164063 -5.476563 -1.953125 C -5.308594 -1.734375 -5.113281 -1.628906 -4.890625 -1.628906 C -4.746094 -1.628906 -4.617188 -1.671875 -4.503906 -1.765625 C -4.382813 -1.851563 -4.285156 -1.992188 -4.210938 -2.183594 C -4.167969 -2.292969 -4.074219 -2.617188 -3.929688 -3.15625 C -3.722656 -3.929688 -3.554688 -4.472656 -3.421875 -4.78125 C -3.289063 -5.085938 -3.09375 -5.324219 -2.84375 -5.503906 C -2.585938 -5.675781 -2.273438 -5.765625 -1.90625 -5.769531 C -1.535156 -5.765625 -1.191406 -5.65625 -0.867188 -5.445313 C -0.542969 -5.226563 -0.292969 -4.917969 -0.117188 -4.519531 C 0.0585938 -4.113281 0.144531 -3.660156 0.148438 -3.15625 C 0.144531 -2.308594 -0.0273438 -1.664063 -0.375 -1.226563 C -0.726563 -0.78125 -1.246094 -0.5 -1.933594 -0.382813 Z M -1.933594 -0.382813 \"/>\n",
       "</symbol>\n",
       "<symbol overflow=\"visible\" id=\"glyph1-9\">\n",
       "<path style=\"stroke:none;\" d=\"M -0.984375 -3.222656 L -0.0117188 -3.382813 C 0.0507813 -3.070313 0.0820313 -2.792969 0.0859375 -2.550781 C 0.0820313 -2.148438 0.0234375 -1.839844 -0.101563 -1.621094 C -0.226563 -1.398438 -0.394531 -1.242188 -0.601563 -1.15625 C -0.804688 -1.0625 -1.238281 -1.019531 -1.898438 -1.023438 L -5.628906 -1.023438 L -5.628906 -0.21875 L -6.480469 -0.21875 L -6.480469 -1.023438 L -8.085938 -1.023438 L -8.746094 -2.117188 L -6.480469 -2.117188 L -6.480469 -3.222656 L -5.628906 -3.222656 L -5.628906 -2.117188 L -1.835938 -2.117188 C -1.519531 -2.113281 -1.320313 -2.132813 -1.230469 -2.175781 C -1.140625 -2.210938 -1.070313 -2.273438 -1.019531 -2.363281 C -0.964844 -2.449219 -0.9375 -2.578125 -0.941406 -2.742188 C -0.9375 -2.859375 -0.953125 -3.019531 -0.984375 -3.222656 Z M -0.984375 -3.222656 \"/>\n",
       "</symbol>\n",
       "</g>\n",
       "<clipPath id=\"clip1\">\n",
       "  <path d=\"M 59.039063 59.039063 L 474.757813 59.039063 L 474.757813 431.558594 L 59.039063 431.558594 Z M 59.039063 59.039063 \"/>\n",
       "</clipPath>\n",
       "<clipPath id=\"clip2\">\n",
       "  <path d=\"M 59.039063 59.039063 L 474.757813 59.039063 L 474.757813 431.558594 L 59.039063 431.558594 Z M 59.039063 59.039063 \"/>\n",
       "</clipPath>\n",
       "</defs>\n",
       "<g id=\"surface56\">\n",
       "<rect x=\"0\" y=\"0\" width=\"504\" height=\"504\" style=\"fill:rgb(100%,100%,100%);fill-opacity:1;stroke:none;\"/>\n",
       "<g clip-path=\"url(#clip1)\" clip-rule=\"nonzero\">\n",
       "<path style=\"fill:none;stroke-width:1;stroke-linecap:round;stroke-linejoin:round;stroke:rgb(0%,0%,0%);stroke-opacity:1;stroke-miterlimit:10;\" d=\"M 77.601563 416.800781 C 77.601563 421.066406 71.199219 421.066406 71.199219 416.800781 C 71.199219 412.535156 77.601563 412.535156 77.601563 416.800781 \"/>\n",
       "<path style=\"fill:none;stroke-width:1;stroke-linecap:round;stroke-linejoin:round;stroke:rgb(0%,0%,0%);stroke-opacity:1;stroke-miterlimit:10;\" d=\"M 77.601563 393.476563 C 77.601563 397.746094 71.199219 397.746094 71.199219 393.476563 C 71.199219 389.210938 77.601563 389.210938 77.601563 393.476563 \"/>\n",
       "<path style=\"fill:none;stroke-width:1;stroke-linecap:round;stroke-linejoin:round;stroke:rgb(0%,0%,0%);stroke-opacity:1;stroke-miterlimit:10;\" d=\"M 132.457031 410.96875 C 132.457031 415.234375 126.058594 415.234375 126.058594 410.96875 C 126.058594 406.703125 132.457031 406.703125 132.457031 410.96875 \"/>\n",
       "<path style=\"fill:none;stroke-width:1;stroke-linecap:round;stroke-linejoin:round;stroke:rgb(0%,0%,0%);stroke-opacity:1;stroke-miterlimit:10;\" d=\"M 132.457031 358.496094 C 132.457031 362.761719 126.058594 362.761719 126.058594 358.496094 C 126.058594 354.226563 132.457031 354.226563 132.457031 358.496094 \"/>\n",
       "<path style=\"fill:none;stroke-width:1;stroke-linecap:round;stroke-linejoin:round;stroke:rgb(0%,0%,0%);stroke-opacity:1;stroke-miterlimit:10;\" d=\"M 150.742188 375.988281 C 150.742188 380.253906 144.34375 380.253906 144.34375 375.988281 C 144.34375 371.71875 150.742188 371.71875 150.742188 375.988281 \"/>\n",
       "<path style=\"fill:none;stroke-width:1;stroke-linecap:round;stroke-linejoin:round;stroke:rgb(0%,0%,0%);stroke-opacity:1;stroke-miterlimit:10;\" d=\"M 169.027344 393.476563 C 169.027344 397.746094 162.628906 397.746094 162.628906 393.476563 C 162.628906 389.210938 169.027344 389.210938 169.027344 393.476563 \"/>\n",
       "<path style=\"fill:none;stroke-width:1;stroke-linecap:round;stroke-linejoin:round;stroke:rgb(0%,0%,0%);stroke-opacity:1;stroke-miterlimit:10;\" d=\"M 187.3125 370.15625 C 187.3125 374.421875 180.914063 374.421875 180.914063 370.15625 C 180.914063 365.890625 187.3125 365.890625 187.3125 370.15625 \"/>\n",
       "<path style=\"fill:none;stroke-width:1;stroke-linecap:round;stroke-linejoin:round;stroke:rgb(0%,0%,0%);stroke-opacity:1;stroke-miterlimit:10;\" d=\"M 187.3125 346.832031 C 187.3125 351.101563 180.914063 351.101563 180.914063 346.832031 C 180.914063 342.566406 187.3125 342.566406 187.3125 346.832031 \"/>\n",
       "<path style=\"fill:none;stroke-width:1;stroke-linecap:round;stroke-linejoin:round;stroke:rgb(0%,0%,0%);stroke-opacity:1;stroke-miterlimit:10;\" d=\"M 187.3125 323.511719 C 187.3125 327.777344 180.914063 327.777344 180.914063 323.511719 C 180.914063 319.246094 187.3125 319.246094 187.3125 323.511719 \"/>\n",
       "<path style=\"fill:none;stroke-width:1;stroke-linecap:round;stroke-linejoin:round;stroke:rgb(0%,0%,0%);stroke-opacity:1;stroke-miterlimit:10;\" d=\"M 205.601563 373.070313 C 205.601563 377.335938 199.199219 377.335938 199.199219 373.070313 C 199.199219 368.804688 205.601563 368.804688 205.601563 373.070313 \"/>\n",
       "<path style=\"fill:none;stroke-width:1;stroke-linecap:round;stroke-linejoin:round;stroke:rgb(0%,0%,0%);stroke-opacity:1;stroke-miterlimit:10;\" d=\"M 205.601563 341.003906 C 205.601563 345.269531 199.199219 345.269531 199.199219 341.003906 C 199.199219 336.738281 205.601563 336.738281 205.601563 341.003906 \"/>\n",
       "<path style=\"fill:none;stroke-width:1;stroke-linecap:round;stroke-linejoin:round;stroke:rgb(0%,0%,0%);stroke-opacity:1;stroke-miterlimit:10;\" d=\"M 223.886719 381.816406 C 223.886719 386.082031 217.484375 386.082031 217.484375 381.816406 C 217.484375 377.550781 223.886719 377.550781 223.886719 381.816406 \"/>\n",
       "<path style=\"fill:none;stroke-width:1;stroke-linecap:round;stroke-linejoin:round;stroke:rgb(0%,0%,0%);stroke-opacity:1;stroke-miterlimit:10;\" d=\"M 223.886719 364.324219 C 223.886719 368.59375 217.484375 368.59375 217.484375 364.324219 C 217.484375 360.058594 223.886719 360.058594 223.886719 364.324219 \"/>\n",
       "<path style=\"fill:none;stroke-width:1;stroke-linecap:round;stroke-linejoin:round;stroke:rgb(0%,0%,0%);stroke-opacity:1;stroke-miterlimit:10;\" d=\"M 223.886719 352.664063 C 223.886719 356.929688 217.484375 356.929688 217.484375 352.664063 C 217.484375 348.398438 223.886719 348.398438 223.886719 352.664063 \"/>\n",
       "<path style=\"fill:none;stroke-width:1;stroke-linecap:round;stroke-linejoin:round;stroke:rgb(0%,0%,0%);stroke-opacity:1;stroke-miterlimit:10;\" d=\"M 223.886719 341.003906 C 223.886719 345.269531 217.484375 345.269531 217.484375 341.003906 C 217.484375 336.738281 223.886719 336.738281 223.886719 341.003906 \"/>\n",
       "<path style=\"fill:none;stroke-width:1;stroke-linecap:round;stroke-linejoin:round;stroke:rgb(0%,0%,0%);stroke-opacity:1;stroke-miterlimit:10;\" d=\"M 242.171875 346.832031 C 242.171875 351.101563 235.769531 351.101563 235.769531 346.832031 C 235.769531 342.566406 242.171875 342.566406 242.171875 346.832031 \"/>\n",
       "<path style=\"fill:none;stroke-width:1;stroke-linecap:round;stroke-linejoin:round;stroke:rgb(0%,0%,0%);stroke-opacity:1;stroke-miterlimit:10;\" d=\"M 242.171875 323.511719 C 242.171875 327.777344 235.769531 327.777344 235.769531 323.511719 C 235.769531 319.246094 242.171875 319.246094 242.171875 323.511719 \"/>\n",
       "<path style=\"fill:none;stroke-width:1;stroke-linecap:round;stroke-linejoin:round;stroke:rgb(0%,0%,0%);stroke-opacity:1;stroke-miterlimit:10;\" d=\"M 242.171875 323.511719 C 242.171875 327.777344 235.769531 327.777344 235.769531 323.511719 C 235.769531 319.246094 242.171875 319.246094 242.171875 323.511719 \"/>\n",
       "<path style=\"fill:none;stroke-width:1;stroke-linecap:round;stroke-linejoin:round;stroke:rgb(0%,0%,0%);stroke-opacity:1;stroke-miterlimit:10;\" d=\"M 242.171875 288.527344 C 242.171875 292.796875 235.769531 292.796875 235.769531 288.527344 C 235.769531 284.261719 242.171875 284.261719 242.171875 288.527344 \"/>\n",
       "<path style=\"fill:none;stroke-width:1;stroke-linecap:round;stroke-linejoin:round;stroke:rgb(0%,0%,0%);stroke-opacity:1;stroke-miterlimit:10;\" d=\"M 260.457031 346.832031 C 260.457031 351.101563 254.058594 351.101563 254.058594 346.832031 C 254.058594 342.566406 260.457031 342.566406 260.457031 346.832031 \"/>\n",
       "<path style=\"fill:none;stroke-width:1;stroke-linecap:round;stroke-linejoin:round;stroke:rgb(0%,0%,0%);stroke-opacity:1;stroke-miterlimit:10;\" d=\"M 260.457031 317.679688 C 260.457031 321.949219 254.058594 321.949219 254.058594 317.679688 C 254.058594 313.414063 260.457031 313.414063 260.457031 317.679688 \"/>\n",
       "<path style=\"fill:none;stroke-width:1;stroke-linecap:round;stroke-linejoin:round;stroke:rgb(0%,0%,0%);stroke-opacity:1;stroke-miterlimit:10;\" d=\"M 260.457031 247.714844 C 260.457031 251.980469 254.058594 251.980469 254.058594 247.714844 C 254.058594 243.449219 260.457031 243.449219 260.457031 247.714844 \"/>\n",
       "<path style=\"fill:none;stroke-width:1;stroke-linecap:round;stroke-linejoin:round;stroke:rgb(0%,0%,0%);stroke-opacity:1;stroke-miterlimit:10;\" d=\"M 260.457031 189.410156 C 260.457031 193.675781 254.058594 193.675781 254.058594 189.410156 C 254.058594 185.144531 260.457031 185.144531 260.457031 189.410156 \"/>\n",
       "<path style=\"fill:none;stroke-width:1;stroke-linecap:round;stroke-linejoin:round;stroke:rgb(0%,0%,0%);stroke-opacity:1;stroke-miterlimit:10;\" d=\"M 278.742188 364.324219 C 278.742188 368.59375 272.34375 368.59375 272.34375 364.324219 C 272.34375 360.058594 278.742188 360.058594 278.742188 364.324219 \"/>\n",
       "<path style=\"fill:none;stroke-width:1;stroke-linecap:round;stroke-linejoin:round;stroke:rgb(0%,0%,0%);stroke-opacity:1;stroke-miterlimit:10;\" d=\"M 278.742188 346.832031 C 278.742188 351.101563 272.34375 351.101563 272.34375 346.832031 C 272.34375 342.566406 278.742188 342.566406 278.742188 346.832031 \"/>\n",
       "<path style=\"fill:none;stroke-width:1;stroke-linecap:round;stroke-linejoin:round;stroke:rgb(0%,0%,0%);stroke-opacity:1;stroke-miterlimit:10;\" d=\"M 278.742188 265.207031 C 278.742188 269.472656 272.34375 269.472656 272.34375 265.207031 C 272.34375 260.941406 278.742188 260.941406 278.742188 265.207031 \"/>\n",
       "<path style=\"fill:none;stroke-width:1;stroke-linecap:round;stroke-linejoin:round;stroke:rgb(0%,0%,0%);stroke-opacity:1;stroke-miterlimit:10;\" d=\"M 297.027344 329.34375 C 297.027344 333.609375 290.628906 333.609375 290.628906 329.34375 C 290.628906 325.074219 297.027344 325.074219 297.027344 329.34375 \"/>\n",
       "<path style=\"fill:none;stroke-width:1;stroke-linecap:round;stroke-linejoin:round;stroke:rgb(0%,0%,0%);stroke-opacity:1;stroke-miterlimit:10;\" d=\"M 297.027344 306.019531 C 297.027344 310.285156 290.628906 310.285156 290.628906 306.019531 C 290.628906 301.753906 297.027344 301.753906 297.027344 306.019531 \"/>\n",
       "<path style=\"fill:none;stroke-width:1;stroke-linecap:round;stroke-linejoin:round;stroke:rgb(0%,0%,0%);stroke-opacity:1;stroke-miterlimit:10;\" d=\"M 315.3125 329.34375 C 315.3125 333.609375 308.914063 333.609375 308.914063 329.34375 C 308.914063 325.074219 315.3125 325.074219 315.3125 329.34375 \"/>\n",
       "<path style=\"fill:none;stroke-width:1;stroke-linecap:round;stroke-linejoin:round;stroke:rgb(0%,0%,0%);stroke-opacity:1;stroke-miterlimit:10;\" d=\"M 315.3125 306.019531 C 315.3125 310.285156 308.914063 310.285156 308.914063 306.019531 C 308.914063 301.753906 315.3125 301.753906 315.3125 306.019531 \"/>\n",
       "<path style=\"fill:none;stroke-width:1;stroke-linecap:round;stroke-linejoin:round;stroke:rgb(0%,0%,0%);stroke-opacity:1;stroke-miterlimit:10;\" d=\"M 315.3125 276.867188 C 315.3125 281.132813 308.914063 281.132813 308.914063 276.867188 C 308.914063 272.601563 315.3125 272.601563 315.3125 276.867188 \"/>\n",
       "<path style=\"fill:none;stroke-width:1;stroke-linecap:round;stroke-linejoin:round;stroke:rgb(0%,0%,0%);stroke-opacity:1;stroke-miterlimit:10;\" d=\"M 333.601563 300.191406 C 333.601563 304.457031 327.199219 304.457031 327.199219 300.191406 C 327.199219 295.921875 333.601563 295.921875 333.601563 300.191406 \"/>\n",
       "<path style=\"fill:none;stroke-width:1;stroke-linecap:round;stroke-linejoin:round;stroke:rgb(0%,0%,0%);stroke-opacity:1;stroke-miterlimit:10;\" d=\"M 333.601563 259.375 C 333.601563 263.644531 327.199219 263.644531 327.199219 259.375 C 327.199219 255.109375 333.601563 255.109375 333.601563 259.375 \"/>\n",
       "<path style=\"fill:none;stroke-width:1;stroke-linecap:round;stroke-linejoin:round;stroke:rgb(0%,0%,0%);stroke-opacity:1;stroke-miterlimit:10;\" d=\"M 333.601563 201.070313 C 333.601563 205.335938 327.199219 205.335938 327.199219 201.070313 C 327.199219 196.804688 333.601563 196.804688 333.601563 201.070313 \"/>\n",
       "<path style=\"fill:none;stroke-width:1;stroke-linecap:round;stroke-linejoin:round;stroke:rgb(0%,0%,0%);stroke-opacity:1;stroke-miterlimit:10;\" d=\"M 333.601563 177.75 C 333.601563 182.015625 327.199219 182.015625 327.199219 177.75 C 327.199219 173.484375 333.601563 173.484375 333.601563 177.75 \"/>\n",
       "<path style=\"fill:none;stroke-width:1;stroke-linecap:round;stroke-linejoin:round;stroke:rgb(0%,0%,0%);stroke-opacity:1;stroke-miterlimit:10;\" d=\"M 351.886719 317.679688 C 351.886719 321.949219 345.484375 321.949219 345.484375 317.679688 C 345.484375 313.414063 351.886719 313.414063 351.886719 317.679688 \"/>\n",
       "<path style=\"fill:none;stroke-width:1;stroke-linecap:round;stroke-linejoin:round;stroke:rgb(0%,0%,0%);stroke-opacity:1;stroke-miterlimit:10;\" d=\"M 351.886719 288.527344 C 351.886719 292.796875 345.484375 292.796875 345.484375 288.527344 C 345.484375 284.261719 351.886719 284.261719 351.886719 288.527344 \"/>\n",
       "<path style=\"fill:none;stroke-width:1;stroke-linecap:round;stroke-linejoin:round;stroke:rgb(0%,0%,0%);stroke-opacity:1;stroke-miterlimit:10;\" d=\"M 351.886719 224.394531 C 351.886719 228.660156 345.484375 228.660156 345.484375 224.394531 C 345.484375 220.125 351.886719 220.125 351.886719 224.394531 \"/>\n",
       "<path style=\"fill:none;stroke-width:1;stroke-linecap:round;stroke-linejoin:round;stroke:rgb(0%,0%,0%);stroke-opacity:1;stroke-miterlimit:10;\" d=\"M 370.171875 329.34375 C 370.171875 333.609375 363.769531 333.609375 363.769531 329.34375 C 363.769531 325.074219 370.171875 325.074219 370.171875 329.34375 \"/>\n",
       "<path style=\"fill:none;stroke-width:1;stroke-linecap:round;stroke-linejoin:round;stroke:rgb(0%,0%,0%);stroke-opacity:1;stroke-miterlimit:10;\" d=\"M 370.171875 282.699219 C 370.171875 286.964844 363.769531 286.964844 363.769531 282.699219 C 363.769531 278.429688 370.171875 278.429688 370.171875 282.699219 \"/>\n",
       "<path style=\"fill:none;stroke-width:1;stroke-linecap:round;stroke-linejoin:round;stroke:rgb(0%,0%,0%);stroke-opacity:1;stroke-miterlimit:10;\" d=\"M 370.171875 271.039063 C 370.171875 275.304688 363.769531 275.304688 363.769531 271.039063 C 363.769531 266.769531 370.171875 266.769531 370.171875 271.039063 \"/>\n",
       "<path style=\"fill:none;stroke-width:1;stroke-linecap:round;stroke-linejoin:round;stroke:rgb(0%,0%,0%);stroke-opacity:1;stroke-miterlimit:10;\" d=\"M 370.171875 259.375 C 370.171875 263.644531 363.769531 263.644531 363.769531 259.375 C 363.769531 255.109375 370.171875 255.109375 370.171875 259.375 \"/>\n",
       "<path style=\"fill:none;stroke-width:1;stroke-linecap:round;stroke-linejoin:round;stroke:rgb(0%,0%,0%);stroke-opacity:1;stroke-miterlimit:10;\" d=\"M 370.171875 236.054688 C 370.171875 240.320313 363.769531 240.320313 363.769531 236.054688 C 363.769531 231.789063 370.171875 231.789063 370.171875 236.054688 \"/>\n",
       "<path style=\"fill:none;stroke-width:1;stroke-linecap:round;stroke-linejoin:round;stroke:rgb(0%,0%,0%);stroke-opacity:1;stroke-miterlimit:10;\" d=\"M 406.742188 230.222656 C 406.742188 234.492188 400.34375 234.492188 400.34375 230.222656 C 400.34375 225.957031 406.742188 225.957031 406.742188 230.222656 \"/>\n",
       "<path style=\"fill:none;stroke-width:1;stroke-linecap:round;stroke-linejoin:round;stroke:rgb(0%,0%,0%);stroke-opacity:1;stroke-miterlimit:10;\" d=\"M 425.027344 265.207031 C 425.027344 269.472656 418.628906 269.472656 418.628906 265.207031 C 418.628906 260.941406 425.027344 260.941406 425.027344 265.207031 \"/>\n",
       "<path style=\"fill:none;stroke-width:1;stroke-linecap:round;stroke-linejoin:round;stroke:rgb(0%,0%,0%);stroke-opacity:1;stroke-miterlimit:10;\" d=\"M 443.3125 218.5625 C 443.3125 222.828125 436.914063 222.828125 436.914063 218.5625 C 436.914063 214.296875 443.3125 214.296875 443.3125 218.5625 \"/>\n",
       "<path style=\"fill:none;stroke-width:1;stroke-linecap:round;stroke-linejoin:round;stroke:rgb(0%,0%,0%);stroke-opacity:1;stroke-miterlimit:10;\" d=\"M 443.3125 154.425781 C 443.3125 158.695313 436.914063 158.695313 436.914063 154.425781 C 436.914063 150.160156 443.3125 150.160156 443.3125 154.425781 \"/>\n",
       "<path style=\"fill:none;stroke-width:1;stroke-linecap:round;stroke-linejoin:round;stroke:rgb(0%,0%,0%);stroke-opacity:1;stroke-miterlimit:10;\" d=\"M 443.3125 151.511719 C 443.3125 155.777344 436.914063 155.777344 436.914063 151.511719 C 436.914063 147.246094 443.3125 147.246094 443.3125 151.511719 \"/>\n",
       "<path style=\"fill:none;stroke-width:1;stroke-linecap:round;stroke-linejoin:round;stroke:rgb(0%,0%,0%);stroke-opacity:1;stroke-miterlimit:10;\" d=\"M 443.3125 72.800781 C 443.3125 77.066406 436.914063 77.066406 436.914063 72.800781 C 436.914063 68.535156 443.3125 68.535156 443.3125 72.800781 \"/>\n",
       "<path style=\"fill:none;stroke-width:1;stroke-linecap:round;stroke-linejoin:round;stroke:rgb(0%,0%,0%);stroke-opacity:1;stroke-miterlimit:10;\" d=\"M 461.601563 174.832031 C 461.601563 179.101563 455.199219 179.101563 455.199219 174.832031 C 455.199219 170.566406 461.601563 170.566406 461.601563 174.832031 \"/>\n",
       "</g>\n",
       "<path style=\"fill:none;stroke-width:1;stroke-linecap:round;stroke-linejoin:round;stroke:rgb(0%,0%,0%);stroke-opacity:1;stroke-miterlimit:10;\" d=\"M 92.6875 430.558594 L 458.398438 430.558594 \"/>\n",
       "<path style=\"fill:none;stroke-width:1;stroke-linecap:round;stroke-linejoin:round;stroke:rgb(0%,0%,0%);stroke-opacity:1;stroke-miterlimit:10;\" d=\"M 92.6875 430.558594 L 92.6875 437.761719 \"/>\n",
       "<path style=\"fill:none;stroke-width:1;stroke-linecap:round;stroke-linejoin:round;stroke:rgb(0%,0%,0%);stroke-opacity:1;stroke-miterlimit:10;\" d=\"M 184.113281 430.558594 L 184.113281 437.761719 \"/>\n",
       "<path style=\"fill:none;stroke-width:1;stroke-linecap:round;stroke-linejoin:round;stroke:rgb(0%,0%,0%);stroke-opacity:1;stroke-miterlimit:10;\" d=\"M 275.542969 430.558594 L 275.542969 437.761719 \"/>\n",
       "<path style=\"fill:none;stroke-width:1;stroke-linecap:round;stroke-linejoin:round;stroke:rgb(0%,0%,0%);stroke-opacity:1;stroke-miterlimit:10;\" d=\"M 366.972656 430.558594 L 366.972656 437.761719 \"/>\n",
       "<path style=\"fill:none;stroke-width:1;stroke-linecap:round;stroke-linejoin:round;stroke:rgb(0%,0%,0%);stroke-opacity:1;stroke-miterlimit:10;\" d=\"M 458.398438 430.558594 L 458.398438 437.761719 \"/>\n",
       "<g style=\"fill:rgb(0%,0%,0%);fill-opacity:1;\">\n",
       "  <use xlink:href=\"#glyph0-0\" x=\"89.210938\" y=\"457.921875\"/>\n",
       "</g>\n",
       "<g style=\"fill:rgb(0%,0%,0%);fill-opacity:1;\">\n",
       "  <use xlink:href=\"#glyph0-1\" x=\"177.160156\" y=\"457.921875\"/>\n",
       "  <use xlink:href=\"#glyph0-2\" x=\"184.112061\" y=\"457.921875\"/>\n",
       "</g>\n",
       "<g style=\"fill:rgb(0%,0%,0%);fill-opacity:1;\">\n",
       "  <use xlink:href=\"#glyph0-1\" x=\"268.589844\" y=\"457.921875\"/>\n",
       "  <use xlink:href=\"#glyph0-0\" x=\"275.541748\" y=\"457.921875\"/>\n",
       "</g>\n",
       "<g style=\"fill:rgb(0%,0%,0%);fill-opacity:1;\">\n",
       "  <use xlink:href=\"#glyph0-3\" x=\"360.019531\" y=\"457.921875\"/>\n",
       "  <use xlink:href=\"#glyph0-2\" x=\"366.971436\" y=\"457.921875\"/>\n",
       "</g>\n",
       "<g style=\"fill:rgb(0%,0%,0%);fill-opacity:1;\">\n",
       "  <use xlink:href=\"#glyph0-3\" x=\"451.445313\" y=\"457.921875\"/>\n",
       "  <use xlink:href=\"#glyph0-0\" x=\"458.397217\" y=\"457.921875\"/>\n",
       "</g>\n",
       "<path style=\"fill:none;stroke-width:1;stroke-linecap:round;stroke-linejoin:round;stroke:rgb(0%,0%,0%);stroke-opacity:1;stroke-miterlimit:10;\" d=\"M 59.039063 422.628906 L 59.039063 72.800781 \"/>\n",
       "<path style=\"fill:none;stroke-width:1;stroke-linecap:round;stroke-linejoin:round;stroke:rgb(0%,0%,0%);stroke-opacity:1;stroke-miterlimit:10;\" d=\"M 59.039063 422.628906 L 51.839844 422.628906 \"/>\n",
       "<path style=\"fill:none;stroke-width:1;stroke-linecap:round;stroke-linejoin:round;stroke:rgb(0%,0%,0%);stroke-opacity:1;stroke-miterlimit:10;\" d=\"M 59.039063 364.324219 L 51.839844 364.324219 \"/>\n",
       "<path style=\"fill:none;stroke-width:1;stroke-linecap:round;stroke-linejoin:round;stroke:rgb(0%,0%,0%);stroke-opacity:1;stroke-miterlimit:10;\" d=\"M 59.039063 306.019531 L 51.839844 306.019531 \"/>\n",
       "<path style=\"fill:none;stroke-width:1;stroke-linecap:round;stroke-linejoin:round;stroke:rgb(0%,0%,0%);stroke-opacity:1;stroke-miterlimit:10;\" d=\"M 59.039063 247.714844 L 51.839844 247.714844 \"/>\n",
       "<path style=\"fill:none;stroke-width:1;stroke-linecap:round;stroke-linejoin:round;stroke:rgb(0%,0%,0%);stroke-opacity:1;stroke-miterlimit:10;\" d=\"M 59.039063 189.410156 L 51.839844 189.410156 \"/>\n",
       "<path style=\"fill:none;stroke-width:1;stroke-linecap:round;stroke-linejoin:round;stroke:rgb(0%,0%,0%);stroke-opacity:1;stroke-miterlimit:10;\" d=\"M 59.039063 131.105469 L 51.839844 131.105469 \"/>\n",
       "<path style=\"fill:none;stroke-width:1;stroke-linecap:round;stroke-linejoin:round;stroke:rgb(0%,0%,0%);stroke-opacity:1;stroke-miterlimit:10;\" d=\"M 59.039063 72.800781 L 51.839844 72.800781 \"/>\n",
       "<g style=\"fill:rgb(0%,0%,0%);fill-opacity:1;\">\n",
       "  <use xlink:href=\"#glyph1-0\" x=\"43.199219\" y=\"426.105469\"/>\n",
       "</g>\n",
       "<g style=\"fill:rgb(0%,0%,0%);fill-opacity:1;\">\n",
       "  <use xlink:href=\"#glyph1-1\" x=\"43.199219\" y=\"371.277344\"/>\n",
       "  <use xlink:href=\"#glyph1-0\" x=\"43.199219\" y=\"364.325439\"/>\n",
       "</g>\n",
       "<g style=\"fill:rgb(0%,0%,0%);fill-opacity:1;\">\n",
       "  <use xlink:href=\"#glyph1-2\" x=\"43.199219\" y=\"312.972656\"/>\n",
       "  <use xlink:href=\"#glyph1-0\" x=\"43.199219\" y=\"306.020752\"/>\n",
       "</g>\n",
       "<g style=\"fill:rgb(0%,0%,0%);fill-opacity:1;\">\n",
       "  <use xlink:href=\"#glyph1-3\" x=\"43.199219\" y=\"254.667969\"/>\n",
       "  <use xlink:href=\"#glyph1-0\" x=\"43.199219\" y=\"247.716064\"/>\n",
       "</g>\n",
       "<g style=\"fill:rgb(0%,0%,0%);fill-opacity:1;\">\n",
       "  <use xlink:href=\"#glyph1-4\" x=\"43.199219\" y=\"196.363281\"/>\n",
       "  <use xlink:href=\"#glyph1-0\" x=\"43.199219\" y=\"189.411377\"/>\n",
       "</g>\n",
       "<g style=\"fill:rgb(0%,0%,0%);fill-opacity:1;\">\n",
       "  <use xlink:href=\"#glyph1-5\" x=\"43.199219\" y=\"141.535156\"/>\n",
       "  <use xlink:href=\"#glyph1-0\" x=\"43.199219\" y=\"134.583252\"/>\n",
       "  <use xlink:href=\"#glyph1-0\" x=\"43.199219\" y=\"127.631348\"/>\n",
       "</g>\n",
       "<g style=\"fill:rgb(0%,0%,0%);fill-opacity:1;\">\n",
       "  <use xlink:href=\"#glyph1-5\" x=\"43.199219\" y=\"83.230469\"/>\n",
       "  <use xlink:href=\"#glyph1-1\" x=\"43.199219\" y=\"76.278564\"/>\n",
       "  <use xlink:href=\"#glyph1-0\" x=\"43.199219\" y=\"69.32666\"/>\n",
       "</g>\n",
       "<path style=\"fill:none;stroke-width:1;stroke-linecap:round;stroke-linejoin:round;stroke:rgb(0%,0%,0%);stroke-opacity:1;stroke-miterlimit:10;\" d=\"M 59.039063 430.558594 L 473.761719 430.558594 L 473.761719 59.039063 L 59.039063 59.039063 L 59.039063 430.558594 \"/>\n",
       "<g style=\"fill:rgb(0%,0%,0%);fill-opacity:1;\">\n",
       "  <use xlink:href=\"#glyph0-4\" x=\"249.371094\" y=\"486.71875\"/>\n",
       "  <use xlink:href=\"#glyph0-5\" x=\"255.621094\" y=\"486.71875\"/>\n",
       "  <use xlink:href=\"#glyph0-6\" x=\"262.572998\" y=\"486.71875\"/>\n",
       "  <use xlink:href=\"#glyph0-6\" x=\"269.524902\" y=\"486.71875\"/>\n",
       "  <use xlink:href=\"#glyph0-7\" x=\"276.476807\" y=\"486.71875\"/>\n",
       "</g>\n",
       "<g style=\"fill:rgb(0%,0%,0%);fill-opacity:1;\">\n",
       "  <use xlink:href=\"#glyph1-6\" x=\"14.398438\" y=\"254.527344\"/>\n",
       "  <use xlink:href=\"#glyph1-7\" x=\"14.398438\" y=\"247.575439\"/>\n",
       "  <use xlink:href=\"#glyph1-8\" x=\"14.398438\" y=\"244.79834\"/>\n",
       "  <use xlink:href=\"#glyph1-9\" x=\"14.398438\" y=\"238.54834\"/>\n",
       "</g>\n",
       "<g clip-path=\"url(#clip2)\" clip-rule=\"nonzero\">\n",
       "<path style=\"fill:none;stroke-width:1;stroke-linecap:round;stroke-linejoin:round;stroke:rgb(0%,0%,0%);stroke-opacity:1;stroke-miterlimit:10;\" d=\"M 74.398438 408.15625 L 129.257813 384.371094 L 147.542969 376.398438 L 165.828125 368.464844 L 184.113281 360.59375 L 202.398438 352.289063 L 220.6875 343.570313 L 238.972656 335.09375 L 257.257813 326.535156 L 275.542969 315.472656 L 293.828125 304.753906 L 312.113281 295.921875 L 330.398438 285.949219 L 348.6875 274.554688 L 366.972656 257.945313 L 403.542969 225.601563 L 421.828125 209.585938 L 440.113281 193.367188 L 458.398438 176.789063 \"/>\n",
       "</g>\n",
       "</g>\n",
       "</svg>\n"
      ],
      "text/plain": [
       "plot without title"
      ]
     },
     "metadata": {
      "image/svg+xml": {
       "isolated": true
      }
     },
     "output_type": "display_data"
    },
    {
     "name": "stdout",
     "output_type": "stream",
     "text": [
      "\n",
      "plot> ## Discrete Distribution Plot:\n",
      "plot> plot(table(rpois(100, 5)), type = \"h\", col = \"red\", lwd = 10,\n",
      "plot+      main = \"rpois(100, lambda = 5)\")\n"
     ]
    },
    {
     "data": {
      "image/png": "[encoded data removed]",
      "image/svg+xml": [
       "<?xml version=\"1.0\" encoding=\"UTF-8\"?>\n",
       "<svg xmlns=\"http://www.w3.org/2000/svg\" xmlns:xlink=\"http://www.w3.org/1999/xlink\" width=\"504pt\" height=\"504pt\" viewBox=\"0 0 504 504\" version=\"1.1\">\n",
       "<defs>\n",
       "<g>\n",
       "<symbol overflow=\"visible\" id=\"glyph0-0\">\n",
       "<path style=\"stroke:none;\" d=\"M 0.398438 -2.6875 L 0.398438 -3.789063 L 3.773438 -3.789063 L 3.773438 -2.6875 Z M 0.398438 -2.6875 \"/>\n",
       "</symbol>\n",
       "<symbol overflow=\"visible\" id=\"glyph0-1\">\n",
       "<path style=\"stroke:none;\" d=\"M 6.292969 -1.054688 L 6.292969 0 L 0.378906 0 C 0.367188 -0.265625 0.410156 -0.519531 0.507813 -0.761719 C 0.65625 -1.164063 0.898438 -1.558594 1.230469 -1.953125 C 1.558594 -2.339844 2.035156 -2.792969 2.667969 -3.308594 C 3.636719 -4.101563 4.292969 -4.734375 4.636719 -5.203125 C 4.976563 -5.667969 5.148438 -6.105469 5.152344 -6.523438 C 5.148438 -6.957031 4.992188 -7.324219 4.683594 -7.625 C 4.371094 -7.921875 3.96875 -8.074219 3.46875 -8.074219 C 2.9375 -8.074219 2.511719 -7.914063 2.195313 -7.597656 C 1.878906 -7.277344 1.71875 -6.839844 1.714844 -6.28125 L 0.585938 -6.398438 C 0.664063 -7.238281 0.953125 -7.878906 1.457031 -8.320313 C 1.960938 -8.761719 2.640625 -8.980469 3.492188 -8.984375 C 4.347656 -8.980469 5.023438 -8.742188 5.527344 -8.269531 C 6.027344 -7.789063 6.28125 -7.199219 6.28125 -6.5 C 6.28125 -6.140625 6.207031 -5.789063 6.058594 -5.445313 C 5.910156 -5.09375 5.664063 -4.730469 5.328125 -4.351563 C 4.984375 -3.964844 4.421875 -3.441406 3.636719 -2.777344 C 2.976563 -2.222656 2.554688 -1.84375 2.367188 -1.648438 C 2.179688 -1.449219 2.023438 -1.253906 1.90625 -1.054688 Z M 6.292969 -1.054688 \"/>\n",
       "</symbol>\n",
       "<symbol overflow=\"visible\" id=\"glyph0-2\">\n",
       "<path style=\"stroke:none;\" d=\"M 0.519531 -4.414063 C 0.515625 -5.46875 0.625 -6.320313 0.84375 -6.964844 C 1.0625 -7.609375 1.386719 -8.105469 1.816406 -8.457031 C 2.246094 -8.804688 2.785156 -8.980469 3.4375 -8.984375 C 3.914063 -8.980469 4.335938 -8.886719 4.699219 -8.695313 C 5.058594 -8.5 5.355469 -8.21875 5.59375 -7.859375 C 5.828125 -7.492188 6.015625 -7.050781 6.152344 -6.527344 C 6.285156 -6.003906 6.351563 -5.296875 6.355469 -4.414063 C 6.351563 -3.359375 6.242188 -2.511719 6.03125 -1.871094 C 5.8125 -1.222656 5.492188 -0.726563 5.0625 -0.375 C 4.632813 -0.0234375 4.089844 0.152344 3.4375 0.152344 C 2.570313 0.152344 1.890625 -0.15625 1.402344 -0.773438 C 0.808594 -1.515625 0.515625 -2.726563 0.519531 -4.414063 Z M 1.648438 -4.414063 C 1.644531 -2.941406 1.816406 -1.964844 2.164063 -1.480469 C 2.503906 -0.992188 2.929688 -0.75 3.4375 -0.75 C 3.9375 -0.75 4.359375 -0.992188 4.707031 -1.480469 C 5.050781 -1.96875 5.226563 -2.945313 5.226563 -4.414063 C 5.226563 -5.882813 5.050781 -6.863281 4.707031 -7.347656 C 4.359375 -7.832031 3.933594 -8.074219 3.425781 -8.074219 C 2.917969 -8.074219 2.515625 -7.859375 2.214844 -7.433594 C 1.835938 -6.886719 1.644531 -5.878906 1.648438 -4.414063 Z M 1.648438 -4.414063 \"/>\n",
       "</symbol>\n",
       "<symbol overflow=\"visible\" id=\"glyph0-3\">\n",
       "<path style=\"stroke:none;\" d=\"M 4.039063 0 L 4.039063 -2.140625 L 0.160156 -2.140625 L 0.160156 -3.148438 L 4.242188 -8.949219 L 5.140625 -8.949219 L 5.140625 -3.148438 L 6.347656 -3.148438 L 6.347656 -2.140625 L 5.140625 -2.140625 L 5.140625 0 Z M 4.039063 -3.148438 L 4.039063 -7.183594 L 1.238281 -3.148438 Z M 4.039063 -3.148438 \"/>\n",
       "</symbol>\n",
       "<symbol overflow=\"visible\" id=\"glyph0-4\">\n",
       "<path style=\"stroke:none;\" d=\"M 6.21875 -6.757813 L 5.125 -6.671875 C 5.027344 -7.097656 4.890625 -7.410156 4.710938 -7.609375 C 4.414063 -7.921875 4.046875 -8.078125 3.613281 -8.082031 C 3.261719 -8.078125 2.953125 -7.980469 2.691406 -7.789063 C 2.339844 -7.53125 2.066406 -7.164063 1.871094 -6.683594 C 1.667969 -6.195313 1.566406 -5.503906 1.5625 -4.613281 C 1.824219 -5.011719 2.148438 -5.3125 2.53125 -5.511719 C 2.914063 -5.703125 3.3125 -5.800781 3.734375 -5.804688 C 4.464844 -5.800781 5.089844 -5.53125 5.605469 -4.996094 C 6.117188 -4.453125 6.375 -3.757813 6.378906 -2.90625 C 6.375 -2.34375 6.253906 -1.820313 6.015625 -1.339844 C 5.769531 -0.855469 5.4375 -0.484375 5.015625 -0.230469 C 4.59375 0.0273438 4.113281 0.152344 3.578125 0.152344 C 2.660156 0.152344 1.914063 -0.183594 1.335938 -0.855469 C 0.757813 -1.527344 0.46875 -2.636719 0.46875 -4.1875 C 0.46875 -5.914063 0.789063 -7.171875 1.429688 -7.960938 C 1.984375 -8.640625 2.734375 -8.980469 3.679688 -8.984375 C 4.382813 -8.980469 4.957031 -8.785156 5.410156 -8.390625 C 5.855469 -7.996094 6.125 -7.449219 6.21875 -6.757813 Z M 1.734375 -2.898438 C 1.734375 -2.519531 1.8125 -2.15625 1.972656 -1.8125 C 2.132813 -1.460938 2.359375 -1.199219 2.648438 -1.019531 C 2.9375 -0.839844 3.238281 -0.75 3.558594 -0.75 C 4.019531 -0.75 4.417969 -0.9375 4.753906 -1.3125 C 5.082031 -1.6875 5.25 -2.195313 5.253906 -2.839844 C 5.25 -3.453125 5.085938 -3.941406 4.757813 -4.300781 C 4.429688 -4.65625 4.015625 -4.832031 3.515625 -4.835938 C 3.015625 -4.832031 2.59375 -4.65625 2.25 -4.300781 C 1.90625 -3.941406 1.734375 -3.472656 1.734375 -2.898438 Z M 1.734375 -2.898438 \"/>\n",
       "</symbol>\n",
       "<symbol overflow=\"visible\" id=\"glyph0-5\">\n",
       "<path style=\"stroke:none;\" d=\"M 0.0898438 0 L 2.460938 -3.367188 L 0.269531 -6.480469 L 1.640625 -6.480469 L 2.636719 -4.960938 C 2.824219 -4.667969 2.972656 -4.425781 3.089844 -4.234375 C 3.261719 -4.503906 3.425781 -4.742188 3.582031 -4.949219 L 4.675781 -6.480469 L 5.988281 -6.480469 L 3.746094 -3.429688 L 6.160156 0 L 4.808594 0 L 3.480469 -2.015625 L 3.125 -2.558594 L 1.421875 0 Z M 0.0898438 0 \"/>\n",
       "</symbol>\n",
       "<symbol overflow=\"visible\" id=\"glyph1-0\">\n",
       "<path style=\"stroke:none;\" d=\"M -2.6875 -0.398438 L -3.789063 -0.398438 L -3.789063 -3.773438 L -2.6875 -3.773438 Z M -2.6875 -0.398438 \"/>\n",
       "</symbol>\n",
       "<symbol overflow=\"visible\" id=\"glyph1-1\">\n",
       "<path style=\"stroke:none;\" d=\"M 0 -4.65625 L 0 -3.558594 L -7 -3.558594 C -6.746094 -3.289063 -6.492188 -2.941406 -6.242188 -2.515625 C -5.988281 -2.085938 -5.800781 -1.703125 -5.675781 -1.359375 L -6.738281 -1.359375 C -7.027344 -1.972656 -7.375 -2.507813 -7.789063 -2.972656 C -8.195313 -3.429688 -8.59375 -3.757813 -8.984375 -3.949219 L -8.984375 -4.65625 Z M 0 -4.65625 \"/>\n",
       "</symbol>\n",
       "<symbol overflow=\"visible\" id=\"glyph1-2\">\n",
       "<path style=\"stroke:none;\" d=\"M 0 -1.136719 L -1.25 -1.136719 L -1.25 -2.386719 L 0 -2.386719 Z M 0 -1.136719 \"/>\n",
       "</symbol>\n",
       "<symbol overflow=\"visible\" id=\"glyph1-3\">\n",
       "<path style=\"stroke:none;\" d=\"M -4.414063 -0.519531 C -5.46875 -0.515625 -6.320313 -0.625 -6.964844 -0.84375 C -7.609375 -1.0625 -8.105469 -1.386719 -8.457031 -1.816406 C -8.804688 -2.246094 -8.980469 -2.785156 -8.984375 -3.4375 C -8.980469 -3.914063 -8.886719 -4.335938 -8.695313 -4.699219 C -8.5 -5.058594 -8.21875 -5.355469 -7.859375 -5.59375 C -7.492188 -5.828125 -7.050781 -6.015625 -6.527344 -6.152344 C -6.003906 -6.285156 -5.296875 -6.351563 -4.414063 -6.355469 C -3.359375 -6.351563 -2.511719 -6.242188 -1.871094 -6.03125 C -1.222656 -5.8125 -0.726563 -5.492188 -0.375 -5.0625 C -0.0234375 -4.632813 0.152344 -4.089844 0.152344 -3.4375 C 0.152344 -2.570313 -0.15625 -1.890625 -0.773438 -1.402344 C -1.515625 -0.808594 -2.726563 -0.515625 -4.414063 -0.519531 Z M -4.414063 -1.648438 C -2.941406 -1.644531 -1.964844 -1.816406 -1.480469 -2.164063 C -0.992188 -2.503906 -0.75 -2.929688 -0.75 -3.4375 C -0.75 -3.9375 -0.992188 -4.359375 -1.480469 -4.707031 C -1.96875 -5.050781 -2.945313 -5.226563 -4.414063 -5.226563 C -5.882813 -5.226563 -6.863281 -5.050781 -7.347656 -4.707031 C -7.832031 -4.359375 -8.074219 -3.933594 -8.074219 -3.425781 C -8.074219 -2.917969 -7.859375 -2.515625 -7.433594 -2.214844 C -6.886719 -1.835938 -5.878906 -1.644531 -4.414063 -1.648438 Z M -4.414063 -1.648438 \"/>\n",
       "</symbol>\n",
       "<symbol overflow=\"visible\" id=\"glyph1-4\">\n",
       "<path style=\"stroke:none;\" d=\"M -2.34375 -0.519531 L -2.441406 -1.671875 C -1.875 -1.753906 -1.453125 -1.953125 -1.171875 -2.265625 C -0.890625 -2.574219 -0.75 -2.949219 -0.75 -3.394531 C -0.75 -3.917969 -0.949219 -4.367188 -1.347656 -4.734375 C -1.746094 -5.101563 -2.273438 -5.285156 -2.9375 -5.285156 C -3.558594 -5.285156 -4.054688 -5.109375 -4.417969 -4.757813 C -4.777344 -4.40625 -4.957031 -3.945313 -4.960938 -3.375 C -4.957031 -3.019531 -4.875 -2.699219 -4.71875 -2.414063 C -4.554688 -2.128906 -4.347656 -1.90625 -4.09375 -1.746094 L -4.230469 -0.714844 L -8.824219 -1.582031 L -8.824219 -6.03125 L -7.777344 -6.03125 L -7.777344 -2.460938 L -5.371094 -1.976563 C -5.742188 -2.507813 -5.929688 -3.074219 -5.933594 -3.667969 C -5.929688 -4.449219 -5.660156 -5.105469 -5.121094 -5.644531 C -4.578125 -6.179688 -3.882813 -6.449219 -3.035156 -6.453125 C -2.222656 -6.449219 -1.519531 -6.214844 -0.933594 -5.742188 C -0.207031 -5.167969 0.152344 -4.382813 0.152344 -3.394531 C 0.152344 -2.574219 -0.0742188 -1.910156 -0.53125 -1.398438 C -0.984375 -0.882813 -1.589844 -0.589844 -2.34375 -0.519531 Z M -2.34375 -0.519531 \"/>\n",
       "</symbol>\n",
       "<symbol overflow=\"visible\" id=\"glyph1-5\">\n",
       "<path style=\"stroke:none;\" d=\"M -1.933594 -0.382813 L -2.105469 -1.472656 C -1.667969 -1.527344 -1.335938 -1.699219 -1.105469 -1.980469 C -0.871094 -2.257813 -0.753906 -2.644531 -0.757813 -3.148438 C -0.753906 -3.648438 -0.859375 -4.023438 -1.066406 -4.273438 C -1.269531 -4.515625 -1.507813 -4.640625 -1.789063 -4.640625 C -2.03125 -4.640625 -2.226563 -4.53125 -2.375 -4.316406 C -2.46875 -4.164063 -2.59375 -3.789063 -2.746094 -3.191406 C -2.945313 -2.382813 -3.121094 -1.824219 -3.273438 -1.515625 C -3.417969 -1.203125 -3.625 -0.96875 -3.890625 -0.808594 C -4.152344 -0.644531 -4.441406 -0.5625 -4.761719 -0.566406 C -5.046875 -0.5625 -5.3125 -0.628906 -5.5625 -0.765625 C -5.804688 -0.894531 -6.011719 -1.074219 -6.175781 -1.304688 C -6.300781 -1.472656 -6.40625 -1.707031 -6.496094 -2.003906 C -6.582031 -2.300781 -6.625 -2.617188 -6.628906 -2.953125 C -6.625 -3.460938 -6.550781 -3.90625 -6.40625 -4.292969 C -6.257813 -4.675781 -6.0625 -4.960938 -5.8125 -5.144531 C -5.5625 -5.328125 -5.226563 -5.453125 -4.808594 -5.523438 L -4.664063 -4.449219 C -4.996094 -4.394531 -5.253906 -4.253906 -5.445313 -4.023438 C -5.628906 -3.789063 -5.722656 -3.460938 -5.726563 -3.035156 C -5.722656 -2.527344 -5.640625 -2.164063 -5.476563 -1.953125 C -5.308594 -1.734375 -5.113281 -1.628906 -4.890625 -1.628906 C -4.746094 -1.628906 -4.617188 -1.671875 -4.503906 -1.765625 C -4.382813 -1.851563 -4.285156 -1.992188 -4.210938 -2.183594 C -4.167969 -2.292969 -4.074219 -2.617188 -3.929688 -3.15625 C -3.722656 -3.929688 -3.554688 -4.472656 -3.421875 -4.78125 C -3.289063 -5.085938 -3.09375 -5.324219 -2.84375 -5.503906 C -2.585938 -5.675781 -2.273438 -5.765625 -1.90625 -5.769531 C -1.535156 -5.765625 -1.191406 -5.65625 -0.867188 -5.445313 C -0.542969 -5.226563 -0.292969 -4.917969 -0.117188 -4.519531 C 0.0585938 -4.113281 0.144531 -3.660156 0.148438 -3.15625 C 0.144531 -2.308594 -0.0273438 -1.664063 -0.375 -1.226563 C -0.726563 -0.78125 -1.246094 -0.5 -1.933594 -0.382813 Z M -1.933594 -0.382813 \"/>\n",
       "</symbol>\n",
       "<symbol overflow=\"visible\" id=\"glyph1-6\">\n",
       "<path style=\"stroke:none;\" d=\"M -7.683594 -0.828125 L -8.949219 -0.828125 L -8.949219 -1.929688 L -7.683594 -1.929688 Z M 0 -0.828125 L -6.480469 -0.828125 L -6.480469 -1.929688 L 0 -1.929688 Z M 0 -0.828125 \"/>\n",
       "</symbol>\n",
       "<symbol overflow=\"visible\" id=\"glyph1-7\">\n",
       "<path style=\"stroke:none;\" d=\"M 0 -0.824219 L -6.480469 -0.824219 L -6.480469 -1.8125 L -5.558594 -1.8125 C -6.269531 -2.285156 -6.625 -2.972656 -6.628906 -3.875 C -6.625 -4.261719 -6.554688 -4.621094 -6.417969 -4.953125 C -6.273438 -5.277344 -6.089844 -5.523438 -5.863281 -5.6875 C -5.632813 -5.847656 -5.363281 -5.960938 -5.054688 -6.03125 C -4.847656 -6.066406 -4.492188 -6.085938 -3.984375 -6.089844 L 0 -6.089844 L 0 -4.992188 L -3.941406 -4.992188 C -4.386719 -4.992188 -4.722656 -4.949219 -4.945313 -4.863281 C -5.167969 -4.777344 -5.34375 -4.625 -5.476563 -4.40625 C -5.605469 -4.1875 -5.671875 -3.933594 -5.675781 -3.644531 C -5.671875 -3.175781 -5.523438 -2.769531 -5.230469 -2.429688 C -4.929688 -2.089844 -4.367188 -1.921875 -3.539063 -1.921875 L 0 -1.921875 Z M 0 -0.824219 \"/>\n",
       "</symbol>\n",
       "</g>\n",
       "<clipPath id=\"clip1\">\n",
       "  <path d=\"M 59.039063 59.039063 L 474.757813 59.039063 L 474.757813 431.558594 L 59.039063 431.558594 Z M 59.039063 59.039063 \"/>\n",
       "</clipPath>\n",
       "</defs>\n",
       "<g id=\"surface86\">\n",
       "<rect x=\"0\" y=\"0\" width=\"504\" height=\"504\" style=\"fill:rgb(100%,100%,100%);fill-opacity:1;stroke:none;\"/>\n",
       "<g clip-path=\"url(#clip1)\" clip-rule=\"nonzero\">\n",
       "<path style=\"fill:none;stroke-width:1;stroke-linecap:round;stroke-linejoin:round;stroke:rgb(0%,0%,0%);stroke-opacity:1;stroke-miterlimit:10;\" d=\"M 74.398438 244.84375 L 78.238281 261.03125 L 82.078125 277.078125 L 85.921875 292.839844 L 89.761719 308.175781 L 93.601563 322.949219 L 97.441406 337.027344 L 101.28125 350.289063 L 105.121094 362.613281 L 108.960938 373.894531 L 112.800781 384.027344 L 116.640625 392.925781 L 120.480469 400.511719 L 124.320313 406.714844 L 128.160156 411.480469 L 132 414.765625 L 135.839844 416.546875 L 139.679688 416.800781 L 143.519531 415.527344 L 147.359375 412.742188 L 151.199219 408.464844 L 155.039063 402.734375 L 158.878906 395.605469 L 162.71875 387.136719 L 166.558594 377.402344 L 170.398438 366.496094 L 174.238281 354.507813 L 178.078125 341.542969 L 181.921875 327.722656 L 185.761719 313.167969 L 189.601563 298.007813 L 193.441406 282.371094 L 197.28125 266.40625 L 201.121094 250.246094 L 204.960938 234.039063 L 208.800781 217.929688 L 212.640625 202.058594 L 216.480469 186.566406 L 220.320313 171.589844 L 224.160156 157.265625 L 228 143.71875 L 231.839844 131.070313 L 235.679688 119.429688 L 239.519531 108.902344 L 243.359375 99.582031 L 247.199219 91.550781 L 251.039063 84.882813 L 254.878906 79.632813 L 258.71875 75.847656 L 262.558594 73.5625 L 266.398438 72.800781 L 270.238281 73.5625 L 274.078125 75.847656 L 277.921875 79.632813 L 281.761719 84.882813 L 285.601563 91.550781 L 289.441406 99.582031 L 293.28125 108.902344 L 297.121094 119.429688 L 300.960938 131.070313 L 304.800781 143.71875 L 308.640625 157.265625 L 312.480469 171.589844 L 316.320313 186.566406 L 320.160156 202.058594 L 324 217.929688 L 327.839844 234.039063 L 331.679688 250.246094 L 335.519531 266.40625 L 339.359375 282.371094 L 343.199219 298.007813 L 347.039063 313.167969 L 350.878906 327.722656 L 354.71875 341.542969 L 358.558594 354.507813 L 362.398438 366.496094 L 366.238281 377.402344 L 370.078125 387.136719 L 373.921875 395.605469 L 377.761719 402.734375 L 381.601563 408.464844 L 385.441406 412.742188 L 389.28125 415.527344 L 393.121094 416.800781 L 396.960938 416.546875 L 400.800781 414.765625 L 404.640625 411.480469 L 408.480469 406.714844 L 412.320313 400.511719 L 416.160156 392.925781 L 420 384.027344 L 423.839844 373.894531 L 427.679688 362.613281 L 431.519531 350.289063 L 435.359375 337.027344 L 439.199219 322.949219 L 443.039063 308.175781 L 446.878906 292.839844 L 450.71875 277.078125 L 454.558594 261.03125 L 458.398438 244.84375 \"/>\n",
       "</g>\n",
       "<path style=\"fill:none;stroke-width:1;stroke-linecap:round;stroke-linejoin:round;stroke:rgb(0%,0%,0%);stroke-opacity:1;stroke-miterlimit:10;\" d=\"M 120.914063 430.558594 L 446.863281 430.558594 \"/>\n",
       "<path style=\"fill:none;stroke-width:1;stroke-linecap:round;stroke-linejoin:round;stroke:rgb(0%,0%,0%);stroke-opacity:1;stroke-miterlimit:10;\" d=\"M 120.914063 430.558594 L 120.914063 437.761719 \"/>\n",
       "<path style=\"fill:none;stroke-width:1;stroke-linecap:round;stroke-linejoin:round;stroke:rgb(0%,0%,0%);stroke-opacity:1;stroke-miterlimit:10;\" d=\"M 202.398438 430.558594 L 202.398438 437.761719 \"/>\n",
       "<path style=\"fill:none;stroke-width:1;stroke-linecap:round;stroke-linejoin:round;stroke:rgb(0%,0%,0%);stroke-opacity:1;stroke-miterlimit:10;\" d=\"M 283.886719 430.558594 L 283.886719 437.761719 \"/>\n",
       "<path style=\"fill:none;stroke-width:1;stroke-linecap:round;stroke-linejoin:round;stroke:rgb(0%,0%,0%);stroke-opacity:1;stroke-miterlimit:10;\" d=\"M 365.375 430.558594 L 365.375 437.761719 \"/>\n",
       "<path style=\"fill:none;stroke-width:1;stroke-linecap:round;stroke-linejoin:round;stroke:rgb(0%,0%,0%);stroke-opacity:1;stroke-miterlimit:10;\" d=\"M 446.863281 430.558594 L 446.863281 437.761719 \"/>\n",
       "<g style=\"fill:rgb(0%,0%,0%);fill-opacity:1;\">\n",
       "  <use xlink:href=\"#glyph0-0\" x=\"115.355469\" y=\"457.921875\"/>\n",
       "  <use xlink:href=\"#glyph0-1\" x=\"119.518066\" y=\"457.921875\"/>\n",
       "</g>\n",
       "<g style=\"fill:rgb(0%,0%,0%);fill-opacity:1;\">\n",
       "  <use xlink:href=\"#glyph0-2\" x=\"198.921875\" y=\"457.921875\"/>\n",
       "</g>\n",
       "<g style=\"fill:rgb(0%,0%,0%);fill-opacity:1;\">\n",
       "  <use xlink:href=\"#glyph0-1\" x=\"280.410156\" y=\"457.921875\"/>\n",
       "</g>\n",
       "<g style=\"fill:rgb(0%,0%,0%);fill-opacity:1;\">\n",
       "  <use xlink:href=\"#glyph0-3\" x=\"361.898438\" y=\"457.921875\"/>\n",
       "</g>\n",
       "<g style=\"fill:rgb(0%,0%,0%);fill-opacity:1;\">\n",
       "  <use xlink:href=\"#glyph0-4\" x=\"443.386719\" y=\"457.921875\"/>\n",
       "</g>\n",
       "<path style=\"fill:none;stroke-width:1;stroke-linecap:round;stroke-linejoin:round;stroke:rgb(0%,0%,0%);stroke-opacity:1;stroke-miterlimit:10;\" d=\"M 59.039063 416.886719 L 59.039063 72.800781 \"/>\n",
       "<path style=\"fill:none;stroke-width:1;stroke-linecap:round;stroke-linejoin:round;stroke:rgb(0%,0%,0%);stroke-opacity:1;stroke-miterlimit:10;\" d=\"M 59.039063 416.886719 L 51.839844 416.886719 \"/>\n",
       "<path style=\"fill:none;stroke-width:1;stroke-linecap:round;stroke-linejoin:round;stroke:rgb(0%,0%,0%);stroke-opacity:1;stroke-miterlimit:10;\" d=\"M 59.039063 330.863281 L 51.839844 330.863281 \"/>\n",
       "<path style=\"fill:none;stroke-width:1;stroke-linecap:round;stroke-linejoin:round;stroke:rgb(0%,0%,0%);stroke-opacity:1;stroke-miterlimit:10;\" d=\"M 59.039063 244.84375 L 51.839844 244.84375 \"/>\n",
       "<path style=\"fill:none;stroke-width:1;stroke-linecap:round;stroke-linejoin:round;stroke:rgb(0%,0%,0%);stroke-opacity:1;stroke-miterlimit:10;\" d=\"M 59.039063 158.820313 L 51.839844 158.820313 \"/>\n",
       "<path style=\"fill:none;stroke-width:1;stroke-linecap:round;stroke-linejoin:round;stroke:rgb(0%,0%,0%);stroke-opacity:1;stroke-miterlimit:10;\" d=\"M 59.039063 72.800781 L 51.839844 72.800781 \"/>\n",
       "<g style=\"fill:rgb(0%,0%,0%);fill-opacity:1;\">\n",
       "  <use xlink:href=\"#glyph1-0\" x=\"43.199219\" y=\"427.65625\"/>\n",
       "  <use xlink:href=\"#glyph1-1\" x=\"43.199219\" y=\"423.493652\"/>\n",
       "  <use xlink:href=\"#glyph1-2\" x=\"43.199219\" y=\"416.541748\"/>\n",
       "  <use xlink:href=\"#glyph1-3\" x=\"43.199219\" y=\"413.068848\"/>\n",
       "</g>\n",
       "<g style=\"fill:rgb(0%,0%,0%);fill-opacity:1;\">\n",
       "  <use xlink:href=\"#glyph1-0\" x=\"43.199219\" y=\"341.632813\"/>\n",
       "  <use xlink:href=\"#glyph1-3\" x=\"43.199219\" y=\"337.470215\"/>\n",
       "  <use xlink:href=\"#glyph1-2\" x=\"43.199219\" y=\"330.518311\"/>\n",
       "  <use xlink:href=\"#glyph1-4\" x=\"43.199219\" y=\"327.04541\"/>\n",
       "</g>\n",
       "<g style=\"fill:rgb(0%,0%,0%);fill-opacity:1;\">\n",
       "  <use xlink:href=\"#glyph1-3\" x=\"43.199219\" y=\"253.53125\"/>\n",
       "  <use xlink:href=\"#glyph1-2\" x=\"43.199219\" y=\"246.579346\"/>\n",
       "  <use xlink:href=\"#glyph1-3\" x=\"43.199219\" y=\"243.106445\"/>\n",
       "</g>\n",
       "<g style=\"fill:rgb(0%,0%,0%);fill-opacity:1;\">\n",
       "  <use xlink:href=\"#glyph1-3\" x=\"43.199219\" y=\"167.507813\"/>\n",
       "  <use xlink:href=\"#glyph1-2\" x=\"43.199219\" y=\"160.555908\"/>\n",
       "  <use xlink:href=\"#glyph1-4\" x=\"43.199219\" y=\"157.083008\"/>\n",
       "</g>\n",
       "<g style=\"fill:rgb(0%,0%,0%);fill-opacity:1;\">\n",
       "  <use xlink:href=\"#glyph1-1\" x=\"43.199219\" y=\"81.488281\"/>\n",
       "  <use xlink:href=\"#glyph1-2\" x=\"43.199219\" y=\"74.536377\"/>\n",
       "  <use xlink:href=\"#glyph1-3\" x=\"43.199219\" y=\"71.063477\"/>\n",
       "</g>\n",
       "<path style=\"fill:none;stroke-width:1;stroke-linecap:round;stroke-linejoin:round;stroke:rgb(0%,0%,0%);stroke-opacity:1;stroke-miterlimit:10;\" d=\"M 59.039063 430.558594 L 473.761719 430.558594 L 473.761719 59.039063 L 59.039063 59.039063 L 59.039063 430.558594 \"/>\n",
       "<g style=\"fill:rgb(0%,0%,0%);fill-opacity:1;\">\n",
       "  <use xlink:href=\"#glyph0-5\" x=\"263.273438\" y=\"486.71875\"/>\n",
       "</g>\n",
       "<g style=\"fill:rgb(0%,0%,0%);fill-opacity:1;\">\n",
       "  <use xlink:href=\"#glyph1-5\" x=\"14.398438\" y=\"252.789063\"/>\n",
       "  <use xlink:href=\"#glyph1-6\" x=\"14.398438\" y=\"246.539063\"/>\n",
       "  <use xlink:href=\"#glyph1-7\" x=\"14.398438\" y=\"243.761963\"/>\n",
       "</g>\n",
       "</g>\n",
       "</svg>\n"
      ],
      "text/plain": [
       "plot without title"
      ]
     },
     "metadata": {
      "image/svg+xml": {
       "isolated": true
      }
     },
     "output_type": "display_data"
    },
    {
     "name": "stdout",
     "output_type": "stream",
     "text": [
      "\n",
      "plot> ## Simple quantiles/ECDF, see ecdf() {library(stats)} for a better one:\n",
      "plot> plot(x <- sort(rnorm(47)), type = \"s\", main = \"plot(x, type = \\\"s\\\")\")\n"
     ]
    },
    {
     "data": {
      "image/png": "[encoded data removed]",
      "image/svg+xml": [
       "<?xml version=\"1.0\" encoding=\"UTF-8\"?>\n",
       "<svg xmlns=\"http://www.w3.org/2000/svg\" xmlns:xlink=\"http://www.w3.org/1999/xlink\" width=\"504pt\" height=\"504pt\" viewBox=\"0 0 504 504\" version=\"1.1\">\n",
       "<defs>\n",
       "<g>\n",
       "<symbol overflow=\"visible\" id=\"glyph0-0\">\n",
       "<path style=\"stroke:none;\" d=\"M -4.414063 -0.519531 C -5.46875 -0.515625 -6.320313 -0.625 -6.964844 -0.84375 C -7.609375 -1.0625 -8.105469 -1.386719 -8.457031 -1.816406 C -8.804688 -2.246094 -8.980469 -2.785156 -8.984375 -3.4375 C -8.980469 -3.914063 -8.886719 -4.335938 -8.695313 -4.699219 C -8.5 -5.058594 -8.21875 -5.355469 -7.859375 -5.59375 C -7.492188 -5.828125 -7.050781 -6.015625 -6.527344 -6.152344 C -6.003906 -6.285156 -5.296875 -6.351563 -4.414063 -6.355469 C -3.359375 -6.351563 -2.511719 -6.242188 -1.871094 -6.03125 C -1.222656 -5.8125 -0.726563 -5.492188 -0.375 -5.0625 C -0.0234375 -4.632813 0.152344 -4.089844 0.152344 -3.4375 C 0.152344 -2.570313 -0.15625 -1.890625 -0.773438 -1.402344 C -1.515625 -0.808594 -2.726563 -0.515625 -4.414063 -0.519531 Z M -4.414063 -1.648438 C -2.941406 -1.644531 -1.964844 -1.816406 -1.480469 -2.164063 C -0.992188 -2.503906 -0.75 -2.929688 -0.75 -3.4375 C -0.75 -3.9375 -0.992188 -4.359375 -1.480469 -4.707031 C -1.96875 -5.050781 -2.945313 -5.226563 -4.414063 -5.226563 C -5.882813 -5.226563 -6.863281 -5.050781 -7.347656 -4.707031 C -7.832031 -4.359375 -8.074219 -3.933594 -8.074219 -3.425781 C -8.074219 -2.917969 -7.859375 -2.515625 -7.433594 -2.214844 C -6.886719 -1.835938 -5.878906 -1.644531 -4.414063 -1.648438 Z M -4.414063 -1.648438 \"/>\n",
       "</symbol>\n",
       "<symbol overflow=\"visible\" id=\"glyph0-1\">\n",
       "<path style=\"stroke:none;\" d=\"M -2.34375 -0.519531 L -2.441406 -1.671875 C -1.875 -1.753906 -1.453125 -1.953125 -1.171875 -2.265625 C -0.890625 -2.574219 -0.75 -2.949219 -0.75 -3.394531 C -0.75 -3.917969 -0.949219 -4.367188 -1.347656 -4.734375 C -1.746094 -5.101563 -2.273438 -5.285156 -2.9375 -5.285156 C -3.558594 -5.285156 -4.054688 -5.109375 -4.417969 -4.757813 C -4.777344 -4.40625 -4.957031 -3.945313 -4.960938 -3.375 C -4.957031 -3.019531 -4.875 -2.699219 -4.71875 -2.414063 C -4.554688 -2.128906 -4.347656 -1.90625 -4.09375 -1.746094 L -4.230469 -0.714844 L -8.824219 -1.582031 L -8.824219 -6.03125 L -7.777344 -6.03125 L -7.777344 -2.460938 L -5.371094 -1.976563 C -5.742188 -2.507813 -5.929688 -3.074219 -5.933594 -3.667969 C -5.929688 -4.449219 -5.660156 -5.105469 -5.121094 -5.644531 C -4.578125 -6.179688 -3.882813 -6.449219 -3.035156 -6.453125 C -2.222656 -6.449219 -1.519531 -6.214844 -0.933594 -5.742188 C -0.207031 -5.167969 0.152344 -4.382813 0.152344 -3.394531 C 0.152344 -2.574219 -0.0742188 -1.910156 -0.53125 -1.398438 C -0.984375 -0.882813 -1.589844 -0.589844 -2.34375 -0.519531 Z M -2.34375 -0.519531 \"/>\n",
       "</symbol>\n",
       "<symbol overflow=\"visible\" id=\"glyph0-2\">\n",
       "<path style=\"stroke:none;\" d=\"M 0 -4.65625 L 0 -3.558594 L -7 -3.558594 C -6.746094 -3.289063 -6.492188 -2.941406 -6.242188 -2.515625 C -5.988281 -2.085938 -5.800781 -1.703125 -5.675781 -1.359375 L -6.738281 -1.359375 C -7.027344 -1.972656 -7.375 -2.507813 -7.789063 -2.972656 C -8.195313 -3.429688 -8.59375 -3.757813 -8.984375 -3.949219 L -8.984375 -4.65625 Z M 0 -4.65625 \"/>\n",
       "</symbol>\n",
       "<symbol overflow=\"visible\" id=\"glyph0-3\">\n",
       "<path style=\"stroke:none;\" d=\"M -1.054688 -6.292969 L 0 -6.292969 L 0 -0.378906 C -0.265625 -0.367188 -0.519531 -0.410156 -0.761719 -0.507813 C -1.164063 -0.65625 -1.558594 -0.898438 -1.953125 -1.230469 C -2.339844 -1.558594 -2.792969 -2.035156 -3.308594 -2.667969 C -4.101563 -3.636719 -4.734375 -4.292969 -5.203125 -4.636719 C -5.667969 -4.976563 -6.105469 -5.148438 -6.523438 -5.152344 C -6.957031 -5.148438 -7.324219 -4.992188 -7.625 -4.683594 C -7.921875 -4.371094 -8.074219 -3.96875 -8.074219 -3.46875 C -8.074219 -2.9375 -7.914063 -2.511719 -7.597656 -2.195313 C -7.277344 -1.878906 -6.839844 -1.71875 -6.28125 -1.714844 L -6.398438 -0.585938 C -7.238281 -0.664063 -7.878906 -0.953125 -8.320313 -1.457031 C -8.761719 -1.960938 -8.980469 -2.640625 -8.984375 -3.492188 C -8.980469 -4.347656 -8.742188 -5.023438 -8.269531 -5.527344 C -7.789063 -6.027344 -7.199219 -6.28125 -6.5 -6.28125 C -6.140625 -6.28125 -5.789063 -6.207031 -5.445313 -6.058594 C -5.09375 -5.910156 -4.730469 -5.664063 -4.351563 -5.328125 C -3.964844 -4.984375 -3.441406 -4.421875 -2.777344 -3.636719 C -2.222656 -2.976563 -1.84375 -2.554688 -1.648438 -2.367188 C -1.449219 -2.179688 -1.253906 -2.023438 -1.054688 -1.90625 Z M -1.054688 -6.292969 \"/>\n",
       "</symbol>\n",
       "<symbol overflow=\"visible\" id=\"glyph0-4\">\n",
       "<path style=\"stroke:none;\" d=\"M -0.984375 -3.222656 L -0.0117188 -3.382813 C 0.0507813 -3.070313 0.0820313 -2.792969 0.0859375 -2.550781 C 0.0820313 -2.148438 0.0234375 -1.839844 -0.101563 -1.621094 C -0.226563 -1.398438 -0.394531 -1.242188 -0.601563 -1.15625 C -0.804688 -1.0625 -1.238281 -1.019531 -1.898438 -1.023438 L -5.628906 -1.023438 L -5.628906 -0.21875 L -6.480469 -0.21875 L -6.480469 -1.023438 L -8.085938 -1.023438 L -8.746094 -2.117188 L -6.480469 -2.117188 L -6.480469 -3.222656 L -5.628906 -3.222656 L -5.628906 -2.117188 L -1.835938 -2.117188 C -1.519531 -2.113281 -1.320313 -2.132813 -1.230469 -2.175781 C -1.140625 -2.210938 -1.070313 -2.273438 -1.019531 -2.363281 C -0.964844 -2.449219 -0.9375 -2.578125 -0.941406 -2.742188 C -0.9375 -2.859375 -0.953125 -3.019531 -0.984375 -3.222656 Z M -0.984375 -3.222656 \"/>\n",
       "</symbol>\n",
       "<symbol overflow=\"visible\" id=\"glyph0-5\">\n",
       "<path style=\"stroke:none;\" d=\"M -0.800781 -5.054688 C -0.453125 -4.644531 -0.207031 -4.253906 -0.0664063 -3.878906 C 0.078125 -3.5 0.144531 -3.09375 0.148438 -2.667969 C 0.144531 -1.949219 -0.0273438 -1.402344 -0.375 -1.023438 C -0.722656 -0.640625 -1.167969 -0.449219 -1.710938 -0.453125 C -2.023438 -0.449219 -2.3125 -0.523438 -2.578125 -0.667969 C -2.839844 -0.8125 -3.050781 -1 -3.210938 -1.234375 C -3.367188 -1.464844 -3.484375 -1.730469 -3.570313 -2.027344 C -3.625 -2.242188 -3.679688 -2.566406 -3.734375 -3.003906 C -3.835938 -3.886719 -3.964844 -4.539063 -4.113281 -4.960938 C -4.261719 -4.964844 -4.355469 -4.96875 -4.402344 -4.96875 C -4.84375 -4.96875 -5.160156 -4.863281 -5.347656 -4.65625 C -5.59375 -4.371094 -5.71875 -3.953125 -5.71875 -3.40625 C -5.71875 -2.882813 -5.625 -2.5 -5.445313 -2.257813 C -5.261719 -2.007813 -4.941406 -1.828125 -4.484375 -1.714844 L -4.632813 -0.640625 C -5.089844 -0.734375 -5.460938 -0.894531 -5.746094 -1.121094 C -6.027344 -1.339844 -6.246094 -1.664063 -6.398438 -2.089844 C -6.550781 -2.511719 -6.625 -3.003906 -6.628906 -3.5625 C -6.625 -4.117188 -6.5625 -4.566406 -6.433594 -4.914063 C -6.300781 -5.257813 -6.136719 -5.511719 -5.941406 -5.675781 C -5.742188 -5.835938 -5.492188 -5.949219 -5.195313 -6.019531 C -5.003906 -6.050781 -4.664063 -6.070313 -4.179688 -6.074219 L -2.714844 -6.074219 C -1.691406 -6.070313 -1.046875 -6.09375 -0.777344 -6.144531 C -0.503906 -6.1875 -0.246094 -6.28125 0 -6.421875 L 0 -5.273438 C -0.226563 -5.15625 -0.492188 -5.082031 -0.800781 -5.054688 Z M -3.253906 -4.960938 C -3.085938 -4.558594 -2.949219 -3.960938 -2.839844 -3.167969 C -2.773438 -2.714844 -2.699219 -2.394531 -2.617188 -2.210938 C -2.535156 -2.019531 -2.417969 -1.875 -2.261719 -1.777344 C -2.105469 -1.671875 -1.929688 -1.621094 -1.738281 -1.625 C -1.445313 -1.621094 -1.203125 -1.734375 -1.007813 -1.957031 C -0.8125 -2.175781 -0.714844 -2.5 -0.714844 -2.929688 C -0.714844 -3.351563 -0.804688 -3.726563 -0.992188 -4.058594 C -1.171875 -4.386719 -1.425781 -4.628906 -1.75 -4.785156 C -1.996094 -4.898438 -2.363281 -4.957031 -2.851563 -4.960938 Z M -3.253906 -4.960938 \"/>\n",
       "</symbol>\n",
       "<symbol overflow=\"visible\" id=\"glyph0-6\">\n",
       "<path style=\"stroke:none;\" d=\"M 0 -1.835938 L 0 -0.816406 L -8.949219 -0.816406 L -8.949219 -1.917969 L -5.753906 -1.917969 C -6.335938 -2.378906 -6.625 -2.972656 -6.628906 -3.691406 C -6.625 -4.089844 -6.546875 -4.464844 -6.386719 -4.824219 C -6.222656 -5.175781 -5.996094 -5.46875 -5.707031 -5.703125 C -5.417969 -5.929688 -5.066406 -6.109375 -4.65625 -6.242188 C -4.242188 -6.367188 -3.804688 -6.433594 -3.339844 -6.4375 C -2.226563 -6.433594 -1.367188 -6.160156 -0.761719 -5.613281 C -0.15625 -5.066406 0.144531 -4.40625 0.148438 -3.636719 C 0.144531 -2.871094 -0.171875 -2.269531 -0.8125 -1.835938 Z M -3.289063 -1.824219 C -2.507813 -1.820313 -1.949219 -1.925781 -1.605469 -2.140625 C -1.039063 -2.484375 -0.753906 -2.953125 -0.757813 -3.546875 C -0.753906 -4.023438 -0.964844 -4.4375 -1.382813 -4.789063 C -1.796875 -5.136719 -2.417969 -5.3125 -3.246094 -5.316406 C -4.089844 -5.3125 -4.714844 -5.144531 -5.121094 -4.8125 C -5.523438 -4.472656 -5.722656 -4.066406 -5.726563 -3.59375 C -5.722656 -3.109375 -5.515625 -2.695313 -5.097656 -2.347656 C -4.679688 -1.996094 -4.074219 -1.820313 -3.289063 -1.824219 Z M -3.289063 -1.824219 \"/>\n",
       "</symbol>\n",
       "<symbol overflow=\"visible\" id=\"glyph0-7\">\n",
       "<path style=\"stroke:none;\" d=\"M 0 -0.800781 L -8.949219 -0.800781 L -8.949219 -1.898438 L 0 -1.898438 Z M 0 -0.800781 \"/>\n",
       "</symbol>\n",
       "<symbol overflow=\"visible\" id=\"glyph0-8\">\n",
       "<path style=\"stroke:none;\" d=\"M -2.085938 -5.261719 L -1.945313 -6.398438 C -1.28125 -6.21875 -0.765625 -5.886719 -0.402344 -5.402344 C -0.0351563 -4.917969 0.144531 -4.296875 0.148438 -3.546875 C 0.144531 -2.59375 -0.144531 -1.84375 -0.726563 -1.289063 C -1.3125 -0.734375 -2.132813 -0.457031 -3.1875 -0.457031 C -4.273438 -0.457031 -5.117188 -0.734375 -5.722656 -1.296875 C -6.324219 -1.855469 -6.625 -2.585938 -6.628906 -3.484375 C -6.625 -4.347656 -6.332031 -5.054688 -5.742188 -5.609375 C -5.152344 -6.15625 -4.320313 -6.433594 -3.253906 -6.433594 C -3.183594 -6.433594 -3.085938 -6.429688 -2.960938 -6.425781 L -2.960938 -1.59375 C -2.242188 -1.632813 -1.699219 -1.832031 -1.324219 -2.195313 C -0.945313 -2.558594 -0.753906 -3.011719 -0.757813 -3.550781 C -0.753906 -3.953125 -0.859375 -4.296875 -1.074219 -4.582031 C -1.28125 -4.867188 -1.621094 -5.09375 -2.085938 -5.261719 Z M -3.863281 -1.652344 L -3.863281 -5.273438 C -4.402344 -5.222656 -4.8125 -5.082031 -5.089844 -4.859375 C -5.511719 -4.503906 -5.722656 -4.050781 -5.726563 -3.496094 C -5.722656 -2.992188 -5.554688 -2.570313 -5.21875 -2.226563 C -4.878906 -1.882813 -4.425781 -1.691406 -3.863281 -1.652344 Z M -3.863281 -1.652344 \"/>\n",
       "</symbol>\n",
       "<symbol overflow=\"visible\" id=\"glyph0-9\">\n",
       "<path style=\"stroke:none;\" d=\"M 2.628906 -2.921875 C 1.863281 -2.316406 0.972656 -1.804688 -0.0546875 -1.386719 C -1.078125 -0.964844 -2.140625 -0.753906 -3.242188 -0.757813 C -4.207031 -0.753906 -5.136719 -0.910156 -6.023438 -1.226563 C -7.054688 -1.589844 -8.078125 -2.15625 -9.101563 -2.921875 L -9.101563 -3.710938 C -8.25 -3.214844 -7.648438 -2.890625 -7.289063 -2.734375 C -6.726563 -2.484375 -6.140625 -2.289063 -5.53125 -2.148438 C -4.765625 -1.972656 -4 -1.886719 -3.234375 -1.886719 C -1.277344 -1.886719 0.675781 -2.492188 2.628906 -3.710938 Z M 2.628906 -2.921875 \"/>\n",
       "</symbol>\n",
       "<symbol overflow=\"visible\" id=\"glyph0-10\">\n",
       "<path style=\"stroke:none;\" d=\"M 0 -0.8125 L -6.480469 -0.8125 L -6.480469 -1.800781 L -5.5 -1.800781 C -5.957031 -2.050781 -6.257813 -2.285156 -6.40625 -2.5 C -6.550781 -2.710938 -6.625 -2.945313 -6.628906 -3.203125 C -6.625 -3.570313 -6.507813 -3.945313 -6.273438 -4.332031 L -5.253906 -3.953125 C -5.410156 -3.683594 -5.488281 -3.414063 -5.492188 -3.148438 C -5.488281 -2.90625 -5.417969 -2.691406 -5.273438 -2.5 C -5.128906 -2.308594 -4.929688 -2.171875 -4.675781 -2.09375 C -4.285156 -1.96875 -3.855469 -1.910156 -3.394531 -1.910156 L 0 -1.910156 Z M 0 -0.8125 \"/>\n",
       "</symbol>\n",
       "<symbol overflow=\"visible\" id=\"glyph0-11\">\n",
       "<path style=\"stroke:none;\" d=\"M 2.484375 -0.824219 L -6.480469 -0.824219 L -6.480469 -1.824219 L -5.640625 -1.824219 C -5.964844 -2.058594 -6.210938 -2.328125 -6.378906 -2.625 C -6.542969 -2.921875 -6.625 -3.28125 -6.628906 -3.703125 C -6.625 -4.257813 -6.484375 -4.746094 -6.199219 -5.167969 C -5.914063 -5.589844 -5.511719 -5.910156 -4.996094 -6.128906 C -4.476563 -6.34375 -3.90625 -6.449219 -3.289063 -6.453125 C -2.625 -6.449219 -2.03125 -6.332031 -1.5 -6.09375 C -0.96875 -5.855469 -0.558594 -5.507813 -0.277344 -5.054688 C 0.0078125 -4.597656 0.144531 -4.121094 0.148438 -3.625 C 0.144531 -3.257813 0.0703125 -2.929688 -0.0820313 -2.640625 C -0.238281 -2.347656 -0.433594 -2.109375 -0.671875 -1.921875 L 2.484375 -1.921875 Z M -3.203125 -1.820313 C -2.367188 -1.816406 -1.75 -1.984375 -1.355469 -2.324219 C -0.953125 -2.660156 -0.753906 -3.070313 -0.757813 -3.550781 C -0.753906 -4.039063 -0.960938 -4.457031 -1.375 -4.804688 C -1.785156 -5.152344 -2.425781 -5.324219 -3.296875 -5.328125 C -4.121094 -5.324219 -4.738281 -5.15625 -5.152344 -4.816406 C -5.558594 -4.476563 -5.765625 -4.070313 -5.769531 -3.601563 C -5.765625 -3.128906 -5.546875 -2.714844 -5.113281 -2.359375 C -4.671875 -1.996094 -4.035156 -1.816406 -3.203125 -1.820313 Z M -3.203125 -1.820313 \"/>\n",
       "</symbol>\n",
       "<symbol overflow=\"visible\" id=\"glyph0-12\">\n",
       "<path style=\"stroke:none;\" d=\"M -3.242188 -0.414063 C -4.4375 -0.410156 -5.328125 -0.742188 -5.90625 -1.414063 C -6.386719 -1.96875 -6.625 -2.648438 -6.628906 -3.453125 C -6.625 -4.34375 -6.332031 -5.074219 -5.75 -5.640625 C -5.164063 -6.203125 -4.359375 -6.484375 -3.332031 -6.488281 C -2.496094 -6.484375 -1.839844 -6.359375 -1.363281 -6.113281 C -0.882813 -5.859375 -0.511719 -5.496094 -0.25 -5.019531 C 0.015625 -4.539063 0.144531 -4.015625 0.148438 -3.453125 C 0.144531 -2.542969 -0.140625 -1.8125 -0.722656 -1.253906 C -1.300781 -0.691406 -2.140625 -0.410156 -3.242188 -0.414063 Z M -3.242188 -1.542969 C -2.40625 -1.539063 -1.785156 -1.722656 -1.375 -2.085938 C -0.960938 -2.445313 -0.753906 -2.898438 -0.757813 -3.453125 C -0.753906 -3.996094 -0.960938 -4.453125 -1.378906 -4.816406 C -1.789063 -5.175781 -2.421875 -5.355469 -3.277344 -5.359375 C -4.074219 -5.355469 -4.683594 -5.171875 -5.097656 -4.8125 C -5.511719 -4.445313 -5.71875 -3.992188 -5.71875 -3.453125 C -5.71875 -2.898438 -5.511719 -2.445313 -5.101563 -2.085938 C -4.6875 -1.722656 -4.066406 -1.539063 -3.242188 -1.542969 Z M -3.242188 -1.542969 \"/>\n",
       "</symbol>\n",
       "<symbol overflow=\"visible\" id=\"glyph0-13\">\n",
       "<path style=\"stroke:none;\" d=\"M -7.683594 -0.828125 L -8.949219 -0.828125 L -8.949219 -1.929688 L -7.683594 -1.929688 Z M 0 -0.828125 L -6.480469 -0.828125 L -6.480469 -1.929688 L 0 -1.929688 Z M 0 -0.828125 \"/>\n",
       "</symbol>\n",
       "<symbol overflow=\"visible\" id=\"glyph0-14\">\n",
       "<path style=\"stroke:none;\" d=\"M -1.933594 -0.382813 L -2.105469 -1.472656 C -1.667969 -1.527344 -1.335938 -1.699219 -1.105469 -1.980469 C -0.871094 -2.257813 -0.753906 -2.644531 -0.757813 -3.148438 C -0.753906 -3.648438 -0.859375 -4.023438 -1.066406 -4.273438 C -1.269531 -4.515625 -1.507813 -4.640625 -1.789063 -4.640625 C -2.03125 -4.640625 -2.226563 -4.53125 -2.375 -4.316406 C -2.46875 -4.164063 -2.59375 -3.789063 -2.746094 -3.191406 C -2.945313 -2.382813 -3.121094 -1.824219 -3.273438 -1.515625 C -3.417969 -1.203125 -3.625 -0.96875 -3.890625 -0.808594 C -4.152344 -0.644531 -4.441406 -0.5625 -4.761719 -0.566406 C -5.046875 -0.5625 -5.3125 -0.628906 -5.5625 -0.765625 C -5.804688 -0.894531 -6.011719 -1.074219 -6.175781 -1.304688 C -6.300781 -1.472656 -6.40625 -1.707031 -6.496094 -2.003906 C -6.582031 -2.300781 -6.625 -2.617188 -6.628906 -2.953125 C -6.625 -3.460938 -6.550781 -3.90625 -6.40625 -4.292969 C -6.257813 -4.675781 -6.0625 -4.960938 -5.8125 -5.144531 C -5.5625 -5.328125 -5.226563 -5.453125 -4.808594 -5.523438 L -4.664063 -4.449219 C -4.996094 -4.394531 -5.253906 -4.253906 -5.445313 -4.023438 C -5.628906 -3.789063 -5.722656 -3.460938 -5.726563 -3.035156 C -5.722656 -2.527344 -5.640625 -2.164063 -5.476563 -1.953125 C -5.308594 -1.734375 -5.113281 -1.628906 -4.890625 -1.628906 C -4.746094 -1.628906 -4.617188 -1.671875 -4.503906 -1.765625 C -4.382813 -1.851563 -4.285156 -1.992188 -4.210938 -2.183594 C -4.167969 -2.292969 -4.074219 -2.617188 -3.929688 -3.15625 C -3.722656 -3.929688 -3.554688 -4.472656 -3.421875 -4.78125 C -3.289063 -5.085938 -3.09375 -5.324219 -2.84375 -5.503906 C -2.585938 -5.675781 -2.273438 -5.765625 -1.90625 -5.769531 C -1.535156 -5.765625 -1.191406 -5.65625 -0.867188 -5.445313 C -0.542969 -5.226563 -0.292969 -4.917969 -0.117188 -4.519531 C 0.0585938 -4.113281 0.144531 -3.660156 0.148438 -3.15625 C 0.144531 -2.308594 -0.0273438 -1.664063 -0.375 -1.226563 C -0.726563 -0.78125 -1.246094 -0.5 -1.933594 -0.382813 Z M -1.933594 -0.382813 \"/>\n",
       "</symbol>\n",
       "<symbol overflow=\"visible\" id=\"glyph0-15\">\n",
       "<path style=\"stroke:none;\" d=\"M 0 -1.109375 L -1.25 -1.109375 L -1.25 -2.363281 L 0 -2.363281 C 0.460938 -2.359375 0.832031 -2.277344 1.113281 -2.117188 C 1.394531 -1.953125 1.613281 -1.695313 1.769531 -1.34375 L 1.300781 -1.039063 C 1.199219 -1.265625 1.046875 -1.4375 0.851563 -1.550781 C 0.648438 -1.65625 0.367188 -1.71875 0 -1.734375 Z M 0 -1.109375 \"/>\n",
       "</symbol>\n",
       "<symbol overflow=\"visible\" id=\"glyph0-16\">\n",
       "<path style=\"stroke:none;\" d=\"\"/>\n",
       "</symbol>\n",
       "<symbol overflow=\"visible\" id=\"glyph0-17\">\n",
       "<path style=\"stroke:none;\" d=\"M 2.628906 -1.542969 L 2.628906 -0.757813 C 0.675781 -1.96875 -1.277344 -2.578125 -3.234375 -2.582031 C -4 -2.578125 -4.757813 -2.492188 -5.511719 -2.320313 C -6.117188 -2.179688 -6.703125 -1.984375 -7.269531 -1.738281 C -7.632813 -1.578125 -8.242188 -1.25 -9.101563 -0.757813 L -9.101563 -1.542969 C -8.078125 -2.304688 -7.054688 -2.871094 -6.023438 -3.242188 C -5.136719 -3.550781 -4.207031 -3.707031 -3.242188 -3.710938 C -2.140625 -3.707031 -1.078125 -3.496094 -0.0546875 -3.078125 C 0.972656 -2.65625 1.863281 -2.144531 2.628906 -1.542969 Z M 2.628906 -1.542969 \"/>\n",
       "</symbol>\n",
       "<symbol overflow=\"visible\" id=\"glyph1-0\">\n",
       "<path style=\"stroke:none;\" d=\"M 3.027344 0 L 0.980469 0 L 0.980469 -7.726563 L 2.882813 -7.726563 L 2.882813 -6.628906 C 3.203125 -7.144531 3.492188 -7.488281 3.757813 -7.652344 C 4.015625 -7.816406 4.3125 -7.898438 4.640625 -7.902344 C 5.105469 -7.898438 5.554688 -7.769531 5.988281 -7.515625 L 5.355469 -5.734375 C 5.011719 -5.953125 4.691406 -6.0625 4.394531 -6.066406 C 4.105469 -6.0625 3.859375 -5.984375 3.664063 -5.828125 C 3.460938 -5.667969 3.304688 -5.382813 3.195313 -4.976563 C 3.078125 -4.5625 3.023438 -3.699219 3.027344 -2.386719 Z M 3.027344 0 \"/>\n",
       "</symbol>\n",
       "<symbol overflow=\"visible\" id=\"glyph1-1\">\n",
       "<path style=\"stroke:none;\" d=\"M 1.011719 -7.726563 L 2.917969 -7.726563 L 2.917969 -6.589844 C 3.164063 -6.976563 3.496094 -7.292969 3.921875 -7.535156 C 4.339844 -7.777344 4.808594 -7.898438 5.324219 -7.902344 C 6.21875 -7.898438 6.980469 -7.546875 7.609375 -6.847656 C 8.230469 -6.140625 8.542969 -5.160156 8.546875 -3.90625 C 8.542969 -2.613281 8.226563 -1.609375 7.601563 -0.898438 C 6.96875 -0.179688 6.207031 0.175781 5.3125 0.175781 C 4.882813 0.175781 4.496094 0.09375 4.148438 -0.078125 C 3.800781 -0.246094 3.433594 -0.539063 3.054688 -0.953125 L 3.054688 2.9375 L 1.011719 2.9375 Z M 3.035156 -3.996094 C 3.035156 -3.125 3.207031 -2.480469 3.550781 -2.070313 C 3.894531 -1.652344 4.3125 -1.445313 4.808594 -1.449219 C 5.28125 -1.445313 5.675781 -1.636719 5.996094 -2.019531 C 6.308594 -2.398438 6.46875 -3.023438 6.46875 -3.890625 C 6.46875 -4.699219 6.304688 -5.300781 5.980469 -5.695313 C 5.652344 -6.085938 5.25 -6.28125 4.773438 -6.285156 C 4.269531 -6.28125 3.855469 -6.089844 3.527344 -5.707031 C 3.199219 -5.320313 3.035156 -4.75 3.035156 -3.996094 Z M 3.035156 -3.996094 \"/>\n",
       "</symbol>\n",
       "<symbol overflow=\"visible\" id=\"glyph1-2\">\n",
       "<path style=\"stroke:none;\" d=\"M 0.597656 -3.972656 C 0.597656 -4.652344 0.761719 -5.308594 1.097656 -5.945313 C 1.429688 -6.578125 1.90625 -7.0625 2.519531 -7.398438 C 3.132813 -7.730469 3.816406 -7.898438 4.578125 -7.902344 C 5.742188 -7.898438 6.699219 -7.519531 7.449219 -6.761719 C 8.191406 -6.003906 8.566406 -5.042969 8.570313 -3.886719 C 8.566406 -2.714844 8.1875 -1.746094 7.4375 -0.976563 C 6.679688 -0.207031 5.730469 0.175781 4.589844 0.175781 C 3.878906 0.175781 3.203125 0.015625 2.5625 -0.304688 C 1.917969 -0.625 1.429688 -1.09375 1.097656 -1.710938 C 0.761719 -2.328125 0.597656 -3.082031 0.597656 -3.972656 Z M 2.691406 -3.863281 C 2.6875 -3.09375 2.871094 -2.507813 3.234375 -2.101563 C 3.597656 -1.691406 4.046875 -1.488281 4.582031 -1.492188 C 5.113281 -1.488281 5.558594 -1.691406 5.925781 -2.101563 C 6.285156 -2.507813 6.46875 -3.101563 6.46875 -3.878906 C 6.46875 -4.632813 6.285156 -5.210938 5.925781 -5.621094 C 5.558594 -6.027344 5.113281 -6.234375 4.582031 -6.234375 C 4.046875 -6.234375 3.597656 -6.027344 3.234375 -5.621094 C 2.871094 -5.210938 2.6875 -4.625 2.691406 -3.863281 Z M 2.691406 -3.863281 \"/>\n",
       "</symbol>\n",
       "<symbol overflow=\"visible\" id=\"glyph1-3\">\n",
       "<path style=\"stroke:none;\" d=\"M 1.070313 -8.773438 L 1.070313 -10.664063 L 3.113281 -10.664063 L 3.113281 -8.773438 Z M 1.070313 0 L 1.070313 -7.726563 L 3.113281 -7.726563 L 3.113281 0 Z M 1.070313 0 \"/>\n",
       "</symbol>\n",
       "<symbol overflow=\"visible\" id=\"glyph1-4\">\n",
       "<path style=\"stroke:none;\" d=\"M 0.347656 -2.203125 L 2.402344 -2.515625 C 2.488281 -2.117188 2.664063 -1.816406 2.929688 -1.609375 C 3.195313 -1.402344 3.566406 -1.300781 4.050781 -1.300781 C 4.574219 -1.300781 4.972656 -1.398438 5.246094 -1.59375 C 5.421875 -1.726563 5.511719 -1.90625 5.515625 -2.140625 C 5.511719 -2.289063 5.464844 -2.417969 5.371094 -2.523438 C 5.265625 -2.621094 5.035156 -2.710938 4.683594 -2.792969 C 3.03125 -3.15625 1.988281 -3.488281 1.550781 -3.789063 C 0.9375 -4.207031 0.632813 -4.789063 0.632813 -5.53125 C 0.632813 -6.199219 0.894531 -6.761719 1.425781 -7.21875 C 1.949219 -7.671875 2.769531 -7.898438 3.886719 -7.902344 C 4.941406 -7.898438 5.726563 -7.726563 6.242188 -7.382813 C 6.75 -7.039063 7.105469 -6.527344 7.304688 -5.855469 L 5.375 -5.5 C 5.289063 -5.800781 5.132813 -6.03125 4.90625 -6.191406 C 4.671875 -6.347656 4.34375 -6.425781 3.921875 -6.429688 C 3.378906 -6.425781 2.996094 -6.351563 2.765625 -6.207031 C 2.609375 -6.097656 2.53125 -5.960938 2.53125 -5.792969 C 2.53125 -5.644531 2.597656 -5.519531 2.734375 -5.421875 C 2.917969 -5.28125 3.554688 -5.089844 4.644531 -4.84375 C 5.730469 -4.59375 6.492188 -4.292969 6.925781 -3.9375 C 7.351563 -3.570313 7.5625 -3.0625 7.566406 -2.414063 C 7.5625 -1.703125 7.269531 -1.09375 6.679688 -0.585938 C 6.085938 -0.078125 5.207031 0.175781 4.050781 0.175781 C 2.996094 0.175781 2.164063 -0.0351563 1.550781 -0.464844 C 0.9375 -0.886719 0.535156 -1.46875 0.347656 -2.203125 Z M 0.347656 -2.203125 \"/>\n",
       "</symbol>\n",
       "<symbol overflow=\"visible\" id=\"glyph1-5\">\n",
       "<path style=\"stroke:none;\" d=\"M 4.460938 3.136719 L 3.054688 3.136719 C 2.308594 2.011719 1.746094 0.851563 1.359375 -0.355469 C 0.96875 -1.5625 0.773438 -2.730469 0.777344 -3.863281 C 0.773438 -5.261719 1.015625 -6.589844 1.5 -7.84375 C 1.914063 -8.925781 2.441406 -9.925781 3.085938 -10.847656 L 4.480469 -10.847656 C 3.8125 -9.375 3.355469 -8.125 3.109375 -7.097656 C 2.855469 -6.0625 2.730469 -4.972656 2.734375 -3.820313 C 2.730469 -3.023438 2.804688 -2.207031 2.957031 -1.375 C 3.101563 -0.539063 3.304688 0.25 3.566406 1.003906 C 3.734375 1.496094 4.03125 2.207031 4.460938 3.136719 Z M 4.460938 3.136719 \"/>\n",
       "</symbol>\n",
       "<symbol overflow=\"visible\" id=\"glyph1-6\">\n",
       "<path style=\"stroke:none;\" d=\"M 5.863281 0 L 3.820313 0 L 3.820313 -7.703125 C 3.070313 -7.003906 2.1875 -6.488281 1.179688 -6.15625 L 1.179688 -8.011719 C 1.710938 -8.183594 2.292969 -8.515625 2.917969 -9.003906 C 3.542969 -9.488281 3.972656 -10.058594 4.207031 -10.710938 L 5.863281 -10.710938 Z M 5.863281 0 \"/>\n",
       "</symbol>\n",
       "<symbol overflow=\"visible\" id=\"glyph1-7\">\n",
       "<path style=\"stroke:none;\" d=\"M 4.089844 -10.710938 C 5.121094 -10.710938 5.925781 -10.339844 6.511719 -9.601563 C 7.199219 -8.726563 7.546875 -7.28125 7.550781 -5.261719 C 7.546875 -3.242188 7.199219 -1.789063 6.503906 -0.910156 C 5.925781 -0.179688 5.121094 0.179688 4.089844 0.183594 C 3.050781 0.179688 2.210938 -0.214844 1.578125 -1.011719 C 0.9375 -1.808594 0.621094 -3.230469 0.625 -5.28125 C 0.621094 -7.285156 0.96875 -8.730469 1.671875 -9.617188 C 2.246094 -10.34375 3.054688 -10.710938 4.089844 -10.710938 Z M 4.089844 -9.015625 C 3.839844 -9.011719 3.617188 -8.933594 3.425781 -8.777344 C 3.230469 -8.621094 3.082031 -8.335938 2.976563 -7.929688 C 2.835938 -7.398438 2.765625 -6.511719 2.765625 -5.261719 C 2.765625 -4.007813 2.828125 -3.144531 2.953125 -2.679688 C 3.078125 -2.210938 3.234375 -1.902344 3.429688 -1.746094 C 3.617188 -1.589844 3.839844 -1.511719 4.089844 -1.511719 C 4.335938 -1.511719 4.554688 -1.589844 4.75 -1.746094 C 4.941406 -1.902344 5.09375 -2.183594 5.203125 -2.597656 C 5.34375 -3.117188 5.414063 -4.007813 5.414063 -5.261719 C 5.414063 -6.511719 5.347656 -7.371094 5.222656 -7.839844 C 5.09375 -8.308594 4.9375 -8.621094 4.746094 -8.777344 C 4.554688 -8.933594 4.335938 -9.011719 4.089844 -9.015625 Z M 4.089844 -9.015625 \"/>\n",
       "</symbol>\n",
       "<symbol overflow=\"visible\" id=\"glyph1-8\">\n",
       "<path style=\"stroke:none;\" d=\"M 1.019531 -2.042969 L 3.0625 -2.042969 L 3.0625 -0.582031 C 3.058594 0.0117188 3.007813 0.472656 2.910156 0.816406 C 2.804688 1.15625 2.613281 1.464844 2.332031 1.738281 C 2.046875 2.007813 1.683594 2.222656 1.25 2.378906 L 0.851563 1.535156 C 1.257813 1.398438 1.550781 1.210938 1.730469 0.972656 C 1.902344 0.734375 1.996094 0.410156 2.007813 0 L 1.019531 0 Z M 1.019531 -2.042969 \"/>\n",
       "</symbol>\n",
       "<symbol overflow=\"visible\" id=\"glyph1-9\">\n",
       "<path style=\"stroke:none;\" d=\"\"/>\n",
       "</symbol>\n",
       "<symbol overflow=\"visible\" id=\"glyph1-10\">\n",
       "<path style=\"stroke:none;\" d=\"M 1.070313 0 L 1.070313 -10.664063 L 3.113281 -10.664063 L 3.113281 0 Z M 1.070313 0 \"/>\n",
       "</symbol>\n",
       "<symbol overflow=\"visible\" id=\"glyph1-11\">\n",
       "<path style=\"stroke:none;\" d=\"M 2.597656 -5.371094 L 0.742188 -5.703125 C 0.949219 -6.445313 1.308594 -7 1.816406 -7.363281 C 2.324219 -7.71875 3.082031 -7.898438 4.089844 -7.902344 C 5 -7.898438 5.675781 -7.789063 6.125 -7.578125 C 6.570313 -7.359375 6.886719 -7.085938 7.066406 -6.753906 C 7.246094 -6.421875 7.335938 -5.8125 7.339844 -4.925781 L 7.320313 -2.539063 C 7.316406 -1.855469 7.351563 -1.355469 7.417969 -1.035156 C 7.480469 -0.710938 7.601563 -0.367188 7.785156 0 L 5.761719 0 C 5.707031 -0.132813 5.644531 -0.332031 5.566406 -0.605469 C 5.53125 -0.722656 5.503906 -0.804688 5.492188 -0.84375 C 5.140625 -0.503906 4.769531 -0.246094 4.371094 -0.078125 C 3.972656 0.09375 3.546875 0.175781 3.097656 0.175781 C 2.300781 0.175781 1.675781 -0.0390625 1.21875 -0.472656 C 0.757813 -0.902344 0.527344 -1.449219 0.53125 -2.109375 C 0.527344 -2.546875 0.632813 -2.933594 0.84375 -3.277344 C 1.050781 -3.613281 1.339844 -3.875 1.71875 -4.0625 C 2.09375 -4.242188 2.636719 -4.402344 3.347656 -4.539063 C 4.300781 -4.714844 4.964844 -4.882813 5.332031 -5.042969 L 5.332031 -5.246094 C 5.332031 -5.636719 5.234375 -5.917969 5.039063 -6.085938 C 4.84375 -6.25 4.476563 -6.332031 3.941406 -6.335938 C 3.578125 -6.332031 3.292969 -6.261719 3.089844 -6.121094 C 2.882813 -5.976563 2.71875 -5.726563 2.597656 -5.371094 Z M 5.332031 -3.710938 C 5.070313 -3.617188 4.65625 -3.511719 4.089844 -3.394531 C 3.519531 -3.269531 3.148438 -3.152344 2.976563 -3.042969 C 2.707031 -2.847656 2.570313 -2.609375 2.574219 -2.320313 C 2.570313 -2.03125 2.679688 -1.78125 2.894531 -1.578125 C 3.105469 -1.367188 3.375 -1.265625 3.710938 -1.265625 C 4.074219 -1.265625 4.425781 -1.386719 4.765625 -1.628906 C 5.007813 -1.8125 5.171875 -2.035156 5.253906 -2.304688 C 5.304688 -2.476563 5.332031 -2.8125 5.332031 -3.304688 Z M 5.332031 -3.710938 \"/>\n",
       "</symbol>\n",
       "<symbol overflow=\"visible\" id=\"glyph1-12\">\n",
       "<path style=\"stroke:none;\" d=\"M 0.917969 -7.726563 L 2.800781 -7.726563 L 2.800781 -6.671875 C 3.472656 -7.488281 4.273438 -7.898438 5.210938 -7.902344 C 5.703125 -7.898438 6.132813 -7.796875 6.496094 -7.59375 C 6.859375 -7.390625 7.15625 -7.082031 7.390625 -6.671875 C 7.726563 -7.082031 8.09375 -7.390625 8.488281 -7.59375 C 8.878906 -7.796875 9.300781 -7.898438 9.75 -7.902344 C 10.316406 -7.898438 10.792969 -7.78125 11.1875 -7.554688 C 11.578125 -7.320313 11.875 -6.984375 12.070313 -6.539063 C 12.210938 -6.210938 12.28125 -5.675781 12.28125 -4.941406 L 12.28125 0 L 10.238281 0 L 10.238281 -4.417969 C 10.234375 -5.183594 10.164063 -5.675781 10.027344 -5.898438 C 9.832031 -6.1875 9.542969 -6.332031 9.152344 -6.335938 C 8.863281 -6.332031 8.59375 -6.246094 8.34375 -6.074219 C 8.089844 -5.898438 7.90625 -5.640625 7.796875 -5.304688 C 7.683594 -4.964844 7.628906 -4.433594 7.632813 -3.710938 L 7.632813 0 L 5.585938 0 L 5.585938 -4.234375 C 5.582031 -4.984375 5.546875 -5.46875 5.476563 -5.6875 C 5.402344 -5.902344 5.289063 -6.066406 5.140625 -6.175781 C 4.984375 -6.28125 4.777344 -6.332031 4.519531 -6.335938 C 4.199219 -6.332031 3.917969 -6.25 3.667969 -6.082031 C 3.414063 -5.910156 3.230469 -5.664063 3.125 -5.347656 C 3.011719 -5.023438 2.957031 -4.492188 2.960938 -3.753906 L 2.960938 0 L 0.917969 0 Z M 0.917969 -7.726563 \"/>\n",
       "</symbol>\n",
       "<symbol overflow=\"visible\" id=\"glyph1-13\">\n",
       "<path style=\"stroke:none;\" d=\"M 0.980469 0 L 0.980469 -10.664063 L 3.027344 -10.664063 L 3.027344 -6.824219 C 3.65625 -7.539063 4.402344 -7.898438 5.265625 -7.902344 C 6.207031 -7.898438 6.984375 -7.558594 7.601563 -6.878906 C 8.214844 -6.195313 8.523438 -5.214844 8.527344 -3.941406 C 8.523438 -2.621094 8.210938 -1.605469 7.582031 -0.894531 C 6.953125 -0.179688 6.191406 0.175781 5.296875 0.175781 C 4.851563 0.175781 4.414063 0.0664063 3.988281 -0.15625 C 3.558594 -0.375 3.191406 -0.703125 2.882813 -1.136719 L 2.882813 0 Z M 3.011719 -4.03125 C 3.011719 -3.230469 3.136719 -2.636719 3.390625 -2.253906 C 3.742188 -1.710938 4.210938 -1.441406 4.800781 -1.441406 C 5.246094 -1.441406 5.632813 -1.632813 5.953125 -2.019531 C 6.269531 -2.402344 6.425781 -3.007813 6.429688 -3.839844 C 6.425781 -4.71875 6.265625 -5.355469 5.949219 -5.75 C 5.628906 -6.136719 5.222656 -6.332031 4.722656 -6.335938 C 4.230469 -6.332031 3.820313 -6.144531 3.5 -5.765625 C 3.171875 -5.382813 3.011719 -4.804688 3.011719 -4.03125 Z M 3.011719 -4.03125 \"/>\n",
       "</symbol>\n",
       "<symbol overflow=\"visible\" id=\"glyph1-14\">\n",
       "<path style=\"stroke:none;\" d=\"M 8.15625 0 L 6.257813 0 L 6.257813 -1.136719 C 5.941406 -0.691406 5.566406 -0.359375 5.140625 -0.148438 C 4.707031 0.0703125 4.273438 0.175781 3.839844 0.175781 C 2.949219 0.175781 2.191406 -0.179688 1.558594 -0.898438 C 0.925781 -1.609375 0.609375 -2.609375 0.609375 -3.890625 C 0.609375 -5.199219 0.917969 -6.195313 1.535156 -6.878906 C 2.152344 -7.558594 2.929688 -7.898438 3.871094 -7.902344 C 4.730469 -7.898438 5.476563 -7.539063 6.109375 -6.824219 L 6.109375 -10.664063 L 8.15625 -10.664063 Z M 2.699219 -4.03125 C 2.695313 -3.203125 2.808594 -2.605469 3.042969 -2.242188 C 3.367188 -1.707031 3.828125 -1.441406 4.421875 -1.441406 C 4.890625 -1.441406 5.289063 -1.640625 5.621094 -2.039063 C 5.949219 -2.4375 6.117188 -3.035156 6.117188 -3.835938 C 6.117188 -4.71875 5.957031 -5.355469 5.636719 -5.75 C 5.316406 -6.136719 4.90625 -6.332031 4.410156 -6.335938 C 3.921875 -6.332031 3.515625 -6.140625 3.1875 -5.757813 C 2.859375 -5.371094 2.695313 -4.796875 2.699219 -4.03125 Z M 2.699219 -4.03125 \"/>\n",
       "</symbol>\n",
       "<symbol overflow=\"visible\" id=\"glyph1-15\">\n",
       "<path style=\"stroke:none;\" d=\"M 0.617188 -5.9375 L 0.617188 -7.8125 L 8.074219 -7.8125 L 8.074219 -5.9375 Z M 0.617188 -2.707031 L 0.617188 -4.589844 L 8.074219 -4.589844 L 8.074219 -2.707031 Z M 0.617188 -2.707031 \"/>\n",
       "</symbol>\n",
       "<symbol overflow=\"visible\" id=\"glyph1-16\">\n",
       "<path style=\"stroke:none;\" d=\"M 0.660156 -2.742188 L 2.699219 -2.953125 C 2.753906 -2.492188 2.925781 -2.125 3.214844 -1.855469 C 3.5 -1.585938 3.832031 -1.453125 4.207031 -1.453125 C 4.628906 -1.453125 4.988281 -1.625 5.289063 -1.972656 C 5.582031 -2.320313 5.730469 -2.84375 5.734375 -3.542969 C 5.730469 -4.195313 5.582031 -4.6875 5.292969 -5.015625 C 4.996094 -5.34375 4.617188 -5.507813 4.148438 -5.507813 C 3.558594 -5.507813 3.03125 -5.246094 2.566406 -4.730469 L 0.910156 -4.96875 L 1.957031 -10.519531 L 7.363281 -10.519531 L 7.363281 -8.605469 L 3.507813 -8.605469 L 3.1875 -6.796875 C 3.640625 -7.023438 4.105469 -7.136719 4.582031 -7.136719 C 5.488281 -7.136719 6.257813 -6.804688 6.890625 -6.148438 C 7.519531 -5.484375 7.832031 -4.628906 7.835938 -3.578125 C 7.832031 -2.699219 7.578125 -1.917969 7.070313 -1.230469 C 6.375 -0.289063 5.414063 0.179688 4.183594 0.183594 C 3.199219 0.179688 2.394531 -0.0820313 1.773438 -0.609375 C 1.152344 -1.136719 0.78125 -1.847656 0.660156 -2.742188 Z M 0.660156 -2.742188 \"/>\n",
       "</symbol>\n",
       "<symbol overflow=\"visible\" id=\"glyph1-17\">\n",
       "<path style=\"stroke:none;\" d=\"M 0.503906 3.136719 C 0.902344 2.269531 1.183594 1.609375 1.351563 1.148438 C 1.515625 0.6875 1.667969 0.15625 1.8125 -0.445313 C 1.949219 -1.046875 2.054688 -1.617188 2.125 -2.15625 C 2.191406 -2.695313 2.226563 -3.25 2.226563 -3.820313 C 2.226563 -4.972656 2.101563 -6.0625 1.855469 -7.097656 C 1.605469 -8.125 1.148438 -9.375 0.488281 -10.847656 L 1.878906 -10.847656 C 2.609375 -9.800781 3.175781 -8.695313 3.582031 -7.53125 C 3.984375 -6.359375 4.1875 -5.175781 4.191406 -3.972656 C 4.1875 -2.957031 4.027344 -1.871094 3.710938 -0.714844 C 3.34375 0.585938 2.746094 1.867188 1.914063 3.136719 Z M 0.503906 3.136719 \"/>\n",
       "</symbol>\n",
       "<symbol overflow=\"visible\" id=\"glyph2-0\">\n",
       "<path style=\"stroke:none;\" d=\"M 4.65625 0 L 3.558594 0 L 3.558594 -7 C 3.289063 -6.746094 2.941406 -6.492188 2.515625 -6.242188 C 2.085938 -5.988281 1.703125 -5.800781 1.359375 -5.675781 L 1.359375 -6.738281 C 1.972656 -7.027344 2.507813 -7.375 2.972656 -7.789063 C 3.429688 -8.195313 3.757813 -8.59375 3.949219 -8.984375 L 4.65625 -8.984375 Z M 4.65625 0 \"/>\n",
       "</symbol>\n",
       "<symbol overflow=\"visible\" id=\"glyph2-1\">\n",
       "<path style=\"stroke:none;\" d=\"M 6.292969 -1.054688 L 6.292969 0 L 0.378906 0 C 0.367188 -0.265625 0.410156 -0.519531 0.507813 -0.761719 C 0.65625 -1.164063 0.898438 -1.558594 1.230469 -1.953125 C 1.558594 -2.339844 2.035156 -2.792969 2.667969 -3.308594 C 3.636719 -4.101563 4.292969 -4.734375 4.636719 -5.203125 C 4.976563 -5.667969 5.148438 -6.105469 5.152344 -6.523438 C 5.148438 -6.957031 4.992188 -7.324219 4.683594 -7.625 C 4.371094 -7.921875 3.96875 -8.074219 3.46875 -8.074219 C 2.9375 -8.074219 2.511719 -7.914063 2.195313 -7.597656 C 1.878906 -7.277344 1.71875 -6.839844 1.714844 -6.28125 L 0.585938 -6.398438 C 0.664063 -7.238281 0.953125 -7.878906 1.457031 -8.320313 C 1.960938 -8.761719 2.640625 -8.980469 3.492188 -8.984375 C 4.347656 -8.980469 5.023438 -8.742188 5.527344 -8.269531 C 6.027344 -7.789063 6.28125 -7.199219 6.28125 -6.5 C 6.28125 -6.140625 6.207031 -5.789063 6.058594 -5.445313 C 5.910156 -5.09375 5.664063 -4.730469 5.328125 -4.351563 C 4.984375 -3.964844 4.421875 -3.441406 3.636719 -2.777344 C 2.976563 -2.222656 2.554688 -1.84375 2.367188 -1.648438 C 2.179688 -1.449219 2.023438 -1.253906 1.90625 -1.054688 Z M 6.292969 -1.054688 \"/>\n",
       "</symbol>\n",
       "<symbol overflow=\"visible\" id=\"glyph2-2\">\n",
       "<path style=\"stroke:none;\" d=\"M 0.523438 -2.363281 L 1.625 -2.507813 C 1.746094 -1.882813 1.960938 -1.433594 2.265625 -1.160156 C 2.566406 -0.886719 2.9375 -0.75 3.375 -0.75 C 3.890625 -0.75 4.324219 -0.925781 4.683594 -1.285156 C 5.035156 -1.640625 5.214844 -2.085938 5.21875 -2.617188 C 5.214844 -3.121094 5.050781 -3.539063 4.722656 -3.867188 C 4.394531 -4.195313 3.976563 -4.359375 3.46875 -4.359375 C 3.257813 -4.359375 2.996094 -4.316406 2.691406 -4.234375 L 2.8125 -5.199219 C 2.882813 -5.1875 2.941406 -5.183594 2.992188 -5.1875 C 3.457031 -5.183594 3.878906 -5.308594 4.253906 -5.554688 C 4.628906 -5.796875 4.816406 -6.171875 4.816406 -6.683594 C 4.816406 -7.085938 4.679688 -7.417969 4.40625 -7.683594 C 4.132813 -7.945313 3.78125 -8.078125 3.351563 -8.082031 C 2.921875 -8.078125 2.5625 -7.945313 2.28125 -7.675781 C 1.992188 -7.40625 1.8125 -7.003906 1.734375 -6.46875 L 0.632813 -6.664063 C 0.765625 -7.398438 1.070313 -7.96875 1.550781 -8.375 C 2.023438 -8.777344 2.617188 -8.980469 3.328125 -8.984375 C 3.8125 -8.980469 4.261719 -8.875 4.675781 -8.667969 C 5.085938 -8.457031 5.398438 -8.171875 5.617188 -7.8125 C 5.832031 -7.445313 5.941406 -7.0625 5.945313 -6.660156 C 5.941406 -6.269531 5.835938 -5.917969 5.632813 -5.601563 C 5.421875 -5.28125 5.117188 -5.027344 4.710938 -4.847656 C 5.238281 -4.722656 5.648438 -4.46875 5.941406 -4.085938 C 6.234375 -3.695313 6.378906 -3.214844 6.382813 -2.644531 C 6.378906 -1.859375 6.09375 -1.199219 5.527344 -0.65625 C 4.957031 -0.113281 4.238281 0.15625 3.367188 0.160156 C 2.582031 0.15625 1.929688 -0.0742188 1.410156 -0.542969 C 0.890625 -1.007813 0.59375 -1.613281 0.523438 -2.363281 Z M 0.523438 -2.363281 \"/>\n",
       "</symbol>\n",
       "<symbol overflow=\"visible\" id=\"glyph2-3\">\n",
       "<path style=\"stroke:none;\" d=\"M 4.039063 0 L 4.039063 -2.140625 L 0.160156 -2.140625 L 0.160156 -3.148438 L 4.242188 -8.949219 L 5.140625 -8.949219 L 5.140625 -3.148438 L 6.347656 -3.148438 L 6.347656 -2.140625 L 5.140625 -2.140625 L 5.140625 0 Z M 4.039063 -3.148438 L 4.039063 -7.183594 L 1.238281 -3.148438 Z M 4.039063 -3.148438 \"/>\n",
       "</symbol>\n",
       "<symbol overflow=\"visible\" id=\"glyph2-4\">\n",
       "<path style=\"stroke:none;\" d=\"M 0.519531 -2.34375 L 1.671875 -2.441406 C 1.753906 -1.875 1.953125 -1.453125 2.265625 -1.171875 C 2.574219 -0.890625 2.949219 -0.75 3.394531 -0.75 C 3.917969 -0.75 4.367188 -0.949219 4.734375 -1.347656 C 5.101563 -1.746094 5.285156 -2.273438 5.285156 -2.9375 C 5.285156 -3.558594 5.109375 -4.054688 4.757813 -4.417969 C 4.40625 -4.777344 3.945313 -4.957031 3.375 -4.960938 C 3.019531 -4.957031 2.699219 -4.875 2.414063 -4.71875 C 2.128906 -4.554688 1.90625 -4.347656 1.746094 -4.09375 L 0.714844 -4.230469 L 1.582031 -8.824219 L 6.03125 -8.824219 L 6.03125 -7.777344 L 2.460938 -7.777344 L 1.976563 -5.371094 C 2.507813 -5.742188 3.074219 -5.929688 3.667969 -5.933594 C 4.449219 -5.929688 5.105469 -5.660156 5.644531 -5.121094 C 6.179688 -4.578125 6.449219 -3.882813 6.453125 -3.035156 C 6.449219 -2.222656 6.214844 -1.519531 5.742188 -0.933594 C 5.167969 -0.207031 4.382813 0.152344 3.394531 0.152344 C 2.574219 0.152344 1.910156 -0.0742188 1.398438 -0.53125 C 0.882813 -0.984375 0.589844 -1.589844 0.519531 -2.34375 Z M 0.519531 -2.34375 \"/>\n",
       "</symbol>\n",
       "<symbol overflow=\"visible\" id=\"glyph2-5\">\n",
       "<path style=\"stroke:none;\" d=\"M 6.21875 -6.757813 L 5.125 -6.671875 C 5.027344 -7.097656 4.890625 -7.410156 4.710938 -7.609375 C 4.414063 -7.921875 4.046875 -8.078125 3.613281 -8.082031 C 3.261719 -8.078125 2.953125 -7.980469 2.691406 -7.789063 C 2.339844 -7.53125 2.066406 -7.164063 1.871094 -6.683594 C 1.667969 -6.195313 1.566406 -5.503906 1.5625 -4.613281 C 1.824219 -5.011719 2.148438 -5.3125 2.53125 -5.511719 C 2.914063 -5.703125 3.3125 -5.800781 3.734375 -5.804688 C 4.464844 -5.800781 5.089844 -5.53125 5.605469 -4.996094 C 6.117188 -4.453125 6.375 -3.757813 6.378906 -2.90625 C 6.375 -2.34375 6.253906 -1.820313 6.015625 -1.339844 C 5.769531 -0.855469 5.4375 -0.484375 5.015625 -0.230469 C 4.59375 0.0273438 4.113281 0.152344 3.578125 0.152344 C 2.660156 0.152344 1.914063 -0.183594 1.335938 -0.855469 C 0.757813 -1.527344 0.46875 -2.636719 0.46875 -4.1875 C 0.46875 -5.914063 0.789063 -7.171875 1.429688 -7.960938 C 1.984375 -8.640625 2.734375 -8.980469 3.679688 -8.984375 C 4.382813 -8.980469 4.957031 -8.785156 5.410156 -8.390625 C 5.855469 -7.996094 6.125 -7.449219 6.21875 -6.757813 Z M 1.734375 -2.898438 C 1.734375 -2.519531 1.8125 -2.15625 1.972656 -1.8125 C 2.132813 -1.460938 2.359375 -1.199219 2.648438 -1.019531 C 2.9375 -0.839844 3.238281 -0.75 3.558594 -0.75 C 4.019531 -0.75 4.417969 -0.9375 4.753906 -1.3125 C 5.082031 -1.6875 5.25 -2.195313 5.253906 -2.839844 C 5.25 -3.453125 5.085938 -3.941406 4.757813 -4.300781 C 4.429688 -4.65625 4.015625 -4.832031 3.515625 -4.835938 C 3.015625 -4.832031 2.59375 -4.65625 2.25 -4.300781 C 1.90625 -3.941406 1.734375 -3.472656 1.734375 -2.898438 Z M 1.734375 -2.898438 \"/>\n",
       "</symbol>\n",
       "<symbol overflow=\"visible\" id=\"glyph2-6\">\n",
       "<path style=\"stroke:none;\" d=\"M 0.59375 -7.777344 L 0.59375 -8.832031 L 6.382813 -8.832031 L 6.382813 -7.976563 C 5.8125 -7.367188 5.25 -6.5625 4.691406 -5.558594 C 4.128906 -4.554688 3.695313 -3.523438 3.394531 -2.460938 C 3.167969 -1.710938 3.027344 -0.890625 2.972656 0 L 1.84375 0 C 1.855469 -0.703125 1.992188 -1.550781 2.257813 -2.550781 C 2.519531 -3.542969 2.898438 -4.503906 3.394531 -5.433594 C 3.886719 -6.355469 4.414063 -7.136719 4.972656 -7.777344 Z M 0.59375 -7.777344 \"/>\n",
       "</symbol>\n",
       "<symbol overflow=\"visible\" id=\"glyph2-7\">\n",
       "<path style=\"stroke:none;\" d=\"M 2.210938 -4.851563 C 1.75 -5.015625 1.414063 -5.253906 1.195313 -5.566406 C 0.976563 -5.875 0.867188 -6.242188 0.867188 -6.675781 C 0.867188 -7.324219 1.097656 -7.871094 1.566406 -8.316406 C 2.03125 -8.757813 2.65625 -8.980469 3.4375 -8.984375 C 4.214844 -8.980469 4.84375 -8.753906 5.320313 -8.304688 C 5.796875 -7.847656 6.035156 -7.296875 6.035156 -6.648438 C 6.035156 -6.230469 5.925781 -5.867188 5.707031 -5.5625 C 5.488281 -5.25 5.15625 -5.015625 4.71875 -4.851563 C 5.265625 -4.671875 5.683594 -4.382813 5.972656 -3.984375 C 6.253906 -3.585938 6.398438 -3.109375 6.402344 -2.558594 C 6.398438 -1.789063 6.128906 -1.144531 5.589844 -0.628906 C 5.046875 -0.105469 4.332031 0.152344 3.453125 0.152344 C 2.566406 0.152344 1.855469 -0.105469 1.316406 -0.628906 C 0.773438 -1.148438 0.503906 -1.800781 0.507813 -2.585938 C 0.503906 -3.164063 0.652344 -3.652344 0.949219 -4.050781 C 1.242188 -4.441406 1.660156 -4.710938 2.210938 -4.851563 Z M 1.988281 -6.714844 C 1.984375 -6.289063 2.121094 -5.941406 2.398438 -5.675781 C 2.667969 -5.40625 3.023438 -5.273438 3.460938 -5.273438 C 3.878906 -5.273438 4.226563 -5.40625 4.5 -5.671875 C 4.769531 -5.9375 4.902344 -6.261719 4.90625 -6.652344 C 4.902344 -7.050781 4.765625 -7.390625 4.488281 -7.667969 C 4.207031 -7.941406 3.859375 -8.078125 3.449219 -8.082031 C 3.027344 -8.078125 2.679688 -7.945313 2.402344 -7.675781 C 2.125 -7.40625 1.984375 -7.085938 1.988281 -6.714844 Z M 1.636719 -2.582031 C 1.632813 -2.265625 1.707031 -1.960938 1.859375 -1.671875 C 2.003906 -1.375 2.226563 -1.148438 2.519531 -0.992188 C 2.8125 -0.828125 3.128906 -0.75 3.46875 -0.75 C 3.992188 -0.75 4.421875 -0.917969 4.765625 -1.257813 C 5.105469 -1.59375 5.277344 -2.023438 5.28125 -2.546875 C 5.277344 -3.074219 5.101563 -3.511719 4.75 -3.855469 C 4.394531 -4.199219 3.953125 -4.371094 3.429688 -4.375 C 2.910156 -4.371094 2.484375 -4.199219 2.144531 -3.863281 C 1.804688 -3.519531 1.632813 -3.09375 1.636719 -2.582031 Z M 1.636719 -2.582031 \"/>\n",
       "</symbol>\n",
       "<symbol overflow=\"visible\" id=\"glyph2-8\">\n",
       "<path style=\"stroke:none;\" d=\"M 0.683594 -2.070313 L 1.738281 -2.167969 C 1.828125 -1.667969 2 -1.304688 2.25 -1.085938 C 2.5 -0.859375 2.824219 -0.75 3.222656 -0.75 C 3.558594 -0.75 3.851563 -0.824219 4.109375 -0.980469 C 4.359375 -1.132813 4.570313 -1.339844 4.734375 -1.601563 C 4.898438 -1.855469 5.035156 -2.207031 5.144531 -2.648438 C 5.253906 -3.085938 5.308594 -3.53125 5.308594 -3.992188 C 5.308594 -4.039063 5.304688 -4.113281 5.304688 -4.210938 C 5.078125 -3.859375 4.777344 -3.574219 4.402344 -3.359375 C 4.019531 -3.140625 3.609375 -3.035156 3.167969 -3.035156 C 2.425781 -3.035156 1.800781 -3.300781 1.289063 -3.839844 C 0.773438 -4.371094 0.515625 -5.082031 0.519531 -5.964844 C 0.515625 -6.871094 0.78125 -7.597656 1.320313 -8.152344 C 1.851563 -8.703125 2.523438 -8.980469 3.332031 -8.984375 C 3.914063 -8.980469 4.445313 -8.824219 4.929688 -8.511719 C 5.40625 -8.195313 5.773438 -7.75 6.027344 -7.171875 C 6.273438 -6.59375 6.398438 -5.753906 6.402344 -4.65625 C 6.398438 -3.511719 6.273438 -2.601563 6.027344 -1.925781 C 5.777344 -1.246094 5.410156 -0.730469 4.921875 -0.378906 C 4.429688 -0.0234375 3.855469 0.152344 3.199219 0.152344 C 2.496094 0.152344 1.921875 -0.0390625 1.480469 -0.429688 C 1.035156 -0.8125 0.769531 -1.359375 0.683594 -2.070313 Z M 5.183594 -6.019531 C 5.179688 -6.644531 5.011719 -7.144531 4.679688 -7.519531 C 4.339844 -7.886719 3.9375 -8.074219 3.46875 -8.074219 C 2.976563 -8.074219 2.550781 -7.875 2.191406 -7.476563 C 1.828125 -7.078125 1.644531 -6.558594 1.648438 -5.925781 C 1.644531 -5.351563 1.816406 -4.890625 2.164063 -4.535156 C 2.503906 -4.179688 2.929688 -4 3.4375 -4.003906 C 3.941406 -4 4.359375 -4.179688 4.691406 -4.535156 C 5.015625 -4.890625 5.179688 -5.382813 5.183594 -6.019531 Z M 5.183594 -6.019531 \"/>\n",
       "</symbol>\n",
       "<symbol overflow=\"visible\" id=\"glyph2-9\">\n",
       "<path style=\"stroke:none;\" d=\"M 0.519531 -4.414063 C 0.515625 -5.46875 0.625 -6.320313 0.84375 -6.964844 C 1.0625 -7.609375 1.386719 -8.105469 1.816406 -8.457031 C 2.246094 -8.804688 2.785156 -8.980469 3.4375 -8.984375 C 3.914063 -8.980469 4.335938 -8.886719 4.699219 -8.695313 C 5.058594 -8.5 5.355469 -8.21875 5.59375 -7.859375 C 5.828125 -7.492188 6.015625 -7.050781 6.152344 -6.527344 C 6.285156 -6.003906 6.351563 -5.296875 6.355469 -4.414063 C 6.351563 -3.359375 6.242188 -2.511719 6.03125 -1.871094 C 5.8125 -1.222656 5.492188 -0.726563 5.0625 -0.375 C 4.632813 -0.0234375 4.089844 0.152344 3.4375 0.152344 C 2.570313 0.152344 1.890625 -0.15625 1.402344 -0.773438 C 0.808594 -1.515625 0.515625 -2.726563 0.519531 -4.414063 Z M 1.648438 -4.414063 C 1.644531 -2.941406 1.816406 -1.964844 2.164063 -1.480469 C 2.503906 -0.992188 2.929688 -0.75 3.4375 -0.75 C 3.9375 -0.75 4.359375 -0.992188 4.707031 -1.480469 C 5.050781 -1.96875 5.226563 -2.945313 5.226563 -4.414063 C 5.226563 -5.882813 5.050781 -6.863281 4.707031 -7.347656 C 4.359375 -7.832031 3.933594 -8.074219 3.425781 -8.074219 C 2.917969 -8.074219 2.515625 -7.859375 2.214844 -7.433594 C 1.835938 -6.886719 1.644531 -5.878906 1.648438 -4.414063 Z M 1.648438 -4.414063 \"/>\n",
       "</symbol>\n",
       "</g>\n",
       "<clipPath id=\"clip1\">\n",
       "  <path d=\"M 59.039063 59.039063 L 474.757813 59.039063 L 474.757813 431.558594 L 59.039063 431.558594 Z M 59.039063 59.039063 \"/>\n",
       "</clipPath>\n",
       "</defs>\n",
       "<g id=\"surface191\">\n",
       "<rect x=\"0\" y=\"0\" width=\"504\" height=\"504\" style=\"fill:rgb(100%,100%,100%);fill-opacity:1;stroke:none;\"/>\n",
       "<g clip-path=\"url(#clip1)\" clip-rule=\"nonzero\">\n",
       "<path style=\"fill:none;stroke-width:10;stroke-linecap:round;stroke-linejoin:round;stroke:rgb(100%,0%,0%);stroke-opacity:1;stroke-miterlimit:10;\" d=\"M 74.398438 416.800781 L 74.398438 386.886719 \"/>\n",
       "<path style=\"fill:none;stroke-width:10;stroke-linecap:round;stroke-linejoin:round;stroke:rgb(100%,0%,0%);stroke-opacity:1;stroke-miterlimit:10;\" d=\"M 112.800781 416.800781 L 112.800781 282.191406 \"/>\n",
       "<path style=\"fill:none;stroke-width:10;stroke-linecap:round;stroke-linejoin:round;stroke:rgb(100%,0%,0%);stroke-opacity:1;stroke-miterlimit:10;\" d=\"M 151.199219 416.800781 L 151.199219 72.800781 \"/>\n",
       "<path style=\"fill:none;stroke-width:10;stroke-linecap:round;stroke-linejoin:round;stroke:rgb(100%,0%,0%);stroke-opacity:1;stroke-miterlimit:10;\" d=\"M 189.601563 416.800781 L 189.601563 207.410156 \"/>\n",
       "<path style=\"fill:none;stroke-width:10;stroke-linecap:round;stroke-linejoin:round;stroke:rgb(100%,0%,0%);stroke-opacity:1;stroke-miterlimit:10;\" d=\"M 228 416.800781 L 228 162.539063 \"/>\n",
       "<path style=\"fill:none;stroke-width:10;stroke-linecap:round;stroke-linejoin:round;stroke:rgb(100%,0%,0%);stroke-opacity:1;stroke-miterlimit:10;\" d=\"M 266.398438 416.800781 L 266.398438 207.410156 \"/>\n",
       "<path style=\"fill:none;stroke-width:10;stroke-linecap:round;stroke-linejoin:round;stroke:rgb(100%,0%,0%);stroke-opacity:1;stroke-miterlimit:10;\" d=\"M 304.800781 416.800781 L 304.800781 237.320313 \"/>\n",
       "<path style=\"fill:none;stroke-width:10;stroke-linecap:round;stroke-linejoin:round;stroke:rgb(100%,0%,0%);stroke-opacity:1;stroke-miterlimit:10;\" d=\"M 343.199219 416.800781 L 343.199219 356.972656 \"/>\n",
       "<path style=\"fill:none;stroke-width:10;stroke-linecap:round;stroke-linejoin:round;stroke:rgb(100%,0%,0%);stroke-opacity:1;stroke-miterlimit:10;\" d=\"M 381.601563 416.800781 L 381.601563 401.84375 \"/>\n",
       "<path style=\"fill:none;stroke-width:10;stroke-linecap:round;stroke-linejoin:round;stroke:rgb(100%,0%,0%);stroke-opacity:1;stroke-miterlimit:10;\" d=\"M 420 416.800781 L 420 371.929688 \"/>\n",
       "<path style=\"fill:none;stroke-width:10;stroke-linecap:round;stroke-linejoin:round;stroke:rgb(100%,0%,0%);stroke-opacity:1;stroke-miterlimit:10;\" d=\"M 458.398438 416.800781 L 458.398438 401.84375 \"/>\n",
       "</g>\n",
       "<path style=\"fill:none;stroke-width:1;stroke-linecap:round;stroke-linejoin:round;stroke:rgb(0%,0%,0%);stroke-opacity:1;stroke-miterlimit:10;\" d=\"M 59.039063 416.800781 L 59.039063 117.667969 \"/>\n",
       "<path style=\"fill:none;stroke-width:1;stroke-linecap:round;stroke-linejoin:round;stroke:rgb(0%,0%,0%);stroke-opacity:1;stroke-miterlimit:10;\" d=\"M 59.039063 416.800781 L 51.839844 416.800781 \"/>\n",
       "<path style=\"fill:none;stroke-width:1;stroke-linecap:round;stroke-linejoin:round;stroke:rgb(0%,0%,0%);stroke-opacity:1;stroke-miterlimit:10;\" d=\"M 59.039063 342.015625 L 51.839844 342.015625 \"/>\n",
       "<path style=\"fill:none;stroke-width:1;stroke-linecap:round;stroke-linejoin:round;stroke:rgb(0%,0%,0%);stroke-opacity:1;stroke-miterlimit:10;\" d=\"M 59.039063 267.234375 L 51.839844 267.234375 \"/>\n",
       "<path style=\"fill:none;stroke-width:1;stroke-linecap:round;stroke-linejoin:round;stroke:rgb(0%,0%,0%);stroke-opacity:1;stroke-miterlimit:10;\" d=\"M 59.039063 192.453125 L 51.839844 192.453125 \"/>\n",
       "<path style=\"fill:none;stroke-width:1;stroke-linecap:round;stroke-linejoin:round;stroke:rgb(0%,0%,0%);stroke-opacity:1;stroke-miterlimit:10;\" d=\"M 59.039063 117.667969 L 51.839844 117.667969 \"/>\n",
       "<g style=\"fill:rgb(0%,0%,0%);fill-opacity:1;\">\n",
       "  <use xlink:href=\"#glyph0-0\" x=\"43.199219\" y=\"420.277344\"/>\n",
       "</g>\n",
       "<g style=\"fill:rgb(0%,0%,0%);fill-opacity:1;\">\n",
       "  <use xlink:href=\"#glyph0-1\" x=\"43.199219\" y=\"345.492188\"/>\n",
       "</g>\n",
       "<g style=\"fill:rgb(0%,0%,0%);fill-opacity:1;\">\n",
       "  <use xlink:href=\"#glyph0-2\" x=\"43.199219\" y=\"274.1875\"/>\n",
       "  <use xlink:href=\"#glyph0-0\" x=\"43.199219\" y=\"267.235596\"/>\n",
       "</g>\n",
       "<g style=\"fill:rgb(0%,0%,0%);fill-opacity:1;\">\n",
       "  <use xlink:href=\"#glyph0-2\" x=\"43.199219\" y=\"199.40625\"/>\n",
       "  <use xlink:href=\"#glyph0-1\" x=\"43.199219\" y=\"192.454346\"/>\n",
       "</g>\n",
       "<g style=\"fill:rgb(0%,0%,0%);fill-opacity:1;\">\n",
       "  <use xlink:href=\"#glyph0-3\" x=\"43.199219\" y=\"124.621094\"/>\n",
       "  <use xlink:href=\"#glyph0-0\" x=\"43.199219\" y=\"117.669189\"/>\n",
       "</g>\n",
       "<path style=\"fill:none;stroke-width:1;stroke-linecap:round;stroke-linejoin:round;stroke:rgb(0%,0%,0%);stroke-opacity:1;stroke-miterlimit:10;\" d=\"M 59.039063 430.558594 L 473.761719 430.558594 L 473.761719 59.039063 L 59.039063 59.039063 L 59.039063 430.558594 \"/>\n",
       "<g style=\"fill:rgb(0%,0%,0%);fill-opacity:1;\">\n",
       "  <use xlink:href=\"#glyph1-0\" x=\"187.9375\" y=\"34.851563\"/>\n",
       "  <use xlink:href=\"#glyph1-1\" x=\"193.735986\" y=\"34.851563\"/>\n",
       "  <use xlink:href=\"#glyph1-2\" x=\"202.8375\" y=\"34.851563\"/>\n",
       "  <use xlink:href=\"#glyph1-3\" x=\"211.939014\" y=\"34.851563\"/>\n",
       "  <use xlink:href=\"#glyph1-4\" x=\"216.078711\" y=\"34.851563\"/>\n",
       "  <use xlink:href=\"#glyph1-5\" x=\"224.365381\" y=\"34.851563\"/>\n",
       "  <use xlink:href=\"#glyph1-6\" x=\"229.327197\" y=\"34.851563\"/>\n",
       "  <use xlink:href=\"#glyph1-7\" x=\"237.613867\" y=\"34.851563\"/>\n",
       "  <use xlink:href=\"#glyph1-7\" x=\"245.900537\" y=\"34.851563\"/>\n",
       "  <use xlink:href=\"#glyph1-8\" x=\"254.187207\" y=\"34.851563\"/>\n",
       "  <use xlink:href=\"#glyph1-9\" x=\"258.326904\" y=\"34.851563\"/>\n",
       "  <use xlink:href=\"#glyph1-10\" x=\"262.466602\" y=\"34.851563\"/>\n",
       "  <use xlink:href=\"#glyph1-11\" x=\"266.606299\" y=\"34.851563\"/>\n",
       "  <use xlink:href=\"#glyph1-12\" x=\"274.892969\" y=\"34.851563\"/>\n",
       "  <use xlink:href=\"#glyph1-13\" x=\"288.141455\" y=\"34.851563\"/>\n",
       "  <use xlink:href=\"#glyph1-14\" x=\"297.242969\" y=\"34.851563\"/>\n",
       "  <use xlink:href=\"#glyph1-11\" x=\"306.344482\" y=\"34.851563\"/>\n",
       "  <use xlink:href=\"#glyph1-9\" x=\"314.631152\" y=\"34.851563\"/>\n",
       "  <use xlink:href=\"#glyph1-15\" x=\"318.77085\" y=\"34.851563\"/>\n",
       "  <use xlink:href=\"#glyph1-9\" x=\"327.472217\" y=\"34.851563\"/>\n",
       "  <use xlink:href=\"#glyph1-16\" x=\"331.611914\" y=\"34.851563\"/>\n",
       "  <use xlink:href=\"#glyph1-17\" x=\"339.898584\" y=\"34.851563\"/>\n",
       "</g>\n",
       "<g style=\"fill:rgb(0%,0%,0%);fill-opacity:1;\">\n",
       "  <use xlink:href=\"#glyph0-4\" x=\"14.398438\" y=\"297.601563\"/>\n",
       "  <use xlink:href=\"#glyph0-5\" x=\"14.398438\" y=\"294.128662\"/>\n",
       "  <use xlink:href=\"#glyph0-6\" x=\"14.398438\" y=\"287.176758\"/>\n",
       "  <use xlink:href=\"#glyph0-7\" x=\"14.398438\" y=\"280.224854\"/>\n",
       "  <use xlink:href=\"#glyph0-8\" x=\"14.398438\" y=\"277.447754\"/>\n",
       "  <use xlink:href=\"#glyph0-9\" x=\"14.398438\" y=\"270.49585\"/>\n",
       "  <use xlink:href=\"#glyph0-10\" x=\"14.398438\" y=\"266.333252\"/>\n",
       "  <use xlink:href=\"#glyph0-11\" x=\"14.398438\" y=\"262.170654\"/>\n",
       "  <use xlink:href=\"#glyph0-12\" x=\"14.398438\" y=\"255.21875\"/>\n",
       "  <use xlink:href=\"#glyph0-13\" x=\"14.398438\" y=\"248.266846\"/>\n",
       "  <use xlink:href=\"#glyph0-14\" x=\"14.398438\" y=\"245.489746\"/>\n",
       "  <use xlink:href=\"#glyph0-9\" x=\"14.398438\" y=\"239.239746\"/>\n",
       "  <use xlink:href=\"#glyph0-2\" x=\"14.398438\" y=\"235.077148\"/>\n",
       "  <use xlink:href=\"#glyph0-0\" x=\"14.398438\" y=\"228.125244\"/>\n",
       "  <use xlink:href=\"#glyph0-0\" x=\"14.398438\" y=\"221.17334\"/>\n",
       "  <use xlink:href=\"#glyph0-15\" x=\"14.398438\" y=\"214.221436\"/>\n",
       "  <use xlink:href=\"#glyph0-16\" x=\"14.398438\" y=\"210.748535\"/>\n",
       "  <use xlink:href=\"#glyph0-1\" x=\"14.398438\" y=\"207.275635\"/>\n",
       "  <use xlink:href=\"#glyph0-17\" x=\"14.398438\" y=\"200.32373\"/>\n",
       "  <use xlink:href=\"#glyph0-17\" x=\"14.398438\" y=\"196.161133\"/>\n",
       "</g>\n",
       "<path style=\"fill:none;stroke-width:1;stroke-linecap:round;stroke-linejoin:round;stroke:rgb(0%,0%,0%);stroke-opacity:1;stroke-miterlimit:10;\" d=\"M 74.398438 430.558594 L 458.398438 430.558594 \"/>\n",
       "<path style=\"fill:none;stroke-width:1;stroke-linecap:round;stroke-linejoin:round;stroke:rgb(0%,0%,0%);stroke-opacity:1;stroke-miterlimit:10;\" d=\"M 74.398438 430.558594 L 74.398438 437.761719 \"/>\n",
       "<path style=\"fill:none;stroke-width:1;stroke-linecap:round;stroke-linejoin:round;stroke:rgb(0%,0%,0%);stroke-opacity:1;stroke-miterlimit:10;\" d=\"M 112.800781 430.558594 L 112.800781 437.761719 \"/>\n",
       "<path style=\"fill:none;stroke-width:1;stroke-linecap:round;stroke-linejoin:round;stroke:rgb(0%,0%,0%);stroke-opacity:1;stroke-miterlimit:10;\" d=\"M 151.199219 430.558594 L 151.199219 437.761719 \"/>\n",
       "<path style=\"fill:none;stroke-width:1;stroke-linecap:round;stroke-linejoin:round;stroke:rgb(0%,0%,0%);stroke-opacity:1;stroke-miterlimit:10;\" d=\"M 189.601563 430.558594 L 189.601563 437.761719 \"/>\n",
       "<path style=\"fill:none;stroke-width:1;stroke-linecap:round;stroke-linejoin:round;stroke:rgb(0%,0%,0%);stroke-opacity:1;stroke-miterlimit:10;\" d=\"M 228 430.558594 L 228 437.761719 \"/>\n",
       "<path style=\"fill:none;stroke-width:1;stroke-linecap:round;stroke-linejoin:round;stroke:rgb(0%,0%,0%);stroke-opacity:1;stroke-miterlimit:10;\" d=\"M 266.398438 430.558594 L 266.398438 437.761719 \"/>\n",
       "<path style=\"fill:none;stroke-width:1;stroke-linecap:round;stroke-linejoin:round;stroke:rgb(0%,0%,0%);stroke-opacity:1;stroke-miterlimit:10;\" d=\"M 304.800781 430.558594 L 304.800781 437.761719 \"/>\n",
       "<path style=\"fill:none;stroke-width:1;stroke-linecap:round;stroke-linejoin:round;stroke:rgb(0%,0%,0%);stroke-opacity:1;stroke-miterlimit:10;\" d=\"M 343.199219 430.558594 L 343.199219 437.761719 \"/>\n",
       "<path style=\"fill:none;stroke-width:1;stroke-linecap:round;stroke-linejoin:round;stroke:rgb(0%,0%,0%);stroke-opacity:1;stroke-miterlimit:10;\" d=\"M 381.601563 430.558594 L 381.601563 437.761719 \"/>\n",
       "<path style=\"fill:none;stroke-width:1;stroke-linecap:round;stroke-linejoin:round;stroke:rgb(0%,0%,0%);stroke-opacity:1;stroke-miterlimit:10;\" d=\"M 420 430.558594 L 420 437.761719 \"/>\n",
       "<path style=\"fill:none;stroke-width:1;stroke-linecap:round;stroke-linejoin:round;stroke:rgb(0%,0%,0%);stroke-opacity:1;stroke-miterlimit:10;\" d=\"M 458.398438 430.558594 L 458.398438 437.761719 \"/>\n",
       "<g style=\"fill:rgb(0%,0%,0%);fill-opacity:1;\">\n",
       "  <use xlink:href=\"#glyph2-0\" x=\"70.921875\" y=\"457.921875\"/>\n",
       "</g>\n",
       "<g style=\"fill:rgb(0%,0%,0%);fill-opacity:1;\">\n",
       "  <use xlink:href=\"#glyph2-1\" x=\"109.324219\" y=\"457.921875\"/>\n",
       "</g>\n",
       "<g style=\"fill:rgb(0%,0%,0%);fill-opacity:1;\">\n",
       "  <use xlink:href=\"#glyph2-2\" x=\"147.722656\" y=\"457.921875\"/>\n",
       "</g>\n",
       "<g style=\"fill:rgb(0%,0%,0%);fill-opacity:1;\">\n",
       "  <use xlink:href=\"#glyph2-3\" x=\"186.125\" y=\"457.921875\"/>\n",
       "</g>\n",
       "<g style=\"fill:rgb(0%,0%,0%);fill-opacity:1;\">\n",
       "  <use xlink:href=\"#glyph2-4\" x=\"224.523438\" y=\"457.921875\"/>\n",
       "</g>\n",
       "<g style=\"fill:rgb(0%,0%,0%);fill-opacity:1;\">\n",
       "  <use xlink:href=\"#glyph2-5\" x=\"262.921875\" y=\"457.921875\"/>\n",
       "</g>\n",
       "<g style=\"fill:rgb(0%,0%,0%);fill-opacity:1;\">\n",
       "  <use xlink:href=\"#glyph2-6\" x=\"301.324219\" y=\"457.921875\"/>\n",
       "</g>\n",
       "<g style=\"fill:rgb(0%,0%,0%);fill-opacity:1;\">\n",
       "  <use xlink:href=\"#glyph2-7\" x=\"339.722656\" y=\"457.921875\"/>\n",
       "</g>\n",
       "<g style=\"fill:rgb(0%,0%,0%);fill-opacity:1;\">\n",
       "  <use xlink:href=\"#glyph2-8\" x=\"378.125\" y=\"457.921875\"/>\n",
       "</g>\n",
       "<g style=\"fill:rgb(0%,0%,0%);fill-opacity:1;\">\n",
       "  <use xlink:href=\"#glyph2-0\" x=\"413.046875\" y=\"457.921875\"/>\n",
       "  <use xlink:href=\"#glyph2-9\" x=\"419.998779\" y=\"457.921875\"/>\n",
       "</g>\n",
       "<g style=\"fill:rgb(0%,0%,0%);fill-opacity:1;\">\n",
       "  <use xlink:href=\"#glyph2-0\" x=\"451.445313\" y=\"457.921875\"/>\n",
       "  <use xlink:href=\"#glyph2-0\" x=\"458.397217\" y=\"457.921875\"/>\n",
       "</g>\n",
       "</g>\n",
       "</svg>\n"
      ],
      "text/plain": [
       "Plot with title \"rpois(100, lambda = 5)\""
      ]
     },
     "metadata": {
      "image/svg+xml": {
       "isolated": true
      }
     },
     "output_type": "display_data"
    },
    {
     "name": "stdout",
     "output_type": "stream",
     "text": [
      "\n",
      "plot> points(x, cex = .5, col = \"dark red\")\n"
     ]
    },
    {
     "data": {
      "image/png": "[encoded data removed]",
      "image/svg+xml": [
       "<?xml version=\"1.0\" encoding=\"UTF-8\"?>\n",
       "<svg xmlns=\"http://www.w3.org/2000/svg\" xmlns:xlink=\"http://www.w3.org/1999/xlink\" width=\"504pt\" height=\"504pt\" viewBox=\"0 0 504 504\" version=\"1.1\">\n",
       "<defs>\n",
       "<g>\n",
       "<symbol overflow=\"visible\" id=\"glyph0-0\">\n",
       "<path style=\"stroke:none;\" d=\"M 0.519531 -4.414063 C 0.515625 -5.46875 0.625 -6.320313 0.84375 -6.964844 C 1.0625 -7.609375 1.386719 -8.105469 1.816406 -8.457031 C 2.246094 -8.804688 2.785156 -8.980469 3.4375 -8.984375 C 3.914063 -8.980469 4.335938 -8.886719 4.699219 -8.695313 C 5.058594 -8.5 5.355469 -8.21875 5.59375 -7.859375 C 5.828125 -7.492188 6.015625 -7.050781 6.152344 -6.527344 C 6.285156 -6.003906 6.351563 -5.296875 6.355469 -4.414063 C 6.351563 -3.359375 6.242188 -2.511719 6.03125 -1.871094 C 5.8125 -1.222656 5.492188 -0.726563 5.0625 -0.375 C 4.632813 -0.0234375 4.089844 0.152344 3.4375 0.152344 C 2.570313 0.152344 1.890625 -0.15625 1.402344 -0.773438 C 0.808594 -1.515625 0.515625 -2.726563 0.519531 -4.414063 Z M 1.648438 -4.414063 C 1.644531 -2.941406 1.816406 -1.964844 2.164063 -1.480469 C 2.503906 -0.992188 2.929688 -0.75 3.4375 -0.75 C 3.9375 -0.75 4.359375 -0.992188 4.707031 -1.480469 C 5.050781 -1.96875 5.226563 -2.945313 5.226563 -4.414063 C 5.226563 -5.882813 5.050781 -6.863281 4.707031 -7.347656 C 4.359375 -7.832031 3.933594 -8.074219 3.425781 -8.074219 C 2.917969 -8.074219 2.515625 -7.859375 2.214844 -7.433594 C 1.835938 -6.886719 1.644531 -5.878906 1.648438 -4.414063 Z M 1.648438 -4.414063 \"/>\n",
       "</symbol>\n",
       "<symbol overflow=\"visible\" id=\"glyph0-1\">\n",
       "<path style=\"stroke:none;\" d=\"M 4.65625 0 L 3.558594 0 L 3.558594 -7 C 3.289063 -6.746094 2.941406 -6.492188 2.515625 -6.242188 C 2.085938 -5.988281 1.703125 -5.800781 1.359375 -5.675781 L 1.359375 -6.738281 C 1.972656 -7.027344 2.507813 -7.375 2.972656 -7.789063 C 3.429688 -8.195313 3.757813 -8.59375 3.949219 -8.984375 L 4.65625 -8.984375 Z M 4.65625 0 \"/>\n",
       "</symbol>\n",
       "<symbol overflow=\"visible\" id=\"glyph0-2\">\n",
       "<path style=\"stroke:none;\" d=\"M 6.292969 -1.054688 L 6.292969 0 L 0.378906 0 C 0.367188 -0.265625 0.410156 -0.519531 0.507813 -0.761719 C 0.65625 -1.164063 0.898438 -1.558594 1.230469 -1.953125 C 1.558594 -2.339844 2.035156 -2.792969 2.667969 -3.308594 C 3.636719 -4.101563 4.292969 -4.734375 4.636719 -5.203125 C 4.976563 -5.667969 5.148438 -6.105469 5.152344 -6.523438 C 5.148438 -6.957031 4.992188 -7.324219 4.683594 -7.625 C 4.371094 -7.921875 3.96875 -8.074219 3.46875 -8.074219 C 2.9375 -8.074219 2.511719 -7.914063 2.195313 -7.597656 C 1.878906 -7.277344 1.71875 -6.839844 1.714844 -6.28125 L 0.585938 -6.398438 C 0.664063 -7.238281 0.953125 -7.878906 1.457031 -8.320313 C 1.960938 -8.761719 2.640625 -8.980469 3.492188 -8.984375 C 4.347656 -8.980469 5.023438 -8.742188 5.527344 -8.269531 C 6.027344 -7.789063 6.28125 -7.199219 6.28125 -6.5 C 6.28125 -6.140625 6.207031 -5.789063 6.058594 -5.445313 C 5.910156 -5.09375 5.664063 -4.730469 5.328125 -4.351563 C 4.984375 -3.964844 4.421875 -3.441406 3.636719 -2.777344 C 2.976563 -2.222656 2.554688 -1.84375 2.367188 -1.648438 C 2.179688 -1.449219 2.023438 -1.253906 1.90625 -1.054688 Z M 6.292969 -1.054688 \"/>\n",
       "</symbol>\n",
       "<symbol overflow=\"visible\" id=\"glyph0-3\">\n",
       "<path style=\"stroke:none;\" d=\"M 0.523438 -2.363281 L 1.625 -2.507813 C 1.746094 -1.882813 1.960938 -1.433594 2.265625 -1.160156 C 2.566406 -0.886719 2.9375 -0.75 3.375 -0.75 C 3.890625 -0.75 4.324219 -0.925781 4.683594 -1.285156 C 5.035156 -1.640625 5.214844 -2.085938 5.21875 -2.617188 C 5.214844 -3.121094 5.050781 -3.539063 4.722656 -3.867188 C 4.394531 -4.195313 3.976563 -4.359375 3.46875 -4.359375 C 3.257813 -4.359375 2.996094 -4.316406 2.691406 -4.234375 L 2.8125 -5.199219 C 2.882813 -5.1875 2.941406 -5.183594 2.992188 -5.1875 C 3.457031 -5.183594 3.878906 -5.308594 4.253906 -5.554688 C 4.628906 -5.796875 4.816406 -6.171875 4.816406 -6.683594 C 4.816406 -7.085938 4.679688 -7.417969 4.40625 -7.683594 C 4.132813 -7.945313 3.78125 -8.078125 3.351563 -8.082031 C 2.921875 -8.078125 2.5625 -7.945313 2.28125 -7.675781 C 1.992188 -7.40625 1.8125 -7.003906 1.734375 -6.46875 L 0.632813 -6.664063 C 0.765625 -7.398438 1.070313 -7.96875 1.550781 -8.375 C 2.023438 -8.777344 2.617188 -8.980469 3.328125 -8.984375 C 3.8125 -8.980469 4.261719 -8.875 4.675781 -8.667969 C 5.085938 -8.457031 5.398438 -8.171875 5.617188 -7.8125 C 5.832031 -7.445313 5.941406 -7.0625 5.945313 -6.660156 C 5.941406 -6.269531 5.835938 -5.917969 5.632813 -5.601563 C 5.421875 -5.28125 5.117188 -5.027344 4.710938 -4.847656 C 5.238281 -4.722656 5.648438 -4.46875 5.941406 -4.085938 C 6.234375 -3.695313 6.378906 -3.214844 6.382813 -2.644531 C 6.378906 -1.859375 6.09375 -1.199219 5.527344 -0.65625 C 4.957031 -0.113281 4.238281 0.15625 3.367188 0.160156 C 2.582031 0.15625 1.929688 -0.0742188 1.410156 -0.542969 C 0.890625 -1.007813 0.59375 -1.613281 0.523438 -2.363281 Z M 0.523438 -2.363281 \"/>\n",
       "</symbol>\n",
       "<symbol overflow=\"visible\" id=\"glyph0-4\">\n",
       "<path style=\"stroke:none;\" d=\"M 4.039063 0 L 4.039063 -2.140625 L 0.160156 -2.140625 L 0.160156 -3.148438 L 4.242188 -8.949219 L 5.140625 -8.949219 L 5.140625 -3.148438 L 6.347656 -3.148438 L 6.347656 -2.140625 L 5.140625 -2.140625 L 5.140625 0 Z M 4.039063 -3.148438 L 4.039063 -7.183594 L 1.238281 -3.148438 Z M 4.039063 -3.148438 \"/>\n",
       "</symbol>\n",
       "<symbol overflow=\"visible\" id=\"glyph0-5\">\n",
       "<path style=\"stroke:none;\" d=\"M 1.164063 0 L 1.164063 -8.949219 L 2.351563 -8.949219 L 2.351563 0 Z M 1.164063 0 \"/>\n",
       "</symbol>\n",
       "<symbol overflow=\"visible\" id=\"glyph0-6\">\n",
       "<path style=\"stroke:none;\" d=\"M 0.824219 0 L 0.824219 -6.480469 L 1.8125 -6.480469 L 1.8125 -5.558594 C 2.285156 -6.269531 2.972656 -6.625 3.875 -6.628906 C 4.261719 -6.625 4.621094 -6.554688 4.953125 -6.417969 C 5.277344 -6.273438 5.523438 -6.089844 5.6875 -5.863281 C 5.847656 -5.632813 5.960938 -5.363281 6.03125 -5.054688 C 6.066406 -4.847656 6.085938 -4.492188 6.089844 -3.984375 L 6.089844 0 L 4.992188 0 L 4.992188 -3.941406 C 4.992188 -4.386719 4.949219 -4.722656 4.863281 -4.945313 C 4.777344 -5.167969 4.625 -5.34375 4.40625 -5.476563 C 4.1875 -5.605469 3.933594 -5.671875 3.644531 -5.675781 C 3.175781 -5.671875 2.769531 -5.523438 2.429688 -5.230469 C 2.089844 -4.929688 1.921875 -4.367188 1.921875 -3.539063 L 1.921875 0 Z M 0.824219 0 \"/>\n",
       "</symbol>\n",
       "<symbol overflow=\"visible\" id=\"glyph0-7\">\n",
       "<path style=\"stroke:none;\" d=\"M 5.03125 0 L 5.03125 -0.816406 C 4.617188 -0.171875 4.011719 0.144531 3.214844 0.148438 C 2.695313 0.144531 2.21875 0.0078125 1.789063 -0.277344 C 1.351563 -0.558594 1.015625 -0.957031 0.78125 -1.472656 C 0.539063 -1.980469 0.421875 -2.570313 0.425781 -3.234375 C 0.421875 -3.882813 0.53125 -4.46875 0.75 -4.996094 C 0.964844 -5.519531 1.285156 -5.921875 1.71875 -6.207031 C 2.148438 -6.484375 2.632813 -6.625 3.167969 -6.628906 C 3.554688 -6.625 3.902344 -6.542969 4.210938 -6.378906 C 4.511719 -6.210938 4.761719 -5.996094 4.957031 -5.738281 L 4.957031 -8.949219 L 6.046875 -8.949219 L 6.046875 0 Z M 1.554688 -3.234375 C 1.550781 -2.402344 1.726563 -1.78125 2.078125 -1.371094 C 2.425781 -0.960938 2.839844 -0.753906 3.320313 -0.757813 C 3.796875 -0.753906 4.203125 -0.949219 4.542969 -1.34375 C 4.875 -1.734375 5.042969 -2.335938 5.046875 -3.144531 C 5.042969 -4.027344 4.875 -4.675781 4.535156 -5.09375 C 4.191406 -5.507813 3.769531 -5.71875 3.273438 -5.71875 C 2.78125 -5.71875 2.371094 -5.519531 2.046875 -5.121094 C 1.714844 -4.722656 1.550781 -4.09375 1.554688 -3.234375 Z M 1.554688 -3.234375 \"/>\n",
       "</symbol>\n",
       "<symbol overflow=\"visible\" id=\"glyph0-8\">\n",
       "<path style=\"stroke:none;\" d=\"M 5.261719 -2.085938 L 6.398438 -1.945313 C 6.21875 -1.28125 5.886719 -0.765625 5.402344 -0.402344 C 4.917969 -0.0351563 4.296875 0.144531 3.546875 0.148438 C 2.59375 0.144531 1.84375 -0.144531 1.289063 -0.726563 C 0.734375 -1.3125 0.457031 -2.132813 0.457031 -3.1875 C 0.457031 -4.273438 0.734375 -5.117188 1.296875 -5.722656 C 1.855469 -6.324219 2.585938 -6.625 3.484375 -6.628906 C 4.347656 -6.625 5.054688 -6.332031 5.609375 -5.742188 C 6.15625 -5.152344 6.433594 -4.320313 6.433594 -3.253906 C 6.433594 -3.183594 6.429688 -3.085938 6.425781 -2.960938 L 1.59375 -2.960938 C 1.632813 -2.242188 1.832031 -1.699219 2.195313 -1.324219 C 2.558594 -0.945313 3.011719 -0.753906 3.550781 -0.757813 C 3.953125 -0.753906 4.296875 -0.859375 4.582031 -1.074219 C 4.867188 -1.28125 5.09375 -1.621094 5.261719 -2.085938 Z M 1.652344 -3.863281 L 5.273438 -3.863281 C 5.222656 -4.402344 5.082031 -4.8125 4.859375 -5.089844 C 4.503906 -5.511719 4.050781 -5.722656 3.496094 -5.726563 C 2.992188 -5.722656 2.570313 -5.554688 2.226563 -5.21875 C 1.882813 -4.878906 1.691406 -4.425781 1.652344 -3.863281 Z M 1.652344 -3.863281 \"/>\n",
       "</symbol>\n",
       "<symbol overflow=\"visible\" id=\"glyph0-9\">\n",
       "<path style=\"stroke:none;\" d=\"M 0.0898438 0 L 2.460938 -3.367188 L 0.269531 -6.480469 L 1.640625 -6.480469 L 2.636719 -4.960938 C 2.824219 -4.667969 2.972656 -4.425781 3.089844 -4.234375 C 3.261719 -4.503906 3.425781 -4.742188 3.582031 -4.949219 L 4.675781 -6.480469 L 5.988281 -6.480469 L 3.746094 -3.429688 L 6.160156 0 L 4.808594 0 L 3.480469 -2.015625 L 3.125 -2.558594 L 1.421875 0 Z M 0.0898438 0 \"/>\n",
       "</symbol>\n",
       "<symbol overflow=\"visible\" id=\"glyph1-0\">\n",
       "<path style=\"stroke:none;\" d=\"M -2.6875 -0.398438 L -3.789063 -0.398438 L -3.789063 -3.773438 L -2.6875 -3.773438 Z M -2.6875 -0.398438 \"/>\n",
       "</symbol>\n",
       "<symbol overflow=\"visible\" id=\"glyph1-1\">\n",
       "<path style=\"stroke:none;\" d=\"M -1.054688 -6.292969 L 0 -6.292969 L 0 -0.378906 C -0.265625 -0.367188 -0.519531 -0.410156 -0.761719 -0.507813 C -1.164063 -0.65625 -1.558594 -0.898438 -1.953125 -1.230469 C -2.339844 -1.558594 -2.792969 -2.035156 -3.308594 -2.667969 C -4.101563 -3.636719 -4.734375 -4.292969 -5.203125 -4.636719 C -5.667969 -4.976563 -6.105469 -5.148438 -6.523438 -5.152344 C -6.957031 -5.148438 -7.324219 -4.992188 -7.625 -4.683594 C -7.921875 -4.371094 -8.074219 -3.96875 -8.074219 -3.46875 C -8.074219 -2.9375 -7.914063 -2.511719 -7.597656 -2.195313 C -7.277344 -1.878906 -6.839844 -1.71875 -6.28125 -1.714844 L -6.398438 -0.585938 C -7.238281 -0.664063 -7.878906 -0.953125 -8.320313 -1.457031 C -8.761719 -1.960938 -8.980469 -2.640625 -8.984375 -3.492188 C -8.980469 -4.347656 -8.742188 -5.023438 -8.269531 -5.527344 C -7.789063 -6.027344 -7.199219 -6.28125 -6.5 -6.28125 C -6.140625 -6.28125 -5.789063 -6.207031 -5.445313 -6.058594 C -5.09375 -5.910156 -4.730469 -5.664063 -4.351563 -5.328125 C -3.964844 -4.984375 -3.441406 -4.421875 -2.777344 -3.636719 C -2.222656 -2.976563 -1.84375 -2.554688 -1.648438 -2.367188 C -1.449219 -2.179688 -1.253906 -2.023438 -1.054688 -1.90625 Z M -1.054688 -6.292969 \"/>\n",
       "</symbol>\n",
       "<symbol overflow=\"visible\" id=\"glyph1-2\">\n",
       "<path style=\"stroke:none;\" d=\"M 0 -4.65625 L 0 -3.558594 L -7 -3.558594 C -6.746094 -3.289063 -6.492188 -2.941406 -6.242188 -2.515625 C -5.988281 -2.085938 -5.800781 -1.703125 -5.675781 -1.359375 L -6.738281 -1.359375 C -7.027344 -1.972656 -7.375 -2.507813 -7.789063 -2.972656 C -8.195313 -3.429688 -8.59375 -3.757813 -8.984375 -3.949219 L -8.984375 -4.65625 Z M 0 -4.65625 \"/>\n",
       "</symbol>\n",
       "<symbol overflow=\"visible\" id=\"glyph1-3\">\n",
       "<path style=\"stroke:none;\" d=\"M -4.414063 -0.519531 C -5.46875 -0.515625 -6.320313 -0.625 -6.964844 -0.84375 C -7.609375 -1.0625 -8.105469 -1.386719 -8.457031 -1.816406 C -8.804688 -2.246094 -8.980469 -2.785156 -8.984375 -3.4375 C -8.980469 -3.914063 -8.886719 -4.335938 -8.695313 -4.699219 C -8.5 -5.058594 -8.21875 -5.355469 -7.859375 -5.59375 C -7.492188 -5.828125 -7.050781 -6.015625 -6.527344 -6.152344 C -6.003906 -6.285156 -5.296875 -6.351563 -4.414063 -6.355469 C -3.359375 -6.351563 -2.511719 -6.242188 -1.871094 -6.03125 C -1.222656 -5.8125 -0.726563 -5.492188 -0.375 -5.0625 C -0.0234375 -4.632813 0.152344 -4.089844 0.152344 -3.4375 C 0.152344 -2.570313 -0.15625 -1.890625 -0.773438 -1.402344 C -1.515625 -0.808594 -2.726563 -0.515625 -4.414063 -0.519531 Z M -4.414063 -1.648438 C -2.941406 -1.644531 -1.964844 -1.816406 -1.480469 -2.164063 C -0.992188 -2.503906 -0.75 -2.929688 -0.75 -3.4375 C -0.75 -3.9375 -0.992188 -4.359375 -1.480469 -4.707031 C -1.96875 -5.050781 -2.945313 -5.226563 -4.414063 -5.226563 C -5.882813 -5.226563 -6.863281 -5.050781 -7.347656 -4.707031 C -7.832031 -4.359375 -8.074219 -3.933594 -8.074219 -3.425781 C -8.074219 -2.917969 -7.859375 -2.515625 -7.433594 -2.214844 C -6.886719 -1.835938 -5.878906 -1.644531 -4.414063 -1.648438 Z M -4.414063 -1.648438 \"/>\n",
       "</symbol>\n",
       "<symbol overflow=\"visible\" id=\"glyph1-4\">\n",
       "<path style=\"stroke:none;\" d=\"M 0 -0.0898438 L -3.367188 -2.460938 L -6.480469 -0.269531 L -6.480469 -1.640625 L -4.960938 -2.636719 C -4.667969 -2.824219 -4.425781 -2.972656 -4.234375 -3.089844 C -4.503906 -3.261719 -4.742188 -3.425781 -4.949219 -3.582031 L -6.480469 -4.675781 L -6.480469 -5.988281 L -3.429688 -3.746094 L 0 -6.160156 L 0 -4.808594 L -2.015625 -3.480469 L -2.558594 -3.125 L 0 -1.421875 Z M 0 -0.0898438 \"/>\n",
       "</symbol>\n",
       "<symbol overflow=\"visible\" id=\"glyph1-5\">\n",
       "<path style=\"stroke:none;\" d=\"\"/>\n",
       "</symbol>\n",
       "<symbol overflow=\"visible\" id=\"glyph1-6\">\n",
       "<path style=\"stroke:none;\" d=\"M -3.914063 -0.683594 L -4.9375 -0.683594 L -7.441406 -6.609375 L -6.347656 -6.609375 L -4.417969 -1.910156 L -2.472656 -6.609375 L -1.378906 -6.609375 Z M -3.914063 -0.683594 \"/>\n",
       "</symbol>\n",
       "<symbol overflow=\"visible\" id=\"glyph1-7\">\n",
       "<path style=\"stroke:none;\" d=\"M -1.933594 -0.382813 L -2.105469 -1.472656 C -1.667969 -1.527344 -1.335938 -1.699219 -1.105469 -1.980469 C -0.871094 -2.257813 -0.753906 -2.644531 -0.757813 -3.148438 C -0.753906 -3.648438 -0.859375 -4.023438 -1.066406 -4.273438 C -1.269531 -4.515625 -1.507813 -4.640625 -1.789063 -4.640625 C -2.03125 -4.640625 -2.226563 -4.53125 -2.375 -4.316406 C -2.46875 -4.164063 -2.59375 -3.789063 -2.746094 -3.191406 C -2.945313 -2.382813 -3.121094 -1.824219 -3.273438 -1.515625 C -3.417969 -1.203125 -3.625 -0.96875 -3.890625 -0.808594 C -4.152344 -0.644531 -4.441406 -0.5625 -4.761719 -0.566406 C -5.046875 -0.5625 -5.3125 -0.628906 -5.5625 -0.765625 C -5.804688 -0.894531 -6.011719 -1.074219 -6.175781 -1.304688 C -6.300781 -1.472656 -6.40625 -1.707031 -6.496094 -2.003906 C -6.582031 -2.300781 -6.625 -2.617188 -6.628906 -2.953125 C -6.625 -3.460938 -6.550781 -3.90625 -6.40625 -4.292969 C -6.257813 -4.675781 -6.0625 -4.960938 -5.8125 -5.144531 C -5.5625 -5.328125 -5.226563 -5.453125 -4.808594 -5.523438 L -4.664063 -4.449219 C -4.996094 -4.394531 -5.253906 -4.253906 -5.445313 -4.023438 C -5.628906 -3.789063 -5.722656 -3.460938 -5.726563 -3.035156 C -5.722656 -2.527344 -5.640625 -2.164063 -5.476563 -1.953125 C -5.308594 -1.734375 -5.113281 -1.628906 -4.890625 -1.628906 C -4.746094 -1.628906 -4.617188 -1.671875 -4.503906 -1.765625 C -4.382813 -1.851563 -4.285156 -1.992188 -4.210938 -2.183594 C -4.167969 -2.292969 -4.074219 -2.617188 -3.929688 -3.15625 C -3.722656 -3.929688 -3.554688 -4.472656 -3.421875 -4.78125 C -3.289063 -5.085938 -3.09375 -5.324219 -2.84375 -5.503906 C -2.585938 -5.675781 -2.273438 -5.765625 -1.90625 -5.769531 C -1.535156 -5.765625 -1.191406 -5.65625 -0.867188 -5.445313 C -0.542969 -5.226563 -0.292969 -4.917969 -0.117188 -4.519531 C 0.0585938 -4.113281 0.144531 -3.660156 0.148438 -3.15625 C 0.144531 -2.308594 -0.0273438 -1.664063 -0.375 -1.226563 C -0.726563 -0.78125 -1.246094 -0.5 -1.933594 -0.382813 Z M -1.933594 -0.382813 \"/>\n",
       "</symbol>\n",
       "<symbol overflow=\"visible\" id=\"glyph1-8\">\n",
       "<path style=\"stroke:none;\" d=\"M -3.242188 -0.414063 C -4.4375 -0.410156 -5.328125 -0.742188 -5.90625 -1.414063 C -6.386719 -1.96875 -6.625 -2.648438 -6.628906 -3.453125 C -6.625 -4.34375 -6.332031 -5.074219 -5.75 -5.640625 C -5.164063 -6.203125 -4.359375 -6.484375 -3.332031 -6.488281 C -2.496094 -6.484375 -1.839844 -6.359375 -1.363281 -6.113281 C -0.882813 -5.859375 -0.511719 -5.496094 -0.25 -5.019531 C 0.015625 -4.539063 0.144531 -4.015625 0.148438 -3.453125 C 0.144531 -2.542969 -0.140625 -1.8125 -0.722656 -1.253906 C -1.300781 -0.691406 -2.140625 -0.410156 -3.242188 -0.414063 Z M -3.242188 -1.542969 C -2.40625 -1.539063 -1.785156 -1.722656 -1.375 -2.085938 C -0.960938 -2.445313 -0.753906 -2.898438 -0.757813 -3.453125 C -0.753906 -3.996094 -0.960938 -4.453125 -1.378906 -4.816406 C -1.789063 -5.175781 -2.421875 -5.355469 -3.277344 -5.359375 C -4.074219 -5.355469 -4.683594 -5.171875 -5.097656 -4.8125 C -5.511719 -4.445313 -5.71875 -3.992188 -5.71875 -3.453125 C -5.71875 -2.898438 -5.511719 -2.445313 -5.101563 -2.085938 C -4.6875 -1.722656 -4.066406 -1.539063 -3.242188 -1.542969 Z M -3.242188 -1.542969 \"/>\n",
       "</symbol>\n",
       "<symbol overflow=\"visible\" id=\"glyph1-9\">\n",
       "<path style=\"stroke:none;\" d=\"M 0 -0.8125 L -6.480469 -0.8125 L -6.480469 -1.800781 L -5.5 -1.800781 C -5.957031 -2.050781 -6.257813 -2.285156 -6.40625 -2.5 C -6.550781 -2.710938 -6.625 -2.945313 -6.628906 -3.203125 C -6.625 -3.570313 -6.507813 -3.945313 -6.273438 -4.332031 L -5.253906 -3.953125 C -5.410156 -3.683594 -5.488281 -3.414063 -5.492188 -3.148438 C -5.488281 -2.90625 -5.417969 -2.691406 -5.273438 -2.5 C -5.128906 -2.308594 -4.929688 -2.171875 -4.675781 -2.09375 C -4.285156 -1.96875 -3.855469 -1.910156 -3.394531 -1.910156 L 0 -1.910156 Z M 0 -0.8125 \"/>\n",
       "</symbol>\n",
       "<symbol overflow=\"visible\" id=\"glyph1-10\">\n",
       "<path style=\"stroke:none;\" d=\"M -0.984375 -3.222656 L -0.0117188 -3.382813 C 0.0507813 -3.070313 0.0820313 -2.792969 0.0859375 -2.550781 C 0.0820313 -2.148438 0.0234375 -1.839844 -0.101563 -1.621094 C -0.226563 -1.398438 -0.394531 -1.242188 -0.601563 -1.15625 C -0.804688 -1.0625 -1.238281 -1.019531 -1.898438 -1.023438 L -5.628906 -1.023438 L -5.628906 -0.21875 L -6.480469 -0.21875 L -6.480469 -1.023438 L -8.085938 -1.023438 L -8.746094 -2.117188 L -6.480469 -2.117188 L -6.480469 -3.222656 L -5.628906 -3.222656 L -5.628906 -2.117188 L -1.835938 -2.117188 C -1.519531 -2.113281 -1.320313 -2.132813 -1.230469 -2.175781 C -1.140625 -2.210938 -1.070313 -2.273438 -1.019531 -2.363281 C -0.964844 -2.449219 -0.9375 -2.578125 -0.941406 -2.742188 C -0.9375 -2.859375 -0.953125 -3.019531 -0.984375 -3.222656 Z M -0.984375 -3.222656 \"/>\n",
       "</symbol>\n",
       "<symbol overflow=\"visible\" id=\"glyph1-11\">\n",
       "<path style=\"stroke:none;\" d=\"M 2.628906 -2.921875 C 1.863281 -2.316406 0.972656 -1.804688 -0.0546875 -1.386719 C -1.078125 -0.964844 -2.140625 -0.753906 -3.242188 -0.757813 C -4.207031 -0.753906 -5.136719 -0.910156 -6.023438 -1.226563 C -7.054688 -1.589844 -8.078125 -2.15625 -9.101563 -2.921875 L -9.101563 -3.710938 C -8.25 -3.214844 -7.648438 -2.890625 -7.289063 -2.734375 C -6.726563 -2.484375 -6.140625 -2.289063 -5.53125 -2.148438 C -4.765625 -1.972656 -4 -1.886719 -3.234375 -1.886719 C -1.277344 -1.886719 0.675781 -2.492188 2.628906 -3.710938 Z M 2.628906 -2.921875 \"/>\n",
       "</symbol>\n",
       "<symbol overflow=\"visible\" id=\"glyph1-12\">\n",
       "<path style=\"stroke:none;\" d=\"M 0 -0.824219 L -6.480469 -0.824219 L -6.480469 -1.8125 L -5.558594 -1.8125 C -6.269531 -2.285156 -6.625 -2.972656 -6.628906 -3.875 C -6.625 -4.261719 -6.554688 -4.621094 -6.417969 -4.953125 C -6.273438 -5.277344 -6.089844 -5.523438 -5.863281 -5.6875 C -5.632813 -5.847656 -5.363281 -5.960938 -5.054688 -6.03125 C -4.847656 -6.066406 -4.492188 -6.085938 -3.984375 -6.089844 L 0 -6.089844 L 0 -4.992188 L -3.941406 -4.992188 C -4.386719 -4.992188 -4.722656 -4.949219 -4.945313 -4.863281 C -5.167969 -4.777344 -5.34375 -4.625 -5.476563 -4.40625 C -5.605469 -4.1875 -5.671875 -3.933594 -5.675781 -3.644531 C -5.671875 -3.175781 -5.523438 -2.769531 -5.230469 -2.429688 C -4.929688 -2.089844 -4.367188 -1.921875 -3.539063 -1.921875 L 0 -1.921875 Z M 0 -0.824219 \"/>\n",
       "</symbol>\n",
       "<symbol overflow=\"visible\" id=\"glyph1-13\">\n",
       "<path style=\"stroke:none;\" d=\"M 0 -0.824219 L -6.480469 -0.824219 L -6.480469 -1.804688 L -5.574219 -1.804688 C -5.886719 -2.007813 -6.140625 -2.277344 -6.335938 -2.617188 C -6.527344 -2.953125 -6.625 -3.339844 -6.628906 -3.773438 C -6.625 -4.25 -6.527344 -4.640625 -6.328125 -4.953125 C -6.128906 -5.257813 -5.847656 -5.476563 -5.492188 -5.601563 C -6.246094 -6.113281 -6.625 -6.78125 -6.628906 -7.605469 C -6.625 -8.246094 -6.449219 -8.738281 -6.09375 -9.085938 C -5.734375 -9.429688 -5.183594 -9.601563 -4.449219 -9.605469 L 0 -9.605469 L 0 -8.515625 L -4.082031 -8.515625 C -4.519531 -8.511719 -4.835938 -8.476563 -5.03125 -8.40625 C -5.222656 -8.332031 -5.378906 -8.203125 -5.496094 -8.019531 C -5.613281 -7.828125 -5.671875 -7.609375 -5.675781 -7.359375 C -5.671875 -6.902344 -5.519531 -6.523438 -5.21875 -6.222656 C -4.914063 -5.921875 -4.429688 -5.769531 -3.765625 -5.773438 L 0 -5.773438 L 0 -4.675781 L -4.210938 -4.675781 C -4.699219 -4.675781 -5.066406 -4.585938 -5.308594 -4.40625 C -5.550781 -4.226563 -5.671875 -3.933594 -5.675781 -3.527344 C -5.671875 -3.214844 -5.589844 -2.925781 -5.429688 -2.667969 C -5.265625 -2.402344 -5.027344 -2.214844 -4.71875 -2.097656 C -4.402344 -1.980469 -3.953125 -1.921875 -3.363281 -1.921875 L 0 -1.921875 Z M 0 -0.824219 \"/>\n",
       "</symbol>\n",
       "<symbol overflow=\"visible\" id=\"glyph1-14\">\n",
       "<path style=\"stroke:none;\" d=\"M 0 -4.039063 L -2.140625 -4.039063 L -2.140625 -0.160156 L -3.148438 -0.160156 L -8.949219 -4.242188 L -8.949219 -5.140625 L -3.148438 -5.140625 L -3.148438 -6.347656 L -2.140625 -6.347656 L -2.140625 -5.140625 L 0 -5.140625 Z M -3.148438 -4.039063 L -7.183594 -4.039063 L -3.148438 -1.238281 Z M -3.148438 -4.039063 \"/>\n",
       "</symbol>\n",
       "<symbol overflow=\"visible\" id=\"glyph1-15\">\n",
       "<path style=\"stroke:none;\" d=\"M -7.777344 -0.59375 L -8.832031 -0.59375 L -8.832031 -6.382813 L -7.976563 -6.382813 C -7.367188 -5.8125 -6.5625 -5.25 -5.558594 -4.691406 C -4.554688 -4.128906 -3.523438 -3.695313 -2.460938 -3.394531 C -1.710938 -3.167969 -0.890625 -3.027344 0 -2.972656 L 0 -1.84375 C -0.703125 -1.855469 -1.550781 -1.992188 -2.550781 -2.257813 C -3.542969 -2.519531 -4.503906 -2.898438 -5.433594 -3.394531 C -6.355469 -3.886719 -7.136719 -4.414063 -7.777344 -4.972656 Z M -7.777344 -0.59375 \"/>\n",
       "</symbol>\n",
       "<symbol overflow=\"visible\" id=\"glyph1-16\">\n",
       "<path style=\"stroke:none;\" d=\"M 2.628906 -1.542969 L 2.628906 -0.757813 C 0.675781 -1.96875 -1.277344 -2.578125 -3.234375 -2.582031 C -4 -2.578125 -4.757813 -2.492188 -5.511719 -2.320313 C -6.117188 -2.179688 -6.703125 -1.984375 -7.269531 -1.738281 C -7.632813 -1.578125 -8.242188 -1.25 -9.101563 -0.757813 L -9.101563 -1.542969 C -8.078125 -2.304688 -7.054688 -2.871094 -6.023438 -3.242188 C -5.136719 -3.550781 -4.207031 -3.707031 -3.242188 -3.710938 C -2.140625 -3.707031 -1.078125 -3.496094 -0.0546875 -3.078125 C 0.972656 -2.65625 1.863281 -2.144531 2.628906 -1.542969 Z M 2.628906 -1.542969 \"/>\n",
       "</symbol>\n",
       "<symbol overflow=\"visible\" id=\"glyph2-0\">\n",
       "<path style=\"stroke:none;\" d=\"M 1.011719 -7.726563 L 2.917969 -7.726563 L 2.917969 -6.589844 C 3.164063 -6.976563 3.496094 -7.292969 3.921875 -7.535156 C 4.339844 -7.777344 4.808594 -7.898438 5.324219 -7.902344 C 6.21875 -7.898438 6.980469 -7.546875 7.609375 -6.847656 C 8.230469 -6.140625 8.542969 -5.160156 8.546875 -3.90625 C 8.542969 -2.613281 8.226563 -1.609375 7.601563 -0.898438 C 6.96875 -0.179688 6.207031 0.175781 5.3125 0.175781 C 4.882813 0.175781 4.496094 0.09375 4.148438 -0.078125 C 3.800781 -0.246094 3.433594 -0.539063 3.054688 -0.953125 L 3.054688 2.9375 L 1.011719 2.9375 Z M 3.035156 -3.996094 C 3.035156 -3.125 3.207031 -2.480469 3.550781 -2.070313 C 3.894531 -1.652344 4.3125 -1.445313 4.808594 -1.449219 C 5.28125 -1.445313 5.675781 -1.636719 5.996094 -2.019531 C 6.308594 -2.398438 6.46875 -3.023438 6.46875 -3.890625 C 6.46875 -4.699219 6.304688 -5.300781 5.980469 -5.695313 C 5.652344 -6.085938 5.25 -6.28125 4.773438 -6.285156 C 4.269531 -6.28125 3.855469 -6.089844 3.527344 -5.707031 C 3.199219 -5.320313 3.035156 -4.75 3.035156 -3.996094 Z M 3.035156 -3.996094 \"/>\n",
       "</symbol>\n",
       "<symbol overflow=\"visible\" id=\"glyph2-1\">\n",
       "<path style=\"stroke:none;\" d=\"M 1.070313 0 L 1.070313 -10.664063 L 3.113281 -10.664063 L 3.113281 0 Z M 1.070313 0 \"/>\n",
       "</symbol>\n",
       "<symbol overflow=\"visible\" id=\"glyph2-2\">\n",
       "<path style=\"stroke:none;\" d=\"M 0.597656 -3.972656 C 0.597656 -4.652344 0.761719 -5.308594 1.097656 -5.945313 C 1.429688 -6.578125 1.90625 -7.0625 2.519531 -7.398438 C 3.132813 -7.730469 3.816406 -7.898438 4.578125 -7.902344 C 5.742188 -7.898438 6.699219 -7.519531 7.449219 -6.761719 C 8.191406 -6.003906 8.566406 -5.042969 8.570313 -3.886719 C 8.566406 -2.714844 8.1875 -1.746094 7.4375 -0.976563 C 6.679688 -0.207031 5.730469 0.175781 4.589844 0.175781 C 3.878906 0.175781 3.203125 0.015625 2.5625 -0.304688 C 1.917969 -0.625 1.429688 -1.09375 1.097656 -1.710938 C 0.761719 -2.328125 0.597656 -3.082031 0.597656 -3.972656 Z M 2.691406 -3.863281 C 2.6875 -3.09375 2.871094 -2.507813 3.234375 -2.101563 C 3.597656 -1.691406 4.046875 -1.488281 4.582031 -1.492188 C 5.113281 -1.488281 5.558594 -1.691406 5.925781 -2.101563 C 6.285156 -2.507813 6.46875 -3.101563 6.46875 -3.878906 C 6.46875 -4.632813 6.285156 -5.210938 5.925781 -5.621094 C 5.558594 -6.027344 5.113281 -6.234375 4.582031 -6.234375 C 4.046875 -6.234375 3.597656 -6.027344 3.234375 -5.621094 C 2.871094 -5.210938 2.6875 -4.625 2.691406 -3.863281 Z M 2.691406 -3.863281 \"/>\n",
       "</symbol>\n",
       "<symbol overflow=\"visible\" id=\"glyph2-3\">\n",
       "<path style=\"stroke:none;\" d=\"M 4.613281 -7.726563 L 4.613281 -6.097656 L 3.214844 -6.097656 L 3.214844 -2.984375 C 3.210938 -2.351563 3.222656 -1.984375 3.253906 -1.878906 C 3.277344 -1.773438 3.339844 -1.6875 3.4375 -1.621094 C 3.527344 -1.550781 3.640625 -1.515625 3.78125 -1.519531 C 3.96875 -1.515625 4.246094 -1.582031 4.605469 -1.71875 L 4.78125 -0.132813 C 4.304688 0.0742188 3.765625 0.175781 3.164063 0.175781 C 2.796875 0.175781 2.464844 0.117188 2.167969 -0.0078125 C 1.871094 -0.128906 1.652344 -0.289063 1.515625 -0.488281 C 1.375 -0.683594 1.28125 -0.953125 1.230469 -1.289063 C 1.183594 -1.523438 1.160156 -2 1.164063 -2.726563 L 1.164063 -6.097656 L 0.226563 -6.097656 L 0.226563 -7.726563 L 1.164063 -7.726563 L 1.164063 -9.261719 L 3.214844 -10.453125 L 3.214844 -7.726563 Z M 4.613281 -7.726563 \"/>\n",
       "</symbol>\n",
       "<symbol overflow=\"visible\" id=\"glyph2-4\">\n",
       "<path style=\"stroke:none;\" d=\"M 4.460938 3.136719 L 3.054688 3.136719 C 2.308594 2.011719 1.746094 0.851563 1.359375 -0.355469 C 0.96875 -1.5625 0.773438 -2.730469 0.777344 -3.863281 C 0.773438 -5.261719 1.015625 -6.589844 1.5 -7.84375 C 1.914063 -8.925781 2.441406 -9.925781 3.085938 -10.847656 L 4.480469 -10.847656 C 3.8125 -9.375 3.355469 -8.125 3.109375 -7.097656 C 2.855469 -6.0625 2.730469 -4.972656 2.734375 -3.820313 C 2.730469 -3.023438 2.804688 -2.207031 2.957031 -1.375 C 3.101563 -0.539063 3.304688 0.25 3.566406 1.003906 C 3.734375 1.496094 4.03125 2.207031 4.460938 3.136719 Z M 4.460938 3.136719 \"/>\n",
       "</symbol>\n",
       "<symbol overflow=\"visible\" id=\"glyph2-5\">\n",
       "<path style=\"stroke:none;\" d=\"M 0.0859375 0 L 2.875 -3.980469 L 0.203125 -7.726563 L 2.699219 -7.726563 L 4.066406 -5.601563 L 5.507813 -7.726563 L 7.910156 -7.726563 L 5.289063 -4.066406 L 8.148438 0 L 5.636719 0 L 4.066406 -2.394531 L 2.480469 0 Z M 0.0859375 0 \"/>\n",
       "</symbol>\n",
       "<symbol overflow=\"visible\" id=\"glyph2-6\">\n",
       "<path style=\"stroke:none;\" d=\"M 1.019531 -2.042969 L 3.0625 -2.042969 L 3.0625 -0.582031 C 3.058594 0.0117188 3.007813 0.472656 2.910156 0.816406 C 2.804688 1.15625 2.613281 1.464844 2.332031 1.738281 C 2.046875 2.007813 1.683594 2.222656 1.25 2.378906 L 0.851563 1.535156 C 1.257813 1.398438 1.550781 1.210938 1.730469 0.972656 C 1.902344 0.734375 1.996094 0.410156 2.007813 0 L 1.019531 0 Z M 1.019531 -2.042969 \"/>\n",
       "</symbol>\n",
       "<symbol overflow=\"visible\" id=\"glyph2-7\">\n",
       "<path style=\"stroke:none;\" d=\"\"/>\n",
       "</symbol>\n",
       "<symbol overflow=\"visible\" id=\"glyph2-8\">\n",
       "<path style=\"stroke:none;\" d=\"M 0.101563 -7.726563 L 2.277344 -7.726563 L 4.125 -2.242188 L 5.929688 -7.726563 L 8.046875 -7.726563 L 5.316406 -0.289063 L 4.832031 1.054688 C 4.648438 1.503906 4.476563 1.847656 4.316406 2.085938 C 4.152344 2.324219 3.964844 2.515625 3.757813 2.664063 C 3.542969 2.808594 3.285156 2.925781 2.976563 3.011719 C 2.667969 3.09375 2.320313 3.132813 1.933594 3.136719 C 1.542969 3.132813 1.15625 3.09375 0.777344 3.011719 L 0.597656 1.410156 C 0.917969 1.472656 1.203125 1.503906 1.460938 1.507813 C 1.933594 1.503906 2.285156 1.363281 2.515625 1.085938 C 2.742188 0.804688 2.917969 0.453125 3.042969 0.0234375 Z M 0.101563 -7.726563 \"/>\n",
       "</symbol>\n",
       "<symbol overflow=\"visible\" id=\"glyph2-9\">\n",
       "<path style=\"stroke:none;\" d=\"M 5.542969 -2.460938 L 7.582031 -2.117188 C 7.316406 -1.367188 6.902344 -0.800781 6.339844 -0.410156 C 5.773438 -0.0195313 5.066406 0.175781 4.21875 0.175781 C 2.875 0.175781 1.878906 -0.261719 1.238281 -1.140625 C 0.722656 -1.839844 0.46875 -2.726563 0.472656 -3.804688 C 0.46875 -5.082031 0.804688 -6.085938 1.476563 -6.8125 C 2.144531 -7.535156 2.988281 -7.898438 4.015625 -7.902344 C 5.164063 -7.898438 6.074219 -7.519531 6.738281 -6.761719 C 7.402344 -6.003906 7.71875 -4.839844 7.691406 -3.273438 L 2.566406 -3.273438 C 2.582031 -2.664063 2.746094 -2.191406 3.0625 -1.855469 C 3.375 -1.515625 3.769531 -1.347656 4.242188 -1.351563 C 4.5625 -1.347656 4.828125 -1.433594 5.046875 -1.613281 C 5.261719 -1.785156 5.429688 -2.070313 5.542969 -2.460938 Z M 5.660156 -4.523438 C 5.644531 -5.117188 5.488281 -5.566406 5.199219 -5.875 C 4.90625 -6.179688 4.554688 -6.332031 4.140625 -6.335938 C 3.691406 -6.332031 3.324219 -6.171875 3.035156 -5.847656 C 2.742188 -5.523438 2.597656 -5.082031 2.605469 -4.523438 Z M 5.660156 -4.523438 \"/>\n",
       "</symbol>\n",
       "<symbol overflow=\"visible\" id=\"glyph2-10\">\n",
       "<path style=\"stroke:none;\" d=\"M 0.617188 -5.9375 L 0.617188 -7.8125 L 8.074219 -7.8125 L 8.074219 -5.9375 Z M 0.617188 -2.707031 L 0.617188 -4.589844 L 8.074219 -4.589844 L 8.074219 -2.707031 Z M 0.617188 -2.707031 \"/>\n",
       "</symbol>\n",
       "<symbol overflow=\"visible\" id=\"glyph2-11\">\n",
       "<path style=\"stroke:none;\" d=\"M 1.199219 -6.875 L 0.816406 -8.863281 L 0.816406 -10.664063 L 3.042969 -10.664063 L 3.042969 -8.863281 L 2.707031 -6.875 Z M 4.480469 -6.875 L 4.097656 -8.863281 L 4.097656 -10.664063 L 6.324219 -10.664063 L 6.324219 -8.863281 L 5.988281 -6.875 Z M 4.480469 -6.875 \"/>\n",
       "</symbol>\n",
       "<symbol overflow=\"visible\" id=\"glyph2-12\">\n",
       "<path style=\"stroke:none;\" d=\"M 0.347656 -2.203125 L 2.402344 -2.515625 C 2.488281 -2.117188 2.664063 -1.816406 2.929688 -1.609375 C 3.195313 -1.402344 3.566406 -1.300781 4.050781 -1.300781 C 4.574219 -1.300781 4.972656 -1.398438 5.246094 -1.59375 C 5.421875 -1.726563 5.511719 -1.90625 5.515625 -2.140625 C 5.511719 -2.289063 5.464844 -2.417969 5.371094 -2.523438 C 5.265625 -2.621094 5.035156 -2.710938 4.683594 -2.792969 C 3.03125 -3.15625 1.988281 -3.488281 1.550781 -3.789063 C 0.9375 -4.207031 0.632813 -4.789063 0.632813 -5.53125 C 0.632813 -6.199219 0.894531 -6.761719 1.425781 -7.21875 C 1.949219 -7.671875 2.769531 -7.898438 3.886719 -7.902344 C 4.941406 -7.898438 5.726563 -7.726563 6.242188 -7.382813 C 6.75 -7.039063 7.105469 -6.527344 7.304688 -5.855469 L 5.375 -5.5 C 5.289063 -5.800781 5.132813 -6.03125 4.90625 -6.191406 C 4.671875 -6.347656 4.34375 -6.425781 3.921875 -6.429688 C 3.378906 -6.425781 2.996094 -6.351563 2.765625 -6.207031 C 2.609375 -6.097656 2.53125 -5.960938 2.53125 -5.792969 C 2.53125 -5.644531 2.597656 -5.519531 2.734375 -5.421875 C 2.917969 -5.28125 3.554688 -5.089844 4.644531 -4.84375 C 5.730469 -4.59375 6.492188 -4.292969 6.925781 -3.9375 C 7.351563 -3.570313 7.5625 -3.0625 7.566406 -2.414063 C 7.5625 -1.703125 7.269531 -1.09375 6.679688 -0.585938 C 6.085938 -0.078125 5.207031 0.175781 4.050781 0.175781 C 2.996094 0.175781 2.164063 -0.0351563 1.550781 -0.464844 C 0.9375 -0.886719 0.535156 -1.46875 0.347656 -2.203125 Z M 0.347656 -2.203125 \"/>\n",
       "</symbol>\n",
       "<symbol overflow=\"visible\" id=\"glyph2-13\">\n",
       "<path style=\"stroke:none;\" d=\"M 0.503906 3.136719 C 0.902344 2.269531 1.183594 1.609375 1.351563 1.148438 C 1.515625 0.6875 1.667969 0.15625 1.8125 -0.445313 C 1.949219 -1.046875 2.054688 -1.617188 2.125 -2.15625 C 2.191406 -2.695313 2.226563 -3.25 2.226563 -3.820313 C 2.226563 -4.972656 2.101563 -6.0625 1.855469 -7.097656 C 1.605469 -8.125 1.148438 -9.375 0.488281 -10.847656 L 1.878906 -10.847656 C 2.609375 -9.800781 3.175781 -8.695313 3.582031 -7.53125 C 3.984375 -6.359375 4.1875 -5.175781 4.191406 -3.972656 C 4.1875 -2.957031 4.027344 -1.871094 3.710938 -0.714844 C 3.34375 0.585938 2.746094 1.867188 1.914063 3.136719 Z M 0.503906 3.136719 \"/>\n",
       "</symbol>\n",
       "</g>\n",
       "<clipPath id=\"clip1\">\n",
       "  <path d=\"M 59.039063 59.039063 L 474.757813 59.039063 L 474.757813 431.558594 L 59.039063 431.558594 Z M 59.039063 59.039063 \"/>\n",
       "</clipPath>\n",
       "<clipPath id=\"clip2\">\n",
       "  <path d=\"M 59.039063 59.039063 L 474.757813 59.039063 L 474.757813 431.558594 L 59.039063 431.558594 Z M 59.039063 59.039063 \"/>\n",
       "</clipPath>\n",
       "</defs>\n",
       "<g id=\"surface230\">\n",
       "<rect x=\"0\" y=\"0\" width=\"504\" height=\"504\" style=\"fill:rgb(100%,100%,100%);fill-opacity:1;stroke:none;\"/>\n",
       "<g clip-path=\"url(#clip1)\" clip-rule=\"nonzero\">\n",
       "<path style=\"fill:none;stroke-width:1;stroke-linecap:round;stroke-linejoin:round;stroke:rgb(0%,0%,0%);stroke-opacity:1;stroke-miterlimit:10;\" d=\"M 74.398438 416.800781 L 82.746094 416.800781 L 82.746094 376.210938 L 91.09375 376.210938 L 91.09375 374.765625 L 99.445313 374.765625 L 99.445313 372.195313 L 107.792969 372.195313 L 107.792969 343.402344 L 116.140625 343.402344 L 116.140625 330.429688 L 124.488281 330.429688 L 124.488281 326.953125 L 132.835938 326.953125 L 132.835938 318.484375 L 141.183594 318.484375 L 141.183594 302.675781 L 149.53125 302.675781 L 149.53125 300.082031 L 157.878906 300.082031 L 157.878906 278.679688 L 166.226563 278.679688 L 166.226563 271.871094 L 174.574219 271.871094 L 174.574219 266.894531 L 182.921875 266.894531 L 182.921875 265.484375 L 191.269531 265.484375 L 191.269531 261.085938 L 199.617188 261.085938 L 199.617188 256.136719 L 207.964844 256.136719 L 207.964844 253.539063 L 216.3125 253.539063 L 216.3125 247.269531 L 224.660156 247.269531 L 224.660156 245.371094 L 233.007813 245.371094 L 233.007813 242.617188 L 241.355469 242.617188 L 241.355469 242.320313 L 249.703125 242.320313 L 249.703125 241.519531 L 258.050781 241.519531 L 258.050781 232.125 L 266.398438 232.125 L 266.398438 228.589844 L 274.746094 228.589844 L 274.746094 227.742188 L 283.09375 227.742188 L 283.09375 226.660156 L 291.445313 226.660156 L 291.445313 221.167969 L 299.792969 221.167969 L 299.792969 219.203125 L 308.140625 219.203125 L 308.140625 219.082031 L 316.488281 219.082031 L 316.488281 210.234375 L 324.835938 210.234375 L 324.835938 204.0625 L 333.183594 204.0625 L 333.183594 196.667969 L 341.53125 196.667969 L 341.53125 193.207031 L 349.878906 193.207031 L 349.878906 183.125 L 358.226563 183.125 L 358.226563 178.921875 L 366.574219 178.921875 L 366.574219 173.289063 L 374.921875 173.289063 L 374.921875 166.871094 L 383.269531 166.871094 L 383.269531 162.769531 L 391.617188 162.769531 L 391.617188 159.542969 L 399.964844 159.542969 L 399.964844 157.699219 L 408.3125 157.699219 L 408.3125 131.355469 L 416.660156 131.355469 L 416.660156 122.871094 L 425.007813 122.871094 L 425.007813 122.550781 L 433.355469 122.550781 L 433.355469 114.34375 L 441.703125 114.34375 L 441.703125 102.617188 L 450.050781 102.617188 L 450.050781 100.449219 L 458.398438 100.449219 L 458.398438 72.800781 \"/>\n",
       "</g>\n",
       "<path style=\"fill:none;stroke-width:1;stroke-linecap:round;stroke-linejoin:round;stroke:rgb(0%,0%,0%);stroke-opacity:1;stroke-miterlimit:10;\" d=\"M 66.050781 430.558594 L 399.964844 430.558594 \"/>\n",
       "<path style=\"fill:none;stroke-width:1;stroke-linecap:round;stroke-linejoin:round;stroke:rgb(0%,0%,0%);stroke-opacity:1;stroke-miterlimit:10;\" d=\"M 66.050781 430.558594 L 66.050781 437.761719 \"/>\n",
       "<path style=\"fill:none;stroke-width:1;stroke-linecap:round;stroke-linejoin:round;stroke:rgb(0%,0%,0%);stroke-opacity:1;stroke-miterlimit:10;\" d=\"M 149.53125 430.558594 L 149.53125 437.761719 \"/>\n",
       "<path style=\"fill:none;stroke-width:1;stroke-linecap:round;stroke-linejoin:round;stroke:rgb(0%,0%,0%);stroke-opacity:1;stroke-miterlimit:10;\" d=\"M 233.007813 430.558594 L 233.007813 437.761719 \"/>\n",
       "<path style=\"fill:none;stroke-width:1;stroke-linecap:round;stroke-linejoin:round;stroke:rgb(0%,0%,0%);stroke-opacity:1;stroke-miterlimit:10;\" d=\"M 316.488281 430.558594 L 316.488281 437.761719 \"/>\n",
       "<path style=\"fill:none;stroke-width:1;stroke-linecap:round;stroke-linejoin:round;stroke:rgb(0%,0%,0%);stroke-opacity:1;stroke-miterlimit:10;\" d=\"M 399.964844 430.558594 L 399.964844 437.761719 \"/>\n",
       "<g style=\"fill:rgb(0%,0%,0%);fill-opacity:1;\">\n",
       "  <use xlink:href=\"#glyph0-0\" x=\"62.574219\" y=\"457.921875\"/>\n",
       "</g>\n",
       "<g style=\"fill:rgb(0%,0%,0%);fill-opacity:1;\">\n",
       "  <use xlink:href=\"#glyph0-1\" x=\"142.578125\" y=\"457.921875\"/>\n",
       "  <use xlink:href=\"#glyph0-0\" x=\"149.530029\" y=\"457.921875\"/>\n",
       "</g>\n",
       "<g style=\"fill:rgb(0%,0%,0%);fill-opacity:1;\">\n",
       "  <use xlink:href=\"#glyph0-2\" x=\"226.054688\" y=\"457.921875\"/>\n",
       "  <use xlink:href=\"#glyph0-0\" x=\"233.006592\" y=\"457.921875\"/>\n",
       "</g>\n",
       "<g style=\"fill:rgb(0%,0%,0%);fill-opacity:1;\">\n",
       "  <use xlink:href=\"#glyph0-3\" x=\"309.535156\" y=\"457.921875\"/>\n",
       "  <use xlink:href=\"#glyph0-0\" x=\"316.487061\" y=\"457.921875\"/>\n",
       "</g>\n",
       "<g style=\"fill:rgb(0%,0%,0%);fill-opacity:1;\">\n",
       "  <use xlink:href=\"#glyph0-4\" x=\"393.011719\" y=\"457.921875\"/>\n",
       "  <use xlink:href=\"#glyph0-0\" x=\"399.963623\" y=\"457.921875\"/>\n",
       "</g>\n",
       "<path style=\"fill:none;stroke-width:1;stroke-linecap:round;stroke-linejoin:round;stroke:rgb(0%,0%,0%);stroke-opacity:1;stroke-miterlimit:10;\" d=\"M 59.039063 415.902344 L 59.039063 75.339844 \"/>\n",
       "<path style=\"fill:none;stroke-width:1;stroke-linecap:round;stroke-linejoin:round;stroke:rgb(0%,0%,0%);stroke-opacity:1;stroke-miterlimit:10;\" d=\"M 59.039063 415.902344 L 51.839844 415.902344 \"/>\n",
       "<path style=\"fill:none;stroke-width:1;stroke-linecap:round;stroke-linejoin:round;stroke:rgb(0%,0%,0%);stroke-opacity:1;stroke-miterlimit:10;\" d=\"M 59.039063 330.761719 L 51.839844 330.761719 \"/>\n",
       "<path style=\"fill:none;stroke-width:1;stroke-linecap:round;stroke-linejoin:round;stroke:rgb(0%,0%,0%);stroke-opacity:1;stroke-miterlimit:10;\" d=\"M 59.039063 245.621094 L 51.839844 245.621094 \"/>\n",
       "<path style=\"fill:none;stroke-width:1;stroke-linecap:round;stroke-linejoin:round;stroke:rgb(0%,0%,0%);stroke-opacity:1;stroke-miterlimit:10;\" d=\"M 59.039063 160.480469 L 51.839844 160.480469 \"/>\n",
       "<path style=\"fill:none;stroke-width:1;stroke-linecap:round;stroke-linejoin:round;stroke:rgb(0%,0%,0%);stroke-opacity:1;stroke-miterlimit:10;\" d=\"M 59.039063 75.339844 L 51.839844 75.339844 \"/>\n",
       "<g style=\"fill:rgb(0%,0%,0%);fill-opacity:1;\">\n",
       "  <use xlink:href=\"#glyph1-0\" x=\"43.199219\" y=\"421.460938\"/>\n",
       "  <use xlink:href=\"#glyph1-1\" x=\"43.199219\" y=\"417.29834\"/>\n",
       "</g>\n",
       "<g style=\"fill:rgb(0%,0%,0%);fill-opacity:1;\">\n",
       "  <use xlink:href=\"#glyph1-0\" x=\"43.199219\" y=\"336.320313\"/>\n",
       "  <use xlink:href=\"#glyph1-2\" x=\"43.199219\" y=\"332.157715\"/>\n",
       "</g>\n",
       "<g style=\"fill:rgb(0%,0%,0%);fill-opacity:1;\">\n",
       "  <use xlink:href=\"#glyph1-3\" x=\"43.199219\" y=\"249.097656\"/>\n",
       "</g>\n",
       "<g style=\"fill:rgb(0%,0%,0%);fill-opacity:1;\">\n",
       "  <use xlink:href=\"#glyph1-2\" x=\"43.199219\" y=\"163.957031\"/>\n",
       "</g>\n",
       "<g style=\"fill:rgb(0%,0%,0%);fill-opacity:1;\">\n",
       "  <use xlink:href=\"#glyph1-1\" x=\"43.199219\" y=\"78.816406\"/>\n",
       "</g>\n",
       "<path style=\"fill:none;stroke-width:1;stroke-linecap:round;stroke-linejoin:round;stroke:rgb(0%,0%,0%);stroke-opacity:1;stroke-miterlimit:10;\" d=\"M 59.039063 430.558594 L 473.761719 430.558594 L 473.761719 59.039063 L 59.039063 59.039063 L 59.039063 430.558594 \"/>\n",
       "<g style=\"fill:rgb(0%,0%,0%);fill-opacity:1;\">\n",
       "  <use xlink:href=\"#glyph2-0\" x=\"204.484375\" y=\"34.851563\"/>\n",
       "  <use xlink:href=\"#glyph2-1\" x=\"213.585889\" y=\"34.851563\"/>\n",
       "  <use xlink:href=\"#glyph2-2\" x=\"217.725586\" y=\"34.851563\"/>\n",
       "  <use xlink:href=\"#glyph2-3\" x=\"226.8271\" y=\"34.851563\"/>\n",
       "  <use xlink:href=\"#glyph2-4\" x=\"231.788916\" y=\"34.851563\"/>\n",
       "  <use xlink:href=\"#glyph2-5\" x=\"236.750732\" y=\"34.851563\"/>\n",
       "  <use xlink:href=\"#glyph2-6\" x=\"245.037402\" y=\"34.851563\"/>\n",
       "  <use xlink:href=\"#glyph2-7\" x=\"249.1771\" y=\"34.851563\"/>\n",
       "  <use xlink:href=\"#glyph2-3\" x=\"253.316797\" y=\"34.851563\"/>\n",
       "  <use xlink:href=\"#glyph2-8\" x=\"258.278613\" y=\"34.851563\"/>\n",
       "  <use xlink:href=\"#glyph2-0\" x=\"266.565283\" y=\"34.851563\"/>\n",
       "  <use xlink:href=\"#glyph2-9\" x=\"275.666797\" y=\"34.851563\"/>\n",
       "  <use xlink:href=\"#glyph2-7\" x=\"283.953467\" y=\"34.851563\"/>\n",
       "  <use xlink:href=\"#glyph2-10\" x=\"288.093164\" y=\"34.851563\"/>\n",
       "  <use xlink:href=\"#glyph2-7\" x=\"296.794531\" y=\"34.851563\"/>\n",
       "  <use xlink:href=\"#glyph2-11\" x=\"300.934229\" y=\"34.851563\"/>\n",
       "  <use xlink:href=\"#glyph2-12\" x=\"307.998633\" y=\"34.851563\"/>\n",
       "  <use xlink:href=\"#glyph2-11\" x=\"316.285303\" y=\"34.851563\"/>\n",
       "  <use xlink:href=\"#glyph2-13\" x=\"323.349707\" y=\"34.851563\"/>\n",
       "</g>\n",
       "<g style=\"fill:rgb(0%,0%,0%);fill-opacity:1;\">\n",
       "  <use xlink:href=\"#glyph0-5\" x=\"251.109375\" y=\"486.71875\"/>\n",
       "  <use xlink:href=\"#glyph0-6\" x=\"254.582275\" y=\"486.71875\"/>\n",
       "  <use xlink:href=\"#glyph0-7\" x=\"261.53418\" y=\"486.71875\"/>\n",
       "  <use xlink:href=\"#glyph0-8\" x=\"268.486084\" y=\"486.71875\"/>\n",
       "  <use xlink:href=\"#glyph0-9\" x=\"275.437988\" y=\"486.71875\"/>\n",
       "</g>\n",
       "<g style=\"fill:rgb(0%,0%,0%);fill-opacity:1;\">\n",
       "  <use xlink:href=\"#glyph1-4\" x=\"14.398438\" y=\"299.144531\"/>\n",
       "  <use xlink:href=\"#glyph1-5\" x=\"14.398438\" y=\"292.894531\"/>\n",
       "  <use xlink:href=\"#glyph1-6\" x=\"14.398438\" y=\"289.421631\"/>\n",
       "  <use xlink:href=\"#glyph1-0\" x=\"14.398438\" y=\"282.121826\"/>\n",
       "  <use xlink:href=\"#glyph1-5\" x=\"14.398438\" y=\"277.959229\"/>\n",
       "  <use xlink:href=\"#glyph1-7\" x=\"14.398438\" y=\"274.486328\"/>\n",
       "  <use xlink:href=\"#glyph1-8\" x=\"14.398438\" y=\"268.236328\"/>\n",
       "  <use xlink:href=\"#glyph1-9\" x=\"14.398438\" y=\"261.284424\"/>\n",
       "  <use xlink:href=\"#glyph1-10\" x=\"14.398438\" y=\"257.121826\"/>\n",
       "  <use xlink:href=\"#glyph1-11\" x=\"14.398438\" y=\"253.648926\"/>\n",
       "  <use xlink:href=\"#glyph1-9\" x=\"14.398438\" y=\"249.486328\"/>\n",
       "  <use xlink:href=\"#glyph1-12\" x=\"14.398438\" y=\"245.32373\"/>\n",
       "  <use xlink:href=\"#glyph1-8\" x=\"14.398438\" y=\"238.371826\"/>\n",
       "  <use xlink:href=\"#glyph1-9\" x=\"14.398438\" y=\"231.419922\"/>\n",
       "  <use xlink:href=\"#glyph1-13\" x=\"14.398438\" y=\"227.257324\"/>\n",
       "  <use xlink:href=\"#glyph1-11\" x=\"14.398438\" y=\"216.844727\"/>\n",
       "  <use xlink:href=\"#glyph1-14\" x=\"14.398438\" y=\"212.682129\"/>\n",
       "  <use xlink:href=\"#glyph1-15\" x=\"14.398438\" y=\"205.730225\"/>\n",
       "  <use xlink:href=\"#glyph1-16\" x=\"14.398438\" y=\"198.77832\"/>\n",
       "  <use xlink:href=\"#glyph1-16\" x=\"14.398438\" y=\"194.615723\"/>\n",
       "</g>\n",
       "<g clip-path=\"url(#clip2)\" clip-rule=\"nonzero\">\n",
       "<path style=\"fill:none;stroke-width:1;stroke-linecap:round;stroke-linejoin:round;stroke:rgb(54.509804%,0%,0%);stroke-opacity:1;stroke-miterlimit:10;\" d=\"M 76.25 416.800781 C 76.25 419.265625 72.550781 419.265625 72.550781 416.800781 C 72.550781 414.332031 76.25 414.332031 76.25 416.800781 \"/>\n",
       "<path style=\"fill:none;stroke-width:1;stroke-linecap:round;stroke-linejoin:round;stroke:rgb(54.509804%,0%,0%);stroke-opacity:1;stroke-miterlimit:10;\" d=\"M 84.597656 376.210938 C 84.597656 378.675781 80.898438 378.675781 80.898438 376.210938 C 80.898438 373.742188 84.597656 373.742188 84.597656 376.210938 \"/>\n",
       "<path style=\"fill:none;stroke-width:1;stroke-linecap:round;stroke-linejoin:round;stroke:rgb(54.509804%,0%,0%);stroke-opacity:1;stroke-miterlimit:10;\" d=\"M 92.945313 374.765625 C 92.945313 377.234375 89.246094 377.234375 89.246094 374.765625 C 89.246094 372.300781 92.945313 372.300781 92.945313 374.765625 \"/>\n",
       "<path style=\"fill:none;stroke-width:1;stroke-linecap:round;stroke-linejoin:round;stroke:rgb(54.509804%,0%,0%);stroke-opacity:1;stroke-miterlimit:10;\" d=\"M 101.292969 372.195313 C 101.292969 374.664063 97.59375 374.664063 97.59375 372.195313 C 97.59375 369.730469 101.292969 369.730469 101.292969 372.195313 \"/>\n",
       "<path style=\"fill:none;stroke-width:1;stroke-linecap:round;stroke-linejoin:round;stroke:rgb(54.509804%,0%,0%);stroke-opacity:1;stroke-miterlimit:10;\" d=\"M 109.640625 343.402344 C 109.640625 345.871094 105.941406 345.871094 105.941406 343.402344 C 105.941406 340.9375 109.640625 340.9375 109.640625 343.402344 \"/>\n",
       "<path style=\"fill:none;stroke-width:1;stroke-linecap:round;stroke-linejoin:round;stroke:rgb(54.509804%,0%,0%);stroke-opacity:1;stroke-miterlimit:10;\" d=\"M 117.988281 330.429688 C 117.988281 332.894531 114.289063 332.894531 114.289063 330.429688 C 114.289063 327.960938 117.988281 327.960938 117.988281 330.429688 \"/>\n",
       "<path style=\"fill:none;stroke-width:1;stroke-linecap:round;stroke-linejoin:round;stroke:rgb(54.509804%,0%,0%);stroke-opacity:1;stroke-miterlimit:10;\" d=\"M 126.335938 326.953125 C 126.335938 329.417969 122.636719 329.417969 122.636719 326.953125 C 122.636719 324.484375 126.335938 324.484375 126.335938 326.953125 \"/>\n",
       "<path style=\"fill:none;stroke-width:1;stroke-linecap:round;stroke-linejoin:round;stroke:rgb(54.509804%,0%,0%);stroke-opacity:1;stroke-miterlimit:10;\" d=\"M 134.683594 318.484375 C 134.683594 320.949219 130.984375 320.949219 130.984375 318.484375 C 130.984375 316.015625 134.683594 316.015625 134.683594 318.484375 \"/>\n",
       "<path style=\"fill:none;stroke-width:1;stroke-linecap:round;stroke-linejoin:round;stroke:rgb(54.509804%,0%,0%);stroke-opacity:1;stroke-miterlimit:10;\" d=\"M 143.03125 302.675781 C 143.03125 305.144531 139.332031 305.144531 139.332031 302.675781 C 139.332031 300.210938 143.03125 300.210938 143.03125 302.675781 \"/>\n",
       "<path style=\"fill:none;stroke-width:1;stroke-linecap:round;stroke-linejoin:round;stroke:rgb(54.509804%,0%,0%);stroke-opacity:1;stroke-miterlimit:10;\" d=\"M 151.378906 300.082031 C 151.378906 302.546875 147.679688 302.546875 147.679688 300.082031 C 147.679688 297.613281 151.378906 297.613281 151.378906 300.082031 \"/>\n",
       "<path style=\"fill:none;stroke-width:1;stroke-linecap:round;stroke-linejoin:round;stroke:rgb(54.509804%,0%,0%);stroke-opacity:1;stroke-miterlimit:10;\" d=\"M 159.726563 278.679688 C 159.726563 281.144531 156.027344 281.144531 156.027344 278.679688 C 156.027344 276.210938 159.726563 276.210938 159.726563 278.679688 \"/>\n",
       "<path style=\"fill:none;stroke-width:1;stroke-linecap:round;stroke-linejoin:round;stroke:rgb(54.509804%,0%,0%);stroke-opacity:1;stroke-miterlimit:10;\" d=\"M 168.074219 271.871094 C 168.074219 274.335938 164.375 274.335938 164.375 271.871094 C 164.375 269.402344 168.074219 269.402344 168.074219 271.871094 \"/>\n",
       "<path style=\"fill:none;stroke-width:1;stroke-linecap:round;stroke-linejoin:round;stroke:rgb(54.509804%,0%,0%);stroke-opacity:1;stroke-miterlimit:10;\" d=\"M 176.425781 266.894531 C 176.425781 269.359375 172.722656 269.359375 172.722656 266.894531 C 172.722656 264.425781 176.425781 264.425781 176.425781 266.894531 \"/>\n",
       "<path style=\"fill:none;stroke-width:1;stroke-linecap:round;stroke-linejoin:round;stroke:rgb(54.509804%,0%,0%);stroke-opacity:1;stroke-miterlimit:10;\" d=\"M 184.773438 265.484375 C 184.773438 267.949219 181.070313 267.949219 181.070313 265.484375 C 181.070313 263.015625 184.773438 263.015625 184.773438 265.484375 \"/>\n",
       "<path style=\"fill:none;stroke-width:1;stroke-linecap:round;stroke-linejoin:round;stroke:rgb(54.509804%,0%,0%);stroke-opacity:1;stroke-miterlimit:10;\" d=\"M 193.121094 261.085938 C 193.121094 263.554688 189.417969 263.554688 189.417969 261.085938 C 189.417969 258.621094 193.121094 258.621094 193.121094 261.085938 \"/>\n",
       "<path style=\"fill:none;stroke-width:1;stroke-linecap:round;stroke-linejoin:round;stroke:rgb(54.509804%,0%,0%);stroke-opacity:1;stroke-miterlimit:10;\" d=\"M 201.46875 256.136719 C 201.46875 258.605469 197.765625 258.605469 197.765625 256.136719 C 197.765625 253.671875 201.46875 253.671875 201.46875 256.136719 \"/>\n",
       "<path style=\"fill:none;stroke-width:1;stroke-linecap:round;stroke-linejoin:round;stroke:rgb(54.509804%,0%,0%);stroke-opacity:1;stroke-miterlimit:10;\" d=\"M 209.816406 253.539063 C 209.816406 256.007813 206.113281 256.007813 206.113281 253.539063 C 206.113281 251.074219 209.816406 251.074219 209.816406 253.539063 \"/>\n",
       "<path style=\"fill:none;stroke-width:1;stroke-linecap:round;stroke-linejoin:round;stroke:rgb(54.509804%,0%,0%);stroke-opacity:1;stroke-miterlimit:10;\" d=\"M 218.164063 247.269531 C 218.164063 249.738281 214.464844 249.738281 214.464844 247.269531 C 214.464844 244.804688 218.164063 244.804688 218.164063 247.269531 \"/>\n",
       "<path style=\"fill:none;stroke-width:1;stroke-linecap:round;stroke-linejoin:round;stroke:rgb(54.509804%,0%,0%);stroke-opacity:1;stroke-miterlimit:10;\" d=\"M 226.511719 245.371094 C 226.511719 247.835938 222.8125 247.835938 222.8125 245.371094 C 222.8125 242.902344 226.511719 242.902344 226.511719 245.371094 \"/>\n",
       "<path style=\"fill:none;stroke-width:1;stroke-linecap:round;stroke-linejoin:round;stroke:rgb(54.509804%,0%,0%);stroke-opacity:1;stroke-miterlimit:10;\" d=\"M 234.859375 242.617188 C 234.859375 245.082031 231.160156 245.082031 231.160156 242.617188 C 231.160156 240.152344 234.859375 240.152344 234.859375 242.617188 \"/>\n",
       "<path style=\"fill:none;stroke-width:1;stroke-linecap:round;stroke-linejoin:round;stroke:rgb(54.509804%,0%,0%);stroke-opacity:1;stroke-miterlimit:10;\" d=\"M 243.207031 242.320313 C 243.207031 244.785156 239.507813 244.785156 239.507813 242.320313 C 239.507813 239.851563 243.207031 239.851563 243.207031 242.320313 \"/>\n",
       "<path style=\"fill:none;stroke-width:1;stroke-linecap:round;stroke-linejoin:round;stroke:rgb(54.509804%,0%,0%);stroke-opacity:1;stroke-miterlimit:10;\" d=\"M 251.554688 241.519531 C 251.554688 243.988281 247.855469 243.988281 247.855469 241.519531 C 247.855469 239.054688 251.554688 239.054688 251.554688 241.519531 \"/>\n",
       "<path style=\"fill:none;stroke-width:1;stroke-linecap:round;stroke-linejoin:round;stroke:rgb(54.509804%,0%,0%);stroke-opacity:1;stroke-miterlimit:10;\" d=\"M 259.902344 232.125 C 259.902344 234.589844 256.203125 234.589844 256.203125 232.125 C 256.203125 229.65625 259.902344 229.65625 259.902344 232.125 \"/>\n",
       "<path style=\"fill:none;stroke-width:1;stroke-linecap:round;stroke-linejoin:round;stroke:rgb(54.509804%,0%,0%);stroke-opacity:1;stroke-miterlimit:10;\" d=\"M 268.25 228.589844 C 268.25 231.058594 264.550781 231.058594 264.550781 228.589844 C 264.550781 226.125 268.25 226.125 268.25 228.589844 \"/>\n",
       "<path style=\"fill:none;stroke-width:1;stroke-linecap:round;stroke-linejoin:round;stroke:rgb(54.509804%,0%,0%);stroke-opacity:1;stroke-miterlimit:10;\" d=\"M 276.597656 227.742188 C 276.597656 230.207031 272.898438 230.207031 272.898438 227.742188 C 272.898438 225.273438 276.597656 225.273438 276.597656 227.742188 \"/>\n",
       "<path style=\"fill:none;stroke-width:1;stroke-linecap:round;stroke-linejoin:round;stroke:rgb(54.509804%,0%,0%);stroke-opacity:1;stroke-miterlimit:10;\" d=\"M 284.945313 226.660156 C 284.945313 229.125 281.246094 229.125 281.246094 226.660156 C 281.246094 224.191406 284.945313 224.191406 284.945313 226.660156 \"/>\n",
       "<path style=\"fill:none;stroke-width:1;stroke-linecap:round;stroke-linejoin:round;stroke:rgb(54.509804%,0%,0%);stroke-opacity:1;stroke-miterlimit:10;\" d=\"M 293.292969 221.167969 C 293.292969 223.636719 289.59375 223.636719 289.59375 221.167969 C 289.59375 218.703125 293.292969 218.703125 293.292969 221.167969 \"/>\n",
       "<path style=\"fill:none;stroke-width:1;stroke-linecap:round;stroke-linejoin:round;stroke:rgb(54.509804%,0%,0%);stroke-opacity:1;stroke-miterlimit:10;\" d=\"M 301.640625 219.203125 C 301.640625 221.671875 297.941406 221.671875 297.941406 219.203125 C 297.941406 216.738281 301.640625 216.738281 301.640625 219.203125 \"/>\n",
       "<path style=\"fill:none;stroke-width:1;stroke-linecap:round;stroke-linejoin:round;stroke:rgb(54.509804%,0%,0%);stroke-opacity:1;stroke-miterlimit:10;\" d=\"M 309.988281 219.082031 C 309.988281 221.550781 306.289063 221.550781 306.289063 219.082031 C 306.289063 216.617188 309.988281 216.617188 309.988281 219.082031 \"/>\n",
       "<path style=\"fill:none;stroke-width:1;stroke-linecap:round;stroke-linejoin:round;stroke:rgb(54.509804%,0%,0%);stroke-opacity:1;stroke-miterlimit:10;\" d=\"M 318.335938 210.234375 C 318.335938 212.703125 314.636719 212.703125 314.636719 210.234375 C 314.636719 207.769531 318.335938 207.769531 318.335938 210.234375 \"/>\n",
       "<path style=\"fill:none;stroke-width:1;stroke-linecap:round;stroke-linejoin:round;stroke:rgb(54.509804%,0%,0%);stroke-opacity:1;stroke-miterlimit:10;\" d=\"M 326.683594 204.0625 C 326.683594 206.53125 322.984375 206.53125 322.984375 204.0625 C 322.984375 201.597656 326.683594 201.597656 326.683594 204.0625 \"/>\n",
       "<path style=\"fill:none;stroke-width:1;stroke-linecap:round;stroke-linejoin:round;stroke:rgb(54.509804%,0%,0%);stroke-opacity:1;stroke-miterlimit:10;\" d=\"M 335.03125 196.667969 C 335.03125 199.136719 331.332031 199.136719 331.332031 196.667969 C 331.332031 194.203125 335.03125 194.203125 335.03125 196.667969 \"/>\n",
       "<path style=\"fill:none;stroke-width:1;stroke-linecap:round;stroke-linejoin:round;stroke:rgb(54.509804%,0%,0%);stroke-opacity:1;stroke-miterlimit:10;\" d=\"M 343.378906 193.207031 C 343.378906 195.671875 339.679688 195.671875 339.679688 193.207031 C 339.679688 190.738281 343.378906 190.738281 343.378906 193.207031 \"/>\n",
       "<path style=\"fill:none;stroke-width:1;stroke-linecap:round;stroke-linejoin:round;stroke:rgb(54.509804%,0%,0%);stroke-opacity:1;stroke-miterlimit:10;\" d=\"M 351.726563 183.125 C 351.726563 185.59375 348.027344 185.59375 348.027344 183.125 C 348.027344 180.660156 351.726563 180.660156 351.726563 183.125 \"/>\n",
       "<path style=\"fill:none;stroke-width:1;stroke-linecap:round;stroke-linejoin:round;stroke:rgb(54.509804%,0%,0%);stroke-opacity:1;stroke-miterlimit:10;\" d=\"M 360.074219 178.921875 C 360.074219 181.386719 356.375 181.386719 356.375 178.921875 C 356.375 176.453125 360.074219 176.453125 360.074219 178.921875 \"/>\n",
       "<path style=\"fill:none;stroke-width:1;stroke-linecap:round;stroke-linejoin:round;stroke:rgb(54.509804%,0%,0%);stroke-opacity:1;stroke-miterlimit:10;\" d=\"M 368.425781 173.289063 C 368.425781 175.753906 364.722656 175.753906 364.722656 173.289063 C 364.722656 170.820313 368.425781 170.820313 368.425781 173.289063 \"/>\n",
       "<path style=\"fill:none;stroke-width:1;stroke-linecap:round;stroke-linejoin:round;stroke:rgb(54.509804%,0%,0%);stroke-opacity:1;stroke-miterlimit:10;\" d=\"M 376.773438 166.871094 C 376.773438 169.339844 373.070313 169.339844 373.070313 166.871094 C 373.070313 164.40625 376.773438 164.40625 376.773438 166.871094 \"/>\n",
       "<path style=\"fill:none;stroke-width:1;stroke-linecap:round;stroke-linejoin:round;stroke:rgb(54.509804%,0%,0%);stroke-opacity:1;stroke-miterlimit:10;\" d=\"M 385.121094 162.769531 C 385.121094 165.234375 381.417969 165.234375 381.417969 162.769531 C 381.417969 160.300781 385.121094 160.300781 385.121094 162.769531 \"/>\n",
       "<path style=\"fill:none;stroke-width:1;stroke-linecap:round;stroke-linejoin:round;stroke:rgb(54.509804%,0%,0%);stroke-opacity:1;stroke-miterlimit:10;\" d=\"M 393.46875 159.542969 C 393.46875 162.007813 389.765625 162.007813 389.765625 159.542969 C 389.765625 157.074219 393.46875 157.074219 393.46875 159.542969 \"/>\n",
       "<path style=\"fill:none;stroke-width:1;stroke-linecap:round;stroke-linejoin:round;stroke:rgb(54.509804%,0%,0%);stroke-opacity:1;stroke-miterlimit:10;\" d=\"M 401.816406 157.699219 C 401.816406 160.167969 398.113281 160.167969 398.113281 157.699219 C 398.113281 155.234375 401.816406 155.234375 401.816406 157.699219 \"/>\n",
       "<path style=\"fill:none;stroke-width:1;stroke-linecap:round;stroke-linejoin:round;stroke:rgb(54.509804%,0%,0%);stroke-opacity:1;stroke-miterlimit:10;\" d=\"M 410.164063 131.355469 C 410.164063 133.820313 406.464844 133.820313 406.464844 131.355469 C 406.464844 128.890625 410.164063 128.890625 410.164063 131.355469 \"/>\n",
       "<path style=\"fill:none;stroke-width:1;stroke-linecap:round;stroke-linejoin:round;stroke:rgb(54.509804%,0%,0%);stroke-opacity:1;stroke-miterlimit:10;\" d=\"M 418.511719 122.871094 C 418.511719 125.339844 414.8125 125.339844 414.8125 122.871094 C 414.8125 120.40625 418.511719 120.40625 418.511719 122.871094 \"/>\n",
       "<path style=\"fill:none;stroke-width:1;stroke-linecap:round;stroke-linejoin:round;stroke:rgb(54.509804%,0%,0%);stroke-opacity:1;stroke-miterlimit:10;\" d=\"M 426.859375 122.550781 C 426.859375 125.015625 423.160156 125.015625 423.160156 122.550781 C 423.160156 120.082031 426.859375 120.082031 426.859375 122.550781 \"/>\n",
       "<path style=\"fill:none;stroke-width:1;stroke-linecap:round;stroke-linejoin:round;stroke:rgb(54.509804%,0%,0%);stroke-opacity:1;stroke-miterlimit:10;\" d=\"M 435.207031 114.34375 C 435.207031 116.808594 431.507813 116.808594 431.507813 114.34375 C 431.507813 111.878906 435.207031 111.878906 435.207031 114.34375 \"/>\n",
       "<path style=\"fill:none;stroke-width:1;stroke-linecap:round;stroke-linejoin:round;stroke:rgb(54.509804%,0%,0%);stroke-opacity:1;stroke-miterlimit:10;\" d=\"M 443.554688 102.617188 C 443.554688 105.082031 439.855469 105.082031 439.855469 102.617188 C 439.855469 100.148438 443.554688 100.148438 443.554688 102.617188 \"/>\n",
       "<path style=\"fill:none;stroke-width:1;stroke-linecap:round;stroke-linejoin:round;stroke:rgb(54.509804%,0%,0%);stroke-opacity:1;stroke-miterlimit:10;\" d=\"M 451.902344 100.449219 C 451.902344 102.914063 448.203125 102.914063 448.203125 100.449219 C 448.203125 97.980469 451.902344 97.980469 451.902344 100.449219 \"/>\n",
       "<path style=\"fill:none;stroke-width:1;stroke-linecap:round;stroke-linejoin:round;stroke:rgb(54.509804%,0%,0%);stroke-opacity:1;stroke-miterlimit:10;\" d=\"M 460.25 72.800781 C 460.25 75.265625 456.550781 75.265625 456.550781 72.800781 C 456.550781 70.332031 460.25 70.332031 460.25 72.800781 \"/>\n",
       "</g>\n",
       "</g>\n",
       "</svg>\n"
      ],
      "text/plain": [
       "Plot with title \"plot(x, type = \"s\")\""
      ]
     },
     "metadata": {
      "image/svg+xml": {
       "isolated": true
      }
     },
     "output_type": "display_data"
    }
   ],
   "source": [
    "example(plot)  # Examples of correct usage of ‘plot’"
   ]
  },
  {
   "cell_type": "markdown",
   "metadata": {},
   "source": [
    "The R language is distributed together with PDF documents, which can be invoked from the menu  `Help|Manuals`. At this stage the most appropriate will be ‘An Introduction to R’ which outlines the basics of the R language. \n",
    "\n",
    "The R Journal, an open access refereed journal, features short to medium length articles on various R applications, R programming and add-on packages. Moreover, there exist e-mail discussion groups dedicated to R. Further information, including the archive of the e-mail discussion groups, is available on CRAN.\n",
    "\n",
    "Lastly, there exist numerous blogs dedicated to the R project, most of them accessible from the R-bloggers web page (http://www.r-bloggers.com). A useful starting point to search for a topic is RSeek (http://www.rseek.org).\n"
   ]
  },
  {
   "cell_type": "markdown",
   "metadata": {},
   "source": [
    "## 1.2\tFundamental objects of the R language\n",
    "### 1.2.1\tCommands\n",
    "The R environment can be utilized in direct mode, typing commands straight into the Console and getting an immediate response. Alternatively, the whole R code (a text file) can be run at once in batch mode. \n",
    "\n",
    "The commands (functions) in R are entered either individually, or are separated by a semicolon(`;`). More complex blocks of statements are enclosed in braces `{}`. Each command is followed by brackets with parameters (or empty, if none are required, i.e. default values are desired). Typing just the command name returns a listing of the function’s definition.\n",
    "\n",
    "<img src=\"warning-icon.png\" style=\"float:left;width:32px;height:32px;\">\n",
    "The R language is case sensitive. Commands are typed in lowercase and the environment distinguishes between lower and upper case letters in variable names. The latter cannot start with a digit and may contain any symbols apart from the hash mark (`#`). It is also important to note that several words are reserved by the system and cannot be used as variable names. For details, see `?Reserved`."
   ]
  },
  {
   "cell_type": "markdown",
   "metadata": {},
   "source": [
    "#### Direct mode\n",
    "In the simplest case, commands are entered and the result displayed:"
   ]
  },
  {
   "cell_type": "code",
   "execution_count": 4,
   "metadata": {
    "collapsed": false
   },
   "outputs": [
    {
     "data": {
      "text/html": [
       "63"
      ],
      "text/latex": [
       "63"
      ],
      "text/markdown": [
       "63"
      ],
      "text/plain": [
       "[1] 63"
      ]
     },
     "execution_count": 4,
     "metadata": {},
     "output_type": "execute_result"
    }
   ],
   "source": [
    "(15+6)*3"
   ]
  },
  {
   "cell_type": "markdown",
   "metadata": {},
   "source": [
    "The numerical values can be assigned to a named variable. Perhaps confusingly, R does not use `=` as an assignment operator. Instead, an arrow is implemented, corresponding to a combination of `<` (less than) and `-` (minus) characters. "
   ]
  },
  {
   "cell_type": "code",
   "execution_count": 5,
   "metadata": {
    "collapsed": true
   },
   "outputs": [],
   "source": [
    "x <- 5"
   ]
  },
  {
   "cell_type": "markdown",
   "metadata": {},
   "source": [
    "In direct mode, the content of a variable is displayed by typing its name:"
   ]
  },
  {
   "cell_type": "code",
   "execution_count": 6,
   "metadata": {
    "collapsed": false
   },
   "outputs": [
    {
     "data": {
      "text/html": [
       "5"
      ],
      "text/latex": [
       "5"
      ],
      "text/markdown": [
       "5"
      ],
      "text/plain": [
       "[1] 5"
      ]
     },
     "execution_count": 6,
     "metadata": {},
     "output_type": "execute_result"
    }
   ],
   "source": [
    "x"
   ]
  },
  {
   "cell_type": "markdown",
   "metadata": {},
   "source": [
    "If an incomplete command is entered, R displays a prompt “+” giving the opportunity to add what is needed. \n",
    "```R\n",
    "> (15+6\n",
    "+ )*3\n",
    "```"
   ]
  },
  {
   "cell_type": "markdown",
   "metadata": {},
   "source": [
    "####  Batch mode\n",
    "A sequence of R commands or program can also be prepared beforehand in the form of plain text (ASCII) file. This can be written by any editor (e.g., Notepad). Often, the file may need to be exported as a Plain/ASCII text. However, the most useful are text editors designed for programmers as they often provide extra functionality such as line numbering, syntax checking/highlighting and brackets matching (WinEdt, Tinn-R, Notepad++, etc.)\n",
    "\n",
    "Commonly used suffixes for R program scripts are `r` or `R`. The script can be run from the menu `File|Source R code` or using the command `source`:\n",
    "```R\n",
    "source(\"myprogram.r\") \n",
    "```\n",
    "\n",
    "The program can be stopped by pressing the `Esc` key or from the menu `Misc|Stop current computation`. Optional comments start by a hash mark: \n",
    "```R\n",
    "# My comment\n",
    "```\n",
    "Note that in batch mode the content of a variable must be displayed using the commands `print` or `cat`."
   ]
  },
  {
   "cell_type": "markdown",
   "metadata": {},
   "source": [
    "### 1.2.2\tHandling objects in memory\n",
    "R stores data using a variety of object types including vectors, arrays, matrices (two-dimensional arrays), factors, data frames, lists and functions. \n",
    "\n",
    "<table>\n",
    "    <tr>\n",
    "        <th>Object</th><th>Characteristics</th><th>Possible modes</th><th>Can have several modes?</th>\n",
    "    </tr>\n",
    "    \n",
    "    <tr>\n",
    "        <td>Vector</td><td>one-dimensional collection of elements</td>\n",
    "        <td>numeric, character, complex, logical</td><td>No</td>\n",
    "    </tr>\n",
    "    \n",
    "    <tr>\n",
    "        <td>Factor</td><td>each element is set to one of several discrete values, so-called levels (a categorical variable)</td>\n",
    "        <td>numeric, character</td><td>No</td>\n",
    "    </tr>\n",
    "\n",
    "    <tr>\n",
    "        <td>Array</td><td>multidimensional collection of elements</td>\n",
    "        <td>numeric, character, complex, logical</td><td>No</td>\n",
    "    </tr>\n",
    "\n",
    "    <tr>\n",
    "        <td>Matrix</td><td>two-dimensional array</td>\n",
    "        <td>numeric, character, complex, logical</td><td>No</td>\n",
    "    </tr>\n",
    "\n",
    "    <tr>\n",
    "        <td>Data frame</td><td>like a matrix but every column can be of a different mode</td>\n",
    "        <td>numeric, character, complex, logical</td><td>Yes</td>\n",
    "    </tr>\n",
    "    \n",
    "    <tr>\n",
    "        <td>List</td>\n",
    "        <td>consists of an ordered collection of objects (components) that can be of various modes (recursive, i.e. list can\n",
    "        itself consist of lists)</td>\n",
    "        <td>numeric, character, complex, logical, function, expression, formula</td><td>Yes</td>\n",
    "    </tr>\n",
    "\n",
    "    <tr>\n",
    "        <td>Function</td>\n",
    "        <td>fundamental piece of code, typically dedicated to a single task, with defined input parameters (arguments) and\n",
    "        output values</td>\n",
    "        <td>-</td><td>-</td>\n",
    "    </tr>\n",
    "</table>\n",
    "\n",
    "\n",
    "In order to display the current list of user objects, use the menu `Misc|List objects` or function: \n",
    "```R\n",
    "ls()\n",
    "```\n",
    "\n",
    "Unnecessary objects can be removed with the function `rm`: \n",
    "```R\n",
    "rm(x,y,junk)\n",
    "```\n",
    "All user R objects can be deleted using the menu item `Misc|Remove all objects`.\n",
    "\n",
    "All the objects are stored in memory, and not automatically saved to disc. When quitting the R environment, you are given the opportunity to save the current workspace, i.e. all the objects created during the given session. If you accept, they are written to a file `.RData` in the current directory and reloaded automatically the next time R is started. Different R sessions may therefore be maintained in different directories."
   ]
  },
  {
   "cell_type": "markdown",
   "metadata": {
    "collapsed": false
   },
   "source": [
    "## 1.3 Numeric vectors\n",
    "###\t1.3.1 Assignment\n",
    "Assignment of several items to a vector is done using the combine function `c`:"
   ]
  },
  {
   "cell_type": "code",
   "execution_count": 7,
   "metadata": {
    "collapsed": false
   },
   "outputs": [
    {
     "name": "stdout",
     "output_type": "stream",
     "text": [
      "[1] 10.4  5.6  3.1  6.4 21.7\n",
      " [1] 10.4  5.6  3.1  6.4 21.7  0.0 10.4  5.6  3.1  6.4 21.7\n"
     ]
    }
   ],
   "source": [
    "x <- c(10.4, 5.6, 3.1, 6.4, 21.7)\n",
    "y <- c(x, 0, x)\n",
    "print(x)\n",
    "print(y)"
   ]
  },
  {
   "cell_type": "markdown",
   "metadata": {},
   "source": [
    "### 1.3.2 Vector arithmetic\n",
    "For vectors, calculations are made using basic arithmetic operators: `+ - * / ^`.\n",
    "The use of these operators for two vectors of the same length is intuitive. In other cases, the elements of the shorter vector are recycled as often as necessary. For instance, for the x vector defined above, we can calculate:"
   ]
  },
  {
   "cell_type": "code",
   "execution_count": 8,
   "metadata": {
    "collapsed": false
   },
   "outputs": [
    {
     "data": {
      "text/html": [
       "<ol class=list-inline>\n",
       "\t<li>20.8</li>\n",
       "\t<li>11.2</li>\n",
       "\t<li>6.2</li>\n",
       "\t<li>12.8</li>\n",
       "\t<li>43.4</li>\n",
       "</ol>\n"
      ],
      "text/latex": [
       "\\begin{enumerate*}\n",
       "\\item 20.8\n",
       "\\item 11.2\n",
       "\\item 6.2\n",
       "\\item 12.8\n",
       "\\item 43.4\n",
       "\\end{enumerate*}\n"
      ],
      "text/markdown": [
       "1. 20.8\n",
       "2. 11.2\n",
       "3. 6.2\n",
       "4. 12.8\n",
       "5. 43.4\n",
       "\n",
       "\n"
      ],
      "text/plain": [
       "[1] 20.8 11.2  6.2 12.8 43.4"
      ]
     },
     "execution_count": 8,
     "metadata": {},
     "output_type": "execute_result"
    }
   ],
   "source": [
    "x*2"
   ]
  },
  {
   "cell_type": "markdown",
   "metadata": {},
   "source": [
    "### 1.3.3 Names\n",
    "Each vector may have an attribute `names` (the lengths of the vector itself and its names must match!). For instance: "
   ]
  },
  {
   "cell_type": "code",
   "execution_count": 9,
   "metadata": {
    "collapsed": false
   },
   "outputs": [
    {
     "name": "stdout",
     "output_type": "stream",
     "text": [
      "Opx Cpx  Pl \n",
      "  3  15  27 \n"
     ]
    }
   ],
   "source": [
    "x <- c(3,15,27)\n",
    "names(x) <- c(\"Opx\",\"Cpx\",\"Pl\") \n",
    "print(x)"
   ]
  },
  {
   "cell_type": "markdown",
   "metadata": {},
   "source": [
    "### 1.3.4\tGenerating regular sequences\n",
    "Regular sequences with step 1 or -1 can be generated using the colon operator (`:`). This operator has the highest priority within an expression, higher than the other ones (`+-*/^`)."
   ]
  },
  {
   "cell_type": "code",
   "execution_count": 10,
   "metadata": {
    "collapsed": false
   },
   "outputs": [
    {
     "data": {
      "text/html": [
       "<ol class=list-inline>\n",
       "\t<li>1</li>\n",
       "\t<li>2</li>\n",
       "\t<li>3</li>\n",
       "\t<li>4</li>\n",
       "\t<li>5</li>\n",
       "\t<li>6</li>\n",
       "\t<li>7</li>\n",
       "\t<li>8</li>\n",
       "\t<li>9</li>\n",
       "</ol>\n"
      ],
      "text/latex": [
       "\\begin{enumerate*}\n",
       "\\item 1\n",
       "\\item 2\n",
       "\\item 3\n",
       "\\item 4\n",
       "\\item 5\n",
       "\\item 6\n",
       "\\item 7\n",
       "\\item 8\n",
       "\\item 9\n",
       "\\end{enumerate*}\n"
      ],
      "text/markdown": [
       "1. 1\n",
       "2. 2\n",
       "3. 3\n",
       "4. 4\n",
       "5. 5\n",
       "6. 6\n",
       "7. 7\n",
       "8. 8\n",
       "9. 9\n",
       "\n",
       "\n"
      ],
      "text/plain": [
       "[1] 1 2 3 4 5 6 7 8 9"
      ]
     },
     "execution_count": 10,
     "metadata": {},
     "output_type": "execute_result"
    },
    {
     "data": {
      "text/html": [
       "<ol class=list-inline>\n",
       "\t<li>9</li>\n",
       "\t<li>8</li>\n",
       "\t<li>7</li>\n",
       "\t<li>6</li>\n",
       "\t<li>5</li>\n",
       "\t<li>4</li>\n",
       "\t<li>3</li>\n",
       "\t<li>2</li>\n",
       "\t<li>1</li>\n",
       "</ol>\n"
      ],
      "text/latex": [
       "\\begin{enumerate*}\n",
       "\\item 9\n",
       "\\item 8\n",
       "\\item 7\n",
       "\\item 6\n",
       "\\item 5\n",
       "\\item 4\n",
       "\\item 3\n",
       "\\item 2\n",
       "\\item 1\n",
       "\\end{enumerate*}\n"
      ],
      "text/markdown": [
       "1. 9\n",
       "2. 8\n",
       "3. 7\n",
       "4. 6\n",
       "5. 5\n",
       "6. 4\n",
       "7. 3\n",
       "8. 2\n",
       "9. 1\n",
       "\n",
       "\n"
      ],
      "text/plain": [
       "[1] 9 8 7 6 5 4 3 2 1"
      ]
     },
     "execution_count": 10,
     "metadata": {},
     "output_type": "execute_result"
    },
    {
     "data": {
      "text/html": [
       "<ol class=list-inline>\n",
       "\t<li>2</li>\n",
       "\t<li>4</li>\n",
       "\t<li>6</li>\n",
       "\t<li>8</li>\n",
       "\t<li>10</li>\n",
       "\t<li>12</li>\n",
       "\t<li>14</li>\n",
       "\t<li>16</li>\n",
       "\t<li>18</li>\n",
       "</ol>\n"
      ],
      "text/latex": [
       "\\begin{enumerate*}\n",
       "\\item 2\n",
       "\\item 4\n",
       "\\item 6\n",
       "\\item 8\n",
       "\\item 10\n",
       "\\item 12\n",
       "\\item 14\n",
       "\\item 16\n",
       "\\item 18\n",
       "\\end{enumerate*}\n"
      ],
      "text/markdown": [
       "1. 2\n",
       "2. 4\n",
       "3. 6\n",
       "4. 8\n",
       "5. 10\n",
       "6. 12\n",
       "7. 14\n",
       "8. 16\n",
       "9. 18\n",
       "\n",
       "\n"
      ],
      "text/plain": [
       "[1]  2  4  6  8 10 12 14 16 18"
      ]
     },
     "execution_count": 10,
     "metadata": {},
     "output_type": "execute_result"
    },
    {
     "data": {
      "text/html": [
       "<ol class=list-inline>\n",
       "\t<li>1</li>\n",
       "\t<li>2</li>\n",
       "\t<li>3</li>\n",
       "\t<li>4</li>\n",
       "\t<li>5</li>\n",
       "\t<li>6</li>\n",
       "\t<li>7</li>\n",
       "\t<li>8</li>\n",
       "\t<li>9</li>\n",
       "\t<li>10</li>\n",
       "\t<li>11</li>\n",
       "\t<li>12</li>\n",
       "\t<li>13</li>\n",
       "\t<li>14</li>\n",
       "\t<li>15</li>\n",
       "\t<li>16</li>\n",
       "\t<li>17</li>\n",
       "\t<li>18</li>\n",
       "</ol>\n"
      ],
      "text/latex": [
       "\\begin{enumerate*}\n",
       "\\item 1\n",
       "\\item 2\n",
       "\\item 3\n",
       "\\item 4\n",
       "\\item 5\n",
       "\\item 6\n",
       "\\item 7\n",
       "\\item 8\n",
       "\\item 9\n",
       "\\item 10\n",
       "\\item 11\n",
       "\\item 12\n",
       "\\item 13\n",
       "\\item 14\n",
       "\\item 15\n",
       "\\item 16\n",
       "\\item 17\n",
       "\\item 18\n",
       "\\end{enumerate*}\n"
      ],
      "text/markdown": [
       "1. 1\n",
       "2. 2\n",
       "3. 3\n",
       "4. 4\n",
       "5. 5\n",
       "6. 6\n",
       "7. 7\n",
       "8. 8\n",
       "9. 9\n",
       "10. 10\n",
       "11. 11\n",
       "12. 12\n",
       "13. 13\n",
       "14. 14\n",
       "15. 15\n",
       "16. 16\n",
       "17. 17\n",
       "18. 18\n",
       "\n",
       "\n"
      ],
      "text/plain": [
       " [1]  1  2  3  4  5  6  7  8  9 10 11 12 13 14 15 16 17 18"
      ]
     },
     "execution_count": 10,
     "metadata": {},
     "output_type": "execute_result"
    }
   ],
   "source": [
    "1:9\n",
    "9:1\n",
    "1:9*2\n",
    "1:(9*2)"
   ]
  },
  {
   "cell_type": "markdown",
   "metadata": {},
   "source": [
    "##### seq(from, to, by)\n",
    "Yields a sequence of numbers with an arbitrary step (`by`):"
   ]
  },
  {
   "cell_type": "code",
   "execution_count": 11,
   "metadata": {
    "collapsed": false
   },
   "outputs": [
    {
     "data": {
      "text/html": [
       "<ol class=list-inline>\n",
       "\t<li>30</li>\n",
       "\t<li>28</li>\n",
       "\t<li>26</li>\n",
       "\t<li>24</li>\n",
       "\t<li>22</li>\n",
       "</ol>\n"
      ],
      "text/latex": [
       "\\begin{enumerate*}\n",
       "\\item 30\n",
       "\\item 28\n",
       "\\item 26\n",
       "\\item 24\n",
       "\\item 22\n",
       "\\end{enumerate*}\n"
      ],
      "text/markdown": [
       "1. 30\n",
       "2. 28\n",
       "3. 26\n",
       "4. 24\n",
       "5. 22\n",
       "\n",
       "\n"
      ],
      "text/plain": [
       "[1] 30 28 26 24 22"
      ]
     },
     "execution_count": 11,
     "metadata": {},
     "output_type": "execute_result"
    }
   ],
   "source": [
    "seq(30, 22, -2)"
   ]
  },
  {
   "cell_type": "markdown",
   "metadata": {},
   "source": [
    "#### rep(x, times)\n",
    "Repeats the argument x specified number of `times`:"
   ]
  },
  {
   "cell_type": "code",
   "execution_count": 12,
   "metadata": {
    "collapsed": false
   },
   "outputs": [
    {
     "data": {
      "text/html": [
       "<ol class=list-inline>\n",
       "\t<li>3</li>\n",
       "\t<li>9</li>\n",
       "\t<li>3</li>\n",
       "\t<li>9</li>\n",
       "\t<li>3</li>\n",
       "\t<li>9</li>\n",
       "\t<li>3</li>\n",
       "\t<li>9</li>\n",
       "\t<li>3</li>\n",
       "\t<li>9</li>\n",
       "</ol>\n"
      ],
      "text/latex": [
       "\\begin{enumerate*}\n",
       "\\item 3\n",
       "\\item 9\n",
       "\\item 3\n",
       "\\item 9\n",
       "\\item 3\n",
       "\\item 9\n",
       "\\item 3\n",
       "\\item 9\n",
       "\\item 3\n",
       "\\item 9\n",
       "\\end{enumerate*}\n"
      ],
      "text/markdown": [
       "1. 3\n",
       "2. 9\n",
       "3. 3\n",
       "4. 9\n",
       "5. 3\n",
       "6. 9\n",
       "7. 3\n",
       "8. 9\n",
       "9. 3\n",
       "10. 9\n",
       "\n",
       "\n"
      ],
      "text/plain": [
       " [1] 3 9 3 9 3 9 3 9 3 9"
      ]
     },
     "execution_count": 12,
     "metadata": {},
     "output_type": "execute_result"
    }
   ],
   "source": [
    "x <- c(3,9)\n",
    "rep(x, 5)"
   ]
  },
  {
   "cell_type": "markdown",
   "metadata": {},
   "source": [
    "### 1.3.5\tFunctions to manipulate numeric vectors\n",
    "The R language contains a number of functions. Only those most important for manipulation of numeric vectors are presented in the following Table. Information about others and the whole range of available parameters can be found in the R documentation."
   ]
  },
  {
   "cell_type": "markdown",
   "metadata": {},
   "source": [
    "<table>\n",
    "    <tr>\n",
    "    <th>Function</th>\n",
    "    <th>Meaning</th>\n",
    "    </tr>\n",
    "    <tr><td>`abs(x)`</td><td>absolute value</td></tr>\n",
    "    <tr><td>`sqrt(x)`</td><td>square root</td></tr>\n",
    "    <tr><td>`log(x)` </td><td>natural logarithm</td></tr>\n",
    "    <tr><td>`log10(x)`</td><td>common (base 10) logarithm</td></tr>\n",
    "    <tr><td>`log(x,base)`</td><td>logarithm of the given base</td></tr>\n",
    "    <tr><td>`exp(x)`</td><td>exponential function</td></tr>\n",
    "    <tr><td>`sin(x)`, `cos(x)`, `tan(x)` </td><td>trigonometric functions</td></tr>\n",
    "    <tr><td>`min(x)` </td><td>minimum</td></tr>\n",
    "    <tr><td>`max(x)` </td><td>maximum</td></tr>\n",
    "    <tr><td>`which.min(x)`</td><td>index of the minimal element of a vector</td></tr>\n",
    "    <tr><td>`which.max(x)`   </td><td>index of the maximal element of a vector</td></tr>\n",
    "    <tr><td>`range(x)`   </td><td>range of elements in `x`; equals to `c(min(x),max(x))`</td></tr>\n",
    "    <tr><td>`length(x)`  </td><td>number of elements (= length) of a vector</td></tr>\n",
    "    <tr><td>`rev(x)` </td><td>reverses the order of elements in a vector</td></tr>\n",
    "    <tr><td>`sort(x)`</td><td>sorts elements of a vector (ascending)</td></tr>\n",
    "    <tr><td>`rev(sort(x))`   </td><td>sorts elements of a vector (descending)</td></tr>\n",
    "    <tr><td>`round(x,n)` </td><td>rounds elements of a vector to `n` decimal places</td></tr>\n",
    "    <tr><td>`sum(x)` </td><td>sum of the elements of a vector</td></tr>\n",
    "    <tr><td>`mean(x)`</td><td>mean of the elements of a vector</td></tr>\n",
    "    <tr><td>`prod(x)`</td><td>product of the elements of a vector</td></tr>\n",
    "</table>"
   ]
  },
  {
   "cell_type": "markdown",
   "metadata": {},
   "source": [
    "## 1.4\tCharacter vectors\n",
    "Character vectors are collections of text strings, i.e. sequences of characters delimited by the double quote symbol, e.g., `\"granite\"`. They use backslash as the escape sequence for special characters, including `\"\\t\"` – tab and `\"\\n\"` – new line."
   ]
  },
  {
   "cell_type": "markdown",
   "metadata": {},
   "source": [
    "#### paste(x, y,…, sep = \"\")\n",
    "Merges two (or more) character vectors, one by one, the elements being separated by string `sep`:"
   ]
  },
  {
   "cell_type": "code",
   "execution_count": 13,
   "metadata": {
    "collapsed": false
   },
   "outputs": [
    {
     "data": {
      "text/html": [
       "\"Gabbro with olivine and with pyroxene\""
      ],
      "text/latex": [
       "\"Gabbro with olivine and with pyroxene\""
      ],
      "text/markdown": [
       "\"Gabbro with olivine and with pyroxene\""
      ],
      "text/plain": [
       "[1] \"Gabbro with olivine and with pyroxene\""
      ]
     },
     "execution_count": 13,
     "metadata": {},
     "output_type": "execute_result"
    }
   ],
   "source": [
    "paste(\"Gabbro\",\"olivine and\",\"pyroxene\",sep=\" with \")"
   ]
  },
  {
   "cell_type": "markdown",
   "metadata": {},
   "source": [
    "#### substring(x, start, stop)\n",
    "Extracts a part of vector x starting at position `first` and ending at `last`:"
   ]
  },
  {
   "cell_type": "code",
   "execution_count": 14,
   "metadata": {
    "collapsed": false
   },
   "outputs": [
    {
     "data": {
      "text/html": [
       "<ol class=list-inline>\n",
       "\t<li>\"Plag\"</li>\n",
       "\t<li>\"Biot\"</li>\n",
       "\t<li>\"Musc\"</li>\n",
       "</ol>\n"
      ],
      "text/latex": [
       "\\begin{enumerate*}\n",
       "\\item \"Plag\"\n",
       "\\item \"Biot\"\n",
       "\\item \"Musc\"\n",
       "\\end{enumerate*}\n"
      ],
      "text/markdown": [
       "1. \"Plag\"\n",
       "2. \"Biot\"\n",
       "3. \"Musc\"\n",
       "\n",
       "\n"
      ],
      "text/plain": [
       "[1] \"Plag\" \"Biot\" \"Musc\""
      ]
     },
     "execution_count": 14,
     "metadata": {},
     "output_type": "execute_result"
    }
   ],
   "source": [
    "x <- c(\"Plagioclase\",\"Biotite\",\"Muscovite\")\n",
    "substring(x,1,4)"
   ]
  },
  {
   "cell_type": "markdown",
   "metadata": {},
   "source": [
    "#### strsplit(x, split)\n",
    "Splits the strings in `x` into substrings based on the presence of `split`. Returns a list (see below):"
   ]
  },
  {
   "cell_type": "code",
   "execution_count": 15,
   "metadata": {
    "collapsed": false
   },
   "outputs": [
    {
     "data": {
      "text/html": [
       "<ol>\n",
       "\t<li><ol class=list-inline>\n",
       "\t<li>\"Pl\"</li>\n",
       "\t<li>\"giocl\"</li>\n",
       "\t<li>\"se\"</li>\n",
       "</ol>\n",
       "</li>\n",
       "\t<li><ol class=list-inline>\n",
       "\t<li>\"K-feldsp\"</li>\n",
       "\t<li>\"r\"</li>\n",
       "</ol>\n",
       "</li>\n",
       "</ol>\n"
      ],
      "text/latex": [
       "\\begin{enumerate}\n",
       "\\item \\begin{enumerate*}\n",
       "\\item \"Pl\"\n",
       "\\item \"giocl\"\n",
       "\\item \"se\"\n",
       "\\end{enumerate*}\n",
       "\n",
       "\\item \\begin{enumerate*}\n",
       "\\item \"K-feldsp\"\n",
       "\\item \"r\"\n",
       "\\end{enumerate*}\n",
       "\n",
       "\\end{enumerate}\n"
      ],
      "text/markdown": [
       "1. 1. \"Pl\"\n",
       "2. \"giocl\"\n",
       "3. \"se\"\n",
       "\n",
       "\n",
       "\n",
       "2. 1. \"K-feldsp\"\n",
       "2. \"r\"\n",
       "\n",
       "\n",
       "\n",
       "\n",
       "\n"
      ],
      "text/plain": [
       "[[1]]\n",
       "[1] \"Pl\"    \"giocl\" \"se\"   \n",
       "\n",
       "[[2]]\n",
       "[1] \"K-feldsp\" \"r\"       \n"
      ]
     },
     "execution_count": 15,
     "metadata": {},
     "output_type": "execute_result"
    }
   ],
   "source": [
    "x <- c(\"Plagioclase\",\"K-feldspar\")\n",
    "strsplit(x,\"a\")"
   ]
  },
  {
   "cell_type": "markdown",
   "metadata": {},
   "source": [
    "## 1.5\tLogical vectors\n",
    "Logical vectors consist of elements that can attain only two logical values:\n",
    "`TRUE` or `FALSE`. These can be abbreviated as `T` and `F`, respectively.\n",
    "\n",
    "<img src=\"warning-icon.png\" style=\"float:left;width:32px;height:32px;\">\n",
    "In the R language, the symbol name `F` is reserved as an abbreviation for logical `FALSE`. For this reason, it is not advisable to name any variable `F`. The same applies, of course, to `T`. \n",
    "\n",
    "### 1.5.1\tLogical operators\n",
    "The logical vectors are typically produced by comparisons using operators < (smaller than) <= (smaller or equal to) > (greater than) >= (greater or equal to) == (equals to) != (does not equal to). For instance:"
   ]
  },
  {
   "cell_type": "code",
   "execution_count": 16,
   "metadata": {
    "collapsed": false
   },
   "outputs": [
    {
     "data": {
      "text/html": [
       "<ol class=list-inline>\n",
       "\t<li>FALSE</li>\n",
       "\t<li>FALSE</li>\n",
       "\t<li>TRUE</li>\n",
       "\t<li>TRUE</li>\n",
       "\t<li>FALSE</li>\n",
       "\t<li>FALSE</li>\n",
       "</ol>\n"
      ],
      "text/latex": [
       "\\begin{enumerate*}\n",
       "\\item FALSE\n",
       "\\item FALSE\n",
       "\\item TRUE\n",
       "\\item TRUE\n",
       "\\item FALSE\n",
       "\\item FALSE\n",
       "\\end{enumerate*}\n"
      ],
      "text/markdown": [
       "1. FALSE\n",
       "2. FALSE\n",
       "3. TRUE\n",
       "4. TRUE\n",
       "5. FALSE\n",
       "6. FALSE\n",
       "\n",
       "\n"
      ],
      "text/plain": [
       "[1] FALSE FALSE  TRUE  TRUE FALSE FALSE"
      ]
     },
     "execution_count": 16,
     "metadata": {},
     "output_type": "execute_result"
    }
   ],
   "source": [
    "x <- c(1,12,15,16,13,0)\n",
    "x > 13"
   ]
  },
  {
   "cell_type": "markdown",
   "metadata": {},
   "source": [
    "The result can be assigned to a vector of the mode logical:"
   ]
  },
  {
   "cell_type": "code",
   "execution_count": 17,
   "metadata": {
    "collapsed": false
   },
   "outputs": [
    {
     "data": {
      "text/html": [
       "<ol class=list-inline>\n",
       "\t<li>FALSE</li>\n",
       "\t<li>FALSE</li>\n",
       "\t<li>TRUE</li>\n",
       "\t<li>TRUE</li>\n",
       "\t<li>FALSE</li>\n",
       "\t<li>FALSE</li>\n",
       "</ol>\n"
      ],
      "text/latex": [
       "\\begin{enumerate*}\n",
       "\\item FALSE\n",
       "\\item FALSE\n",
       "\\item TRUE\n",
       "\\item TRUE\n",
       "\\item FALSE\n",
       "\\item FALSE\n",
       "\\end{enumerate*}\n"
      ],
      "text/markdown": [
       "1. FALSE\n",
       "2. FALSE\n",
       "3. TRUE\n",
       "4. TRUE\n",
       "5. FALSE\n",
       "6. FALSE\n",
       "\n",
       "\n"
      ],
      "text/plain": [
       "[1] FALSE FALSE  TRUE  TRUE FALSE FALSE"
      ]
     },
     "execution_count": 17,
     "metadata": {},
     "output_type": "execute_result"
    }
   ],
   "source": [
    "temp <- x>13\n",
    "temp"
   ]
  },
  {
   "cell_type": "markdown",
   "metadata": {},
   "source": [
    "Boolean arithmetic combines two or more logical conditions using the logical operators: `and(&)`, `or(|)`, `not(!)` with or without  brackets:"
   ]
  },
  {
   "cell_type": "code",
   "execution_count": 18,
   "metadata": {
    "collapsed": false
   },
   "outputs": [
    {
     "data": {
      "text/html": [
       "<ol class=list-inline>\n",
       "\t<li>FALSE</li>\n",
       "\t<li>TRUE</li>\n",
       "\t<li>TRUE</li>\n",
       "\t<li>TRUE</li>\n",
       "\t<li>TRUE</li>\n",
       "\t<li>FALSE</li>\n",
       "</ol>\n"
      ],
      "text/latex": [
       "\\begin{enumerate*}\n",
       "\\item FALSE\n",
       "\\item TRUE\n",
       "\\item TRUE\n",
       "\\item TRUE\n",
       "\\item TRUE\n",
       "\\item FALSE\n",
       "\\end{enumerate*}\n"
      ],
      "text/markdown": [
       "1. FALSE\n",
       "2. TRUE\n",
       "3. TRUE\n",
       "4. TRUE\n",
       "5. TRUE\n",
       "6. FALSE\n",
       "\n",
       "\n"
      ],
      "text/plain": [
       "[1] FALSE  TRUE  TRUE  TRUE  TRUE FALSE"
      ]
     },
     "execution_count": 18,
     "metadata": {},
     "output_type": "execute_result"
    },
    {
     "data": {
      "text/html": [
       "<ol class=list-inline>\n",
       "\t<li>TRUE</li>\n",
       "\t<li>TRUE</li>\n",
       "\t<li>FALSE</li>\n",
       "\t<li>FALSE</li>\n",
       "\t<li>TRUE</li>\n",
       "\t<li>TRUE</li>\n",
       "</ol>\n"
      ],
      "text/latex": [
       "\\begin{enumerate*}\n",
       "\\item TRUE\n",
       "\\item TRUE\n",
       "\\item FALSE\n",
       "\\item FALSE\n",
       "\\item TRUE\n",
       "\\item TRUE\n",
       "\\end{enumerate*}\n"
      ],
      "text/markdown": [
       "1. TRUE\n",
       "2. TRUE\n",
       "3. FALSE\n",
       "4. FALSE\n",
       "5. TRUE\n",
       "6. TRUE\n",
       "\n",
       "\n"
      ],
      "text/plain": [
       "[1]  TRUE  TRUE FALSE FALSE  TRUE  TRUE"
      ]
     },
     "execution_count": 18,
     "metadata": {},
     "output_type": "execute_result"
    }
   ],
   "source": [
    "x <- c(1,12,15,16,13,0)\n",
    "c1 <- x>10\n",
    "c2 <- x<15\n",
    "c1\n",
    "c2"
   ]
  },
  {
   "cell_type": "code",
   "execution_count": 19,
   "metadata": {
    "collapsed": false
   },
   "outputs": [
    {
     "data": {
      "text/html": [
       "<ol class=list-inline>\n",
       "\t<li>FALSE</li>\n",
       "\t<li>TRUE</li>\n",
       "\t<li>FALSE</li>\n",
       "\t<li>FALSE</li>\n",
       "\t<li>TRUE</li>\n",
       "\t<li>FALSE</li>\n",
       "</ol>\n"
      ],
      "text/latex": [
       "\\begin{enumerate*}\n",
       "\\item FALSE\n",
       "\\item TRUE\n",
       "\\item FALSE\n",
       "\\item FALSE\n",
       "\\item TRUE\n",
       "\\item FALSE\n",
       "\\end{enumerate*}\n"
      ],
      "text/markdown": [
       "1. FALSE\n",
       "2. TRUE\n",
       "3. FALSE\n",
       "4. FALSE\n",
       "5. TRUE\n",
       "6. FALSE\n",
       "\n",
       "\n"
      ],
      "text/plain": [
       "[1] FALSE  TRUE FALSE FALSE  TRUE FALSE"
      ]
     },
     "execution_count": 19,
     "metadata": {},
     "output_type": "execute_result"
    }
   ],
   "source": [
    "c1 & c2 # logical \"and\""
   ]
  },
  {
   "cell_type": "code",
   "execution_count": 20,
   "metadata": {
    "collapsed": false
   },
   "outputs": [
    {
     "data": {
      "text/html": [
       "<ol class=list-inline>\n",
       "\t<li>TRUE</li>\n",
       "\t<li>TRUE</li>\n",
       "\t<li>TRUE</li>\n",
       "\t<li>TRUE</li>\n",
       "\t<li>TRUE</li>\n",
       "\t<li>TRUE</li>\n",
       "</ol>\n"
      ],
      "text/latex": [
       "\\begin{enumerate*}\n",
       "\\item TRUE\n",
       "\\item TRUE\n",
       "\\item TRUE\n",
       "\\item TRUE\n",
       "\\item TRUE\n",
       "\\item TRUE\n",
       "\\end{enumerate*}\n"
      ],
      "text/markdown": [
       "1. TRUE\n",
       "2. TRUE\n",
       "3. TRUE\n",
       "4. TRUE\n",
       "5. TRUE\n",
       "6. TRUE\n",
       "\n",
       "\n"
      ],
      "text/plain": [
       "[1] TRUE TRUE TRUE TRUE TRUE TRUE"
      ]
     },
     "execution_count": 20,
     "metadata": {},
     "output_type": "execute_result"
    }
   ],
   "source": [
    "c1 | c2 # logical \"or\""
   ]
  },
  {
   "cell_type": "code",
   "execution_count": 21,
   "metadata": {
    "collapsed": false
   },
   "outputs": [
    {
     "data": {
      "text/html": [
       "<ol class=list-inline>\n",
       "\t<li>FALSE</li>\n",
       "\t<li>TRUE</li>\n",
       "\t<li>TRUE</li>\n",
       "\t<li>TRUE</li>\n",
       "\t<li>TRUE</li>\n",
       "\t<li>FALSE</li>\n",
       "</ol>\n"
      ],
      "text/latex": [
       "\\begin{enumerate*}\n",
       "\\item FALSE\n",
       "\\item TRUE\n",
       "\\item TRUE\n",
       "\\item TRUE\n",
       "\\item TRUE\n",
       "\\item FALSE\n",
       "\\end{enumerate*}\n"
      ],
      "text/markdown": [
       "1. FALSE\n",
       "2. TRUE\n",
       "3. TRUE\n",
       "4. TRUE\n",
       "5. TRUE\n",
       "6. FALSE\n",
       "\n",
       "\n"
      ],
      "text/plain": [
       "[1] FALSE  TRUE  TRUE  TRUE  TRUE FALSE"
      ]
     },
     "execution_count": 21,
     "metadata": {},
     "output_type": "execute_result"
    }
   ],
   "source": [
    "c1 # negation"
   ]
  },
  {
   "cell_type": "markdown",
   "metadata": {},
   "source": [
    "### 1.5.2\tMissing values (NA, NaN)\n",
    "Within R, missing data are represented by a special value `NA` (not available). Some operations which give no meaningful result in the circumstances will return its special form, `NaN` (not a number). Moreover, division by zero gives +∞ (`Inf`)."
   ]
  },
  {
   "cell_type": "code",
   "execution_count": 22,
   "metadata": {
    "collapsed": false
   },
   "outputs": [
    {
     "name": "stderr",
     "output_type": "stream",
     "text": [
      "Warning message:\n",
      "In sqrt(-15): NaNs produced"
     ]
    },
    {
     "data": {
      "text/html": [
       "NaN"
      ],
      "text/latex": [
       "NaN"
      ],
      "text/markdown": [
       "NaN"
      ],
      "text/plain": [
       "[1] NaN"
      ]
     },
     "execution_count": 22,
     "metadata": {},
     "output_type": "execute_result"
    }
   ],
   "source": [
    "sqrt(-15)"
   ]
  },
  {
   "cell_type": "code",
   "execution_count": 23,
   "metadata": {
    "collapsed": false
   },
   "outputs": [
    {
     "data": {
      "text/html": [
       "Inf"
      ],
      "text/latex": [
       "Inf"
      ],
      "text/markdown": [
       "Inf"
      ],
      "text/plain": [
       "[1] Inf"
      ]
     },
     "execution_count": 23,
     "metadata": {},
     "output_type": "execute_result"
    }
   ],
   "source": [
    "1/0"
   ]
  },
  {
   "cell_type": "markdown",
   "metadata": {},
   "source": [
    "#### is.na(x)\n",
    "Tests for the presence of missing values in each of the elements of the vector `x`:\n"
   ]
  },
  {
   "cell_type": "code",
   "execution_count": 24,
   "metadata": {
    "collapsed": false
   },
   "outputs": [
    {
     "name": "stderr",
     "output_type": "stream",
     "text": [
      "Warning message:\n",
      "In sqrt(x): NaNs produced"
     ]
    },
    {
     "data": {
      "text/html": [
       "<ol class=list-inline>\n",
       "\t<li>FALSE</li>\n",
       "\t<li>FALSE</li>\n",
       "\t<li>TRUE</li>\n",
       "\t<li>FALSE</li>\n",
       "\t<li>TRUE</li>\n",
       "\t<li>TRUE</li>\n",
       "</ol>\n"
      ],
      "text/latex": [
       "\\begin{enumerate*}\n",
       "\\item FALSE\n",
       "\\item FALSE\n",
       "\\item TRUE\n",
       "\\item FALSE\n",
       "\\item TRUE\n",
       "\\item TRUE\n",
       "\\end{enumerate*}\n"
      ],
      "text/markdown": [
       "1. FALSE\n",
       "2. FALSE\n",
       "3. TRUE\n",
       "4. FALSE\n",
       "5. TRUE\n",
       "6. TRUE\n",
       "\n",
       "\n"
      ],
      "text/plain": [
       "[1] FALSE FALSE  TRUE FALSE  TRUE  TRUE"
      ]
     },
     "execution_count": 24,
     "metadata": {},
     "output_type": "execute_result"
    }
   ],
   "source": [
    "x <- c(5,9,-4,12,-6,-7)\n",
    "is.na(sqrt(x))"
   ]
  }
 ],
 "metadata": {
  "kernelspec": {
   "display_name": "R",
   "language": "R",
   "name": "ir"
  },
  "language_info": {
   "codemirror_mode": "r",
   "file_extension": ".r",
   "mimetype": "text/x-r-source",
   "name": "R",
   "pygments_lexer": "r",
   "version": "3.2.1"
  }
 },
 "nbformat": 4,
 "nbformat_minor": 0
}
