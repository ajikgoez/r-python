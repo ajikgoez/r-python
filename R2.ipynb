{
 "cells": [
  {
   "cell_type": "markdown",
   "metadata": {},
   "source": [
    "# R syntax in a nutshell – Part I\n",
    "\n",
    "Here we give an overview of the syntax and basic usage of the R language. We describe how to start and stop an R session, obtain help and find documentation. An account of the main object types and their manipulation in direct (i.e. command line) mode is followed by text on arguably the strongest point—graphics. The Appendix is closed by a section on writing true R programs (batch mode). \n",
    "\n",
    "The text is partly based on the pdf manual *An Introduction to R*, available from the `Help` menu.\n",
    "\n",
    "Apart from the help system and pdf manuals included with the R distribution, the reader can find additional information in an increasing number of books and web sites.\n",
    "\n",
    "Importantly, information concerning the current state of the R project, binaries, source codes and documentation are obtainable from the R project website (http://www.r-project.org) and the Comprehensive R Archive Network (CRAN) (http://cran.r-project.org). CRAN, which is mirrored at many servers worldwide, also provides a distribution channel for user-contributed packages that add new functionality to the core of the R system."
   ]
  },
  {
   "cell_type": "markdown",
   "metadata": {
    "collapsed": false,
    "scrolled": true
   },
   "source": [
    "## 1.1 Basic operations\n",
    "### 1.1.1 Starting and terminating the R session\n",
    "In Windows, double clicking the file 'RGUI.EXE' or the associated shortcut opens the `R Console`, a text window for the entry of commands and display of textual output. The system prints a number of messages, the most important of which is the last line with a prompt, showing that the R environment is awaiting commands. Apart from the R Console, one or more windows for graphical output and help pages may be displayed.\n",
    "\n",
    "To end an R session, one can invoke the menu item `File|Exit` or type `q()`. Alternatively, one can terminate the session by closing the R Console window. "
   ]
  },
  {
   "cell_type": "markdown",
   "metadata": {},
   "source": [
    "### 1.1.2\tSeeking help and documentation\n",
    "The R environment provides help in several forms—including plain text (dis-played in the Console) or HTML (viewed using a web browser). \n",
    "An HTML browsable help window can be obtained from the menu `Help|R language (html)` or by `help.start()`."
   ]
  },
  {
   "cell_type": "code",
   "execution_count": null,
   "metadata": {
    "collapsed": false
   },
   "outputs": [],
   "source": [
    "# help(plot)    # text help on a function called ‘plot’\n",
    "# ?plot         # equivalent, a shortcut"
   ]
  },
  {
   "cell_type": "code",
   "execution_count": null,
   "metadata": {
    "collapsed": false
   },
   "outputs": [],
   "source": [
    "apropos(\"plot\")   # Commands related to ‘plot’:"
   ]
  },
  {
   "cell_type": "code",
   "execution_count": null,
   "metadata": {
    "collapsed": false
   },
   "outputs": [],
   "source": [
    "example(plot)  # Examples of correct usage of ‘plot’"
   ]
  },
  {
   "cell_type": "markdown",
   "metadata": {},
   "source": [
    "The R language is distributed together with PDF documents, which can be invoked from the menu  `Help|Manuals`. There are several documents available, including ‘Writing R Extensions’, ‘R Data Import/Export’, ‘The R Language Definition’ and ‘R Installation and Administration’. At this stage the most appropriate will be ‘An Introduction to R’ which outlines the basics of the R language. \n",
    "\n",
    "The R Journal, an open access refereed journal, features short to medium length articles on various R applications, R programming and add-on packages. The community meets at annual useR! conferences. Moreover, there exist e-mail discussion groups dedicated to help users (R-help), to announce new versions and further progress in the R project (R-announce, R-packages) and to facilitate communication among developers (R-devel). Further information, including the archive of the e-mail discussion groups, is available on CRAN.\n",
    "\n",
    "Lastly, there exist numerous blogs dedicated to the R project, most of them accessible from the R-bloggers web page (http://www.r-bloggers.com).  A useful starting point to search for a topic is RSeek (http://www.rseek.org).\n"
   ]
  },
  {
   "cell_type": "markdown",
   "metadata": {},
   "source": [
    "## 1.2\tFundamental objects of the R language\n",
    "### 1.2.1\tCommands\n",
    "The R environment can be utilized in direct mode, typing commands straight into the Console and getting an immediate response. Alternatively, the whole R code can be prepared in advance as a plain text file and run at once in batch mode. The commands (functions) in R are entered either individually, each on a single line, or are separated by a semicolon(`;`). More complex statements consisting of several lines of code are enclosed in braces `{}`. Each command is followed by brackets with parameters (or empty, if none are required or default values are desired). Typing just the command name returns a listing of the function’s definition.\n",
    "\n",
    "he R language is case sensitive. Commands are typed in lowercase and the environment distinguishes between lower and upper case letters in variable names. The latter cannot start with a digit and may contain any symbols apart from the hash mark (`#`). Note however that it is not wise to use, for instance, accented characters.\n",
    "It is also important to note that several words are reserved by the system and cannot be used as variable names. For details, see `?Reserved`."
   ]
  },
  {
   "cell_type": "markdown",
   "metadata": {},
   "source": [
    "#### Direct mode\n",
    "In the simplest case, commands are entered and the result displayed:"
   ]
  },
  {
   "cell_type": "code",
   "execution_count": null,
   "metadata": {
    "collapsed": false
   },
   "outputs": [],
   "source": [
    "(15+6)*3"
   ]
  },
  {
   "cell_type": "markdown",
   "metadata": {},
   "source": [
    "The numerical values can be assigned to a named variable. Perhaps confusingly, R does not use `=` as an assignment operator. Instead, an arrow `<–` is implemented, corresponding to a combination of `<` (less than) and `-` (minus) characters. "
   ]
  },
  {
   "cell_type": "code",
   "execution_count": null,
   "metadata": {
    "collapsed": true
   },
   "outputs": [],
   "source": [
    "x <- 5"
   ]
  },
  {
   "cell_type": "markdown",
   "metadata": {},
   "source": [
    "In direct mode, the content of a variable is displayed by typing its name:"
   ]
  },
  {
   "cell_type": "code",
   "execution_count": null,
   "metadata": {
    "collapsed": false
   },
   "outputs": [],
   "source": [
    "x"
   ]
  },
  {
   "cell_type": "markdown",
   "metadata": {},
   "source": [
    "If an incomplete command is entered, R displays a prompt “+” giving the opportunity to add what is needed. \n",
    "```R\n",
    "> (15+6\n",
    "+ )*3\n",
    "```"
   ]
  },
  {
   "cell_type": "markdown",
   "metadata": {},
   "source": [
    "####  Batch mode\n",
    "A sequence of R commands or program can also be prepared beforehand in the form of plain text file. This can be written by any editor ranging from Notepad, to more sophisticated word processors. In the latter case the file may need to be ex-ported as Plain/ASCII text. However, the most useful seem to be text editors designed especially for programmers as they often provide extra functionality such as line numbering, syntax checking/highlighting and brackets matching (WinEdt, Tinn-R, Notepad++, etc.)\n",
    "\n",
    "Commonly used suffixes for R program scripts are `r` or `R`. The script can be run from the menu `File|Source R code` or using the command `source`:\n",
    "```R\n",
    "source(\"myprogram.r\") \n",
    "```\n",
    "\n",
    "The program can be stopped by pressing the Esc key or from the menu Misc| Stop current computation. Optional comments start by a hash mark: \n",
    "```R\n",
    "# My comment\n",
    "```\n",
    "Note that in batch mode the content of a variable must be displayed using the commands `print` or `cat`. Unlike in direct mode, typing the mere variable name does not suffice here."
   ]
  },
  {
   "cell_type": "markdown",
   "metadata": {},
   "source": [
    "### 1.2.2\tHandling objects in memory\n",
    "R stores data using a variety of object types including vectors, arrays, matrices (two-dimensional arrays), factors, data frames, lists and functions. \n",
    "\n",
    "<table>\n",
    "    <tr>\n",
    "        <th>Object</th><th>Characteristics</th><th>Possible modes</th><th>Can have several modes?</th>\n",
    "    </tr>\n",
    "    \n",
    "    <tr>\n",
    "        <td>Vector</td><td>one-dimensional collection of elements</td>\n",
    "        <td>numeric, character, complex, logical</td><td>No</td>\n",
    "    </tr>\n",
    "    \n",
    "    <tr>\n",
    "        <td>Factor</td><td>each element is set to one of several discrete values, or levels (a categorical variable)</td>\n",
    "        <td>numeric, character</td><td>No</td>\n",
    "    </tr>\n",
    "\n",
    "    <tr>\n",
    "        <td>Array</td><td>multidimensional collection of elements</td>\n",
    "        <td>numeric, character, complex, logical</td><td>No</td>\n",
    "    </tr>\n",
    "\n",
    "    <tr>\n",
    "        <td>Matrix</td><td>two-dimensional array</td>\n",
    "        <td>numeric, character, complex, logical</td><td>No</td>\n",
    "    </tr>\n",
    "\n",
    "    <tr>\n",
    "        <td>Data frame</td><td>like a matrix but every column can be of a different mode</td>\n",
    "        <td>numeric, character, complex, logical</td><td>Yes</td>\n",
    "    </tr>\n",
    "    \n",
    "    <tr>\n",
    "        <td>List</td>\n",
    "        <td>consists of an ordered collection of objects (components) that can be of various modes (recursive, i.e. list can\n",
    "        itself consist of lists)</td>\n",
    "        <td>numeric, character, complex, logical, function, expression, formula</td><td>Yes</td>\n",
    "    </tr>\n",
    "\n",
    "    <tr>\n",
    "        <td>Function</td>\n",
    "        <td>fundamental piece of code, typically dedicated to a single task, with defined input parameters (arguments) and\n",
    "        output values</td>\n",
    "        <td>-</td><td>-</td>\n",
    "    </tr>\n",
    "</table>\n",
    "\n",
    "\n",
    "In order to display the current list of user objects, use the menu `Misc|List objects` or function: \n",
    "```R\n",
    "ls()\n",
    "```\n",
    "\n",
    "Unnecessary objects can be removed with the function `rm`: \n",
    "```R\n",
    "rm(x,y,junk)\n",
    "```\n",
    "All user R objects can be deleted using the menu item `Misc|Remove all objects`.\n",
    "\n",
    "All the objects are stored in memory, and not automatically saved to disc. When quitting the R environment, you are given the opportunity to save the current workspace, i.e. all the objects created during the given session. If you accept, they are written to a file `.RData` in the current directory and reloaded automatically the next time R is started. Different R sessions may therefore be maintained in differ-ent directories."
   ]
  },
  {
   "cell_type": "markdown",
   "metadata": {
    "collapsed": false
   },
   "source": [
    "## 1.3 Numeric vectors\n",
    "###\t1.3.1 Assignment\n",
    "Assignment of several items to a vector is done using the combine function `c`:"
   ]
  },
  {
   "cell_type": "code",
   "execution_count": null,
   "metadata": {
    "collapsed": false
   },
   "outputs": [],
   "source": [
    "x <- c(10.4, 5.6, 3.1, 6.4, 21.7)\n",
    "y <- c(x, 0, x)\n",
    "x\n",
    "y"
   ]
  },
  {
   "cell_type": "markdown",
   "metadata": {},
   "source": [
    "### 1.3.2 Vector arithmetic\n",
    "For vectors, calculations are made using basic arithmetic operators: `+ - * / ^`.\n",
    "The use of these operators for two vectors of the same length is intuitive. In other cases, the elements of the shorter vector are recycled as often as necessary. For instance, for the x vector defined above, we can calculate:"
   ]
  },
  {
   "cell_type": "code",
   "execution_count": null,
   "metadata": {
    "collapsed": false
   },
   "outputs": [],
   "source": [
    "x*2"
   ]
  },
  {
   "cell_type": "markdown",
   "metadata": {},
   "source": [
    "### 1.3.3 Names\n",
    "Each vector may have an attribute `names` (the lengths of the vector itself and its names must be matching!). For instance: "
   ]
  },
  {
   "cell_type": "code",
   "execution_count": null,
   "metadata": {
    "collapsed": false
   },
   "outputs": [],
   "source": [
    "x <- c(3,15,27)\n",
    "names(x) <- c(\"Opx\",\"Cpx\",\"Pl\") \n",
    "x"
   ]
  },
  {
   "cell_type": "markdown",
   "metadata": {},
   "source": [
    "### 1.3.4\tGenerating regular sequences\n",
    "Regular sequences with step 1 or -1 can be generated using the colon operator (`:`). It has the highest priority within an expression, higher than the other operators (`+-*/^`).\n"
   ]
  },
  {
   "cell_type": "code",
   "execution_count": null,
   "metadata": {
    "collapsed": false
   },
   "outputs": [],
   "source": [
    "1:9\n",
    "9:1\n",
    "1:9*2\n",
    "1:(9*2)\n"
   ]
  },
  {
   "cell_type": "markdown",
   "metadata": {},
   "source": [
    "##### seq(from, to, by)\n",
    "Yields a sequence of numbers with an arbitrary step (`by`):"
   ]
  },
  {
   "cell_type": "code",
   "execution_count": null,
   "metadata": {
    "collapsed": false
   },
   "outputs": [],
   "source": [
    "seq(30, 22, -2)"
   ]
  },
  {
   "cell_type": "markdown",
   "metadata": {},
   "source": [
    "#### rep(x, times)\n",
    "Repeats the argument x specified a number of `times`:"
   ]
  },
  {
   "cell_type": "code",
   "execution_count": null,
   "metadata": {
    "collapsed": false
   },
   "outputs": [],
   "source": [
    "x <- c(3,9)\n",
    "rep(x, 5)"
   ]
  },
  {
   "cell_type": "markdown",
   "metadata": {},
   "source": [
    "### 1.3.5\tFunctions to manipulate numeric vectors\n",
    "The R language contains a number of functions. Only those most important for manipulation of numeric vectors are presented in Table. Information about others and the whole range of available parameters can be found in the R documentation."
   ]
  },
  {
   "cell_type": "markdown",
   "metadata": {},
   "source": [
    "<table>\n",
    "    <tr>\n",
    "    <th>Function</th>\n",
    "    <th>Meaning</th>\n",
    "    </tr>\n",
    "    <tr><td>`abs(x)`</td><td>absolute value</td></tr>\n",
    "    <tr><td>`sqrt(x)`</td><td>square root</td></tr>\n",
    "    <tr><td>`log(x)` </td><td>natural logarithm</td></tr>\n",
    "    <tr><td>`log10(x)`</td><td>common (base 10) logarithm</td></tr>\n",
    "    <tr><td>`log(x,base)`</td><td>logarithm of the given base</td></tr>\n",
    "    <tr><td>`exp(x)`</td><td>exponential function</td></tr>\n",
    "    <tr><td>`sin(x)`, `cos(x)`, `tan(x)` </td><td>trigonometric functions</td></tr>\n",
    "    <tr><td>`min(x)` </td><td>minimum</td></tr>\n",
    "    <tr><td>`max(x)` </td><td>maximum</td></tr>\n",
    "    <tr><td>`which.min(x)`</td><td>index of the minimal element of a vector</td></tr>\n",
    "    <tr><td>`which.max(x)`   </td><td>index of the maximal element of a vector</td></tr>\n",
    "    <tr><td>`range(x)`   </td><td>range of elements in `x`; equals to `c(min(x),max(x))`</td></tr>\n",
    "    <tr><td>`length(x)`  </td><td>number of elements (= length) of a vector</td></tr>\n",
    "    <tr><td>`rev(x)` </td><td>reverses the order of elements in a vector</td></tr>\n",
    "    <tr><td>`sort(x)`</td><td>sorts elements of a vector (ascending)</td></tr>\n",
    "    <tr><td>`rev(sort(x))`   </td><td>sorts elements of a vector (descending)</td></tr>\n",
    "    <tr><td>`round(x,n)` </td><td>rounds elements of a vector to `n` decimal places</td></tr>\n",
    "    <tr><td>`sum(x)` </td><td>sum of the elements of a vector</td></tr>\n",
    "    <tr><td>`mean(x)`</td><td>mean of the elements of a vector</td></tr>\n",
    "    <tr><td>`prod(x)`</td><td>product of the elements of a vector</td></tr>\n",
    "</table>"
   ]
  },
  {
   "cell_type": "markdown",
   "metadata": {},
   "source": [
    "## 1.4\tCharacter vectors\n",
    "Character vectors are collections of text strings, i.e. sequences of characters delim-ited by the double quote symbol, e.g., \"granite\". They use backslash as the escape sequence for special characters, including `\"\\t\"` – tab and `\"\\n\"` – new line."
   ]
  },
  {
   "cell_type": "markdown",
   "metadata": {},
   "source": [
    "#### paste(x, y,…, sep = \"\")\n",
    "Merges two (or more) character vectors, one by one, the elements being separated by string `sep`:"
   ]
  },
  {
   "cell_type": "code",
   "execution_count": null,
   "metadata": {
    "collapsed": false
   },
   "outputs": [],
   "source": [
    "paste(\"Gabbro\",\"olivine and\",\"pyroxene\",sep=\" with \")"
   ]
  },
  {
   "cell_type": "markdown",
   "metadata": {},
   "source": [
    "#### substring(x, start, stop)\n",
    "Extracts a part of vector x starting at position first and ending at last:"
   ]
  },
  {
   "cell_type": "code",
   "execution_count": null,
   "metadata": {
    "collapsed": false
   },
   "outputs": [],
   "source": [
    "x <- c(\"Plagioclase\",\"Biotite\",\"Muscovite\")\n",
    "substring(x,1,4)"
   ]
  },
  {
   "cell_type": "markdown",
   "metadata": {},
   "source": [
    "#### strsplit(x, split)\n",
    "Splits the strings in `x` into substrings based on the presence of `split`. Returns a list (below):"
   ]
  },
  {
   "cell_type": "code",
   "execution_count": null,
   "metadata": {
    "collapsed": false
   },
   "outputs": [],
   "source": [
    "x <- c(\"Plagioclase\",\"K-feldspar\")\n",
    "strsplit(x,\"a\")"
   ]
  },
  {
   "cell_type": "markdown",
   "metadata": {},
   "source": [
    "## 1.5\tLogical vectors\n",
    "Logical vectors consist of elements that can attain only two logical values:\n",
    "`TRUE` or `FALSE`. These can be abbreviated as `T` and `F`, respectively.\n",
    "\n",
    "In the R language, the symbol name `F` is reserved as an abbreviation for logical `FALSE`. For this reason, it is not advisable to name any variable `F`. The same applies, of course, to `T`. \n",
    "\n",
    "### 1.5.1\tLogical operators\n",
    "The logical vectors are typically produced by comparisons using operators < (smaller than) <= (smaller or equal to) > (greater than) >= (greater or equal to) == (equals to) != (does not equal to). For instance:"
   ]
  },
  {
   "cell_type": "code",
   "execution_count": null,
   "metadata": {
    "collapsed": false
   },
   "outputs": [],
   "source": [
    "x <- c(1,12,15,16,13,0)\n",
    "x > 13"
   ]
  },
  {
   "cell_type": "markdown",
   "metadata": {},
   "source": [
    "The result can be assigned to a vector of the mode logical:"
   ]
  },
  {
   "cell_type": "code",
   "execution_count": null,
   "metadata": {
    "collapsed": false
   },
   "outputs": [],
   "source": [
    "temp <- x>13\n",
    "temp"
   ]
  },
  {
   "cell_type": "markdown",
   "metadata": {},
   "source": [
    "Boolean arithmetic combines two or more logical conditions using the logical operators: `and(&)`, `or(|)`, `not(!)` with or without  brackets:"
   ]
  },
  {
   "cell_type": "code",
   "execution_count": null,
   "metadata": {
    "collapsed": false
   },
   "outputs": [],
   "source": [
    "x <- c(1,12,15,16,13,0)\n",
    "c1 <- x>10\n",
    "c2 <- x<15\n",
    "c1\n",
    "c2"
   ]
  },
  {
   "cell_type": "code",
   "execution_count": null,
   "metadata": {
    "collapsed": false
   },
   "outputs": [],
   "source": [
    "c1 & c2 # logical \"and\""
   ]
  },
  {
   "cell_type": "code",
   "execution_count": null,
   "metadata": {
    "collapsed": false
   },
   "outputs": [],
   "source": [
    "c1 | c2 # logical \"or\""
   ]
  },
  {
   "cell_type": "code",
   "execution_count": null,
   "metadata": {
    "collapsed": false
   },
   "outputs": [],
   "source": [
    "c1 # negation"
   ]
  },
  {
   "cell_type": "markdown",
   "metadata": {},
   "source": [
    "### 1.5.2\tMissing values (NA, NaN)\n",
    "Within R, missing data are represented by a special value `NA` (not available). Some operations which give no meaningful result in the circumstances will return its special form, `NaN` (not a number). Moreover, division by zero gives +∞ (`Inf`)."
   ]
  },
  {
   "cell_type": "code",
   "execution_count": null,
   "metadata": {
    "collapsed": false
   },
   "outputs": [],
   "source": [
    "sqrt(-15)"
   ]
  },
  {
   "cell_type": "code",
   "execution_count": null,
   "metadata": {
    "collapsed": false
   },
   "outputs": [],
   "source": [
    "1/0"
   ]
  },
  {
   "cell_type": "markdown",
   "metadata": {},
   "source": [
    "#### is.na(x)\n",
    "Tests for the presence of missing values in each of the elements of the vector `x`:\n"
   ]
  },
  {
   "cell_type": "code",
   "execution_count": null,
   "metadata": {
    "collapsed": false
   },
   "outputs": [],
   "source": [
    "x <- c(5,9,-4,12,-6,-7)\n",
    "is.na(sqrt(x))"
   ]
  }
 ],
 "metadata": {
  "kernelspec": {
   "display_name": "R",
   "language": "R",
   "name": "ir"
  },
  "language_info": {
   "codemirror_mode": "r",
   "file_extension": ".r",
   "mimetype": "text/x-r-source",
   "name": "R",
   "pygments_lexer": "r",
   "version": "3.2.1"
  }
 },
 "nbformat": 4,
 "nbformat_minor": 0
}
