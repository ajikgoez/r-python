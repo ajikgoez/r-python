{
 "cells": [
  {
   "cell_type": "markdown",
   "metadata": {},
   "source": [
    "# R syntax in a nutshell – Part II\n",
    "* 1.6 Arrays, matrices, data frames\n",
    "* 1.7 Building simple databases: indexing/subsetting of vectors, arrays and data frames\n",
    "* 1.8 Lists\n",
    "* 1.9 Coercion of individual object types"
   ]
  },
  {
   "cell_type": "markdown",
   "metadata": {
    "collapsed": false,
    "scrolled": true
   },
   "source": [
    "## 1.6\tArrays, matrices, data frames\n",
    "Several kinds of table-like objects exist in R. **Data frames** are data objects to be processed by statistics, with “observations” as columns (elements/oxides in geochemistry) and “cases” (samples) in rows. They can contain columns of any mode, even mixed modes; thus they are not meant for matrix operations.\n",
    "\n",
    "On the other hand, all elements of a **matrix** can only be of a single mode (numeric, most commonly). **Arrays** are generalized matrices: they must have a single mode but can have any number of dimensions. Although superficially similar, these three types of objects must not be confused."
   ]
  },
  {
   "cell_type": "markdown",
   "metadata": {},
   "source": [
    "#### matrix(data = NA, nrow = 1, ncol = 1, byrow = FALSE)\n",
    "This command defines a matrix of `nrow` rows and `ncol` columns, filled by the data (if `data` have several elements, they will be used down the columns, unless an extra parameter `byrow=TRUE` is provided). For instance:"
   ]
  },
  {
   "cell_type": "code",
   "execution_count": 61,
   "metadata": {
    "collapsed": false
   },
   "outputs": [
    {
     "name": "stdout",
     "output_type": "stream",
     "text": [
      "     [,1] [,2] [,3] [,4]\n",
      "[1,]    1    4    7   10\n",
      "[2,]    2    5    8   11\n",
      "[3,]    3    6    9   12\n"
     ]
    }
   ],
   "source": [
    "x <- matrix(1:12,3,4)\n",
    "print(x)"
   ]
  },
  {
   "cell_type": "code",
   "execution_count": 62,
   "metadata": {
    "collapsed": false
   },
   "outputs": [
    {
     "name": "stdout",
     "output_type": "stream",
     "text": [
      "     [,1] [,2] [,3] [,4]\n",
      "[1,]    1    2    3    4\n",
      "[2,]    5    6    7    8\n",
      "[3,]    9   10   11   12\n"
     ]
    }
   ],
   "source": [
    "x <- matrix(1:12,3,4,byrow=TRUE)\n",
    "print(x)"
   ]
  },
  {
   "cell_type": "markdown",
   "metadata": {
    "collapsed": false
   },
   "source": [
    "<img src=\"images/warning-icon.png\" style=\"float:left;width:32px;height:32px;\">\n",
    "As a default, filling a matrix with data — as well as matrix division by a vector — proceeds along columns, not rows!"
   ]
  },
  {
   "cell_type": "markdown",
   "metadata": {},
   "source": [
    "#### array(data = NA, dim = length(data))\n",
    "Defines a new data array and fills it with `data`. The argument `dim` is a vector of length one or more, giving maximal dimensions in each of the directions."
   ]
  },
  {
   "cell_type": "markdown",
   "metadata": {},
   "source": [
    "### 1.6.1\tMatrix/data frame operations\n",
    "Matrices can be subject to scalar operations using the common operators (`+-*/^`). Similar to vectors, the shorter component is recycled as appropriate. Useful functions for matrix/data frame manipulations are summarized in the following Table:"
   ]
  },
  {
   "cell_type": "markdown",
   "metadata": {},
   "source": [
    "<table>\n",
    "    <tr>\n",
    "    <th>Function</th>\n",
    "    <th>Meaning</th>\n",
    "    </tr>\n",
    "    <tr><td>`nrow(x)`</td><td>number of rows</td></tr>\n",
    "    <tr><td>`ncol(x)`</td><td>number of columns</td></tr>\n",
    "    <tr><td>`rownames(x)` </td><td>row names</td></tr>\n",
    "    <tr><td>`colnames(x)`</td><td>column names</td></tr>\n",
    "    <tr><td>`rbind(x,y)`</td>\n",
    "        <td>binds two objects (matrices or data frames) of the same `ncol`\n",
    "        (or vectors of the same length) as rows\n",
    "        </td></tr>\n",
    "    <tr><td>`cbind(x,y)`</td>\n",
    "        <td>binds two objects (matrices or data frames) of the same `nrow` \n",
    "        (or vectors of the same length) as columns\n",
    "        </td></tr>\n",
    "    <tr><td>`t(x)` </td><td>matrix transposition</td></tr>\n",
    "    <tr><td>`apply(X,MARGIN,FUN)` </td>\n",
    "    <td>applies function `FUN` (for vector manipulations) along the rows\n",
    "    (`MARGIN` = 1) or columns (`MARGIN` = 2) of a data matrix `X`</td></tr>\n",
    "    <tr><td>`x%*%y` </td>\n",
    "        <td>matrix multiplication (does not work on a data frame!)</td></tr>\n",
    "    <tr><td>`solve(A)`</td><td>matrix inversion</td></tr>\n",
    "    <tr><td>`dix(x)`</td><td>diagonal elements of a matrix</td></tr>\n",
    "</table>"
   ]
  },
  {
   "cell_type": "markdown",
   "metadata": {},
   "source": [
    "It is worth noting that matrix multiplication is performed using the `%*%` operator. "
   ]
  },
  {
   "cell_type": "markdown",
   "metadata": {},
   "source": [
    "<img src=\"images/exercise-icon.png\" style=\"float:left;width:40px;height:40px;\">\n",
    "The function `solve` can serve to solving a set of linear argebraic equations. Here is an example; let's first specify the matrix of coeffients to the individual variables:"
   ]
  },
  {
   "cell_type": "code",
   "execution_count": 63,
   "metadata": {
    "collapsed": false
   },
   "outputs": [
    {
     "name": "stdout",
     "output_type": "stream",
     "text": [
      "     [,1] [,2] [,3]\n",
      "[1,]  1.0  2.0 -0.7\n",
      "[2,]  3.0  0.2 -1.0\n",
      "[3,]  0.9  7.0 -2.0\n"
     ]
    }
   ],
   "source": [
    "A <- matrix(c(1,3,0.9,2,0.2,7,-0.7,-1,-2),3,3)\n",
    "print(A) "
   ]
  },
  {
   "cell_type": "markdown",
   "metadata": {},
   "source": [
    "And then the vector of left hand sides:"
   ]
  },
  {
   "cell_type": "code",
   "execution_count": 64,
   "metadata": {
    "collapsed": true
   },
   "outputs": [],
   "source": [
    "y <- c(21,24,27)"
   ]
  },
  {
   "cell_type": "code",
   "execution_count": 65,
   "metadata": {
    "collapsed": false
   },
   "outputs": [
    {
     "data": {
      "text/html": [
       "<ol class=list-inline>\n",
       "\t<li>30</li>\n",
       "\t<li>20</li>\n",
       "\t<li>70</li>\n",
       "</ol>\n"
      ],
      "text/latex": [
       "\\begin{enumerate*}\n",
       "\\item 30\n",
       "\\item 20\n",
       "\\item 70\n",
       "\\end{enumerate*}\n"
      ],
      "text/markdown": [
       "1. 30\n",
       "2. 20\n",
       "3. 70\n",
       "\n",
       "\n"
      ],
      "text/plain": [
       "[1] 30 20 70"
      ]
     },
     "execution_count": 65,
     "metadata": {},
     "output_type": "execute_result"
    }
   ],
   "source": [
    "x <- solve(A,y)\n",
    "x"
   ]
  },
  {
   "cell_type": "code",
   "execution_count": 66,
   "metadata": {
    "collapsed": false
   },
   "outputs": [
    {
     "data": {
      "text/html": [
       "<table>\n",
       "<tbody>\n",
       "\t<tr><td>21</td></tr>\n",
       "\t<tr><td>24</td></tr>\n",
       "\t<tr><td>27</td></tr>\n",
       "</tbody>\n",
       "</table>\n"
      ],
      "text/latex": [
       "\\begin{tabular}{l}\n",
       "\t 21\\\\\n",
       "\t 24\\\\\n",
       "\t 27\\\\\n",
       "\\end{tabular}\n"
      ],
      "text/markdown": [
       "1. 21\n",
       "2. 24\n",
       "3. 27\n",
       "\n",
       "\n"
      ],
      "text/plain": [
       "     [,1]\n",
       "[1,]   21\n",
       "[2,]   24\n",
       "[3,]   27"
      ]
     },
     "execution_count": 66,
     "metadata": {},
     "output_type": "execute_result"
    }
   ],
   "source": [
    "# checking the result, back-calculating y\n",
    "A%*%x"
   ]
  },
  {
   "cell_type": "markdown",
   "metadata": {},
   "source": [
    "Of the functions presented in the table, some explanation is required for `apply`:\n",
    "#### apply(X, MARGIN, FUN,…)\n",
    "If `X` is a matrix, it is split into vectors along rows (if `MARGIN` = 1) or columns (if `MARGIN` = 2). To each of these vectors is applied the function `FUN` with optional parameters `…` passed to it. \n",
    "For instance, we can calculate row sums of a matrix:"
   ]
  },
  {
   "cell_type": "code",
   "execution_count": 67,
   "metadata": {
    "collapsed": false
   },
   "outputs": [
    {
     "data": {
      "text/html": [
       "<table>\n",
       "<tbody>\n",
       "\t<tr><td>1</td><td>2</td><td>3</td><td>4</td></tr>\n",
       "\t<tr><td>5</td><td>6</td><td>7</td><td>8</td></tr>\n",
       "\t<tr><td> 9</td><td>10</td><td>11</td><td>12</td></tr>\n",
       "</tbody>\n",
       "</table>\n"
      ],
      "text/latex": [
       "\\begin{tabular}{llll}\n",
       "\t 1 & 2 & 3 & 4\\\\\n",
       "\t 5 & 6 & 7 & 8\\\\\n",
       "\t  9 & 10 & 11 & 12\\\\\n",
       "\\end{tabular}\n"
      ],
      "text/markdown": [
       "1. 1\n",
       "2. 5\n",
       "3. 9\n",
       "4. 2\n",
       "5. 6\n",
       "6. 10\n",
       "7. 3\n",
       "8. 7\n",
       "9. 11\n",
       "10. 4\n",
       "11. 8\n",
       "12. 12\n",
       "\n",
       "\n"
      ],
      "text/plain": [
       "     [,1] [,2] [,3] [,4]\n",
       "[1,]    1    2    3    4\n",
       "[2,]    5    6    7    8\n",
       "[3,]    9   10   11   12"
      ]
     },
     "execution_count": 67,
     "metadata": {},
     "output_type": "execute_result"
    },
    {
     "data": {
      "text/html": [
       "<ol class=list-inline>\n",
       "\t<li>10</li>\n",
       "\t<li>26</li>\n",
       "\t<li>42</li>\n",
       "</ol>\n"
      ],
      "text/latex": [
       "\\begin{enumerate*}\n",
       "\\item 10\n",
       "\\item 26\n",
       "\\item 42\n",
       "\\end{enumerate*}\n"
      ],
      "text/markdown": [
       "1. 10\n",
       "2. 26\n",
       "3. 42\n",
       "\n",
       "\n"
      ],
      "text/plain": [
       "[1] 10 26 42"
      ]
     },
     "execution_count": 67,
     "metadata": {},
     "output_type": "execute_result"
    }
   ],
   "source": [
    "x <- matrix(1:12,3,4,byrow=TRUE)\n",
    "x\n",
    "apply(x,1,sum)"
   ]
  },
  {
   "cell_type": "markdown",
   "metadata": {},
   "source": [
    "## 1.7\tBuilding simple databases: indexing/subsetting of vectors, arrays and data frames\n",
    "In real life, one often needs to select some elements of a vector or a matrix, fulfilling certain criteria. This can be achieved using logical conditions or logical variables placed in **square brackets** after the object name. Subsets can be also used on the left hand side of the assignments when replacement of selected elements by certain values is desired.  \n",
    "### 1.7.1\tVectors\n",
    "Subsets of a vector may be selected by appending to the name of the vector an index vector in square brackets. For example, we can first create a named vector:"
   ]
  },
  {
   "cell_type": "code",
   "execution_count": 68,
   "metadata": {
    "collapsed": false
   },
   "outputs": [
    {
     "name": "stdout",
     "output_type": "stream",
     "text": [
      " Pl  Bt  Mu   Q Kfs  Ky  Ol  Px   C \n",
      "  1  12  15  NA  16  13   0  NA  NA \n"
     ]
    }
   ],
   "source": [
    "x <- c(1,12,15,NA,16,13,0,NA,NA)\n",
    "names(x) <- c(\"Pl\",\"Bt\",\"Mu\",\"Q\",\"Kfs\",\"Ky\",\"Ol\",\"Px\",\"C\") \n",
    "print(x)"
   ]
  },
  {
   "cell_type": "markdown",
   "metadata": {},
   "source": [
    "Index vectors can be of several types: logical, numeric (with positive or negative values), and character:"
   ]
  },
  {
   "cell_type": "markdown",
   "metadata": {},
   "source": [
    "#### 1.\tLogical vector"
   ]
  },
  {
   "cell_type": "code",
   "execution_count": 69,
   "metadata": {
    "collapsed": false
   },
   "outputs": [
    {
     "data": {
      "text/html": [
       "<dl class=dl-horizontal>\n",
       "\t<dt>Bt</dt>\n",
       "\t\t<dd>12</dd>\n",
       "\t<dt>Mu</dt>\n",
       "\t\t<dd>15</dd>\n",
       "\t<dt>3</dt>\n",
       "\t\t<dd>NA</dd>\n",
       "\t<dt>Kfs</dt>\n",
       "\t\t<dd>16</dd>\n",
       "\t<dt>Ky</dt>\n",
       "\t\t<dd>13</dd>\n",
       "\t<dt>6</dt>\n",
       "\t\t<dd>NA</dd>\n",
       "\t<dt>7</dt>\n",
       "\t\t<dd>NA</dd>\n",
       "</dl>\n"
      ],
      "text/latex": [
       "\\begin{description*}\n",
       "\\item[Bt] 12\n",
       "\\item[Mu] 15\n",
       "\\item[3] NA\n",
       "\\item[Kfs] 16\n",
       "\\item[Ky] 13\n",
       "\\item[6] NA\n",
       "\\item[7] NA\n",
       "\\end{description*}\n"
      ],
      "text/markdown": [
       "Bt\n",
       ":   12Mu\n",
       ":   153\n",
       ":   NAKfs\n",
       ":   16Ky\n",
       ":   136\n",
       ":   NA7\n",
       ":   NA\n",
       "\n"
      ],
      "text/plain": [
       "  Bt   Mu <NA>  Kfs   Ky <NA> <NA> \n",
       "  12   15   NA   16   13   NA   NA "
      ]
     },
     "execution_count": 69,
     "metadata": {},
     "output_type": "execute_result"
    },
    {
     "data": {
      "text/html": [
       "<dl class=dl-horizontal>\n",
       "\t<dt>Pl</dt>\n",
       "\t\t<dd>1</dd>\n",
       "\t<dt>Bt</dt>\n",
       "\t\t<dd>12</dd>\n",
       "\t<dt>Mu</dt>\n",
       "\t\t<dd>15</dd>\n",
       "\t<dt>Kfs</dt>\n",
       "\t\t<dd>16</dd>\n",
       "\t<dt>Ky</dt>\n",
       "\t\t<dd>13</dd>\n",
       "\t<dt>Ol</dt>\n",
       "\t\t<dd>0</dd>\n",
       "</dl>\n"
      ],
      "text/latex": [
       "\\begin{description*}\n",
       "\\item[Pl] 1\n",
       "\\item[Bt] 12\n",
       "\\item[Mu] 15\n",
       "\\item[Kfs] 16\n",
       "\\item[Ky] 13\n",
       "\\item[Ol] 0\n",
       "\\end{description*}\n"
      ],
      "text/markdown": [
       "Pl\n",
       ":   1Bt\n",
       ":   12Mu\n",
       ":   15Kfs\n",
       ":   16Ky\n",
       ":   13Ol\n",
       ":   0\n",
       "\n"
      ],
      "text/plain": [
       " Pl  Bt  Mu Kfs  Ky  Ol \n",
       "  1  12  15  16  13   0 "
      ]
     },
     "execution_count": 69,
     "metadata": {},
     "output_type": "execute_result"
    }
   ],
   "source": [
    "x[x>10]      # all elements of x higher than 10 (or NA)\n",
    "x[!is.na(x)] # all elements of x that are available"
   ]
  },
  {
   "cell_type": "markdown",
   "metadata": {},
   "source": [
    "#### 2.\tNumeric vector with positive values"
   ]
  },
  {
   "cell_type": "code",
   "execution_count": 70,
   "metadata": {
    "collapsed": false
   },
   "outputs": [
    {
     "data": {
      "text/html": [
       "<dl class=dl-horizontal>\n",
       "\t<dt>Pl</dt>\n",
       "\t\t<dd>1</dd>\n",
       "\t<dt>Bt</dt>\n",
       "\t\t<dd>12</dd>\n",
       "\t<dt>Mu</dt>\n",
       "\t\t<dd>15</dd>\n",
       "\t<dt>Q</dt>\n",
       "\t\t<dd>NA</dd>\n",
       "\t<dt>Kfs</dt>\n",
       "\t\t<dd>16</dd>\n",
       "</dl>\n"
      ],
      "text/latex": [
       "\\begin{description*}\n",
       "\\item[Pl] 1\n",
       "\\item[Bt] 12\n",
       "\\item[Mu] 15\n",
       "\\item[Q] NA\n",
       "\\item[Kfs] 16\n",
       "\\end{description*}\n"
      ],
      "text/markdown": [
       "Pl\n",
       ":   1Bt\n",
       ":   12Mu\n",
       ":   15Q\n",
       ":   NAKfs\n",
       ":   16\n",
       "\n"
      ],
      "text/plain": [
       " Pl  Bt  Mu   Q Kfs \n",
       "  1  12  15  NA  16 "
      ]
     },
     "execution_count": 70,
     "metadata": {},
     "output_type": "execute_result"
    },
    {
     "data": {
      "text/html": [
       "<dl class=dl-horizontal>\n",
       "\t<dt>Pl</dt>\n",
       "\t\t<dd>1</dd>\n",
       "\t<dt>Kfs</dt>\n",
       "\t\t<dd>16</dd>\n",
       "\t<dt>Ol</dt>\n",
       "\t\t<dd>0</dd>\n",
       "</dl>\n"
      ],
      "text/latex": [
       "\\begin{description*}\n",
       "\\item[Pl] 1\n",
       "\\item[Kfs] 16\n",
       "\\item[Ol] 0\n",
       "\\end{description*}\n"
      ],
      "text/markdown": [
       "Pl\n",
       ":   1Kfs\n",
       ":   16Ol\n",
       ":   0\n",
       "\n"
      ],
      "text/plain": [
       " Pl Kfs  Ol \n",
       "  1  16   0 "
      ]
     },
     "execution_count": 70,
     "metadata": {},
     "output_type": "execute_result"
    }
   ],
   "source": [
    "x[1:5]      # the first five elements\n",
    "x[c(1,5,7)] # 1st, 5th and 7th elements"
   ]
  },
  {
   "cell_type": "markdown",
   "metadata": {},
   "source": [
    "#### 3.\tNumeric vector with negative values (specifies elements to be excluded)"
   ]
  },
  {
   "cell_type": "code",
   "execution_count": 71,
   "metadata": {
    "collapsed": false
   },
   "outputs": [
    {
     "data": {
      "text/html": [
       "<dl class=dl-horizontal>\n",
       "\t<dt>Ky</dt>\n",
       "\t\t<dd>13</dd>\n",
       "\t<dt>Ol</dt>\n",
       "\t\t<dd>0</dd>\n",
       "\t<dt>Px</dt>\n",
       "\t\t<dd>NA</dd>\n",
       "\t<dt>C</dt>\n",
       "\t\t<dd>NA</dd>\n",
       "</dl>\n"
      ],
      "text/latex": [
       "\\begin{description*}\n",
       "\\item[Ky] 13\n",
       "\\item[Ol] 0\n",
       "\\item[Px] NA\n",
       "\\item[C] NA\n",
       "\\end{description*}\n"
      ],
      "text/markdown": [
       "Ky\n",
       ":   13Ol\n",
       ":   0Px\n",
       ":   NAC\n",
       ":   NA\n",
       "\n"
      ],
      "text/plain": [
       "Ky Ol Px  C \n",
       "13  0 NA NA "
      ]
     },
     "execution_count": 71,
     "metadata": {},
     "output_type": "execute_result"
    }
   ],
   "source": [
    "x[-(1:5)] # all elements except for the first five"
   ]
  },
  {
   "cell_type": "markdown",
   "metadata": {
    "collapsed": false
   },
   "source": [
    "#### 4.\tCharacter vector (referring to the element names)"
   ]
  },
  {
   "cell_type": "code",
   "execution_count": 72,
   "metadata": {
    "collapsed": false
   },
   "outputs": [
    {
     "data": {
      "text/html": [
       "<dl class=dl-horizontal>\n",
       "\t<dt>Q</dt>\n",
       "\t\t<dd>NA</dd>\n",
       "\t<dt>Bt</dt>\n",
       "\t\t<dd>12</dd>\n",
       "\t<dt>Mu</dt>\n",
       "\t\t<dd>15</dd>\n",
       "</dl>\n"
      ],
      "text/latex": [
       "\\begin{description*}\n",
       "\\item[Q] NA\n",
       "\\item[Bt] 12\n",
       "\\item[Mu] 15\n",
       "\\end{description*}\n"
      ],
      "text/markdown": [
       "Q\n",
       ":   NABt\n",
       ":   12Mu\n",
       ":   15\n",
       "\n"
      ],
      "text/plain": [
       " Q Bt Mu \n",
       "NA 12 15 "
      ]
     },
     "execution_count": 72,
     "metadata": {},
     "output_type": "execute_result"
    }
   ],
   "source": [
    "x[c(\"Q\",\"Bt\",\"Mu\")]"
   ]
  },
  {
   "cell_type": "markdown",
   "metadata": {
    "collapsed": false
   },
   "source": [
    "### 1.7.2\tMatrices/data frames\n",
    "Elements of a matrix are presented in the order `[row,column]`. If nothing is given for a `row` or `column`, it means no restriction. For instance:\n",
    "```R\n",
    "x[1,]          # (all columns) of the first row\n",
    "x[,c(1,3)]     # (all rows) of the first and third columns\n",
    "x[1:3,-2]      # all columns (apart from the 2nd) of rows 1–3\n",
    "```\n",
    "If the result is a single row or column, it is automatically converted to a vector. To prevent such a behaviour, one can supply an optional parameter `drop=FALSE`, e.g.:\n",
    "```R\n",
    "x[1,,drop=FALSE]   # (all columns) of the 1st row, keep as matrix\n",
    "```\n",
    "\n",
    "Moreover, matrices can be manipulated using index arrays. This concept is best explained on an example. Let’s assume a matrix defined as:\n",
    "```R\n",
    "x <- matrix(1:20,4,5)\n",
    "```\n",
    "If the elements `[1,3]`, `[2,2]` and `[3,1]` in `x` are to be replaced by zeroes, we can create an  index array `i` containing the element coordinates:"
   ]
  },
  {
   "cell_type": "code",
   "execution_count": 73,
   "metadata": {
    "collapsed": false
   },
   "outputs": [
    {
     "data": {
      "text/html": [
       "<table>\n",
       "<tbody>\n",
       "\t<tr><td> 1</td><td> 5</td><td> 9</td><td>13</td><td>17</td></tr>\n",
       "\t<tr><td> 2</td><td> 6</td><td>10</td><td>14</td><td>18</td></tr>\n",
       "\t<tr><td> 3</td><td> 7</td><td>11</td><td>15</td><td>19</td></tr>\n",
       "\t<tr><td> 4</td><td> 8</td><td>12</td><td>16</td><td>20</td></tr>\n",
       "</tbody>\n",
       "</table>\n"
      ],
      "text/latex": [
       "\\begin{tabular}{lllll}\n",
       "\t  1 &  5 &  9 & 13 & 17\\\\\n",
       "\t  2 &  6 & 10 & 14 & 18\\\\\n",
       "\t  3 &  7 & 11 & 15 & 19\\\\\n",
       "\t  4 &  8 & 12 & 16 & 20\\\\\n",
       "\\end{tabular}\n"
      ],
      "text/markdown": [
       "1. 1\n",
       "2. 2\n",
       "3. 3\n",
       "4. 4\n",
       "5. 5\n",
       "6. 6\n",
       "7. 7\n",
       "8. 8\n",
       "9. 9\n",
       "10. 10\n",
       "11. 11\n",
       "12. 12\n",
       "13. 13\n",
       "14. 14\n",
       "15. 15\n",
       "16. 16\n",
       "17. 17\n",
       "18. 18\n",
       "19. 19\n",
       "20. 20\n",
       "\n",
       "\n"
      ],
      "text/plain": [
       "     [,1] [,2] [,3] [,4] [,5]\n",
       "[1,]    1    5    9   13   17\n",
       "[2,]    2    6   10   14   18\n",
       "[3,]    3    7   11   15   19\n",
       "[4,]    4    8   12   16   20"
      ]
     },
     "execution_count": 73,
     "metadata": {},
     "output_type": "execute_result"
    },
    {
     "data": {
      "text/html": [
       "<table>\n",
       "<tbody>\n",
       "\t<tr><td>1</td><td>3</td></tr>\n",
       "\t<tr><td>2</td><td>2</td></tr>\n",
       "\t<tr><td>3</td><td>1</td></tr>\n",
       "</tbody>\n",
       "</table>\n"
      ],
      "text/latex": [
       "\\begin{tabular}{ll}\n",
       "\t 1 & 3\\\\\n",
       "\t 2 & 2\\\\\n",
       "\t 3 & 1\\\\\n",
       "\\end{tabular}\n"
      ],
      "text/markdown": [
       "1. 1\n",
       "2. 2\n",
       "3. 3\n",
       "4. 3\n",
       "5. 2\n",
       "6. 1\n",
       "\n",
       "\n"
      ],
      "text/plain": [
       "     [,1] [,2]\n",
       "[1,]    1    3\n",
       "[2,]    2    2\n",
       "[3,]    3    1"
      ]
     },
     "execution_count": 73,
     "metadata": {},
     "output_type": "execute_result"
    }
   ],
   "source": [
    "x <- matrix(1:20,4,5)\n",
    "x\n",
    "i <- matrix(c(1,2,3,3,2,1),3,2)\n",
    "i"
   ]
  },
  {
   "cell_type": "code",
   "execution_count": 74,
   "metadata": {
    "collapsed": false
   },
   "outputs": [
    {
     "data": {
      "text/html": [
       "<ol class=list-inline>\n",
       "\t<li>9</li>\n",
       "\t<li>6</li>\n",
       "\t<li>3</li>\n",
       "</ol>\n"
      ],
      "text/latex": [
       "\\begin{enumerate*}\n",
       "\\item 9\n",
       "\\item 6\n",
       "\\item 3\n",
       "\\end{enumerate*}\n"
      ],
      "text/markdown": [
       "1. 9\n",
       "2. 6\n",
       "3. 3\n",
       "\n",
       "\n"
      ],
      "text/plain": [
       "[1] 9 6 3"
      ]
     },
     "execution_count": 74,
     "metadata": {},
     "output_type": "execute_result"
    }
   ],
   "source": [
    "x[i]"
   ]
  },
  {
   "cell_type": "code",
   "execution_count": 75,
   "metadata": {
    "collapsed": false
   },
   "outputs": [
    {
     "data": {
      "text/html": [
       "<table>\n",
       "<tbody>\n",
       "\t<tr><td> 1</td><td> 5</td><td> 0</td><td>13</td><td>17</td></tr>\n",
       "\t<tr><td> 2</td><td> 0</td><td>10</td><td>14</td><td>18</td></tr>\n",
       "\t<tr><td> 0</td><td> 7</td><td>11</td><td>15</td><td>19</td></tr>\n",
       "\t<tr><td> 4</td><td> 8</td><td>12</td><td>16</td><td>20</td></tr>\n",
       "</tbody>\n",
       "</table>\n"
      ],
      "text/latex": [
       "\\begin{tabular}{lllll}\n",
       "\t  1 &  5 &  0 & 13 & 17\\\\\n",
       "\t  2 &  0 & 10 & 14 & 18\\\\\n",
       "\t  0 &  7 & 11 & 15 & 19\\\\\n",
       "\t  4 &  8 & 12 & 16 & 20\\\\\n",
       "\\end{tabular}\n"
      ],
      "text/markdown": [
       "1. 1\n",
       "2. 2\n",
       "3. 0\n",
       "4. 4\n",
       "5. 5\n",
       "6. 0\n",
       "7. 7\n",
       "8. 8\n",
       "9. 0\n",
       "10. 10\n",
       "11. 11\n",
       "12. 12\n",
       "13. 13\n",
       "14. 14\n",
       "15. 15\n",
       "16. 16\n",
       "17. 17\n",
       "18. 18\n",
       "19. 19\n",
       "20. 20\n",
       "\n",
       "\n"
      ],
      "text/plain": [
       "     [,1] [,2] [,3] [,4] [,5]\n",
       "[1,]    1    5    0   13   17\n",
       "[2,]    2    0   10   14   18\n",
       "[3,]    0    7   11   15   19\n",
       "[4,]    4    8   12   16   20"
      ]
     },
     "execution_count": 75,
     "metadata": {},
     "output_type": "execute_result"
    }
   ],
   "source": [
    "x[i] <- 0\n",
    "x"
   ]
  },
  {
   "cell_type": "markdown",
   "metadata": {},
   "source": [
    "The situation for multidimensional arrays is analogous — just the relevant number of dimensions is higher than two."
   ]
  },
  {
   "cell_type": "markdown",
   "metadata": {},
   "source": [
    "<img src=\"images/exercise-icon.png\" style=\"float:left;width:40px;height:40px;\">\n",
    "R involves numerous built in datasets that can be used to demonstrate its capabilities. The object `islands` is a vector with areas of landmassess (i.e. islands and continents) exceeding 10 000 sq. miles. Before we can start working, we need to attach the data object using the command: "
   ]
  },
  {
   "cell_type": "code",
   "execution_count": 76,
   "metadata": {
    "collapsed": true
   },
   "outputs": [],
   "source": [
    "data(islands)"
   ]
  },
  {
   "cell_type": "code",
   "execution_count": 77,
   "metadata": {
    "collapsed": false
   },
   "outputs": [
    {
     "data": {
      "text/html": [
       "<dl class=dl-horizontal>\n",
       "\t<dt>Africa</dt>\n",
       "\t\t<dd>11506</dd>\n",
       "\t<dt>Antarctica</dt>\n",
       "\t\t<dd>5500</dd>\n",
       "\t<dt>Asia</dt>\n",
       "\t\t<dd>16988</dd>\n",
       "\t<dt>Australia</dt>\n",
       "\t\t<dd>2968</dd>\n",
       "\t<dt>Axel Heiberg</dt>\n",
       "\t\t<dd>16</dd>\n",
       "\t<dt>Baffin</dt>\n",
       "\t\t<dd>184</dd>\n",
       "</dl>\n"
      ],
      "text/latex": [
       "\\begin{description*}\n",
       "\\item[Africa] 11506\n",
       "\\item[Antarctica] 5500\n",
       "\\item[Asia] 16988\n",
       "\\item[Australia] 2968\n",
       "\\item[Axel Heiberg] 16\n",
       "\\item[Baffin] 184\n",
       "\\end{description*}\n"
      ],
      "text/markdown": [
       "Africa\n",
       ":   11506Antarctica\n",
       ":   5500Asia\n",
       ":   16988Australia\n",
       ":   2968Axel Heiberg\n",
       ":   16Baffin\n",
       ":   184\n",
       "\n"
      ],
      "text/plain": [
       "      Africa   Antarctica         Asia    Australia Axel Heiberg       Baffin \n",
       "       11506         5500        16988         2968           16          184 "
      ]
     },
     "execution_count": 77,
     "metadata": {},
     "output_type": "execute_result"
    },
    {
     "data": {
      "text/html": [
       "<strong>Luzon:</strong> 42"
      ],
      "text/latex": [
       "\\textbf{Luzon:} 42"
      ],
      "text/markdown": [
       "**Luzon:** 42"
      ],
      "text/plain": [
       "Luzon \n",
       "   42 "
      ]
     },
     "execution_count": 77,
     "metadata": {},
     "output_type": "execute_result"
    }
   ],
   "source": [
    "head(islands) # print just a few observations\n",
    "islands[\"Luzon\"]"
   ]
  },
  {
   "cell_type": "code",
   "execution_count": 78,
   "metadata": {
    "collapsed": false
   },
   "outputs": [
    {
     "data": {
      "text/html": [
       "1252.72916666667"
      ],
      "text/latex": [
       "1252.72916666667"
      ],
      "text/markdown": [
       "1252.72916666667"
      ],
      "text/plain": [
       "[1] 1252.729"
      ]
     },
     "execution_count": 78,
     "metadata": {},
     "output_type": "execute_result"
    }
   ],
   "source": [
    "mean(islands)"
   ]
  },
  {
   "cell_type": "code",
   "execution_count": 79,
   "metadata": {
    "collapsed": false
   },
   "outputs": [
    {
     "data": {
      "text/html": [
       "\"Asia\""
      ],
      "text/latex": [
       "\"Asia\""
      ],
      "text/markdown": [
       "\"Asia\""
      ],
      "text/plain": [
       "[1] \"Asia\""
      ]
     },
     "execution_count": 79,
     "metadata": {},
     "output_type": "execute_result"
    },
    {
     "name": "stdout",
     "output_type": "stream",
     "text": [
      "Asia \n",
      "   3 \n"
     ]
    }
   ],
   "source": [
    "names(islands)[islands==max(islands)]\n",
    "print(which.max(islands))"
   ]
  },
  {
   "cell_type": "code",
   "execution_count": 80,
   "metadata": {
    "collapsed": false
   },
   "outputs": [
    {
     "data": {
      "text/html": [
       "16988"
      ],
      "text/latex": [
       "16988"
      ],
      "text/markdown": [
       "16988"
      ],
      "text/plain": [
       "[1] 16988"
      ]
     },
     "execution_count": 80,
     "metadata": {},
     "output_type": "execute_result"
    }
   ],
   "source": [
    "max(islands)"
   ]
  },
  {
   "cell_type": "code",
   "execution_count": 81,
   "metadata": {
    "collapsed": false
   },
   "outputs": [
    {
     "data": {
      "text/html": [
       "<ol class=list-inline>\n",
       "\t<li>\"Africa\"</li>\n",
       "\t<li>\"Antarctica\"</li>\n",
       "\t<li>\"Asia\"</li>\n",
       "\t<li>\"North America\"</li>\n",
       "\t<li>\"South America\"</li>\n",
       "</ol>\n"
      ],
      "text/latex": [
       "\\begin{enumerate*}\n",
       "\\item \"Africa\"\n",
       "\\item \"Antarctica\"\n",
       "\\item \"Asia\"\n",
       "\\item \"North America\"\n",
       "\\item \"South America\"\n",
       "\\end{enumerate*}\n"
      ],
      "text/markdown": [
       "1. \"Africa\"\n",
       "2. \"Antarctica\"\n",
       "3. \"Asia\"\n",
       "4. \"North America\"\n",
       "5. \"South America\"\n",
       "\n",
       "\n"
      ],
      "text/plain": [
       "[1] \"Africa\"        \"Antarctica\"    \"Asia\"          \"North America\"\n",
       "[5] \"South America\""
      ]
     },
     "execution_count": 81,
     "metadata": {},
     "output_type": "execute_result"
    }
   ],
   "source": [
    "names(islands)[islands>5000]"
   ]
  },
  {
   "cell_type": "code",
   "execution_count": 82,
   "metadata": {
    "collapsed": false
   },
   "outputs": [
    {
     "name": "stdout",
     "output_type": "stream",
     "text": [
      "       Vancouver           Hainan  Prince of Wales            Timor \n",
      "              12               13               13               13 \n",
      "          Kyushu           Taiwan      New Britain      Spitsbergen \n",
      "              14               14               15               15 \n",
      "    Axel Heiberg         Melville      Southampton Tierra del Fuego \n",
      "              16               16               16               19 \n",
      "           Devon            Banks            Celon \n",
      "              21               23               25 \n"
     ]
    }
   ],
   "source": [
    "z <- sort(islands)\n",
    "print(z[1:15])"
   ]
  },
  {
   "cell_type": "code",
   "execution_count": 83,
   "metadata": {
    "collapsed": false
   },
   "outputs": [
    {
     "name": "stdout",
     "output_type": "stream",
     "text": [
      "      Britain        Honshu       Sumatra        Baffin    Madagascar \n",
      "           84            89           183           184           227 \n",
      "       Borneo    New Guinea     Greenland     Australia        Europe \n",
      "          280           306           840          2968          3745 \n",
      "   Antarctica South America North America        Africa          Asia \n",
      "         5500          6795          9390         11506         16988 \n",
      "\n",
      "         Asia        Africa North America South America    Antarctica \n",
      "        16988         11506          9390          6795          5500 \n",
      "       Europe     Australia     Greenland    New Guinea        Borneo \n",
      "         3745          2968           840           306           280 \n",
      "   Madagascar        Baffin       Sumatra        Honshu       Britain \n",
      "          227           184           183            89            84 \n"
     ]
    }
   ],
   "source": [
    "out <- z[(length(z)-14):length(z)] # Or, alternatively:\n",
    "print(out)\n",
    "cat(\"\\n\")\n",
    "out <- rev(sort(islands))[1:15]\n",
    "print(out)"
   ]
  },
  {
   "cell_type": "code",
   "execution_count": 84,
   "metadata": {
    "collapsed": false
   },
   "outputs": [
    {
     "name": "stdout",
     "output_type": "stream",
     "text": [
      "          Africa       Antarctica             Asia        Australia \n",
      "        29800.54         14245.00         43998.92          7687.12 \n",
      "    Axel Heiberg           Baffin            Banks           Borneo \n",
      "           41.44           476.56            59.57           725.20 \n",
      "         Britain          Celebes            Celon             Cuba \n",
      "          217.56           189.07            64.75           111.37 \n",
      "           Devon        Ellesmere           Europe        Greenland \n",
      "           54.39           212.38          9699.55          2175.60 \n",
      "          Hainan       Hispaniola         Hokkaido           Honshu \n",
      "           33.67            77.70            77.70           230.51 \n",
      "         Iceland          Ireland             Java           Kyushu \n",
      "          103.60            85.47           126.91            36.26 \n",
      "           Luzon       Madagascar         Melville         Mindanao \n",
      "          108.78           587.93            41.44            93.24 \n",
      "        Moluccas      New Britain       New Guinea  New Zealand (N) \n",
      "           75.11            38.85           792.54           113.96 \n",
      " New Zealand (S)     Newfoundland    North America    Novaya Zemlya \n",
      "          150.22           111.37         24320.10            82.88 \n",
      " Prince of Wales         Sakhalin    South America      Southampton \n",
      "           33.67            75.11         17599.05            41.44 \n",
      "     Spitsbergen          Sumatra           Taiwan         Tasmania \n",
      "           38.85           473.97            36.26            67.34 \n",
      "Tierra del Fuego            Timor        Vancouver         Victoria \n",
      "           49.21            33.67            31.08           212.38 \n"
     ]
    }
   ],
   "source": [
    "print(islands*2.59) #  recalculate the data to km2 (1 sq mi = 2.59 km2)"
   ]
  },
  {
   "cell_type": "markdown",
   "metadata": {},
   "source": [
    "## 1.8\tLists\n",
    "Lists are ordered collections of other objects, known as components, which do not have to be of the same mode or type. Thus lists can be viewed as very loose groupings of R objects, involving various types of vectors, data frames, arrays, functions and even other lists. \n",
    "\n",
    "Components are numbered and hence can be addressed using their sequence number given in double square brackets, `x[[3]]`. \n",
    "Moreover, components may be named and referenced using an expression of the form `list_name$component_name`. Subsetting is similar to that of other objects, described above.\n",
    "#### list.name <- list (component_name_1=, component_name_2=…) \n",
    "Builds a list with the given components.\n",
    "\n",
    "Here is a simple real-life example of a list definition:"
   ]
  },
  {
   "cell_type": "code",
   "execution_count": 85,
   "metadata": {
    "collapsed": false
   },
   "outputs": [
    {
     "data": {
      "text/html": [
       "<dl>\n",
       "\t<dt>$ID</dt>\n",
       "\t\t<dd>\"Gbl-4\"</dd>\n",
       "\t<dt>$Locality</dt>\n",
       "\t\t<dd><ol class=list-inline>\n",
       "\t<li>\"Luckovice\"</li>\n",
       "\t<li>\"9 km E of Blatna\"</li>\n",
       "\t<li>\"disused quarry\"</li>\n",
       "</ol>\n",
       "</dd>\n",
       "\t<dt>$Rock</dt>\n",
       "\t\t<dd>\"melamonzonite\"</dd>\n",
       "\t<dt>$major</dt>\n",
       "\t\t<dd><dl class=dl-horizontal>\n",
       "\t<dt>SiO2</dt>\n",
       "\t\t<dd>47.31</dd>\n",
       "\t<dt>TiO2</dt>\n",
       "\t\t<dd>1.05</dd>\n",
       "\t<dt>Al2O3</dt>\n",
       "\t\t<dd>14.94</dd>\n",
       "\t<dt>FeO</dt>\n",
       "\t\t<dd>7.01</dd>\n",
       "\t<dt>MgO</dt>\n",
       "\t\t<dd>8.46</dd>\n",
       "\t<dt>CaO</dt>\n",
       "\t\t<dd>10.33</dd>\n",
       "</dl>\n",
       "</dd>\n",
       "</dl>\n"
      ],
      "text/latex": [
       "\\begin{description}\n",
       "\\item[\\$ID] \"Gbl-4\"\n",
       "\\item[\\$Locality] \\begin{enumerate*}\n",
       "\\item \"Luckovice\"\n",
       "\\item \"9 km E of Blatna\"\n",
       "\\item \"disused quarry\"\n",
       "\\end{enumerate*}\n",
       "\n",
       "\\item[\\$Rock] \"melamonzonite\"\n",
       "\\item[\\$major] \\begin{description*}\n",
       "\\item[SiO2] 47.31\n",
       "\\item[TiO2] 1.05\n",
       "\\item[Al2O3] 14.94\n",
       "\\item[FeO] 7.01\n",
       "\\item[MgO] 8.46\n",
       "\\item[CaO] 10.33\n",
       "\\end{description*}\n",
       "\n",
       "\\end{description}\n"
      ],
      "text/markdown": [
       "$ID\n",
       ":   \"Gbl-4\"\n",
       "$Locality\n",
       ":   1. \"Luckovice\"\n",
       "2. \"9 km E of Blatna\"\n",
       "3. \"disused quarry\"\n",
       "\n",
       "\n",
       "\n",
       "$Rock\n",
       ":   \"melamonzonite\"\n",
       "$major\n",
       ":   SiO2\n",
       ":   47.31TiO2\n",
       ":   1.05Al2O3\n",
       ":   14.94FeO\n",
       ":   7.01MgO\n",
       ":   8.46CaO\n",
       ":   10.33\n",
       "\n",
       "\n",
       "\n",
       "\n"
      ],
      "text/plain": [
       "$ID\n",
       "[1] \"Gbl-4\"\n",
       "\n",
       "$Locality\n",
       "[1] \"Luckovice\"        \"9 km E of Blatna\" \"disused quarry\"  \n",
       "\n",
       "$Rock\n",
       "[1] \"melamonzonite\"\n",
       "\n",
       "$major\n",
       " SiO2  TiO2 Al2O3   FeO   MgO   CaO \n",
       "47.31  1.05 14.94  7.01  8.46 10.33 \n"
      ]
     },
     "execution_count": 85,
     "metadata": {},
     "output_type": "execute_result"
    }
   ],
   "source": [
    "x1 <- c(\"Luckovice\",\"9 km E of Blatna\",\"disused quarry\")\n",
    "x2 <- \"melamonzonite\"\n",
    "x3 <- c(47.31,1.05,14.94,7.01,8.46,10.33)\n",
    "names(x3) <- c(\"SiO2\",\"TiO2\",\"Al2O3\",\"FeO\",\"MgO\",\"CaO\")\n",
    "luckovice <- list(ID=\"Gbl-4\",Locality=x1,Rock=x2,major=x3)\n",
    "luckovice"
   ]
  },
  {
   "cell_type": "markdown",
   "metadata": {},
   "source": [
    "As well as some examples of subsetting:"
   ]
  },
  {
   "cell_type": "code",
   "execution_count": 86,
   "metadata": {
    "collapsed": false
   },
   "outputs": [
    {
     "data": {
      "text/html": [
       "\"Gbl-4\""
      ],
      "text/latex": [
       "\"Gbl-4\""
      ],
      "text/markdown": [
       "\"Gbl-4\""
      ],
      "text/plain": [
       "[1] \"Gbl-4\""
      ]
     },
     "execution_count": 86,
     "metadata": {},
     "output_type": "execute_result"
    }
   ],
   "source": [
    "luckovice[[1]]"
   ]
  },
  {
   "cell_type": "code",
   "execution_count": 87,
   "metadata": {
    "collapsed": false
   },
   "outputs": [
    {
     "data": {
      "text/html": [
       "\"melamonzonite\""
      ],
      "text/latex": [
       "\"melamonzonite\""
      ],
      "text/markdown": [
       "\"melamonzonite\""
      ],
      "text/plain": [
       "[1] \"melamonzonite\""
      ]
     },
     "execution_count": 87,
     "metadata": {},
     "output_type": "execute_result"
    }
   ],
   "source": [
    "luckovice$Rock # or luckovice[[3]]"
   ]
  },
  {
   "cell_type": "code",
   "execution_count": 88,
   "metadata": {
    "collapsed": false
   },
   "outputs": [
    {
     "data": {
      "text/html": [
       "\"disused quarry\""
      ],
      "text/latex": [
       "\"disused quarry\""
      ],
      "text/markdown": [
       "\"disused quarry\""
      ],
      "text/plain": [
       "[1] \"disused quarry\""
      ]
     },
     "execution_count": 88,
     "metadata": {},
     "output_type": "execute_result"
    }
   ],
   "source": [
    "luckovice[[2]][3]"
   ]
  },
  {
   "cell_type": "code",
   "execution_count": 89,
   "metadata": {
    "collapsed": false
   },
   "outputs": [
    {
     "data": {
      "text/html": [
       "<dl class=dl-horizontal>\n",
       "\t<dt>SiO2</dt>\n",
       "\t\t<dd>47.31</dd>\n",
       "\t<dt>Al2O3</dt>\n",
       "\t\t<dd>14.94</dd>\n",
       "</dl>\n"
      ],
      "text/latex": [
       "\\begin{description*}\n",
       "\\item[SiO2] 47.31\n",
       "\\item[Al2O3] 14.94\n",
       "\\end{description*}\n"
      ],
      "text/markdown": [
       "SiO2\n",
       ":   47.31Al2O3\n",
       ":   14.94\n",
       "\n"
      ],
      "text/plain": [
       " SiO2 Al2O3 \n",
       "47.31 14.94 "
      ]
     },
     "execution_count": 89,
     "metadata": {},
     "output_type": "execute_result"
    }
   ],
   "source": [
    "luckovice$major[c(\"SiO2\",\"Al2O3\")]"
   ]
  },
  {
   "cell_type": "markdown",
   "metadata": {},
   "source": [
    "## 1.9\tCoercion of individual object types\n",
    "R is generally reasonably good at dealing seamlessly with data types, converting them on the fly when needed. When necessary, there are a series of functions for testing the mode (or type) of an object:\n",
    "`is.numeric(x)`, `is.character(x)`, `is.logical(x)`, `is.matrix(x)`, `is.data.frame(x)`\n",
    "\n",
    "At times there is a need to explicitly convert between data types/modes using functions such as:\n",
    "`as.numeric(x)`, `as.character(x)`, `as.expression(x)`.\n",
    "\n",
    "Less straightforward are:\n",
    "`as.matrix(x)`, `as.data.frame(x)` \n",
    "which attempt to convert an object `x` to a matrix or data frame, respectively. \n",
    "\n",
    "A more user-friendly way of converting data frames to matrices is provided by the function `data.matrix` that converts all the variables in a data frame `x` to numeric mode and then binds them together as the columns of a matrix."
   ]
  },
  {
   "cell_type": "code",
   "execution_count": null,
   "metadata": {
    "collapsed": true
   },
   "outputs": [],
   "source": []
  }
 ],
 "metadata": {
  "kernelspec": {
   "display_name": "R",
   "language": "R",
   "name": "ir"
  },
  "language_info": {
   "codemirror_mode": "r",
   "file_extension": ".r",
   "mimetype": "text/x-r-source",
   "name": "R",
   "pygments_lexer": "r",
   "version": "3.2.1"
  }
 },
 "nbformat": 4,
 "nbformat_minor": 0
}
